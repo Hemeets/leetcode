{
 "cells": [
  {
   "cell_type": "markdown",
   "metadata": {},
   "source": [
    "合并 k 个排序链表，返回合并后的排序链表。请分析和描述算法的复杂度。\n",
    "\n",
    "示例:\n",
    "\n",
    "输入:\n",
    "[\n",
    "  1->4->5,\n",
    "  1->3->4,\n",
    "  2->6\n",
    "]\n",
    "输出: 1->1->2->3->4->4->5->6\n",
    "\n",
    "来源：力扣（LeetCode）\n",
    "链接：https://leetcode-cn.com/problems/merge-k-sorted-lists\n",
    "著作权归领扣网络所有。商业转载请联系官方授权，非商业转载请注明出处。"
   ]
  },
  {
   "cell_type": "code",
   "execution_count": 6,
   "metadata": {},
   "outputs": [],
   "source": [
    "class ListNode:\n",
    "    def __init__(self, x):\n",
    "        self.val = x\n",
    "        self.next = None\n",
    "    \n",
    "# 这是个kN的方法\n",
    "def mergeKLists(lists):\n",
    "    if len(lists) == 0:\n",
    "        return None\n",
    "    if len(lists) == 1:\n",
    "        return lists[0]\n",
    "\n",
    "    prehead = ListNode(0)\n",
    "    prev = prehead\n",
    "\n",
    "    while True:\n",
    "        cur = []\n",
    "        for p in lists:\n",
    "            if not p:\n",
    "                cur.append(float('inf'))\n",
    "            else:\n",
    "                cur.append(p.val)\n",
    "\n",
    "        if min(cur) == float('inf'):\n",
    "            break\n",
    "\n",
    "        ind = cur.index(min(cur))\n",
    "        prev.next = lists[ind]\n",
    "        prev = prev.next\n",
    "        lists[ind] = lists[ind].next\n",
    "\n",
    "    return prehead.next"
   ]
  },
  {
   "cell_type": "code",
   "execution_count": 8,
   "metadata": {},
   "outputs": [],
   "source": [
    "# 接下来尝试两两合并，\n",
    "class Solution(object):\n",
    "    def mergeKLists(self, lists):\n",
    "        interval = 1\n",
    "        L = len(lists)\n",
    "        \n",
    "        while interval < L:\n",
    "            for i in range(0, L-interval, interval*2):\n",
    "                lists[i] = self.mergeTwoLists(lists[i], lists[i+interval])\n",
    "            interval *= 2\n",
    "        return lists[0] if L > 0 else lists\n",
    "        \n",
    "    def mergeTwoLists(self, l1, l2):\n",
    "        prehead = ListNode(0)\n",
    "        prev = prehead \n",
    "        while l1 and l2:\n",
    "            if l1.val <= l2.val:\n",
    "                prev.next = l1\n",
    "                l1 = l1.next\n",
    "            else:\n",
    "                prev.next = l2\n",
    "                l2 = l2.next\n",
    "            prev = prev.next\n",
    "        prev.next = l1 if l1 else l2\n",
    "        return prehead.next"
   ]
  },
  {
   "cell_type": "code",
   "execution_count": null,
   "metadata": {},
   "outputs": [],
   "source": []
  }
 ],
 "metadata": {
  "kernelspec": {
   "display_name": "Python 3",
   "language": "python",
   "name": "python3"
  },
  "language_info": {
   "codemirror_mode": {
    "name": "ipython",
    "version": 3
   },
   "file_extension": ".py",
   "mimetype": "text/x-python",
   "name": "python",
   "nbconvert_exporter": "python",
   "pygments_lexer": "ipython3",
   "version": "3.6.8"
  },
  "toc": {
   "base_numbering": 1,
   "nav_menu": {},
   "number_sections": true,
   "sideBar": true,
   "skip_h1_title": false,
   "title_cell": "Table of Contents",
   "title_sidebar": "Contents",
   "toc_cell": false,
   "toc_position": {},
   "toc_section_display": true,
   "toc_window_display": false
  }
 },
 "nbformat": 4,
 "nbformat_minor": 2
}
