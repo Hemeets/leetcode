{
 "cells": [
  {
   "cell_type": "markdown",
   "metadata": {},
   "source": [
    "给定一个由若干 0 和 1 组成的数组 A，我们最多可以将 K 个值从 0 变成 1 。\n",
    "\n",
    "返回仅包含 1 的最长（连续）子数组的长度。\n",
    "\n",
    " \n",
    "\n",
    "示例 1：\n",
    "\n",
    "输入：A = [1,1,1,0,0,0,1,1,1,1,0], K = 2\n",
    "输出：6\n",
    "解释： \n",
    "[1,1,1,0,0,1,1,1,1,1,1]\n",
    "粗体数字从 0 翻转到 1，最长的子数组长度为 6。\n",
    "示例 2：\n",
    "\n",
    "输入：A = [0,0,1,1,0,0,1,1,1,0,1,1,0,0,0,1,1,1,1], K = 3\n",
    "输出：10\n",
    "解释：\n",
    "[0,0,1,1,1,1,1,1,1,1,1,1,0,0,0,1,1,1,1]\n",
    "粗体数字从 0 翻转到 1，最长的子数组长度为 10。\n",
    " \n",
    "\n",
    "提示：\n",
    "\n",
    "1 <= A.length <= 20000\n",
    "0 <= K <= A.length\n",
    "A[i] 为 0 或 1 "
   ]
  },
  {
   "cell_type": "code",
   "execution_count": 9,
   "metadata": {},
   "outputs": [],
   "source": [
    "def longestOnes(A, K):\n",
    "    # 滑窗法，时刻记住滑窗中的大小就是想要的答案\n",
    "    L = len(A)\n",
    "    max1_nums = 0\n",
    "    i, j = 0, 0 # i,j 记录窗口起始和 当前位置\n",
    "    m = 0 # 0的个数\n",
    "    while j<L:\n",
    "        while j<L:        # 这个while目的是得到当前转换K个0为1后得到的最大的1的连续子数组\n",
    "                          #这个算法的关键点在于如何保证滑窗中0的个数\n",
    "            if A[j] == 0:\n",
    "                m += 1\n",
    "            if m == K + 1:\n",
    "                break\n",
    "            j += 1\n",
    "        max1_nums = max(max1_nums, j - i) # 如果更大，就更新\n",
    "        print(max1_nums)\n",
    "        while i < L and A[i] == 1:  \n",
    "            i += 1\n",
    "        i += 1 #此时A[i] == 0\n",
    "        m -= 1 # i向右挪了一个，m就减少1，但是肯定是》=0的，因为目前窗口中最多就K+1个0\n",
    "        j += 1 # 如果j+1之后A[j+1]为0了，那会进入上面的第一个子while循环，m又加1了\n",
    "    return max1_nums"
   ]
  },
  {
   "cell_type": "code",
   "execution_count": 13,
   "metadata": {},
   "outputs": [
    {
     "name": "stdout",
     "output_type": "stream",
     "text": [
      "5\n",
      "8\n",
      "10\n",
      "10\n",
      "10\n",
      "10\n"
     ]
    },
    {
     "data": {
      "text/plain": [
       "10"
      ]
     },
     "execution_count": 13,
     "metadata": {},
     "output_type": "execute_result"
    }
   ],
   "source": [
    "A = [0,0,1,1,0,0,1,1,1,0,1,1,0,0,0,1,1,1,1]\n",
    "A1 = [0,0,1,1,0,0,0,1,1,0,1,1,0,0,0,1,1,1,1]\n",
    "longestOnes(A, 3)"
   ]
  },
  {
   "cell_type": "code",
   "execution_count": null,
   "metadata": {},
   "outputs": [],
   "source": []
  },
  {
   "cell_type": "code",
   "execution_count": 4,
   "metadata": {},
   "outputs": [
    {
     "data": {
      "text/plain": [
       "True"
      ]
     },
     "execution_count": 4,
     "metadata": {},
     "output_type": "execute_result"
    }
   ],
   "source": [
    "a = [1,1,2]\n",
    "a[0]==a[1]==1"
   ]
  },
  {
   "cell_type": "code",
   "execution_count": 5,
   "metadata": {},
   "outputs": [
    {
     "data": {
      "text/plain": [
       "2"
      ]
     },
     "execution_count": 5,
     "metadata": {},
     "output_type": "execute_result"
    }
   ],
   "source": [
    "-1%3"
   ]
  },
  {
   "cell_type": "code",
   "execution_count": null,
   "metadata": {},
   "outputs": [],
   "source": []
  }
 ],
 "metadata": {
  "kernelspec": {
   "display_name": "Python 3",
   "language": "python",
   "name": "python3"
  },
  "language_info": {
   "codemirror_mode": {
    "name": "ipython",
    "version": 3
   },
   "file_extension": ".py",
   "mimetype": "text/x-python",
   "name": "python",
   "nbconvert_exporter": "python",
   "pygments_lexer": "ipython3",
   "version": "3.7.3"
  },
  "toc": {
   "base_numbering": 1,
   "nav_menu": {},
   "number_sections": true,
   "sideBar": true,
   "skip_h1_title": false,
   "title_cell": "Table of Contents",
   "title_sidebar": "Contents",
   "toc_cell": false,
   "toc_position": {},
   "toc_section_display": true,
   "toc_window_display": false
  }
 },
 "nbformat": 4,
 "nbformat_minor": 2
}
