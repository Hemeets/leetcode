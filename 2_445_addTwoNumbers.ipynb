{
 "cells": [
  {
   "cell_type": "markdown",
   "metadata": {},
   "source": [
    "### 两数相加\n",
    "给出两个 非空 的链表用来表示两个非负的整数。其中，它们各自的位数是按照 **逆序** 的方式存储的，并且它们的每个节点只能存储 一位 数字。\n",
    "\n",
    "如果，我们将这两个数相加起来，则会返回一个新的链表来表示它们的和。\n",
    "\n",
    "您可以假设除了数字 0 之外，这两个数都不会以 0 开头。\n",
    "\n",
    "示例：\n",
    "\n",
    "输入：(2 -> 4 -> 3) + (5 -> 6 -> 4)\n",
    "输出：7 -> 0 -> 8\n",
    "原因：342 + 465 = 807"
   ]
  },
  {
   "cell_type": "code",
   "execution_count": 3,
   "metadata": {},
   "outputs": [],
   "source": [
    "class ListNode:\n",
    "    def __init__(self, x):\n",
    "        self.val = x\n",
    "        self.next = None\n",
    "def addTwoNumbers(L1, L2):\n",
    "    carry = 0\n",
    "    node = ListNode(0)   ## 先放一个初始node，对这道题的理解很重要，也方便输出\n",
    "    out_last = node\n",
    "    while L1 or L2 or carry:\n",
    "        sum = 0\n",
    "        sum += carry\n",
    "        if L1:\n",
    "            sum += L1.val\n",
    "            L1 = L1.next\n",
    "        if L2:\n",
    "            sum += L2.val\n",
    "            L2 = L2.next\n",
    "        if sum >= 10:\n",
    "            carry = 1\n",
    "            sum = sum % 10\n",
    "        else:\n",
    "            carry = 0\n",
    "        out_last.next = ListNode(sum)\n",
    "        out_last = out_last.next\n",
    "    return node.next"
   ]
  },
  {
   "cell_type": "markdown",
   "metadata": {},
   "source": [
    "#### 制作输入ListNode\n",
    "笨方法"
   ]
  },
  {
   "cell_type": "code",
   "execution_count": 3,
   "metadata": {},
   "outputs": [],
   "source": [
    "L11 = ListNode(2)\n",
    "L12 = ListNode(4)\n",
    "L13 = ListNode(3)\n",
    "L11.next = L12\n",
    "L12.next = L13\n",
    "L21 = ListNode(5)\n",
    "L22 = ListNode(6)\n",
    "L23 = ListNode(4)\n",
    "L21.next = L22\n",
    "L22.next = L23"
   ]
  },
  {
   "cell_type": "markdown",
   "metadata": {},
   "source": [
    "#### 定义函数来制作输入数据"
   ]
  },
  {
   "cell_type": "code",
   "execution_count": 4,
   "metadata": {},
   "outputs": [],
   "source": [
    "def define_input():\n",
    "    Fnode = ListNode(0)\n",
    "    node = Fnode\n",
    "    while True:\n",
    "        x = input(\"please input number: stop when you input #\")\n",
    "        if x == \"#\":\n",
    "            break\n",
    "        node.next = ListNode(int(x))\n",
    "        node = node.next\n",
    "    return Fnode.next"
   ]
  },
  {
   "cell_type": "markdown",
   "metadata": {},
   "source": [
    "#### 列表转链表，链表转列表\n",
    "列表形式输入，列表输出"
   ]
  },
  {
   "cell_type": "code",
   "execution_count": 6,
   "metadata": {},
   "outputs": [],
   "source": [
    "def List2ListNode(List):\n",
    "    Fnode = ListNode(0)\n",
    "    node = Fnode\n",
    "    for a in List:\n",
    "        node.next = ListNode(a)\n",
    "        node = node.next\n",
    "    return Fnode.next\n",
    "def ListNode2List(Node):\n",
    "    List = list()\n",
    "    node = Node\n",
    "    while node:\n",
    "        List.append(node.val)\n",
    "        node = node.next\n",
    "    return List"
   ]
  },
  {
   "cell_type": "code",
   "execution_count": 9,
   "metadata": {},
   "outputs": [
    {
     "name": "stdout",
     "output_type": "stream",
     "text": [
      "[2, 9, 8, 3]\n"
     ]
    }
   ],
   "source": [
    "L3 = [7,2,4,3]\n",
    "L4 = [5,6,4]\n",
    "input1 = List2ListNode(L3)\n",
    "input2 = List2ListNode(L4)\n",
    "out = addTwoNumbers(input1,input2)\n",
    "output = ListNode2List(out)\n",
    "print(output)"
   ]
  },
  {
   "cell_type": "markdown",
   "metadata": {},
   "source": [
    "### 两数相加II\n",
    "给定两个非空链表来代表两个非负整数。数字最高位位于链表开始位置。它们的每个节点只存储单个数字。将这两数相加会返回一个新的链表。\n",
    "\n",
    " \n",
    "\n",
    "你可以假设除了数字 0 之外，这两个数字都不会以零开头。\n",
    "\n",
    "进阶:\n",
    "\n",
    "如果输入链表不能修改该如何处理？换句话说，你不能对列表中的节点进行翻转。\n",
    "\n",
    "示例:\n",
    "\n",
    "输入: (7 -> 2 -> 4 -> 3) + (5 -> 6 -> 4)\n",
    "输出: 7 -> 8 -> 0 -> 7\n",
    "\n",
    "来源：力扣（LeetCode）\n",
    "链接：https://leetcode-cn.com/problems/add-two-numbers-ii\n",
    "著作权归领扣网络所有。商业转载请联系官方授权，非商业转载请注明出处。"
   ]
  },
  {
   "cell_type": "code",
   "execution_count": 12,
   "metadata": {},
   "outputs": [],
   "source": [
    "def addTwoNum(l1, l2):\n",
    "    s1 = []\n",
    "    s2 = []\n",
    "    s = []\n",
    "    while l1:\n",
    "        s1.append(l1.val)\n",
    "        l1 = l1.next\n",
    "    while l2:\n",
    "        s2.append(l2.val)\n",
    "        l2 = l2.next\n",
    "    carry = 0\n",
    "    while s1 or s2 or carry:\n",
    "        t1, t2 = 0, 0\n",
    "        if s1:\n",
    "            t1 = s1.pop()\n",
    "        if s2:\n",
    "            t2 = s2.pop()        \n",
    "        t = t1 + t2 + carry\n",
    "        s.append(t % 10)\n",
    "        carry = t // 10\n",
    "    head = ListNode(0)\n",
    "    cur = head\n",
    "    while s:\n",
    "        cur.next = ListNode(s.pop())\n",
    "        cur = cur.next\n",
    "    return head.next"
   ]
  },
  {
   "cell_type": "code",
   "execution_count": 13,
   "metadata": {},
   "outputs": [
    {
     "name": "stdout",
     "output_type": "stream",
     "text": [
      "[7, 8, 0, 7]\n"
     ]
    }
   ],
   "source": [
    "L3 = [7,2,4,3]\n",
    "L4 = [5,6,4]\n",
    "input1 = List2ListNode(L3)\n",
    "input2 = List2ListNode(L4)\n",
    "out = addTwoNum(input1,input2)\n",
    "output = ListNode2List(out)\n",
    "print(output)"
   ]
  },
  {
   "cell_type": "code",
   "execution_count": null,
   "metadata": {},
   "outputs": [],
   "source": []
  }
 ],
 "metadata": {
  "kernelspec": {
   "display_name": "Python 3",
   "language": "python",
   "name": "python3"
  },
  "language_info": {
   "codemirror_mode": {
    "name": "ipython",
    "version": 3
   },
   "file_extension": ".py",
   "mimetype": "text/x-python",
   "name": "python",
   "nbconvert_exporter": "python",
   "pygments_lexer": "ipython3",
   "version": "3.7.3"
  },
  "toc": {
   "base_numbering": 1,
   "nav_menu": {},
   "number_sections": true,
   "sideBar": true,
   "skip_h1_title": false,
   "title_cell": "Table of Contents",
   "title_sidebar": "Contents",
   "toc_cell": false,
   "toc_position": {},
   "toc_section_display": true,
   "toc_window_display": false
  }
 },
 "nbformat": 4,
 "nbformat_minor": 2
}
