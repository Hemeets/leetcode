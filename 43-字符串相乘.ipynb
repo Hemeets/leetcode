{
 "cells": [
  {
   "cell_type": "markdown",
   "metadata": {},
   "source": [
    "给定两个以字符串形式表示的非负整数 num1 和 num2，返回 num1 和 num2 的乘积，它们的乘积也表示为字符串形式。\n",
    "\n",
    "示例 1:\n",
    "\n",
    "输入: num1 = \"2\", num2 = \"3\"\n",
    "输出: \"6\"\n",
    "示例 2:\n",
    "\n",
    "输入: num1 = \"123\", num2 = \"456\"\n",
    "输出: \"56088\"\n",
    "说明：\n",
    "\n",
    "num1 和 num2 的长度小于110。\n",
    "num1 和 num2 只包含数字 0-9。\n",
    "num1 和 num2 均不以零开头，除非是数字 0 本身。\n",
    "不能使用任何标准库的大数类型（比如 BigInteger）或直接将输入转换为整数来处理。\n",
    "\n",
    "来源：力扣（LeetCode）\n",
    "链接：https://leetcode-cn.com/problems/multiply-strings\n",
    "著作权归领扣网络所有。商业转载请联系官方授权，非商业转载请注明出处。"
   ]
  },
  {
   "cell_type": "code",
   "execution_count": 14,
   "metadata": {},
   "outputs": [],
   "source": [
    "def str2int(self,s):\n",
    "    return ord(s)-ord('0')\n",
    "\n",
    "def multiply(self, num1: str, num2: str) -> str:\n",
    "    a = num1[::-1]\n",
    "    b = num2[::-1]\n",
    "    result = 0\n",
    "    \n",
    "    for i,x in enumerate(a):\n",
    "        temp_result = 0\n",
    "        for j,y in enumerate(b):\n",
    "            temp_result += self.str2int(x) * self.str2int(y) * 10**j\n",
    "        result += temp_result * 10**i\n",
    "    return str(result)"
   ]
  },
  {
   "cell_type": "code",
   "execution_count": null,
   "metadata": {},
   "outputs": [],
   "source": []
  }
 ],
 "metadata": {
  "kernelspec": {
   "display_name": "Python 3",
   "language": "python",
   "name": "python3"
  },
  "language_info": {
   "codemirror_mode": {
    "name": "ipython",
    "version": 3
   },
   "file_extension": ".py",
   "mimetype": "text/x-python",
   "name": "python",
   "nbconvert_exporter": "python",
   "pygments_lexer": "ipython3",
   "version": "3.6.8"
  },
  "toc": {
   "base_numbering": 1,
   "nav_menu": {},
   "number_sections": true,
   "sideBar": true,
   "skip_h1_title": false,
   "title_cell": "Table of Contents",
   "title_sidebar": "Contents",
   "toc_cell": false,
   "toc_position": {},
   "toc_section_display": true,
   "toc_window_display": false
  }
 },
 "nbformat": 4,
 "nbformat_minor": 2
}
