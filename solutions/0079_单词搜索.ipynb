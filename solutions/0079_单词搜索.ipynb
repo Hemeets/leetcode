{
 "cells": [
  {
   "cell_type": "markdown",
   "metadata": {},
   "source": [
    "给定一个二维网格和一个单词，找出该单词是否存在于网格中。\n",
    "\n",
    "单词必须按照字母顺序，通过相邻的单元格内的字母构成，其中“相邻”单元格是那些水平相邻或垂直相邻的单元格。同一个单元格内的字母不允许被重复使用。\n",
    "\n",
    "示例:\n",
    "\n",
    "board =\n",
    "[\n",
    "  ['A','B','C','E'],\n",
    "  ['S','F','C','S'],\n",
    "  ['A','D','E','E']\n",
    "]\n",
    "\n",
    "给定 word = \"ABCCED\", 返回 true.\n",
    "给定 word = \"SEE\", 返回 true.\n",
    "给定 word = \"ABCB\", 返回 false.\n",
    "\n",
    "来源：力扣（LeetCode）\n",
    "链接：https://leetcode-cn.com/problems/word-search\n",
    "著作权归领扣网络所有。商业转载请联系官方授权，非商业转载请注明出处。"
   ]
  },
  {
   "cell_type": "code",
   "execution_count": 1,
   "metadata": {},
   "outputs": [
    {
     "data": {
      "text/plain": [
       "True"
      ]
     },
     "execution_count": 1,
     "metadata": {},
     "output_type": "execute_result"
    }
   ],
   "source": [
    "'''cr2022, M'''\n",
    "from typing import List\n",
    "class Solution:\n",
    "    \"\"\" dfs \"\"\"\n",
    "    def exist(self, board: List[List[str]], word: str) -> bool:\n",
    "        directions = [(0, 1), (0, -1), (1, 0), (-1, 0)]\n",
    "        visited = set()\n",
    "\n",
    "        def check(i, j, k):\n",
    "            \"\"\" 以网格的 (i,j) 位置出发，能否搜索到单词 word[k:] \"\"\"\n",
    "            if board[i][j] != word[k]:\n",
    "                return False\n",
    "            if k == len(word) - 1:\n",
    "                return True\n",
    "            visited.add((i, j))\n",
    "            result = False\n",
    "            for di, dj in directions:\n",
    "                new_i, new_j = i + di, j + dj\n",
    "                if 0 <= new_i < len(board) and 0 <= new_j < len(board[0]):\n",
    "                    if (new_i, new_j) not in visited:\n",
    "                        if check(new_i, new_j, k + 1):\n",
    "                            result = True\n",
    "                            break\n",
    "            visited.remove((i, j))\n",
    "            return result\n",
    "        \n",
    "        h, w = len(board), len(board[0])\n",
    "        for i in range(h):\n",
    "            for j in range(w):\n",
    "                if check(i, j, 0):\n",
    "                    return True\n",
    "        \n",
    "        return False\n",
    "\n",
    "\n",
    "board = [ ['A','B','C','E'], ['S','F','C','S'], ['A','D','E','E'] ]\n",
    "word = \"ABCCED\"\n",
    "Solution().exist(board, word)"
   ]
  },
  {
   "cell_type": "code",
   "execution_count": 74,
   "metadata": {},
   "outputs": [],
   "source": [
    "class Solution:\n",
    "    \n",
    "    directions = [(0, 1), (1, 0), (0, -1), (-1, 0)]\n",
    "    \n",
    "    def exist(self, board, word):\n",
    "        m = len(board)\n",
    "        if m == 0:\n",
    "            return False\n",
    "        n = len(board[0])\n",
    "#         marked1 = [[False]*n]*m\n",
    "        #这里遇到的bug：\n",
    "        # [False]*n 是没问题的，问题在于当外面再*m时，python是浅复制，意思是指向同一个数组的，\n",
    "        # 意思是改动marked[0][0]那么marked[1][0]等等也都会变！！！！！\n",
    "        # 以后在创建数组时要格外小心！\n",
    "        # [[False]*n for _ in range(n)] 这样是没问题的\n",
    "        marked = [[False for _ in range(n)] for _ in range(m)]\n",
    "        print(marked1 == marked)\n",
    "        for i in range(m):\n",
    "            for j in range(n):\n",
    "                if self.searchWord(board, word, 0, i, j, marked, m, n):\n",
    "                    return True\n",
    "        return False\n",
    "    def searchWord(self, board, word, index, start_x, start_y, marked, m, n):\n",
    "        if index == len(word) - 1:\n",
    "            return board[start_x][start_y] == word[index]\n",
    "        if board[start_x][start_y] == word[index]:\n",
    "            \n",
    "            print(start_x, start_y, word[index])\n",
    "            marked[start_x][start_y] = True\n",
    "            for direction in self.directions:\n",
    "                \n",
    "                new_x = start_x + direction[0]\n",
    "                new_y = start_y + direction[1]\n",
    "                print(new_x, new_y, index)\n",
    "                if 0<=new_x<m and 0<=new_y<n and \\\n",
    "                    not marked[new_x][new_y] and \\\n",
    "                    self.searchWord(board, word, \n",
    "                                   index+1, new_x, new_y,\n",
    "                                   marked, m, n):\n",
    "                    \n",
    "                    return True\n",
    "            marked[start_x][start_y] = False\n",
    "        return False\n",
    "                "
   ]
  },
  {
   "cell_type": "code",
   "execution_count": 58,
   "metadata": {},
   "outputs": [
    {
     "name": "stdout",
     "output_type": "stream",
     "text": [
      "True\n",
      "0 0 A\n",
      "0 1 0\n",
      "0 1 B\n",
      "0 2 1\n",
      "0 2 C\n",
      "0 3 2\n",
      "1 2 2\n",
      "1 2 C\n",
      "1 3 3\n",
      "2 2 3\n",
      "2 2 E\n",
      "2 3 4\n",
      "3 2 4\n",
      "2 1 4\n"
     ]
    },
    {
     "data": {
      "text/plain": [
       "True"
      ]
     },
     "execution_count": 58,
     "metadata": {},
     "output_type": "execute_result"
    }
   ],
   "source": [
    "board = [ ['A','B','C','E'], ['S','F','C','S'], ['A','D','E','E'] ]\n",
    "word1 = \"ABCCED\"\n",
    "word2 =  \"SEE\"\n",
    "Solution().exist(board, word1)"
   ]
  }
 ],
 "metadata": {
  "kernelspec": {
   "display_name": "Python 3.9.10 ('base')",
   "language": "python",
   "name": "python3"
  },
  "language_info": {
   "codemirror_mode": {
    "name": "ipython",
    "version": 3
   },
   "file_extension": ".py",
   "mimetype": "text/x-python",
   "name": "python",
   "nbconvert_exporter": "python",
   "pygments_lexer": "ipython3",
   "version": "3.9.10"
  },
  "toc": {
   "base_numbering": 1,
   "nav_menu": {},
   "number_sections": true,
   "sideBar": true,
   "skip_h1_title": false,
   "title_cell": "Table of Contents",
   "title_sidebar": "Contents",
   "toc_cell": false,
   "toc_position": {},
   "toc_section_display": true,
   "toc_window_display": false
  },
  "vscode": {
   "interpreter": {
    "hash": "3774638e36becc1b3be4f932a09ec02e29dc9d9fab753e191431a024cc1a4cff"
   }
  }
 },
 "nbformat": 4,
 "nbformat_minor": 2
}
