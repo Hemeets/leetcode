{
 "cells": [
  {
   "attachments": {},
   "cell_type": "markdown",
   "metadata": {},
   "source": [
    "86. 分隔链表\n",
    "\n",
    "给你一个链表的头节点 head 和一个特定值 x ，请你对链表进行分隔，使得所有 小于 x 的节点都出现在 大于或等于 x 的节点之前。\n",
    "\n",
    "你应当 保留 两个分区中每个节点的初始相对位置。\n",
    "\n",
    "示例 1：\n",
    "```\n",
    "输入：head = [1,4,3,2,5,2], x = 3\n",
    "输出：[1,2,2,4,3,5]\n",
    "```\n",
    "示例 2：\n",
    "```\n",
    "输入：head = [2,1], x = 2\n",
    "输出：[1,2]\n",
    "```\n",
    "提示：\n",
    "```\n",
    "链表中节点的数目在范围 [0, 200] 内\n",
    "-100 <= Node.val <= 100\n",
    "-200 <= x <= 200\n",
    "```"
   ]
  },
  {
   "cell_type": "code",
   "execution_count": 2,
   "metadata": {},
   "outputs": [
    {
     "name": "stdout",
     "output_type": "stream",
     "text": [
      "[1, 2, 2, 4, 3, 5]\n"
     ]
    }
   ],
   "source": [
    "'''2022, M'''\n",
    "from utils import *\n",
    "# 提示：没必要原地交换\n",
    "class Solution:\n",
    "    def partition(self, head: Optional[ListNode], x: int) -> Optional[ListNode]:\n",
    "        prehead_small = ListNode(-1)\n",
    "        prehead_large = ListNode(-1)\n",
    "        p = head\n",
    "        ps = prehead_small\n",
    "        pl = prehead_large \n",
    "        while p:\n",
    "            if p.val < x:\n",
    "                ps.next = p\n",
    "                ps = ps.next\n",
    "            else:\n",
    "                pl.next = p\n",
    "                pl = pl.next\n",
    "            p = p.next\n",
    "        ps.next = prehead_large.next\n",
    "        pl.next = None\n",
    "        return prehead_small.next\n",
    "\n",
    "\n",
    "head = l2ln([1,4,3,2,5,2])\n",
    "x = 3\n",
    "print(ln2l(Solution().partition(head, x)))"
   ]
  },
  {
   "cell_type": "code",
   "execution_count": null,
   "metadata": {},
   "outputs": [],
   "source": []
  }
 ],
 "metadata": {
  "kernelspec": {
   "display_name": "base",
   "language": "python",
   "name": "python3"
  },
  "language_info": {
   "codemirror_mode": {
    "name": "ipython",
    "version": 3
   },
   "file_extension": ".py",
   "mimetype": "text/x-python",
   "name": "python",
   "nbconvert_exporter": "python",
   "pygments_lexer": "ipython3",
   "version": "3.9.10"
  },
  "orig_nbformat": 4,
  "vscode": {
   "interpreter": {
    "hash": "3774638e36becc1b3be4f932a09ec02e29dc9d9fab753e191431a024cc1a4cff"
   }
  }
 },
 "nbformat": 4,
 "nbformat_minor": 2
}
