{
 "cells": [
  {
   "attachments": {},
   "cell_type": "markdown",
   "metadata": {},
   "source": [
    "给定一个未排序的整数数组 nums ， 返回最长递增子序列的个数 。\n",
    "\n",
    "注意 这个数列必须是 严格 递增的。\n",
    "\n",
    "示例 1:\n",
    "\n",
    "输入: [1,3,5,4,7]\n",
    "输出: 2\n",
    "解释: 有两个最长递增子序列，分别是 [1, 3, 4, 7] 和[1, 3, 5, 7]。\n",
    "示例 2:\n",
    "\n",
    "输入: [2,2,2,2,2]\n",
    "输出: 5\n",
    "解释: 最长递增子序列的长度是1，并且存在5个子序列的长度为1，因此输出5。"
   ]
  },
  {
   "cell_type": "code",
   "execution_count": 3,
   "metadata": {},
   "outputs": [
    {
     "data": {
      "text/plain": [
       "5"
      ]
     },
     "execution_count": 3,
     "metadata": {},
     "output_type": "execute_result"
    }
   ],
   "source": [
    "'''2022, M'''\n",
    "# 用到第300题，求数组的最长严格递增子序列长度\n",
    "from typing import List\n",
    "class Solution:\n",
    "    '''dp'''\n",
    "    def findNumberOfLIS(self, nums: List[int]) -> int:\n",
    "        if not nums:\n",
    "            return 0\n",
    "        n = len(nums)\n",
    "        dp = [1] * n  # 第 i 个数字结尾的最长上升子序列的长度\n",
    "        cnt = [1] * n  # 第 i 个数字结尾的最长上升子序列的个数\n",
    "        max_len, res = 0, 0\n",
    "        for i in range(n):\n",
    "            for j in range(i):\n",
    "                if nums[i] > nums[j]:\n",
    "                    # dp[i] = max(dp[i], dp[j] + 1)\n",
    "                    if dp[j] + 1 > dp[i]:\n",
    "                        dp[i] = dp[j] + 1\n",
    "                        cnt[i] = cnt[j]\n",
    "                    elif dp[j] + 1 == dp[i]:\n",
    "                        cnt[i] += cnt[j]\n",
    "            if dp[i] > max_len:\n",
    "                max_len = dp[i]\n",
    "                res = cnt[i]\n",
    "            elif dp[i] == max_len:\n",
    "                res += cnt[i]\n",
    "        return res\n",
    "\n",
    "# nums = [1,3,5,4,7]\n",
    "nums = [2,2,2,2,2]\n",
    "Solution().findNumberOfLIS(nums)"
   ]
  },
  {
   "cell_type": "code",
   "execution_count": 6,
   "metadata": {},
   "outputs": [],
   "source": [
    "def findNumberOfLIS1(nums):\n",
    "    L = len(nums)\n",
    "    if L <= 1:\n",
    "        return L\n",
    "    total_count = 0\n",
    "    dp = [1] * L  # dp[i]记录的是以i结尾的最长序列的长度\n",
    "    C = [1] * L  # C[i]记录的是 长度为dp[i] 的序列的个数\n",
    "    for i in range(L):    \n",
    "        for j in range(i):\n",
    "            if nums[i] > nums[j]:\n",
    "                if dp[j] + 1 > dp[i]:\n",
    "                    dp[i] = dp[j] + 1\n",
    "                    C[i] = C[j]  ## 注意这里的C[j]\n",
    "                elif dp[j] + 1 == dp[i]:\n",
    "                    C[i] += C[j]\n",
    "    max_length = max(dp)\n",
    "    for i in range(L):\n",
    "        if dp[i] == max_length:\n",
    "            total_count += C[i]             \n",
    "    return total_count"
   ]
  }
 ],
 "metadata": {
  "kernelspec": {
   "display_name": "base",
   "language": "python",
   "name": "python3"
  },
  "language_info": {
   "codemirror_mode": {
    "name": "ipython",
    "version": 3
   },
   "file_extension": ".py",
   "mimetype": "text/x-python",
   "name": "python",
   "nbconvert_exporter": "python",
   "pygments_lexer": "ipython3",
   "version": "3.9.10 | packaged by conda-forge | (main, Feb  1 2022, 21:27:43) \n[Clang 11.1.0 ]"
  },
  "toc": {
   "base_numbering": 1,
   "nav_menu": {},
   "number_sections": true,
   "sideBar": true,
   "skip_h1_title": false,
   "title_cell": "Table of Contents",
   "title_sidebar": "Contents",
   "toc_cell": false,
   "toc_position": {},
   "toc_section_display": true,
   "toc_window_display": false
  },
  "vscode": {
   "interpreter": {
    "hash": "3774638e36becc1b3be4f932a09ec02e29dc9d9fab753e191431a024cc1a4cff"
   }
  }
 },
 "nbformat": 4,
 "nbformat_minor": 2
}
