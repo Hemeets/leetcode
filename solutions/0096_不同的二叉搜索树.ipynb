{
 "cells": [
  {
   "attachments": {},
   "cell_type": "markdown",
   "metadata": {},
   "source": [
    "96. 不同的二叉搜索树\n",
    "\n",
    "给你一个整数 n ，求恰由 n 个节点组成且节点值从 1 到 n 互不相同的 二叉搜索树 有多少种？返回满足题意的二叉搜索树的种数。\n",
    "\n",
    "示例 1：\n",
    "```\n",
    "输入：n = 3\n",
    "输出：5\n",
    "```\n",
    "示例 2：\n",
    "```\n",
    "输入：n = 1\n",
    "输出：1\n",
    "```\n",
    "\n",
    "提示：\n",
    "\n",
    "1 <= n <= 19"
   ]
  },
  {
   "cell_type": "code",
   "execution_count": 6,
   "metadata": {},
   "outputs": [
    {
     "name": "stdout",
     "output_type": "stream",
     "text": [
      "5\n"
     ]
    }
   ],
   "source": [
    "'''2022, M'''\n",
    "from utils import *\n",
    "# 参考官网解答，关键是推导出关系式\n",
    "class Solution:\n",
    "    \"\"\" dp \"\"\"\n",
    "    def numTrees(self, n: int) -> int:\n",
    "        dp = [0] * (n + 1)  # G\n",
    "        dp[0], dp[1] = 1, 1\n",
    "        for i in range(2, n + 1):\n",
    "            for j in range(1, i + 1):\n",
    "                dp[i] += dp[j-1] * dp[i-j]\n",
    "        return dp[n]\n",
    "\n",
    "n = 3\n",
    "print(Solution().numTrees(n))"
   ]
  },
  {
   "attachments": {},
   "cell_type": "markdown",
   "metadata": {},
   "source": [
    "记$G(n)$为n个节点的搜索二叉树的个数，$F(i, n)$为以i为根节点，节点数为n的搜索二叉树个数；\n",
    "则有如下推导：\n",
    "\\begin{align}\n",
    "&G(n)=\\sum_{i=1}^{n} F(i,n) \\\\\n",
    "&F(i,n) = G(i-1) * G(n-i)\n",
    "\\end{align}\n",
    "边界情况$G(0)=1, G(1)=1$，推出：$G(n) = \\sum_{i=1}^{n} G(i-1) * G(n-i)$"
   ]
  },
  {
   "cell_type": "markdown",
   "metadata": {},
   "source": []
  }
 ],
 "metadata": {
  "kernelspec": {
   "display_name": "base",
   "language": "python",
   "name": "python3"
  },
  "language_info": {
   "codemirror_mode": {
    "name": "ipython",
    "version": 3
   },
   "file_extension": ".py",
   "mimetype": "text/x-python",
   "name": "python",
   "nbconvert_exporter": "python",
   "pygments_lexer": "ipython3",
   "version": "3.9.10"
  },
  "orig_nbformat": 4,
  "vscode": {
   "interpreter": {
    "hash": "3774638e36becc1b3be4f932a09ec02e29dc9d9fab753e191431a024cc1a4cff"
   }
  }
 },
 "nbformat": 4,
 "nbformat_minor": 2
}
