{
 "cells": [
  {
   "attachments": {},
   "cell_type": "markdown",
   "metadata": {},
   "source": [
    "搜索插入位置\n",
    "\n",
    "给定一个排序数组和一个目标值，在数组中找到目标值，并返回其索引。如果目标值不存在于数组中，返回它将会被按顺序插入的位置。\n",
    "\n",
    "你可以假设数组中无重复元素。\n",
    "\n",
    "示例 1:\n",
    "\n",
    "输入: [1,3,5,6], 5\n",
    "输出: 2\n",
    "示例 2:\n",
    "\n",
    "输入: [1,3,5,6], 2\n",
    "输出: 1\n",
    "示例 3:\n",
    "\n",
    "输入: [1,3,5,6], 7\n",
    "输出: 4\n",
    "示例 4:\n",
    "\n",
    "输入: [1,3,5,6], 0\n",
    "输出: 0\n"
   ]
  },
  {
   "cell_type": "code",
   "execution_count": 3,
   "metadata": {},
   "outputs": [
    {
     "data": {
      "text/plain": [
       "2"
      ]
     },
     "execution_count": 3,
     "metadata": {},
     "output_type": "execute_result"
    }
   ],
   "source": [
    "'''cr2022, E'''\n",
    "# 找第一个>=target的索引位置\n",
    "from typing import List\n",
    "class Solution:\n",
    "    def searchInsert(self, nums: List[int], target: int) -> int:\n",
    "        left, right = 0, len(nums) - 1\n",
    "        while left <= right:\n",
    "            mid = left + (right - left) // 2\n",
    "            if nums[mid] < target:\n",
    "                left = mid + 1\n",
    "            else:\n",
    "                right = mid - 1\n",
    "        return left\n",
    "\n",
    "nums = [1,3,5,6]\n",
    "target = 5\n",
    "Solution().searchInsert(nums, target)"
   ]
  },
  {
   "cell_type": "code",
   "execution_count": 56,
   "metadata": {},
   "outputs": [],
   "source": [
    "def searchInsert(nums, target):\n",
    "    # 就基本的分治法\n",
    "    low = 0\n",
    "    high = len(nums)-1\n",
    "    middle = high // 2\n",
    "    print(low, middle, high)\n",
    "    while low <= high:\n",
    "\n",
    "        if target < nums[middle]:\n",
    "            high = middle - 1\n",
    "        elif target > nums[middle]:\n",
    "            low = middle + 1\n",
    "        else:\n",
    "            return middle\n",
    "        middle = (low + high) // 2\n",
    "        print(low, middle, high)\n",
    "    return low "
   ]
  },
  {
   "cell_type": "code",
   "execution_count": 55,
   "metadata": {},
   "outputs": [
    {
     "name": "stdout",
     "output_type": "stream",
     "text": [
      "0 2 5\n",
      "0 0 1\n",
      "1 1 1\n",
      "1 0 0\n",
      "1\n"
     ]
    }
   ],
   "source": [
    "nums =  [1,3,5,6,8,9]\n",
    "target1, target2 = 5, 2\n",
    "print(searchInsert(nums, target2))"
   ]
  },
  {
   "cell_type": "markdown",
   "metadata": {},
   "source": [
    "这一部分一定要分析清楚：\n",
    "\n",
    "- 题目要找的元素是：第一个大于等于 target 的元素的下标；\n",
    "- 数组的长度 len 也有可能是问题的答案，「参考代码 2」设置 right = len 不是因为设置区间是「左闭右开」，而是因为 len 本来就有可能是问题的答案。\n",
    "上面 2 个小点，都需要仔细分析题意和几个示例得到，任何模板都不能回答这样的问题。\n",
    "\n",
    "作者：liweiwei1419\n",
    "链接：https://leetcode.cn/problems/search-insert-position/solution/te-bie-hao-yong-de-er-fen-cha-fa-fa-mo-ban-python-/\n",
    "来源：力扣（LeetCode）\n",
    "著作权归作者所有。商业转载请联系作者获得授权，非商业转载请注明出处。\n",
    "\n",
    "- 情况 1：如果当前 mid 看到的数值严格小于 target，那么 mid 以及 mid 左边的所有元素就一定不是「插入元素的位置」，因此下一轮搜索区间是 [mid + 1..right]，下一轮把 left 移动到 mid + 1 位置，因此设置 left = mid + 1；\n",
    "- 情况 2：否则，如果 mid 看到的数值大于等于 target，那么 mid 可能是「插入元素的位置」，mid 的右边一定不存在「插入元素的位置」。如果 mid 的左边不存在「插入元素的位置」，我们才可以说 mid 是「插入元素的位置」。因此下一轮搜索区间是 [left..mid]，下一轮把 right 移动到 mid 位置，因此设置 right = mid。\n"
   ]
  },
  {
   "cell_type": "code",
   "execution_count": 8,
   "metadata": {},
   "outputs": [],
   "source": [
    "# 这个比上面那个好， 条理清晰一些\n",
    "def searchInsert(nums,target: int) -> int:\n",
    "    low = 0\n",
    "    high = len(nums)-1\n",
    "    if target > nums[high]: return high + 1\n",
    "\n",
    "    while low < high:\n",
    "        middle = low + (high-low)//2\n",
    "        \n",
    "\n",
    "        if nums[middle] < target:\n",
    "            low = middle + 1\n",
    "        else:\n",
    "            high = middle\n",
    "    return low "
   ]
  },
  {
   "cell_type": "markdown",
   "metadata": {},
   "source": [
    "说明：while (left < right) 表示当 left 与 right 重合的时候，搜索终止。根据题意和示例，区间 nums[left..right] 里一定存在「插入元素的位置」，且 while 循环里只把区间分成两个部分，退出循环的时候一定有 left == right 成立，因此返回 left 或者 right 都可以。\n",
    "\n",
    "作者：liweiwei1419\n",
    "链接：https://leetcode.cn/problems/search-insert-position/solution/te-bie-hao-yong-de-er-fen-cha-fa-fa-mo-ban-python-/\n",
    "来源：力扣（LeetCode）\n",
    "著作权归作者所有。商业转载请联系作者获得授权，非商业转载请注明出处。"
   ]
  },
  {
   "cell_type": "code",
   "execution_count": 6,
   "metadata": {},
   "outputs": [
    {
     "name": "stdout",
     "output_type": "stream",
     "text": [
      "1\n"
     ]
    }
   ],
   "source": [
    "nums =  [1,3,5,6,8,9]\n",
    "target2 =  2\n",
    "print(searchInsert(nums, target2))"
   ]
  },
  {
   "cell_type": "code",
   "execution_count": null,
   "metadata": {},
   "outputs": [],
   "source": []
  }
 ],
 "metadata": {
  "kernelspec": {
   "display_name": "Python 3.9.10 ('base')",
   "language": "python",
   "name": "python3"
  },
  "language_info": {
   "codemirror_mode": {
    "name": "ipython",
    "version": 3
   },
   "file_extension": ".py",
   "mimetype": "text/x-python",
   "name": "python",
   "nbconvert_exporter": "python",
   "pygments_lexer": "ipython3",
   "version": "3.9.10"
  },
  "toc": {
   "base_numbering": 1,
   "nav_menu": {},
   "number_sections": true,
   "sideBar": true,
   "skip_h1_title": false,
   "title_cell": "Table of Contents",
   "title_sidebar": "Contents",
   "toc_cell": false,
   "toc_position": {},
   "toc_section_display": true,
   "toc_window_display": false
  },
  "vscode": {
   "interpreter": {
    "hash": "3774638e36becc1b3be4f932a09ec02e29dc9d9fab753e191431a024cc1a4cff"
   }
  }
 },
 "nbformat": 4,
 "nbformat_minor": 2
}
