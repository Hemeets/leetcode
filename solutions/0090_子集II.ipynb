{
 "cells": [
  {
   "cell_type": "markdown",
   "metadata": {},
   "source": [
    "### 子集 II\n",
    "\n",
    "给你一个整数数组 nums ，其中可能包含重复元素，请你返回该数组所有可能的子集（幂集）。\n",
    "\n",
    "解集 不能 包含重复的子集。返回的解集中，子集可以按 任意顺序 排列。\n",
    "\n",
    "示例 1：\n",
    "```\n",
    "输入：nums = [1,2,2]\n",
    "输出：[[],[1],[1,2],[1,2,2],[2],[2,2]]\n",
    "```\n",
    "示例 2：\n",
    "```\n",
    "输入：nums = [0]\n",
    "输出：[[],[0]]\n",
    "```"
   ]
  },
  {
   "cell_type": "code",
   "execution_count": 1,
   "metadata": {},
   "outputs": [
    {
     "data": {
      "text/plain": [
       "[[], [1], [1, 2], [1, 2, 2], [2], [2, 2]]"
      ]
     },
     "execution_count": 1,
     "metadata": {},
     "output_type": "execute_result"
    }
   ],
   "source": [
    "'''cr2022, M'''\n",
    "from typing import List\n",
    "class Solution:\n",
    "    def subsetsWithDup(self, nums: List[int]) -> List[List[int]]:\n",
    "        nums.sort()  # 注意先sort，后面剪枝需要\n",
    "        n = len(nums)\n",
    "        res = list()\n",
    "\n",
    "        def dfs(tmp, i):\n",
    "            res.append(tmp)\n",
    "            for j in range(i, n):\n",
    "                if j > i and nums[j-1] == nums[j]:\n",
    "                    continue\n",
    "                dfs(tmp + [nums[j]], j + 1)\n",
    "        \n",
    "        dfs([], 0)\n",
    "        return res\n",
    "\n",
    "nums = [1,2,2]\n",
    "Solution().subsetsWithDup(nums)"
   ]
  },
  {
   "cell_type": "code",
   "execution_count": null,
   "metadata": {},
   "outputs": [],
   "source": []
  }
 ],
 "metadata": {
  "kernelspec": {
   "display_name": "Python 3.9.10 ('base')",
   "language": "python",
   "name": "python3"
  },
  "language_info": {
   "codemirror_mode": {
    "name": "ipython",
    "version": 3
   },
   "file_extension": ".py",
   "mimetype": "text/x-python",
   "name": "python",
   "nbconvert_exporter": "python",
   "pygments_lexer": "ipython3",
   "version": "3.9.10 | packaged by conda-forge | (main, Feb  1 2022, 21:27:43) \n[Clang 11.1.0 ]"
  },
  "toc": {
   "base_numbering": 1,
   "nav_menu": {},
   "number_sections": true,
   "sideBar": true,
   "skip_h1_title": false,
   "title_cell": "Table of Contents",
   "title_sidebar": "Contents",
   "toc_cell": false,
   "toc_position": {},
   "toc_section_display": true,
   "toc_window_display": false
  },
  "vscode": {
   "interpreter": {
    "hash": "3774638e36becc1b3be4f932a09ec02e29dc9d9fab753e191431a024cc1a4cff"
   }
  }
 },
 "nbformat": 4,
 "nbformat_minor": 2
}
