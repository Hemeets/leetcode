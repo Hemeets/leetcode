{
 "cells": [
  {
   "cell_type": "markdown",
   "metadata": {},
   "source": [
    "合并 k 个排序链表，返回合并后的排序链表。请分析和描述算法的复杂度。\n",
    "\n",
    "示例:\n",
    "\n",
    "输入:\n",
    "[\n",
    "  1->4->5,\n",
    "  1->3->4,\n",
    "  2->6\n",
    "]\n",
    "输出: 1->1->2->3->4->4->5->6\n",
    "\n",
    "来源：力扣（LeetCode）\n",
    "链接：https://leetcode-cn.com/problems/merge-k-sorted-lists\n",
    "著作权归领扣网络所有。商业转载请联系官方授权，非商业转载请注明出处。"
   ]
  },
  {
   "cell_type": "code",
   "execution_count": 15,
   "metadata": {},
   "outputs": [
    {
     "name": "stdout",
     "output_type": "stream",
     "text": [
      "[1, 1, 2, 3, 4, 4, 5, 6]\n"
     ]
    }
   ],
   "source": [
    "'''2022, H'''\n",
    "from utils import *\n",
    "# from bisect import bisect\n",
    "from heapq import heappush, heappop\n",
    "\n",
    "class Solution:\n",
    "    \"\"\" 用heapq实现优先队列，时间复杂度：logk * kn， 空间 k \"\"\"\n",
    "    def mergeKLists(self, lists: List[Optional[ListNode]]) -> Optional[ListNode]:\n",
    "        n = len(lists)\n",
    "        if n == 0:\n",
    "            return None\n",
    "        if n == 1:\n",
    "            return lists[0]\n",
    "        prehead = ListNode(-1)\n",
    "        cur = prehead\n",
    "\n",
    "        pq = list()\n",
    "        for idx, p in enumerate(lists):\n",
    "            if p is not None:\n",
    "                heappush(pq, (p.val, idx))\n",
    "        \n",
    "        while pq:\n",
    "            _, min_idx = heappop(pq)\n",
    "            cur.next = lists[min_idx]\n",
    "            cur = cur.next\n",
    "            lists[min_idx] = lists[min_idx].next\n",
    "            if lists[min_idx] is not None:\n",
    "                heappush(pq, (lists[min_idx].val, min_idx))\n",
    "        return prehead.next\n",
    "\n",
    "\n",
    "class Solution1:\n",
    "    \"\"\" 两两合并，时间复杂度：logk * kn， 空间 k \"\"\"\n",
    "    def mergeKLists(self, lists: List[Optional[ListNode]]) -> Optional[ListNode]:\n",
    "        n = len(lists)\n",
    "        if n == 0:\n",
    "            return None\n",
    "        interval = 1\n",
    "        while interval < n:\n",
    "            for i in range(0, n - interval, interval * 2):\n",
    "                lists[i] = self.merge_2_lists(lists[i], lists[i + interval])\n",
    "            interval *= 2\n",
    "        return lists[0]\n",
    "    \n",
    "    def merge_2_lists(self, l1, l2):\n",
    "        prehead = ListNode(-1)\n",
    "        cur = prehead\n",
    "        while l1 and l2:\n",
    "            if l1.val < l2.val:\n",
    "                cur.next = l1\n",
    "                l1 = l1.next\n",
    "            else:\n",
    "                cur.next = l2\n",
    "                l2 = l2.next\n",
    "            cur = cur.next\n",
    "        cur.next = l1 if l1 else l2\n",
    "        return prehead.next\n",
    "            \n",
    "\n",
    "lists = [l2ln([1,4,5]),l2ln([1,3,4]),l2ln([2,6])]\n",
    "# print(ln2l(Solution().mergeKLists(lists)))\n",
    "print(ln2l(Solution1().mergeKLists(lists)))"
   ]
  }
 ],
 "metadata": {
  "kernelspec": {
   "display_name": "base",
   "language": "python",
   "name": "python3"
  },
  "language_info": {
   "codemirror_mode": {
    "name": "ipython",
    "version": 3
   },
   "file_extension": ".py",
   "mimetype": "text/x-python",
   "name": "python",
   "nbconvert_exporter": "python",
   "pygments_lexer": "ipython3",
   "version": "3.9.10 | packaged by conda-forge | (main, Feb  1 2022, 21:27:43) \n[Clang 11.1.0 ]"
  },
  "toc": {
   "base_numbering": 1,
   "nav_menu": {},
   "number_sections": true,
   "sideBar": true,
   "skip_h1_title": false,
   "title_cell": "Table of Contents",
   "title_sidebar": "Contents",
   "toc_cell": false,
   "toc_position": {},
   "toc_section_display": true,
   "toc_window_display": false
  },
  "vscode": {
   "interpreter": {
    "hash": "3774638e36becc1b3be4f932a09ec02e29dc9d9fab753e191431a024cc1a4cff"
   }
  }
 },
 "nbformat": 4,
 "nbformat_minor": 2
}
