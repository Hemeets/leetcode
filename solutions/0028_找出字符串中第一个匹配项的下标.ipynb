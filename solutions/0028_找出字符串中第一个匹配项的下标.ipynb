{
 "cells": [
  {
   "attachments": {},
   "cell_type": "markdown",
   "metadata": {},
   "source": [
    "找出字符串中第一个匹配项的下标\n",
    "\n",
    "给定一个 haystack 字符串和一个 needle 字符串，在 haystack 字符串中找出 needle 字符串出现的第一个位置 (从0开始)。如果不存在，则返回  -1。\n",
    "\n",
    "示例 1:\n",
    "```\n",
    "输入: haystack = \"hello\", needle = \"ll\"\n",
    "输出: 2\n",
    "```\n",
    "示例 2:\n",
    "```\n",
    "输入: haystack = \"aaaaa\", needle = \"bba\"\n",
    "输出: -1\n",
    "```\n",
    "说明:\n",
    "\n",
    "https://leetcode.cn/problems/find-the-index-of-the-first-occurrence-in-a-string/"
   ]
  },
  {
   "cell_type": "code",
   "execution_count": 4,
   "metadata": {},
   "outputs": [
    {
     "data": {
      "text/plain": [
       "2"
      ]
     },
     "execution_count": 4,
     "metadata": {},
     "output_type": "execute_result"
    }
   ],
   "source": [
    "'''cr2022, M'''\n",
    "# https://leetcode.cn/problems/find-the-index-of-the-first-occurrence-in-a-string/solutions/575568/shua-chuan-lc-shuang-bai-po-su-jie-fa-km-tb86/\n",
    "# 重点在于计算next数组：数组中每个位置的值就是该下标应该跳转的目标位置（ next 点）\n",
    "class Solution:\n",
    "    \"\"\"KMP算法，O(m+n) \"\"\"\n",
    "    def strStr(self, haystack: str, needle: str) -> int:\n",
    "        _next = self.get_next(needle)\n",
    "        i, j = 0, 0\n",
    "        while i < len(haystack) and j < len(needle):\n",
    "            if j == -1 or haystack[i] == needle[j]:\n",
    "                i += 1\n",
    "                j += 1\n",
    "            else:\n",
    "                j = _next[j]\n",
    "        if j == len(needle):\n",
    "            return i - j\n",
    "        return -1\n",
    "\n",
    "    def get_next(self, p):\n",
    "        # 本质上是动态规划？\n",
    "        _next = [0] * len(p)\n",
    "        _next[0] = -1\n",
    "        j, i = -1, 0\n",
    "        while i < len(p) - 1:  # 注意下面 i+=1，所以有-1\n",
    "            if j == -1 or p[i] == p[j]:\n",
    "                i += 1\n",
    "                j += 1\n",
    "                _next[i] = j\n",
    "            else:\n",
    "                j = _next[j]\n",
    "        return _next\n",
    "\n",
    "\n",
    "t = \"hello\"\n",
    "p = \"ll\"\n",
    "Solution().strStr(t, p)"
   ]
  },
  {
   "cell_type": "code",
   "execution_count": 6,
   "metadata": {},
   "outputs": [],
   "source": [
    "class Solution:\n",
    "    def strStr(self, t, p):\n",
    "        if not p: return 0\n",
    "        _next = [0] * len(p)\n",
    "        \n",
    "        def getNext(p, _next):\n",
    "            _next[0] = -1\n",
    "            i = 0\n",
    "            j = -1\n",
    "            while i < len(p) -1:\n",
    "                if j == -1 or p[i] == p[j]:\n",
    "                    i += 1\n",
    "                    j += 1\n",
    "                    _next[i] = j\n",
    "                else:\n",
    "                    j = _next[j]\n",
    "        getNext(p, _next)\n",
    "        print(_next)\n",
    "        i = 0\n",
    "        j = 0\n",
    "        while i < len(t) and j < len(p):\n",
    "            if j == -1 or t[i] == p[j]:\n",
    "                i += 1\n",
    "                j += 1\n",
    "            else:\n",
    "                j = _next[j]\n",
    "        if j == len(p):\n",
    "            return i - j\n",
    "        return -1"
   ]
  },
  {
   "cell_type": "code",
   "execution_count": 9,
   "metadata": {},
   "outputs": [
    {
     "name": "stdout",
     "output_type": "stream",
     "text": [
      "[-1, 0]\n"
     ]
    },
    {
     "data": {
      "text/plain": [
       "2"
      ]
     },
     "execution_count": 9,
     "metadata": {},
     "output_type": "execute_result"
    }
   ],
   "source": [
    "t = \"hello\"\n",
    "p = \"ll\"\n",
    "Solution().strStr(t, p)"
   ]
  },
  {
   "cell_type": "code",
   "execution_count": null,
   "metadata": {},
   "outputs": [],
   "source": []
  }
 ],
 "metadata": {
  "kernelspec": {
   "display_name": "Python 3.9.10 ('base')",
   "language": "python",
   "name": "python3"
  },
  "language_info": {
   "codemirror_mode": {
    "name": "ipython",
    "version": 3
   },
   "file_extension": ".py",
   "mimetype": "text/x-python",
   "name": "python",
   "nbconvert_exporter": "python",
   "pygments_lexer": "ipython3",
   "version": "3.9.10"
  },
  "toc": {
   "base_numbering": 1,
   "nav_menu": {},
   "number_sections": true,
   "sideBar": true,
   "skip_h1_title": false,
   "title_cell": "Table of Contents",
   "title_sidebar": "Contents",
   "toc_cell": false,
   "toc_position": {},
   "toc_section_display": true,
   "toc_window_display": false
  },
  "vscode": {
   "interpreter": {
    "hash": "3774638e36becc1b3be4f932a09ec02e29dc9d9fab753e191431a024cc1a4cff"
   }
  }
 },
 "nbformat": 4,
 "nbformat_minor": 2
}
