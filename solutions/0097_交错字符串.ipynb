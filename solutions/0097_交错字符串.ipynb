{
 "cells": [
  {
   "attachments": {},
   "cell_type": "markdown",
   "metadata": {},
   "source": [
    "97. 交错字符串\n",
    "\n",
    "给定三个字符串 s1、s2、s3，请你帮忙验证 s3 是否是由 s1 和 s2 交错 组成的。\n",
    "\n",
    "两个字符串 s 和 t 交错 的定义与过程如下，其中每个字符串都会被分割成若干 非空 子字符串：\n",
    "\n",
    "- s = s1 + s2 + ... + sn\n",
    "- t = t1 + t2 + ... + tm\n",
    "- |n - m| <= 1\n",
    "- 交错 是 s1 + t1 + s2 + t2 + s3 + t3 + ... 或者 t1 + s1 + t2 + s2 + t3 + s3 + ...\n",
    "注意：a + b 意味着字符串 a 和 b 连接。\n",
    "\n",
    "示例 1：\n",
    "```\n",
    "输入：s1 = \"aabcc\", s2 = \"dbbca\", s3 = \"aadbbcbcac\"\n",
    "输出：true\n",
    "```\n",
    "示例 2：\n",
    "```\n",
    "输入：s1 = \"aabcc\", s2 = \"dbbca\", s3 = \"aadbbbaccc\"\n",
    "输出：false\n",
    "```\n",
    "示例 3：\n",
    "```\n",
    "输入：s1 = \"\", s2 = \"\", s3 = \"\"\n",
    "输出：true\n",
    "```\n",
    "\n",
    "提示：\n",
    "- 0 <= s1.length, s2.length <= 100\n",
    "- 0 <= s3.length <= 200\n",
    "- s1、s2、和 s3 都由小写英文字母组成\n",
    "\n",
    "进阶：您能否仅使用 O(s2.length) 额外的内存空间来解决它?"
   ]
  },
  {
   "cell_type": "code",
   "execution_count": 3,
   "metadata": {},
   "outputs": [
    {
     "name": "stdout",
     "output_type": "stream",
     "text": [
      "[False, False, False, False, False, False]\n",
      "False\n"
     ]
    }
   ],
   "source": [
    "'''2022, M'''\n",
    "# 贪心法(交替每次取最大长度)是不对的，\"aa\", \"bb\", \"aaba\" 是个反例\n",
    "class Solution:\n",
    "    \"\"\" dp: dp[i,j]记s3前i+j个元素 是否由 s1前i个和s2前j个元素交错构成 \"\"\"\n",
    "    def isInterleave(self, s1: str, s2: str, s3: str) -> bool:\n",
    "        n1, n2, n3 = len(s1), len(s2), len(s3)\n",
    "        if n1 + n2 != n3:\n",
    "            return False\n",
    "        dp = [[False] * (n2 + 1) for _ in range(n1 + 1)]  # +1 方便处理 s1 or s2 为空字符串的情况\n",
    "        dp[0][0] = True\n",
    "        for i in range(n1 + 1):\n",
    "            for j in range(n2 + 1):\n",
    "                k = i + j - 1\n",
    "                if i >= 1:\n",
    "                    dp[i][j] |= s3[k] == s1[i-1] and dp[i-1][j] \n",
    "                if j >= 1:\n",
    "                    dp[i][j] |= s3[k] == s2[j-1] and dp[i][j-1]\n",
    "        print(dp)\n",
    "        return dp[-1][-1]\n",
    "\n",
    "\n",
    "# 当状态转移方程只与前一个状态有关时，可以这么做。动手画个图更好理解\n",
    "class Solution1:\n",
    "    \"\"\" dp: 滚动数组空间压缩 \"\"\"\n",
    "    def isInterleave(self, s1: str, s2: str, s3: str) -> bool:\n",
    "        n1, n2, n3 = len(s1), len(s2), len(s3)\n",
    "        if n1 + n2 != n3:\n",
    "            return False\n",
    "        dp = [False] * (n2 + 1)\n",
    "        dp[0] = True\n",
    "        for i in range(n1 + 1):\n",
    "            for j in range(n2 + 1):\n",
    "                k = i + j - 1\n",
    "                if i >= 1:\n",
    "                    dp[j] &= s3[k] == s1[i-1]  # 注意这里的 & 而不是 |\n",
    "                if j >= 1:\n",
    "                    dp[j] |= s3[k] == s2[j-1] and dp[j-1]\n",
    "        print(dp)\n",
    "        return dp[-1]\n",
    "        \n",
    "# s1 = \"aabcc\"\n",
    "# s2 = \"dbbca\"\n",
    "# s3 = \"aadbbcbcac\"\n",
    "s1 = \"aabcc\"\n",
    "s2 = \"dbbca\"\n",
    "s3 = \"aadbbbaccc\"\n",
    "# s1 = \"aa\"\n",
    "# s2 = \"ab\"\n",
    "# s3 = \"aaba\"\n",
    "# print(Solution().isInterleave(s1, s2, s3))\n",
    "print(Solution1().isInterleave(s1, s2, s3))"
   ]
  },
  {
   "cell_type": "code",
   "execution_count": null,
   "metadata": {},
   "outputs": [],
   "source": []
  }
 ],
 "metadata": {
  "kernelspec": {
   "display_name": "base",
   "language": "python",
   "name": "python3"
  },
  "language_info": {
   "codemirror_mode": {
    "name": "ipython",
    "version": 3
   },
   "file_extension": ".py",
   "mimetype": "text/x-python",
   "name": "python",
   "nbconvert_exporter": "python",
   "pygments_lexer": "ipython3",
   "version": "3.9.10"
  },
  "orig_nbformat": 4,
  "vscode": {
   "interpreter": {
    "hash": "3774638e36becc1b3be4f932a09ec02e29dc9d9fab753e191431a024cc1a4cff"
   }
  }
 },
 "nbformat": 4,
 "nbformat_minor": 2
}
