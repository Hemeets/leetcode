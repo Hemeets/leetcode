{
 "cells": [
  {
   "attachments": {},
   "cell_type": "markdown",
   "metadata": {},
   "source": [
    "从前序与中序遍历序列构造二叉树\n",
    "\n",
    "注意:\n",
    "你可以假设树中没有重复的元素。\n",
    "\n",
    "例如，给出\n",
    "\n",
    "前序遍历 preorder = [3,9,20,15,7]\n",
    "中序遍历 inorder = [9,3,15,20,7]\n",
    "返回如下的二叉树：\n",
    "\n",
    "        3\n",
    "       / \\\n",
    "      9  20\n",
    "        /  \\\n",
    "       15   7\n",
    "\n",
    "来源：力扣（LeetCode）\n",
    "链接：https://leetcode-cn.com/problems/construct-binary-tree-from-preorder-and-inorder-traversal\n",
    "著作权归领扣网络所有。商业转载请联系官方授权，非商业转载请注明出处。"
   ]
  },
  {
   "cell_type": "code",
   "execution_count": 4,
   "metadata": {},
   "outputs": [
    {
     "name": "stdout",
     "output_type": "stream",
     "text": [
      "{'left': {'left': None, 'right': None, 'val': 9},\n",
      " 'right': {'left': {'left': None, 'right': None, 'val': 15},\n",
      "           'right': {'left': None, 'right': None, 'val': 7},\n",
      "           'val': 20},\n",
      " 'val': 3}\n"
     ]
    }
   ],
   "source": [
    "'''cr2022, M'''\n",
    "from utils import List, Optional, TreeNode, pprint\n",
    "class Solution:\n",
    "    ''' 递归，想法是从中序得到子树的节点数，结合前序就可以确定子树的节点范围 '''\n",
    "    def buildTree(self, preorder: List[int], inorder: List[int]) -> Optional[TreeNode]:\n",
    "        def dfs(pre_l, pre_r, in_l, in_r):\n",
    "            ''' 索引，闭区间，结束条件即为l > r'''\n",
    "            if pre_l > pre_r:\n",
    "                return None\n",
    "            root_val = preorder[pre_l]\n",
    "            root = TreeNode(root_val)\n",
    "            in_idx = inorder_map[root_val]\n",
    "            tn_num_l = in_idx - in_l\n",
    "            root.left = dfs(pre_l + 1, pre_l + tn_num_l, in_l, in_idx - 1)\n",
    "            root.right = dfs(pre_l + tn_num_l + 1, pre_r, in_idx + 1, in_r)\n",
    "            return root\n",
    "\n",
    "        n = len(preorder)\n",
    "        inorder_map = {v: k for k, v in enumerate(inorder)}\n",
    "        return dfs(0, n - 1, 0, n - 1)\n",
    "\n",
    "preorder = [3,9,20,15,7]\n",
    "inorder = [9,3,15,20,7]\n",
    "root = Solution().buildTree(preorder, inorder)\n",
    "pprint(root.to_dict())"
   ]
  },
  {
   "cell_type": "code",
   "execution_count": 2,
   "metadata": {},
   "outputs": [],
   "source": [
    "class TreeNode:\n",
    "    def __init__(self, x):\n",
    "        self.val = x\n",
    "        self.left = None\n",
    "        self.right = None\n",
    "class Solution:\n",
    "    def buildTree(self, preorder, inorder):\n",
    "        pre_idx = 0\n",
    "        # 这是个inorder的key是元素值， val是index的字典，用空间换时间\n",
    "        # 要不然每次inorder.index()查找元素要O（n）时间\n",
    "        idx_map = {val: idx for idx, val in enumerate(inorder)}\n",
    "        def helper(in_left = 0, in_right = len(inorder)):\n",
    "            nonlocal pre_idx\n",
    "            # in_left, in_right是判断递归结束的条件\n",
    "            if in_left == in_right:\n",
    "                return None\n",
    "            root_val = preorder[pre_idx]\n",
    "            root = TreeNode(root_val)\n",
    "            pre_idx += 1\n",
    "            index = idx_map[root_val]\n",
    "            \n",
    "            root.left = helper(in_left, index) # 注意，先根序，第一个就是root\n",
    "            root.right = helper(index+1, in_right)\n",
    "            return root\n",
    "        return helper()\n",
    "            "
   ]
  }
 ],
 "metadata": {
  "kernelspec": {
   "display_name": "Python 3.9.10 ('base')",
   "language": "python",
   "name": "python3"
  },
  "language_info": {
   "codemirror_mode": {
    "name": "ipython",
    "version": 3
   },
   "file_extension": ".py",
   "mimetype": "text/x-python",
   "name": "python",
   "nbconvert_exporter": "python",
   "pygments_lexer": "ipython3",
   "version": "3.9.10 | packaged by conda-forge | (main, Feb  1 2022, 21:27:43) \n[Clang 11.1.0 ]"
  },
  "toc": {
   "base_numbering": 1,
   "nav_menu": {},
   "number_sections": true,
   "sideBar": true,
   "skip_h1_title": false,
   "title_cell": "Table of Contents",
   "title_sidebar": "Contents",
   "toc_cell": false,
   "toc_position": {},
   "toc_section_display": true,
   "toc_window_display": false
  },
  "vscode": {
   "interpreter": {
    "hash": "3774638e36becc1b3be4f932a09ec02e29dc9d9fab753e191431a024cc1a4cff"
   }
  }
 },
 "nbformat": 4,
 "nbformat_minor": 2
}
