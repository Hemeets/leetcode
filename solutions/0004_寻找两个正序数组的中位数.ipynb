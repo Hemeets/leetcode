{
 "cells": [
  {
   "cell_type": "markdown",
   "metadata": {},
   "source": [
    "给定两个大小为 m 和 n 的有序数组 nums1 和 nums2。\n",
    "\n",
    "请你找出这两个有序数组的中位数，并且要求算法的时间复杂度为 O(log(m + n))。\n",
    "\n",
    "你可以假设 nums1 和 nums2 不会同时为空。\n",
    "\n",
    "示例 1:\n",
    "\n",
    "nums1 = [1, 3]\n",
    "\n",
    "nums2 = [2]\n",
    "\n",
    "则中位数是 2.0\n",
    "\n",
    "示例 2:\n",
    "\n",
    "nums1 = [1, 2]\n",
    "\n",
    "nums2 = [3, 4]\n",
    "\n",
    "则中位数是 (2 + 3)/2 = 2.5"
   ]
  },
  {
   "cell_type": "code",
   "execution_count": 2,
   "metadata": {},
   "outputs": [
    {
     "name": "stdout",
     "output_type": "stream",
     "text": [
      "2.0\n",
      "2\n"
     ]
    }
   ],
   "source": [
    "''' cr_2022, Hard'''\n",
    "from typing import List\n",
    "class Solution1:\n",
    "    \"\"\" 朴素的归并想法，时间(n+m) \"\"\"\n",
    "    def findMedianSortedArrays(self, nums1: List[int], nums2: List[int]) -> float:\n",
    "        L1 = len(nums1)\n",
    "        L2 = len(nums2)\n",
    "        i, j, k = 0, 0, 0\n",
    "        nums3 = [0] * (L1 + L2)\n",
    "        while i < L1 and j < L2:\n",
    "            if nums1[i] <= nums2[j]:\n",
    "                nums3[k] = nums1[i]\n",
    "                i += 1\n",
    "            else:\n",
    "                nums3[k] = nums2[j]\n",
    "                j += 1\n",
    "            k += 1\n",
    "        if i < L1:\n",
    "            nums3[k:] = nums1[i:]\n",
    "        else:\n",
    "            nums3[k:] = nums2[j:]\n",
    "        L3 = len(nums3)\n",
    "        m_ind = L3 // 2\n",
    "        if L3 % 2 == 1:\n",
    "            median = nums3[m_ind]\n",
    "        else:\n",
    "            median = (nums3[m_ind-1] + nums3[m_ind]) / 2\n",
    "        return float(median)\n",
    "\n",
    "\n",
    "class Solution2:\n",
    "    \"\"\" 分治，时间log(n+m) \"\"\"\n",
    "    def findMedianSortedArrays(self, nums1: List[int], nums2: List[int]) -> float:\n",
    "        n, m = len(nums1), len(nums2)\n",
    "        if (n+m)%2 != 0:\n",
    "            return self.findkthnum((n+m)//2+1, nums1, nums2)\n",
    "        if (n+m)%2 == 0:\n",
    "            return (self.findkthnum((n+m)//2, nums1, nums2) + self.findkthnum((n+m)//2+1, nums1, nums2)) / 2\n",
    "\n",
    "    def findkthnum(self, k, nums1, nums2):\n",
    "        # 如果一个数组已经是None了就直接返回另一个的第k小的数\n",
    "        if not nums1:\n",
    "            return nums2[k-1]\n",
    "        elif not nums2:\n",
    "            return nums1[k-1]\n",
    "        else:\n",
    "            if k == 1:\n",
    "                return min(nums1[0], nums2[0])\n",
    "            else:\n",
    "                # 索引是k//2 -1， 对越界的情况进行限制\n",
    "                nums1_p = min(len(nums1)-1, k//2-1)\n",
    "                nums2_p = min(len(nums2)-1, k//2-1)\n",
    "                if nums1[nums1_p] < nums2[nums2_p]:\n",
    "                    # 如果k//2-1的索引越界，则去掉的部分是整个数组，传进递归函数的部分是None\n",
    "                    return self.findkthnum(k-min(k//2, len(nums1)), nums1[k//2:], nums2)\n",
    "                else:\n",
    "                    return self.findkthnum(k-min(k//2, len(nums2)), nums1, nums2[k//2:])\n",
    "\n",
    "nums1 = [1,3]\n",
    "nums2 = [2]\n",
    "print(Solution1().findMedianSortedArrays(nums1, nums2))\n",
    "print(Solution2().findMedianSortedArrays(nums1, nums2))"
   ]
  },
  {
   "cell_type": "markdown",
   "metadata": {},
   "source": [
    "#### 分治法\n",
    "如何想到分治法？\n",
    "<br />     ................... left_part  |  right_part....................\n",
    "<br />    A[0], A[1], ..., A[i-1]  |  A[i], A[i+1], ..., A[m-1]\n",
    "<br />    B[0], B[1], ..., B[j-1]  |  B[j], B[j+1], ..., B[n-1]\n",
    "\n",
    "1. 用中位数左右个数相等作为第一个条件，推出i，j的关系；\n",
    "2. i，j是此消彼长的，A，B也是有序（假设小到大），故可以考虑分治法\n",
    "\n",
    "这里是详细解题思路[leetcode](https://leetcode-cn.com/problems/median-of-two-sorted-arrays/solution/xun-zhao-liang-ge-you-xu-shu-zu-de-zhong-wei-shu-b/)"
   ]
  },
  {
   "cell_type": "code",
   "execution_count": 14,
   "metadata": {},
   "outputs": [],
   "source": [
    "def findM1(A, B):\n",
    "    m, n = len(A), len(B)\n",
    "    if m > n:\n",
    "        A, B, m, n = B, A, n, m\n",
    "    if n == 0:\n",
    "        raise ValueError\n",
    "    imin, imax, media = 0, m, int((m+n+1)/2)\n",
    "    # 要仔细考虑奇偶问题\n",
    "    while imin <= imax:\n",
    "        i = int((imin + imax) / 2)\n",
    "        j = media - i\n",
    "        if i < m and B[j-1] > A[i]:\n",
    "            imin = i + 1\n",
    "        elif i > 0 and A[i-1] > B[j]:\n",
    "            imax = i - 1\n",
    "        else:\n",
    "            if i == 0: max_of_left = B[j-1]\n",
    "            elif j == 0: max_of_left = A[i-1]\n",
    "            else: max_of_left = max(A[i-1], B[j-1])\n",
    "                \n",
    "            if (m+n) % 2 == 1:\n",
    "                return float(max_of_left)\n",
    "            \n",
    "            if i == m: min_of_right = B[j]\n",
    "            elif j == n: min_of_right = A[i]\n",
    "            else: min_of_right = min(B[j], A[i])\n",
    "            return (max_of_left + min_of_right) / 2.0"
   ]
  },
  {
   "cell_type": "code",
   "execution_count": 13,
   "metadata": {},
   "outputs": [
    {
     "data": {
      "text/plain": [
       "3"
      ]
     },
     "execution_count": 13,
     "metadata": {},
     "output_type": "execute_result"
    }
   ],
   "source": [
    "findM1(nums1, nums2)"
   ]
  },
  {
   "cell_type": "markdown",
   "metadata": {},
   "source": [
    "#### 上面这个方法不好理解（解体中的方法4）后面用方法3重写一下；\n",
    "需要达到log(m+n)，就需要2分。中位数，其实就是求第k小的特殊情况，由于序列是有序的，可以每次遍历排除一半的数，达到二分的目的。\n",
    "这里k=(n+m)//2，注意当k大于二者之一时（假设k>n)，接下来应该取m的第k-n个即可\n",
    "\n",
    "https://leetcode.cn/problems/median-of-two-sorted-arrays/solutions/8999/xiang-xi-tong-su-de-si-lu-fen-xi-duo-jie-fa-by-w-2/"
   ]
  },
  {
   "cell_type": "code",
   "execution_count": 1,
   "metadata": {},
   "outputs": [
    {
     "name": "stdout",
     "output_type": "stream",
     "text": [
      "3\n"
     ]
    }
   ],
   "source": [
    "from typing import List\n",
    "class Solution:\n",
    "    def findMedianSortedArrays(self, nums1: List[int], nums2: List[int]) -> float:\n",
    "        n, m = len(nums1), len(nums2)\n",
    "\n",
    "        def findkthnum(k, nums1, nums2):\n",
    "            # 如果一个数组已经是None了就直接返回另一个的第k小的数\n",
    "            if not nums1:\n",
    "                return nums2[k-1]\n",
    "            elif not nums2:\n",
    "                return nums1[k-1]\n",
    "            else:\n",
    "                if k == 1:\n",
    "                    return min(nums1[0], nums2[0])\n",
    "                else:\n",
    "                    # 索引是k//2 -1， 对越界的情况进行限制\n",
    "                    nums1_p = min(len(nums1)-1, k//2-1)\n",
    "                    nums2_p = min(len(nums2)-1, k//2-1)\n",
    "                    if nums1[nums1_p] < nums2[nums2_p]:\n",
    "                        # 如果k//2-1的索引越界，则去掉的部分是整个数组，传进递归函数的部分是None\n",
    "                        return findkthnum(k-min(k//2, len(nums1)), nums1[k//2:], nums2)\n",
    "                    else:\n",
    "                        return findkthnum(k-min(k//2, len(nums2)), nums1, nums2[k//2:])\n",
    "        \n",
    "        if (n+m)%2 != 0:\n",
    "            return findkthnum((n+m)//2+1, nums1, nums2)\n",
    "        \n",
    "        if (n+m)%2 == 0:\n",
    "            return (findkthnum((n+m)//2, nums1, nums2) + findkthnum((n+m)//2+1, nums1, nums2)) /2\n",
    "\n",
    "\n",
    "nums1 = [2]\n",
    "nums2 = [3, 4]\n",
    "print(Solution().findMedianSortedArrays(nums1, nums2))"
   ]
  },
  {
   "cell_type": "code",
   "execution_count": null,
   "metadata": {},
   "outputs": [],
   "source": []
  }
 ],
 "metadata": {
  "kernelspec": {
   "display_name": "Python 3.9.10 ('base')",
   "language": "python",
   "name": "python3"
  },
  "language_info": {
   "codemirror_mode": {
    "name": "ipython",
    "version": 3
   },
   "file_extension": ".py",
   "mimetype": "text/x-python",
   "name": "python",
   "nbconvert_exporter": "python",
   "pygments_lexer": "ipython3",
   "version": "3.9.10 | packaged by conda-forge | (main, Feb  1 2022, 21:27:43) \n[Clang 11.1.0 ]"
  },
  "toc": {
   "base_numbering": 1,
   "nav_menu": {},
   "number_sections": true,
   "sideBar": true,
   "skip_h1_title": false,
   "title_cell": "Table of Contents",
   "title_sidebar": "Contents",
   "toc_cell": false,
   "toc_position": {},
   "toc_section_display": true,
   "toc_window_display": false
  },
  "vscode": {
   "interpreter": {
    "hash": "3774638e36becc1b3be4f932a09ec02e29dc9d9fab753e191431a024cc1a4cff"
   }
  }
 },
 "nbformat": 4,
 "nbformat_minor": 2
}
