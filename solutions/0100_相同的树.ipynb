{
 "cells": [
  {
   "cell_type": "markdown",
   "metadata": {},
   "source": [
    "给定两个二叉树，编写一个函数来检验它们是否相同。\n",
    "\n",
    "如果两个树在结构上相同，并且节点具有相同的值，则认为它们是相同的。\n",
    "\n",
    "示例 1:\n",
    "\n",
    "输入:\n",
    "\n",
    "           1         1\n",
    "          / \\       / \\\n",
    "         2   3     2   3\n",
    "\n",
    "        [1,2,3],   [1,2,3]\n",
    "\n",
    "输出: true\n",
    "示例 2:\n",
    "\n",
    "输入:\n",
    "            \n",
    "           1          1\n",
    "          /           \\\n",
    "         2             2\n",
    "\n",
    "        [1,2],     [1,null,2]\n",
    "\n",
    "输出: false\n",
    "示例 3:\n",
    "\n",
    "输入:  \n",
    "            \n",
    "           1         1\n",
    "          / \\       / \\\n",
    "         2   1     1   2\n",
    "\n",
    "        [1,2,1],   [1,1,2]\n",
    "\n",
    "输出: false\n"
   ]
  },
  {
   "cell_type": "code",
   "execution_count": 1,
   "metadata": {},
   "outputs": [
    {
     "data": {
      "text/plain": [
       "True"
      ]
     },
     "execution_count": 1,
     "metadata": {},
     "output_type": "execute_result"
    }
   ],
   "source": [
    "'''cr2022, E'''\n",
    "from utils import TreeNode, Optional, l2tn\n",
    "class Solution:\n",
    "    '''迭代'''\n",
    "    def isSameTree(self, p: Optional[TreeNode], q: Optional[TreeNode]) -> bool:\n",
    "        if p is None and q is None:\n",
    "            return True\n",
    "        if (p is None) ^ (q is None):\n",
    "            return False\n",
    "        if p.val != q.val:\n",
    "            return False\n",
    "        return self.isSameTree(p.left, q.left) and self.isSameTree(p.right, q.right)\n",
    "\n",
    "p = [1,2,3]\n",
    "q = [1,2,3]\n",
    "Solution().isSameTree(l2tn(p), l2tn(q))"
   ]
  },
  {
   "cell_type": "markdown",
   "metadata": {},
   "source": [
    "朴素的想法(并不！，最朴素应该是递归哈，不要对递归有偏见！)：按相同的方式深度优先检索，看看val是否相同"
   ]
  },
  {
   "cell_type": "code",
   "execution_count": 2,
   "metadata": {},
   "outputs": [],
   "source": [
    "def isSameTree(p,q):\n",
    "    if (not p) or (not q):\n",
    "        return p == q\n",
    "    sp = list()\n",
    "    sq = list()\n",
    "    sp.append(p)\n",
    "    sq.append(q)\n",
    "    while sp and sq:\n",
    "        tp = sp.pop()\n",
    "        tq = sq.pop()\n",
    "        if tp.val != tq.val:\n",
    "            return False\n",
    "        if ((tp.right is None) ^ (tq.right is None))\\\n",
    "            or ((tp.left is None) ^ (tq.left is None)):\n",
    "            return False\n",
    "        if tp.right:\n",
    "            sp.append(tp.right)\n",
    "        if tp.left:\n",
    "            sp.append(tp.left)\n",
    "        if tq.right:\n",
    "            sq.append(tq.right)\n",
    "        if tq.left:\n",
    "            sq.append(tq.left)\n",
    "    if sq != sp:\n",
    "        return False\n",
    "    return True\n",
    "\n",
    "\n",
    "# 接下来用递归写一下：\n",
    "def isSameTree1(p, q):\n",
    "    # 要考虑的是叶子节点，因为最后肯定是叶子\n",
    "    if (p is None) and (q is None):\n",
    "        return True\n",
    "    # 不用if else，是因为else就包括除了叶子节点以外的情况了，而这里只考虑叶子节点\n",
    "    if (p is None) ^ (q is None):\n",
    "        return False\n",
    "    if p.val != q.val:\n",
    "        # 不是针对叶子的，可以提前结束\n",
    "        return False\n",
    "    return isSameTree1(p.left, q.left) and isSameTree1(p.right, q.right)"
   ]
  }
 ],
 "metadata": {
  "kernelspec": {
   "display_name": "Python 3.9.10 ('base')",
   "language": "python",
   "name": "python3"
  },
  "language_info": {
   "codemirror_mode": {
    "name": "ipython",
    "version": 3
   },
   "file_extension": ".py",
   "mimetype": "text/x-python",
   "name": "python",
   "nbconvert_exporter": "python",
   "pygments_lexer": "ipython3",
   "version": "3.9.10 | packaged by conda-forge | (main, Feb  1 2022, 21:27:43) \n[Clang 11.1.0 ]"
  },
  "toc": {
   "base_numbering": 1,
   "nav_menu": {},
   "number_sections": true,
   "sideBar": true,
   "skip_h1_title": false,
   "title_cell": "Table of Contents",
   "title_sidebar": "Contents",
   "toc_cell": false,
   "toc_position": {},
   "toc_section_display": true,
   "toc_window_display": false
  },
  "vscode": {
   "interpreter": {
    "hash": "3774638e36becc1b3be4f932a09ec02e29dc9d9fab753e191431a024cc1a4cff"
   }
  }
 },
 "nbformat": 4,
 "nbformat_minor": 2
}
