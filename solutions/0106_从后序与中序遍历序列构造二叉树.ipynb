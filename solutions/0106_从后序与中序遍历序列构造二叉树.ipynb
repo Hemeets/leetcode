{
 "cells": [
  {
   "attachments": {},
   "cell_type": "markdown",
   "metadata": {},
   "source": [
    "从中序与后序遍历构造二叉树\n",
    "\n",
    "注意:\n",
    "你可以假设树中没有重复的元素。\n",
    "\n",
    "例如，给出\n",
    "\n",
    "中序遍历 inorder = [9,3,15,20,7]\n",
    "后序遍历 postorder = [9,15,7,20,3]\n",
    "返回如下的二叉树：\n",
    "\n",
    "        3\n",
    "       / \\\n",
    "      9  20\n",
    "        /  \\\n",
    "       15   7\n",
    "\n",
    "来源：力扣（LeetCode）\n",
    "链接：https://leetcode-cn.com/problems/construct-binary-tree-from-inorder-and-postorder-traversal\n",
    "著作权归领扣网络所有。商业转载请联系官方授权，非商业转载请注明出处。"
   ]
  },
  {
   "cell_type": "code",
   "execution_count": 2,
   "metadata": {},
   "outputs": [
    {
     "name": "stdout",
     "output_type": "stream",
     "text": [
      "{'left': {'left': None, 'right': None, 'val': 9},\n",
      " 'right': {'left': {'left': None, 'right': None, 'val': 15},\n",
      "           'right': {'left': None, 'right': None, 'val': 7},\n",
      "           'val': 20},\n",
      " 'val': 3}\n"
     ]
    }
   ],
   "source": [
    "'''cr2022, M'''\n",
    "from utils import List, Optional, TreeNode, pprint\n",
    "class Solution:\n",
    "    ''' 与105相同想法 '''\n",
    "    def buildTree(self, inorder: List[int], postorder: List[int]) -> Optional[TreeNode]:\n",
    "        def dfs(post_l, post_r, in_l, in_r):\n",
    "            if in_l > in_r:\n",
    "                return None\n",
    "            root_val = postorder[post_r]\n",
    "            root = TreeNode(root_val)\n",
    "            in_idx = inorder_map[root_val]\n",
    "            tn_num_r = in_r - in_idx\n",
    "            root.left = dfs(post_l, post_r - tn_num_r - 1, in_l, in_idx - 1)\n",
    "            root.right = dfs(post_r - tn_num_r, post_r - 1, in_idx + 1, in_r)\n",
    "            return root\n",
    "\n",
    "        n = len(inorder)\n",
    "        inorder_map = {v: k for k, v in enumerate(inorder)}\n",
    "        return dfs(0, n - 1, 0, n - 1)\n",
    "\n",
    "postorder = [9,15,7,20,3]\n",
    "inorder = [9,3,15,20,7]\n",
    "root = Solution().buildTree(inorder, postorder)\n",
    "pprint(root.to_dict())"
   ]
  }
 ],
 "metadata": {
  "kernelspec": {
   "display_name": "Python 3.9.10 ('base')",
   "language": "python",
   "name": "python3"
  },
  "language_info": {
   "codemirror_mode": {
    "name": "ipython",
    "version": 3
   },
   "file_extension": ".py",
   "mimetype": "text/x-python",
   "name": "python",
   "nbconvert_exporter": "python",
   "pygments_lexer": "ipython3",
   "version": "3.9.10"
  },
  "toc": {
   "base_numbering": 1,
   "nav_menu": {},
   "number_sections": true,
   "sideBar": true,
   "skip_h1_title": false,
   "title_cell": "Table of Contents",
   "title_sidebar": "Contents",
   "toc_cell": false,
   "toc_position": {},
   "toc_section_display": true,
   "toc_window_display": false
  },
  "vscode": {
   "interpreter": {
    "hash": "3774638e36becc1b3be4f932a09ec02e29dc9d9fab753e191431a024cc1a4cff"
   }
  }
 },
 "nbformat": 4,
 "nbformat_minor": 2
}
