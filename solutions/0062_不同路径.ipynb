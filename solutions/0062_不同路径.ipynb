{
 "cells": [
  {
   "attachments": {},
   "cell_type": "markdown",
   "metadata": {},
   "source": [
    "不同路径\n",
    "\n",
    "一个机器人位于一个 m x n 网格的左上角 （起始点在下图中标记为“Start” ）。\n",
    "\n",
    "机器人每次只能向下或者向右移动一步。机器人试图达到网格的右下角（在下图中标记为“Finish”）。\n",
    "\n",
    "问总共有多少条不同的路径？\n",
    "\n",
    "\n",
    "\n",
    "例如，上图是一个7 x 3 的网格。有多少可能的路径？\n",
    "\n",
    "说明：m 和 n 的值均不超过 100。\n",
    "\n",
    "示例 1:\n",
    "\n",
    "输入: m = 3, n = 2\n",
    "输出: 3\n",
    "解释:\n",
    "从左上角开始，总共有 3 条路径可以到达右下角。\n",
    "1. 向右 -> 向右 -> 向下\n",
    "2. 向右 -> 向下 -> 向右\n",
    "3. 向下 -> 向右 -> 向右\n",
    "示例 2:\n",
    "\n",
    "输入: m = 7, n = 3\n",
    "输出: 28\n",
    "\n",
    "来源：力扣（LeetCode）\n",
    "链接：https://leetcode-cn.com/problems/unique-paths\n",
    "著作权归领扣网络所有。商业转载请联系官方授权，非商业转载请注明出处。"
   ]
  },
  {
   "cell_type": "markdown",
   "metadata": {},
   "source": [
    "数学就是：C下面m+n-2,上面m-1（或n-1），下述不用这个方法，用动态规划来解\n",
    "\n"
   ]
  },
  {
   "cell_type": "code",
   "execution_count": 1,
   "metadata": {},
   "outputs": [
    {
     "name": "stdout",
     "output_type": "stream",
     "text": [
      "[[1, 1, 1, 1, 1], [1, 0, 0, 0, 0], [1, 0, 0, 0, 0], [1, 0, 0, 0, 0]]\n"
     ]
    },
    {
     "data": {
      "text/plain": [
       "35"
      ]
     },
     "execution_count": 1,
     "metadata": {},
     "output_type": "execute_result"
    }
   ],
   "source": [
    "'''cr2022, M'''\n",
    "class Solution:\n",
    "    def uniquePaths(self, m: int, n: int) -> int:\n",
    "        dp = [[0] * n for _ in range(m)]\n",
    "        for i in range(m):\n",
    "            dp[i][0] = 1\n",
    "        for j in range(n):\n",
    "            dp[0][j] = 1\n",
    "        # print(dp)\n",
    "        for i in range(1, m):\n",
    "            for j in range(1, n):\n",
    "                dp[i][j] = dp[i-1][j] + dp[i][j-1]\n",
    "        return dp[-1][-1]\n",
    "\n",
    "Solution().uniquePaths(4, 5)"
   ]
  }
 ],
 "metadata": {
  "kernelspec": {
   "display_name": "Python 3.9.10 ('base')",
   "language": "python",
   "name": "python3"
  },
  "language_info": {
   "codemirror_mode": {
    "name": "ipython",
    "version": 3
   },
   "file_extension": ".py",
   "mimetype": "text/x-python",
   "name": "python",
   "nbconvert_exporter": "python",
   "pygments_lexer": "ipython3",
   "version": "3.9.10"
  },
  "toc": {
   "base_numbering": 1,
   "nav_menu": {},
   "number_sections": true,
   "sideBar": true,
   "skip_h1_title": false,
   "title_cell": "Table of Contents",
   "title_sidebar": "Contents",
   "toc_cell": false,
   "toc_position": {},
   "toc_section_display": true,
   "toc_window_display": false
  },
  "vscode": {
   "interpreter": {
    "hash": "3774638e36becc1b3be4f932a09ec02e29dc9d9fab753e191431a024cc1a4cff"
   }
  }
 },
 "nbformat": 4,
 "nbformat_minor": 2
}
