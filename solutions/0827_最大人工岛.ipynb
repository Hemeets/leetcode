{
 "cells": [
  {
   "attachments": {},
   "cell_type": "markdown",
   "metadata": {},
   "source": [
    "827. 最大人工岛\n",
    "\n",
    "给你一个大小为 n x n 二进制矩阵 grid 。最多 只能将一格 0 变成 1 。\n",
    "\n",
    "返回执行此操作后，grid 中最大的岛屿面积是多少？\n",
    "\n",
    "岛屿 由一组上、下、左、右四个方向相连的 1 形成。\n",
    " \n",
    "\n",
    "示例 1:\n",
    "```\n",
    "输入: grid = [[1, 0], [0, 1]]\n",
    "输出: 3\n",
    "解释: 将一格0变成1，最终连通两个小岛得到面积为 3 的岛屿。\n",
    "```\n",
    "示例 2:\n",
    "```\n",
    "输入: grid = [[1, 1], [1, 0]]\n",
    "输出: 4\n",
    "解释: 将一格0变成1，岛屿的面积扩大为 4。\n",
    "```\n",
    "示例 3:\n",
    "```\n",
    "输入: grid = [[1, 1], [1, 1]]\n",
    "输出: 4\n",
    "解释: 没有0可以让我们变成1，面积依然为 4。\n",
    "```"
   ]
  },
  {
   "cell_type": "code",
   "execution_count": 2,
   "metadata": {},
   "outputs": [
    {
     "data": {
      "text/plain": [
       "3"
      ]
     },
     "execution_count": 2,
     "metadata": {},
     "output_type": "execute_result"
    }
   ],
   "source": [
    "'''2022, H'''\n",
    "from typing import List\n",
    "from collections import deque\n",
    "# 先求各个岛的面积\n",
    "class Solution:\n",
    "    '''dfs'''\n",
    "    def largestIsland(self, grid: List[List[int]]) -> int:\n",
    "        try:\n",
    "            row_n = len(grid)\n",
    "            col_n = len(grid[0])\n",
    "        except:\n",
    "            return 0\n",
    "        directions = [(0, 1), (0, -1), (1, 0), (-1, 0)]\n",
    "        area = self.AreaOfIsland(grid)\n",
    "        res = max(area.values(), default=0)  # 注意这个res的初始化\n",
    "        for r in range(row_n):\n",
    "            for c in range(col_n):\n",
    "                if grid[r][c] == 0:\n",
    "                    new_area = 1\n",
    "                    connected = {0}\n",
    "                    for dr, dc in directions:\n",
    "                        n_r, n_c = r + dr, c + dc\n",
    "                        if self.in_area(row_n, col_n, n_r, n_c) and grid[n_r][n_c] not in connected:\n",
    "                            new_area += area[grid[n_r][n_c]]\n",
    "                            connected.add(grid[n_r][n_c])\n",
    "                    res = max(res, new_area)\n",
    "        return res\n",
    "\n",
    "    def AreaOfIsland(self, grid: List[List[int]]) -> dict:\n",
    "        try:\n",
    "            row_n = len(grid)\n",
    "            col_n = len(grid[0])\n",
    "        except:\n",
    "            return 0\n",
    "        directions = [(0, 1), (0, -1), (1, 0), (-1, 0)]\n",
    "        \n",
    "        def dfs(r, c):\n",
    "            ''' dfs周游, 返回面积 '''\n",
    "            if not self.in_area(row_n, col_n, r, c):  # base case\n",
    "                return 0\n",
    "            if grid[r][c] != 1:\n",
    "                return 0\n",
    "            grid[r][c] = t\n",
    "            ret_area = 1\n",
    "            for dr, dc in directions:\n",
    "                n_r, n_c = r + dr, c + dc\n",
    "                ret_area += dfs(n_r, n_c)\n",
    "            return ret_area\n",
    "        \n",
    "        area = dict()\n",
    "        for r in range(row_n):\n",
    "            for c in range(col_n):\n",
    "                if grid[r][c] == 1:\n",
    "                    t = r * col_n + c + 2\n",
    "                    area[t] = dfs(r, c)\n",
    "        return area\n",
    "\n",
    "    def in_area(self, row_n, col_n, r, c):\n",
    "        ''' 判断是否越界 '''\n",
    "        if 0 <= r < row_n and 0 <= c < col_n:\n",
    "            return True\n",
    "        else:\n",
    "            return False\n",
    "\n",
    "grid = [[1, 0], [0, 1]]\n",
    "Solution().largestIsland(grid)"
   ]
  },
  {
   "cell_type": "code",
   "execution_count": null,
   "metadata": {},
   "outputs": [],
   "source": []
  }
 ],
 "metadata": {
  "kernelspec": {
   "display_name": "Python 3.9.10 ('base')",
   "language": "python",
   "name": "python3"
  },
  "language_info": {
   "codemirror_mode": {
    "name": "ipython",
    "version": 3
   },
   "file_extension": ".py",
   "mimetype": "text/x-python",
   "name": "python",
   "nbconvert_exporter": "python",
   "pygments_lexer": "ipython3",
   "version": "3.9.10 | packaged by conda-forge | (main, Feb  1 2022, 21:27:43) \n[Clang 11.1.0 ]"
  },
  "toc": {
   "base_numbering": 1,
   "nav_menu": {},
   "number_sections": true,
   "sideBar": true,
   "skip_h1_title": false,
   "title_cell": "Table of Contents",
   "title_sidebar": "Contents",
   "toc_cell": false,
   "toc_position": {},
   "toc_section_display": true,
   "toc_window_display": false
  },
  "vscode": {
   "interpreter": {
    "hash": "3774638e36becc1b3be4f932a09ec02e29dc9d9fab753e191431a024cc1a4cff"
   }
  }
 },
 "nbformat": 4,
 "nbformat_minor": 2
}
