{
 "cells": [
  {
   "attachments": {},
   "cell_type": "markdown",
   "metadata": {},
   "source": [
    "最大连续1的个数III\n",
    "\n",
    "给定一个由若干 0 和 1 组成的数组 A，我们最多可以将 K 个值从 0 变成 1 。\n",
    "\n",
    "返回仅包含 1 的最长（连续）子数组的长度。\n",
    "\n",
    " \n",
    "\n",
    "示例 1：\n",
    "\n",
    "输入：A = [1,1,1,0,0,0,1,1,1,1,0], K = 2\n",
    "输出：6\n",
    "解释： \n",
    "[1,1,1,0,0,1,1,1,1,1,1]\n",
    "粗体数字从 0 翻转到 1，最长的子数组长度为 6。\n",
    "示例 2：\n",
    "\n",
    "输入：A = [0,0,1,1,0,0,1,1,1,0,1,1,0,0,0,1,1,1,1], K = 3\n",
    "输出：10\n",
    "解释：\n",
    "[0,0,1,1,1,1,1,1,1,1,1,1,0,0,0,1,1,1,1]\n",
    "粗体数字从 0 翻转到 1，最长的子数组长度为 10。\n",
    " \n",
    "\n",
    "提示：\n",
    "\n",
    "1 <= A.length <= 20000\n",
    "0 <= K <= A.length\n",
    "A[i] 为 0 或 1 "
   ]
  },
  {
   "cell_type": "code",
   "execution_count": 8,
   "metadata": {},
   "outputs": [
    {
     "data": {
      "text/plain": [
       "10"
      ]
     },
     "execution_count": 8,
     "metadata": {},
     "output_type": "execute_result"
    }
   ],
   "source": [
    "'''2022, M'''\n",
    "# 自己写的\n",
    "from typing import List\n",
    "class Solution:\n",
    "    \"\"\" 双指针, 滑窗 \"\"\"\n",
    "    def longestOnes(self, nums: List[int], k: int) -> int:\n",
    "        n = len(nums)\n",
    "        cnt_zero = 0  # 维护当前窗口内0的个数\n",
    "        left = 0\n",
    "        max_len = 0\n",
    "        for right, num in enumerate(nums):\n",
    "            if num == 0:\n",
    "                cnt_zero += 1\n",
    "            while cnt_zero > k:\n",
    "                if nums[left] == 0:\n",
    "                    cnt_zero -= 1\n",
    "                left += 1\n",
    "            max_len = max(max_len, right - left + 1)\n",
    "            \n",
    "        return max_len\n",
    "\n",
    "nums = [0,0,1,1,0,0,1,1,1,0,1,1,0,0,0,1,1,1,1]\n",
    "K = 3\n",
    "Solution().longestOnes(nums, K)"
   ]
  },
  {
   "cell_type": "code",
   "execution_count": null,
   "metadata": {},
   "outputs": [],
   "source": []
  }
 ],
 "metadata": {
  "kernelspec": {
   "display_name": "Python 3.9.10 ('base')",
   "language": "python",
   "name": "python3"
  },
  "language_info": {
   "codemirror_mode": {
    "name": "ipython",
    "version": 3
   },
   "file_extension": ".py",
   "mimetype": "text/x-python",
   "name": "python",
   "nbconvert_exporter": "python",
   "pygments_lexer": "ipython3",
   "version": "3.9.10 | packaged by conda-forge | (main, Feb  1 2022, 21:27:43) \n[Clang 11.1.0 ]"
  },
  "toc": {
   "base_numbering": 1,
   "nav_menu": {},
   "number_sections": true,
   "sideBar": true,
   "skip_h1_title": false,
   "title_cell": "Table of Contents",
   "title_sidebar": "Contents",
   "toc_cell": false,
   "toc_position": {},
   "toc_section_display": true,
   "toc_window_display": false
  },
  "vscode": {
   "interpreter": {
    "hash": "3774638e36becc1b3be4f932a09ec02e29dc9d9fab753e191431a024cc1a4cff"
   }
  }
 },
 "nbformat": 4,
 "nbformat_minor": 2
}
