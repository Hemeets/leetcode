{
 "cells": [
  {
   "cell_type": "markdown",
   "metadata": {},
   "source": [
    "### 39-组合总和\n",
    "给定一个无重复元素的数组 candidates 和一个目标数 target ，找出 candidates 中所有可以使数字和为 target 的组合。\n",
    "\n",
    "candidates 中的数字可以无限制重复被选取。\n",
    "\n",
    "说明：\n",
    "\n",
    "所有数字（包括 target）都是正整数。\n",
    "解集不能包含重复的组合。 \n",
    "示例 1:\n",
    "\n",
    "输入: candidates = [2,3,6,7], target = 7,\n",
    "所求解集为:\n",
    "[\n",
    "  [7],\n",
    "  [2,2,3]\n",
    "]\n",
    "示例 2:\n",
    "\n",
    "输入: candidates = [2,3,5], target = 8,\n",
    "所求解集为:\n",
    "[\n",
    "  [2,2,2,2],\n",
    "  [2,3,3],\n",
    "  [3,5]\n",
    "]\n",
    "\n",
    "来源：力扣（LeetCode）\n",
    "链接：https://leetcode-cn.com/problems/combination-sum\n",
    "著作权归领扣网络所有。商业转载请联系官方授权，非商业转载请注明出处。"
   ]
  },
  {
   "cell_type": "code",
   "execution_count": 2,
   "metadata": {},
   "outputs": [
    {
     "name": "stdout",
     "output_type": "stream",
     "text": [
      "[[3, 5]]\n"
     ]
    }
   ],
   "source": [
    "'''cr2022, M'''\n",
    "from typing import List\n",
    "class Solution:\n",
    "    def combinationSum(self, candidates: List[int], target: int) -> List[List[int]]:\n",
    "        candidates.sort()\n",
    "        n = len(candidates)\n",
    "        res = list()\n",
    "\n",
    "        def backtrack(idx, cur_cand_sum, cur_cand):\n",
    "            \"\"\" \n",
    "            idx: list中第几个数字\n",
    "            cur_cand_sum: 当前和\n",
    "            cur_cand: 当前和对应的res列表\n",
    "            \"\"\"\n",
    "            # print(idx, cur_cand_sum, cur_cand)\n",
    "            # 剪枝\n",
    "            if cur_cand_sum > target:\n",
    "                return\n",
    "            if cur_cand_sum == target:\n",
    "                res.append(cur_cand[:])\n",
    "                return\n",
    "            for j in range(idx, n):  # 注意题目中说可以无限制被重复选取\n",
    "                tmp_sum = cur_cand_sum + candidates[j]\n",
    "                if tmp_sum > target:\n",
    "                    break  # 配合sort，提前剪枝了\n",
    "                cur_cand.append(candidates[j])\n",
    "                backtrack(j, tmp_sum, cur_cand)\n",
    "                cur_cand.pop()\n",
    "                # backtrack(j, cur_cand_sum+candidates[j], cur_cand + [candidates[j]])\n",
    "        \n",
    "        backtrack(0, 0, [])\n",
    "        return res\n",
    "\n",
    "\n",
    "candidates = [2,3,5]\n",
    "target = 8\n",
    "print(Solution().combinationSum(candidates, target))"
   ]
  },
  {
   "cell_type": "code",
   "execution_count": 7,
   "metadata": {},
   "outputs": [],
   "source": [
    "class Solution:\n",
    "    def combinationSum(self, candidates, target):\n",
    "        candidates.sort()\n",
    "        n = len(candidates)\n",
    "        res = []\n",
    "        \n",
    "        def backtrack(i, tmp_sum, tmp_list):\n",
    "            \"\"\" \n",
    "            i: list中第几个数字\n",
    "            tmp_sum: 当前和\n",
    "            tmp_list: 当前和对应的res list\n",
    "            \"\"\"\n",
    "            if tmp_sum > target or i == n:\n",
    "                return \n",
    "            if tmp_sum == target:\n",
    "                res.append(tmp_list)\n",
    "                return\n",
    "            for j in range(i, n):\n",
    "                if candidates[j] + tmp_sum > target:\n",
    "                    break\n",
    "                backtrack(j, tmp_sum + candidates[j], tmp_list + [candidates[j]])\n",
    "        backtrack(0, 0, [])\n",
    "        return res\n",
    "                "
   ]
  },
  {
   "cell_type": "code",
   "execution_count": 8,
   "metadata": {},
   "outputs": [
    {
     "data": {
      "text/plain": [
       "[[2, 2, 2, 2], [2, 3, 3], [3, 5]]"
      ]
     },
     "execution_count": 8,
     "metadata": {},
     "output_type": "execute_result"
    }
   ],
   "source": [
    "candidates = [2,3,5]\n",
    "target = 8\n",
    "Solution().combinationSum(candidates, target)"
   ]
  }
 ],
 "metadata": {
  "kernelspec": {
   "display_name": "Python 3.9.10 ('base')",
   "language": "python",
   "name": "python3"
  },
  "language_info": {
   "codemirror_mode": {
    "name": "ipython",
    "version": 3
   },
   "file_extension": ".py",
   "mimetype": "text/x-python",
   "name": "python",
   "nbconvert_exporter": "python",
   "pygments_lexer": "ipython3",
   "version": "3.9.10 | packaged by conda-forge | (main, Feb  1 2022, 21:27:43) \n[Clang 11.1.0 ]"
  },
  "toc": {
   "base_numbering": 1,
   "nav_menu": {},
   "number_sections": true,
   "sideBar": true,
   "skip_h1_title": false,
   "title_cell": "Table of Contents",
   "title_sidebar": "Contents",
   "toc_cell": false,
   "toc_position": {},
   "toc_section_display": true,
   "toc_window_display": false
  },
  "vscode": {
   "interpreter": {
    "hash": "3774638e36becc1b3be4f932a09ec02e29dc9d9fab753e191431a024cc1a4cff"
   }
  }
 },
 "nbformat": 4,
 "nbformat_minor": 2
}
