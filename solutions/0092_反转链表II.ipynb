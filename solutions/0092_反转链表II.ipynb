{
 "cells": [
  {
   "attachments": {},
   "cell_type": "markdown",
   "metadata": {},
   "source": [
    "92. 反转链表 II\n",
    "\n",
    "给你单链表的头指针 head 和两个整数 left 和 right ，其中 left <= right 。请你反转从位置 left 到位置 right 的链表节点，返回 反转后的链表 。\n",
    "\n",
    "示例 1：\n",
    "```\n",
    "输入：head = [1,2,3,4,5], left = 2, right = 4\n",
    "输出：[1,4,3,2,5]\n",
    "```\n",
    "示例 2：\n",
    "```\n",
    "输入：head = [5], left = 1, right = 1\n",
    "输出：[5]\n",
    "```\n",
    "\n",
    "提示：\n",
    "```\n",
    "链表中节点数目为 n\n",
    "1 <= n <= 500\n",
    "-500 <= Node.val <= 500\n",
    "1 <= left <= right <= n\n",
    "```\n",
    "\n",
    "进阶： 你可以使用一趟扫描完成反转吗？"
   ]
  },
  {
   "cell_type": "code",
   "execution_count": 15,
   "metadata": {},
   "outputs": [
    {
     "name": "stdout",
     "output_type": "stream",
     "text": [
      "idx: 1\n",
      "idx: 2\n",
      "idx: 3\n",
      "idx: 4\n",
      "cur val: -1\n",
      "cur next val: 1\n",
      "cur_next val: 5\n",
      "[4, 3, 2, 1, 5]\n"
     ]
    }
   ],
   "source": [
    "'''2022, M'''\n",
    "from utils import *\n",
    "# 参考206反转链表\n",
    "class Solution:\n",
    "    def reverseBetween(self, head: Optional[ListNode], left: int, right: int) -> Optional[ListNode]:\n",
    "        prehead = ListNode(-1, head)\n",
    "        pre = None\n",
    "        cur = prehead\n",
    "        idx = 0\n",
    "        while idx <= right:\n",
    "            idx += 1\n",
    "            cur_next = cur.next\n",
    "\n",
    "            while left <= idx <= right:\n",
    "                # print(f\"idx: {idx}\")\n",
    "                tmp = cur_next.next\n",
    "                cur_next.next = pre\n",
    "                pre = cur_next\n",
    "                cur_next = tmp\n",
    "                \n",
    "                if idx == right:\n",
    "                    # print(f\"cur val: {cur.val}\")\n",
    "                    # print(f\"cur next val: {cur.next.val}\")\n",
    "                    # print(f\"cur_next val: {cur_next.val}\")\n",
    "                    cur.next.next = cur_next\n",
    "                    cur.next = pre\n",
    "                idx += 1\n",
    "\n",
    "            cur = cur.next\n",
    "        return prehead.next\n",
    "\n",
    "head = l2ln([1,2,3,4,5])\n",
    "left = 1\n",
    "right = 4\n",
    "print(ln2l(Solution().reverseBetween(head, left, right)))"
   ]
  },
  {
   "cell_type": "code",
   "execution_count": null,
   "metadata": {},
   "outputs": [],
   "source": []
  }
 ],
 "metadata": {
  "kernelspec": {
   "display_name": "base",
   "language": "python",
   "name": "python3"
  },
  "language_info": {
   "codemirror_mode": {
    "name": "ipython",
    "version": 3
   },
   "file_extension": ".py",
   "mimetype": "text/x-python",
   "name": "python",
   "nbconvert_exporter": "python",
   "pygments_lexer": "ipython3",
   "version": "3.9.10"
  },
  "orig_nbformat": 4,
  "vscode": {
   "interpreter": {
    "hash": "3774638e36becc1b3be4f932a09ec02e29dc9d9fab753e191431a024cc1a4cff"
   }
  }
 },
 "nbformat": 4,
 "nbformat_minor": 2
}
