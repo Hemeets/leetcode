{
 "cells": [
  {
   "attachments": {},
   "cell_type": "markdown",
   "metadata": {},
   "source": [
    "81. 搜索旋转排序数组 II\n",
    "\n",
    "已知存在一个按非降序排列的整数数组 nums ，数组中的值不必互不相同。\n",
    "\n",
    "在传递给函数之前，nums 在预先未知的某个下标 k（0 <= k < nums.length）上进行了 旋转 ，使数组变为 [nums[k], nums[k+1], ..., nums[n-1], nums[0], nums[1], ..., nums[k-1]]（下标 从 0 开始 计数）。例如， [0,1,2,4,4,4,5,6,6,7] 在下标 5 处经旋转后可能变为 [4,5,6,6,7,0,1,2,4,4] 。\n",
    "\n",
    "给你 旋转后 的数组 nums 和一个整数 target ，请你编写一个函数来判断给定的目标值是否存在于数组中。如果 nums 中存在这个目标值 target ，则返回 true ，否则返回 false 。\n",
    "\n",
    "你必须尽可能减少整个操作步骤。\n",
    "\n",
    "示例 1：\n",
    "```\n",
    "输入：nums = [2,5,6,0,0,1,2], target = 0\n",
    "输出：true\n",
    "```\n",
    "示例 2：\n",
    "```\n",
    "输入：nums = [2,5,6,0,0,1,2], target = 3\n",
    "输出：false\n",
    "```\n",
    "\n",
    "提示：\n",
    "```\n",
    "1 <= nums.length <= 5000\n",
    "-104 <= nums[i] <= 104\n",
    "题目数据保证 nums 在预先未知的某个下标上进行了旋转\n",
    "-104 <= target <= 104\n",
    "```\n",
    "\n",
    "进阶：\n",
    "\n",
    "这是 搜索旋转排序数组 的延伸题目，本题中的 nums  可能包含重复元素。\n",
    "这会影响到程序的时间复杂度吗？会有怎样的影响，为什么？"
   ]
  },
  {
   "cell_type": "code",
   "execution_count": 35,
   "metadata": {},
   "outputs": [
    {
     "name": "stdout",
     "output_type": "stream",
     "text": [
      "True\n"
     ]
    }
   ],
   "source": [
    "'''cr2022, M'''\n",
    "from typing import List\n",
    "class Solution:\n",
    "    \"\"\" 官解 \"\"\"\n",
    "    def search(self, nums: List[int], target: int) -> int:\n",
    "        if not nums:\n",
    "            return -1\n",
    "        l, r = 0, len(nums) - 1\n",
    "        while l <= r:\n",
    "            m = (l + r) // 2\n",
    "            if nums[m] == target:\n",
    "                return True\n",
    "            if nums[m] == nums[l] and nums[m] == nums[r]:\n",
    "                l += 1\n",
    "                r -= 1\n",
    "            elif nums[l] <= nums[m]:  # 此时[l, m]一定有序\n",
    "                if nums[l] <= target < nums[m]:\n",
    "                    r = m - 1\n",
    "                else:\n",
    "                    l = m + 1\n",
    "            else:\n",
    "                if nums[m] < target <= nums[r]:\n",
    "                    l = m + 1\n",
    "                else:\n",
    "                    r = m - 1 \n",
    "        return False\n",
    "\n",
    "\n",
    "# nums = [2,5,6,0,0,1,2]\n",
    "# nums = [4,5,6,7,8,0,1,2]\n",
    "nums = [1,1,1,1,1,1,1,1,1,1,1,1,1,2,1,1,1,1,1]\n",
    "target = 2\n",
    "# nums = [1,0,1,1,1]\n",
    "# target = 0\n",
    "print(Solution().search(nums, target))"
   ]
  },
  {
   "cell_type": "code",
   "execution_count": null,
   "metadata": {},
   "outputs": [],
   "source": []
  }
 ],
 "metadata": {
  "kernelspec": {
   "display_name": "base",
   "language": "python",
   "name": "python3"
  },
  "language_info": {
   "codemirror_mode": {
    "name": "ipython",
    "version": 3
   },
   "file_extension": ".py",
   "mimetype": "text/x-python",
   "name": "python",
   "nbconvert_exporter": "python",
   "pygments_lexer": "ipython3",
   "version": "3.9.10"
  },
  "orig_nbformat": 4,
  "vscode": {
   "interpreter": {
    "hash": "3774638e36becc1b3be4f932a09ec02e29dc9d9fab753e191431a024cc1a4cff"
   }
  }
 },
 "nbformat": 4,
 "nbformat_minor": 2
}
