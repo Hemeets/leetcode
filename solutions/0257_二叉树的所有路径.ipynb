{
 "cells": [
  {
   "cell_type": "markdown",
   "metadata": {},
   "source": [
    "给你一个二叉树的根节点 root ，按 任意顺序 ，返回所有从根节点到叶子节点的路径。\n",
    "\n",
    "叶子节点 是指没有子节点的节点。\n",
    "\n"
   ]
  },
  {
   "cell_type": "code",
   "execution_count": null,
   "metadata": {},
   "outputs": [],
   "source": [
    "'''cr2022, E'''\n",
    "from utils import TreeNode, List, Optional\n",
    "class Solution:\n",
    "    \"\"\" dfs, 时间O(n^2), n是节点个数 \"\"\"\n",
    "    def binaryTreePaths(self, root: Optional[TreeNode]) -> List[str]:\n",
    "        paths = list()\n",
    "\n",
    "        def dfs(root: TreeNode, path: str):\n",
    "            if root:\n",
    "                # path.append(root.val)\n",
    "                path += str(root.val)\n",
    "                if not root.left and not root.right:\n",
    "                    paths.append(path)\n",
    "                else:\n",
    "                    path += \"->\"\n",
    "                    dfs(root.left, path)\n",
    "                    dfs(root.right, path)\n",
    "        \n",
    "        dfs(root, \"\")\n",
    "        return paths\n",
    "\n",
    "\n",
    "import collections\n",
    "class Solution1:\n",
    "    \"\"\" bfs \"\"\"\n",
    "    def binaryTreePaths(self, root: Optional[TreeNode]) -> List[str]:\n",
    "        paths = list()\n",
    "        if not root:\n",
    "            return paths\n",
    "\n",
    "        node_queue = collections.deque([root])\n",
    "        path_queue = collections.deque([str(root.val)])\n",
    "        while node_queue:\n",
    "            node = node_queue.popleft()\n",
    "            path = path_queue.popleft()\n",
    "\n",
    "            if not node.left and not node.right:\n",
    "                paths.append(path)\n",
    "            else:\n",
    "                if node.left:\n",
    "                    node_queue.append(node.left)\n",
    "                    path_queue.append(path + '->' + str(node.left.val))\n",
    "                \n",
    "                if node.right:\n",
    "                    node_queue.append(node.right)\n",
    "                    path_queue.append(path + '->' + str(node.right.val))\n",
    "        return paths\n",
    "\n",
    "            "
   ]
  }
 ],
 "metadata": {
  "kernelspec": {
   "display_name": "Python 3.9.10 ('base')",
   "language": "python",
   "name": "python3"
  },
  "language_info": {
   "name": "python",
   "version": "3.9.10 | packaged by conda-forge | (main, Feb  1 2022, 21:27:43) \n[Clang 11.1.0 ]"
  },
  "orig_nbformat": 4,
  "vscode": {
   "interpreter": {
    "hash": "3774638e36becc1b3be4f932a09ec02e29dc9d9fab753e191431a024cc1a4cff"
   }
  }
 },
 "nbformat": 4,
 "nbformat_minor": 2
}
