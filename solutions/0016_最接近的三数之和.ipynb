{
 "cells": [
  {
   "cell_type": "markdown",
   "metadata": {},
   "source": [
    "### 16. 最接近的三数之和\n",
    "\n",
    "给你一个长度为 n 的整数数组 nums 和 一个目标值 target。请你从 nums 中选出三个整数，使它们的和与 target 最接近。\n",
    "\n",
    "返回这三个数的和。\n",
    "\n",
    "假定每组输入只存在恰好一个解。\n",
    "\n",
    " \n",
    "\n",
    "示例 1：\n",
    "```\n",
    "输入：nums = [-1,2,1,-4], target = 1\n",
    "输出：2\n",
    "解释：与 target 最接近的和是 2 (-1 + 2 + 1 = 2) 。\n",
    "```\n",
    "示例 2：\n",
    "```\n",
    "输入：nums = [0,0,0], target = 1\n",
    "输出：0\n",
    "```"
   ]
  },
  {
   "cell_type": "code",
   "execution_count": 1,
   "metadata": {},
   "outputs": [
    {
     "name": "stdout",
     "output_type": "stream",
     "text": [
      "2\n"
     ]
    }
   ],
   "source": [
    "'''cr2022, M'''\n",
    "from typing import List\n",
    "class Solution:\n",
    "    def threeSumClosest(self, nums: List[int], target: int) -> int:\n",
    "        n_len = len(nums)\n",
    "        nums.sort()\n",
    "        dist = float('inf')\n",
    "        for k in range(n_len - 2):\n",
    "            if k > 0 and nums[k] == nums[k-1]:\n",
    "                continue\n",
    "            i, j = k + 1, n_len - 1\n",
    "            while i < j:\n",
    "                p = nums[k] + nums[i] + nums[j]\n",
    "                if abs(p - target) < dist:\n",
    "                    dist = abs(p - target)\n",
    "                    res = p\n",
    "                if p < target:\n",
    "                    i += 1\n",
    "                elif p > target:\n",
    "                    j -= 1\n",
    "                else:\n",
    "                    return p\n",
    "        return res\n",
    "\n",
    "nums = [-1,2,1,-4]\n",
    "target = 1\n",
    "print(Solution().threeSumClosest(nums, target))"
   ]
  },
  {
   "cell_type": "code",
   "execution_count": null,
   "metadata": {},
   "outputs": [],
   "source": []
  }
 ],
 "metadata": {
  "kernelspec": {
   "display_name": "Python 3.9.10 ('base')",
   "language": "python",
   "name": "python3"
  },
  "language_info": {
   "codemirror_mode": {
    "name": "ipython",
    "version": 3
   },
   "file_extension": ".py",
   "mimetype": "text/x-python",
   "name": "python",
   "nbconvert_exporter": "python",
   "pygments_lexer": "ipython3",
   "version": "3.9.10 | packaged by conda-forge | (main, Feb  1 2022, 21:27:43) \n[Clang 11.1.0 ]"
  },
  "toc": {
   "base_numbering": 1,
   "nav_menu": {},
   "number_sections": true,
   "sideBar": true,
   "skip_h1_title": false,
   "title_cell": "Table of Contents",
   "title_sidebar": "Contents",
   "toc_cell": false,
   "toc_position": {},
   "toc_section_display": true,
   "toc_window_display": false
  },
  "vscode": {
   "interpreter": {
    "hash": "3774638e36becc1b3be4f932a09ec02e29dc9d9fab753e191431a024cc1a4cff"
   }
  }
 },
 "nbformat": 4,
 "nbformat_minor": 2
}
