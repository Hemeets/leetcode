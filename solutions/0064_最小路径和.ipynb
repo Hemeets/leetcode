{
 "cells": [
  {
   "attachments": {},
   "cell_type": "markdown",
   "metadata": {},
   "source": [
    "64. 最小路径和\n",
    "\n",
    "给定一个包含非负整数的 m x n 网格 grid ，请找出一条从左上角到右下角的路径，使得路径上的数字总和为最小。\n",
    "\n",
    "说明：每次只能向下或者向右移动一步。\n",
    "\n",
    "\n",
    "示例 1：\n",
    "```\n",
    "输入：grid = [[1,3,1],[1,5,1],[4,2,1]]\n",
    "输出：7\n",
    "解释：因为路径 1→3→1→1→1 的总和最小。\n",
    "```\n",
    "示例 2：\n",
    "```\n",
    "输入：grid = [[1,2,3],[4,5,6]]\n",
    "输出：12\n",
    "```"
   ]
  },
  {
   "cell_type": "code",
   "execution_count": 4,
   "metadata": {},
   "outputs": [
    {
     "name": "stdout",
     "output_type": "stream",
     "text": [
      "[[1, 3, 6], [5, 8, 12]]\n",
      "12\n"
     ]
    }
   ],
   "source": [
    "'''2022, M'''\n",
    "from typing import List\n",
    "class Solution:\n",
    "    def minPathSum(self, grid: List[List[int]]) -> int:\n",
    "        m = len(grid)\n",
    "        n = len(grid[0])\n",
    "        dp = [[0] * n for _ in range(m)]  # 到(i, j)处的最小路径和\n",
    "        tmp_sum = 0\n",
    "        for i in range(m):\n",
    "            tmp_sum += grid[i][0]\n",
    "            dp[i][0] = tmp_sum\n",
    "        tmp_sum = 0\n",
    "        for j in range(n):\n",
    "            tmp_sum += grid[0][j]\n",
    "            dp[0][j] = tmp_sum\n",
    "        for i in range(1, m):\n",
    "            for j in range(1, n):\n",
    "                dp[i][j] = min(dp[i-1][j], dp[i][j-1]) + grid[i][j]\n",
    "        # print(dp)\n",
    "        return dp[-1][-1]\n",
    "\n",
    "grid = [[1,3,1],[1,5,1],[4,2,1]]\n",
    "# grid = [[1,2,3],[4,5,6]]\n",
    "print(Solution().minPathSum(grid))"
   ]
  },
  {
   "cell_type": "code",
   "execution_count": null,
   "metadata": {},
   "outputs": [],
   "source": []
  }
 ],
 "metadata": {
  "kernelspec": {
   "display_name": "base",
   "language": "python",
   "name": "python3"
  },
  "language_info": {
   "codemirror_mode": {
    "name": "ipython",
    "version": 3
   },
   "file_extension": ".py",
   "mimetype": "text/x-python",
   "name": "python",
   "nbconvert_exporter": "python",
   "pygments_lexer": "ipython3",
   "version": "3.9.10"
  },
  "orig_nbformat": 4,
  "vscode": {
   "interpreter": {
    "hash": "3774638e36becc1b3be4f932a09ec02e29dc9d9fab753e191431a024cc1a4cff"
   }
  }
 },
 "nbformat": 4,
 "nbformat_minor": 2
}
