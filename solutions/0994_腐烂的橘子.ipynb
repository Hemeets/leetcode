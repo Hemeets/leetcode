{
 "cells": [
  {
   "attachments": {},
   "cell_type": "markdown",
   "metadata": {},
   "source": [
    "腐烂的橘子\n",
    "\n",
    "在给定的网格中，每个单元格可以有以下三个值之一：\n",
    "\n",
    "值 0 代表空单元格；\n",
    "值 1 代表新鲜橘子；\n",
    "值 2 代表腐烂的橘子。\n",
    "每分钟，任何与腐烂的橘子（在 4 个正方向上）相邻的新鲜橘子都会腐烂。\n",
    "\n",
    "返回直到单元格中没有新鲜橘子为止所必须经过的最小分钟数。如果不可能，返回 -1。\n",
    "\n",
    " \n",
    "\n",
    "示例 1：\n",
    "\n",
    "\n",
    "\n",
    "输入：[[2,1,1],[1,1,0],[0,1,1]]\n",
    "输出：4\n",
    "示例 2：\n",
    "\n",
    "输入：[[2,1,1],[0,1,1],[1,0,1]]\n",
    "输出：-1\n",
    "解释：左下角的橘子（第 2 行， 第 0 列）永远不会腐烂，因为腐烂只会发生在 4 个正向上。\n",
    "示例 3：\n",
    "\n",
    "输入：[[0,2]]\n",
    "输出：0\n",
    "解释：因为 0 分钟时已经没有新鲜橘子了，所以答案就是 0 。\n",
    " \n",
    "\n",
    "提示：\n",
    "\n",
    "1 <= grid.length <= 10\n",
    "1 <= grid[0].length <= 10\n",
    "grid[i][j] 仅为 0、1 或 2\n"
   ]
  },
  {
   "cell_type": "code",
   "execution_count": 9,
   "metadata": {},
   "outputs": [
    {
     "name": "stdout",
     "output_type": "stream",
     "text": [
      "4\n",
      "0\n"
     ]
    }
   ],
   "source": [
    "'''2022, M'''\n",
    "from typing import List\n",
    "from collections import deque\n",
    "class Solution:\n",
    "    ''' bfs '''\n",
    "    def orangesRotting(self, grid: List[List[int]]) -> int:\n",
    "        if sum([sum(i) for i in grid]) == 0:\n",
    "            #考虑没有橘子的情况，即都是0\n",
    "            return 0\n",
    "        row_n = len(grid)\n",
    "        col_n = len(grid[0])\n",
    "        directions = [(0, 1), (0, -1), (1, 0), (-1, 0)]\n",
    "\n",
    "        def in_area(r, c):\n",
    "            if 0 <= r < row_n and 0 <= c < col_n:\n",
    "                return True\n",
    "            else:\n",
    "                return False\n",
    "        \n",
    "        # bfs\n",
    "        t = 0\n",
    "        cur = list()\n",
    "        for r in range(row_n):\n",
    "            for c in range(col_n):\n",
    "                if grid[r][c] == 2:\n",
    "                    cur.append((r, c))\n",
    "        while cur:\n",
    "            tmp = list()\n",
    "            for (cur_r, cur_c) in cur:\n",
    "                for dr, dc in directions:\n",
    "                    n_r, n_c = cur_r + dr, cur_c + dc\n",
    "                    if in_area(n_r, n_c) and grid[n_r][n_c] == 1:\n",
    "                        grid[n_r][n_c] = 2\n",
    "                        tmp.append((n_r, n_c))\n",
    "            cur = tmp\n",
    "            t += 1\n",
    "\n",
    "        for r in range(row_n):\n",
    "            for c in range(col_n):\n",
    "                if grid[r][c] == 1:\n",
    "                    return -1\n",
    "        return t - 1\n",
    "\n",
    "\n",
    "grid = [[2,1,1],[1,1,0],[0,1,1]]\n",
    "print(Solution().orangesRotting(grid))\n",
    "grid = [[0]]\n",
    "print(Solution().orangesRotting(grid))"
   ]
  },
  {
   "cell_type": "code",
   "execution_count": null,
   "metadata": {},
   "outputs": [],
   "source": []
  }
 ],
 "metadata": {
  "kernelspec": {
   "display_name": "base",
   "language": "python",
   "name": "python3"
  },
  "language_info": {
   "codemirror_mode": {
    "name": "ipython",
    "version": 3
   },
   "file_extension": ".py",
   "mimetype": "text/x-python",
   "name": "python",
   "nbconvert_exporter": "python",
   "pygments_lexer": "ipython3",
   "version": "3.9.10 | packaged by conda-forge | (main, Feb  1 2022, 21:27:43) \n[Clang 11.1.0 ]"
  },
  "toc": {
   "base_numbering": 1,
   "nav_menu": {},
   "number_sections": true,
   "sideBar": true,
   "skip_h1_title": false,
   "title_cell": "Table of Contents",
   "title_sidebar": "Contents",
   "toc_cell": false,
   "toc_position": {},
   "toc_section_display": true,
   "toc_window_display": false
  },
  "vscode": {
   "interpreter": {
    "hash": "3774638e36becc1b3be4f932a09ec02e29dc9d9fab753e191431a024cc1a4cff"
   }
  }
 },
 "nbformat": 4,
 "nbformat_minor": 2
}
