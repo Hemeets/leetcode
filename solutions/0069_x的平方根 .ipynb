{
 "cells": [
  {
   "attachments": {},
   "cell_type": "markdown",
   "metadata": {},
   "source": [
    "x的平方根\n",
    "\n",
    "实现 int sqrt(int x) 函数。\n",
    "\n",
    "计算并返回 x 的平方根，其中 x 是非负整数。\n",
    "\n",
    "由于返回类型是整数，结果只保留整数的部分，小数部分将被舍去。\n",
    "\n",
    "示例 1:\n",
    "\n",
    "输入: 4\n",
    "输出: 2\n",
    "示例 2:\n",
    "\n",
    "输入: 8\n",
    "输出: 2\n",
    "说明: 8 的平方根是 2.82842..., \n",
    "     由于返回类型是整数，小数部分将被舍去。\n"
   ]
  },
  {
   "cell_type": "markdown",
   "metadata": {},
   "source": [
    "#### 暴力法很简单，这里不说了\n",
    "1. 分治法：其实就是个有序数列找特定位置，\n",
    "2. 牛顿法，用一阶taylar找零点带入逼近\n",
    "\n",
    "下面代码用分治法"
   ]
  },
  {
   "cell_type": "code",
   "execution_count": 2,
   "metadata": {},
   "outputs": [
    {
     "name": "stdout",
     "output_type": "stream",
     "text": [
      "4\n",
      "4\n"
     ]
    }
   ],
   "source": [
    "'''cr2022, E'''\n",
    "class Solution:\n",
    "    def mySqrt(self, x: int) -> int:\n",
    "        \"\"\" <=x的最后一个数，等价于>=(x+1)的第一个数索引-1 \"\"\"\n",
    "        low, high = 0, x\n",
    "        x = x + 1\n",
    "        while low <= high:\n",
    "            middle = (low+high)//2\n",
    "            if middle**2 < x:\n",
    "                low = middle + 1\n",
    "            else:\n",
    "                high = middle - 1\n",
    "            # elif middle**2 > x:\n",
    "            #     high = middle -1\n",
    "            # else:\n",
    "            #     return middle\n",
    "            # print(low, high)\n",
    "        return low - 1\n",
    "\n",
    "class Solution1:\n",
    "    def mySqrt(self, x: int) -> int:\n",
    "        if x == 0:\n",
    "            return 0\n",
    "        # 起始的时候在 1 ，这可以比较随意设置\n",
    "        cur = 1\n",
    "        k = 0\n",
    "        while True:\n",
    "            pre = cur\n",
    "            cur = (cur + x / cur) / 2\n",
    "            k += 1\n",
    "            if abs(cur - pre) < 1 / (pre + cur):\n",
    "                # print(k)\n",
    "                break\n",
    "        return int(cur)\n",
    "\n",
    "x = 16\n",
    "print(Solution().mySqrt(x))\n",
    "print(Solution1().mySqrt(x))"
   ]
  },
  {
   "cell_type": "markdown",
   "metadata": {},
   "source": [
    "但是貌似这道题用分治法排名都进不了前50%，也许大家都是用牛顿法做的？\n",
    "\n",
    "taylor展开：$g(x)=g(x_k)+g^{'}(x_k)(x-x_k)+\\frac{1}{2}g^{''}(x_k)(x-x_k)^2$\n",
    "\n",
    "求根，即g(x) = 0，舍去2阶项，即$g(x_k)+g^{'}(x_k)(x-x_k)=0$\n",
    "\n",
    "推出$x = x_k - \\frac{g(x_k)}{g(x_k)^{'}}$\n",
    "\n",
    "本题，令 $g(a) = a^2 + x$, g(a) = 0, 推出 $a_{k+1}=\\frac 1 2 a_k + \\frac{x}{a_k}$"
   ]
  }
 ],
 "metadata": {
  "kernelspec": {
   "display_name": "Python 3.9.10 ('base')",
   "language": "python",
   "name": "python3"
  },
  "language_info": {
   "codemirror_mode": {
    "name": "ipython",
    "version": 3
   },
   "file_extension": ".py",
   "mimetype": "text/x-python",
   "name": "python",
   "nbconvert_exporter": "python",
   "pygments_lexer": "ipython3",
   "version": "3.9.10"
  },
  "toc": {
   "base_numbering": 1,
   "nav_menu": {},
   "number_sections": true,
   "sideBar": true,
   "skip_h1_title": false,
   "title_cell": "Table of Contents",
   "title_sidebar": "Contents",
   "toc_cell": false,
   "toc_position": {},
   "toc_section_display": true,
   "toc_window_display": false
  },
  "vscode": {
   "interpreter": {
    "hash": "3774638e36becc1b3be4f932a09ec02e29dc9d9fab753e191431a024cc1a4cff"
   }
  }
 },
 "nbformat": 4,
 "nbformat_minor": 2
}
