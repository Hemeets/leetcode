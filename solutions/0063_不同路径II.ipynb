{
 "cells": [
  {
   "attachments": {},
   "cell_type": "markdown",
   "metadata": {},
   "source": [
    "63. 不同路径 II\n",
    "\n",
    "一个机器人位于一个 m x n 网格的左上角 （起始点在下图中标记为 “Start” ）。\n",
    "\n",
    "机器人每次只能向下或者向右移动一步。机器人试图达到网格的右下角（在下图中标记为 “Finish”）。\n",
    "\n",
    "现在考虑网格中有障碍物。那么从左上角到右下角将会有多少条不同的路径？\n",
    "\n",
    "网格中的障碍物和空位置分别用 1 和 0 来表示。\n",
    "\n",
    "示例 1：\n",
    "```\n",
    "输入：obstacleGrid = [[0,0,0],[0,1,0],[0,0,0]]\n",
    "输出：2\n",
    "解释：3x3 网格的正中间有一个障碍物。\n",
    "从左上角到右下角一共有 2 条不同的路径：\n",
    "1. 向右 -> 向右 -> 向下 -> 向下\n",
    "2. 向下 -> 向下 -> 向右 -> 向右\n",
    "```\n",
    "示例 2：\n",
    "```\n",
    "输入：obstacleGrid = [[0,1],[0,0]]\n",
    "输出：1\n",
    "```"
   ]
  },
  {
   "cell_type": "code",
   "execution_count": 1,
   "metadata": {},
   "outputs": [
    {
     "name": "stdout",
     "output_type": "stream",
     "text": [
      "2\n"
     ]
    }
   ],
   "source": [
    "'''2022, M'''\n",
    "from typing import List\n",
    "class Solution:\n",
    "    def uniquePathsWithObstacles(self, obstacleGrid: List[List[int]]) -> int:\n",
    "        m = len(obstacleGrid)\n",
    "        n = len(obstacleGrid[0])\n",
    "        dp = [[0] * n for _ in range(m)]  # dp[i][j]: 到i,j处有多少条路径\n",
    "        # 初始化\n",
    "        b_first_row, b_first_col = False, False\n",
    "        for i in range(m):\n",
    "            if b_first_row:\n",
    "                dp[i][0] = 0\n",
    "            else:\n",
    "                if obstacleGrid[i][0] == 1:\n",
    "                    b_first_row = True\n",
    "                    dp[i][0] = 0\n",
    "                else:\n",
    "                    dp[i][0] = 1\n",
    "        for j in range(n):\n",
    "            if b_first_col:\n",
    "                dp[0][j] = 0\n",
    "            else:\n",
    "                if obstacleGrid[0][j] == 1:\n",
    "                    b_first_col = True\n",
    "                    dp[0][j] = 0\n",
    "                else:\n",
    "                    dp[0][j] = 1\n",
    "        # print(dp)\n",
    "        for i in range(1, m):\n",
    "            for j in range(1, n):\n",
    "                if obstacleGrid[i][j] == 1:\n",
    "                    dp[i][j] = 0\n",
    "                else:\n",
    "                    if obstacleGrid[i-1][j] != 1:\n",
    "                        dp[i][j] += dp[i-1][j]\n",
    "                    if obstacleGrid[i][j-1] != 1:\n",
    "                        dp[i][j] += dp[i][j-1]\n",
    "        return dp[-1][-1]\n",
    "\n",
    "obstacleGrid = [[0,0,0],[0,1,0],[0,0,0]]\n",
    "# obstacleGrid = [[1, 0]]\n",
    "print(Solution().uniquePathsWithObstacles(obstacleGrid))"
   ]
  },
  {
   "cell_type": "code",
   "execution_count": null,
   "metadata": {},
   "outputs": [],
   "source": []
  }
 ],
 "metadata": {
  "kernelspec": {
   "display_name": "base",
   "language": "python",
   "name": "python3"
  },
  "language_info": {
   "codemirror_mode": {
    "name": "ipython",
    "version": 3
   },
   "file_extension": ".py",
   "mimetype": "text/x-python",
   "name": "python",
   "nbconvert_exporter": "python",
   "pygments_lexer": "ipython3",
   "version": "3.9.10"
  },
  "orig_nbformat": 4,
  "vscode": {
   "interpreter": {
    "hash": "3774638e36becc1b3be4f932a09ec02e29dc9d9fab753e191431a024cc1a4cff"
   }
  }
 },
 "nbformat": 4,
 "nbformat_minor": 2
}
