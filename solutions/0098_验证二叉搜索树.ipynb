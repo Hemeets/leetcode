{
 "cells": [
  {
   "attachments": {},
   "cell_type": "markdown",
   "metadata": {},
   "source": [
    "验证二叉搜索树\n",
    "\n",
    "给定一个二叉树，判断其是否是一个有效的二叉搜索树。\n",
    "\n",
    "假设一个二叉搜索树具有如下特征：\n",
    "\n",
    "节点的左子树只包含小于当前节点的数。\n",
    "节点的右子树只包含大于当前节点的数。\n",
    "所有左子树和右子树自身必须也是二叉搜索树。\n",
    "示例 1:\n",
    "\n",
    "输入:\n",
    "\n",
    "        2\n",
    "       / \\\n",
    "      1   3\n",
    "\n",
    "输出: true\n",
    "示例 2:\n",
    "\n",
    "输入:\n",
    "\n",
    "        5\n",
    "       / \\\n",
    "      1   4\n",
    "         / \\\n",
    "        3   6\n",
    "输出: false\n",
    "解释: 输入为: [5,1,4,null,null,3,6]。\n",
    "     根节点的值为 5 ，但是其右子节点值为 4 。\n",
    "\n",
    "来源：力扣（LeetCode）\n",
    "链接：https://leetcode-cn.com/problems/validate-binary-search-tree\n",
    "著作权归领扣网络所有。商业转载请联系官方授权，非商业转载请注明出处。"
   ]
  },
  {
   "cell_type": "code",
   "execution_count": 2,
   "metadata": {},
   "outputs": [
    {
     "name": "stdout",
     "output_type": "stream",
     "text": [
      "True\n",
      "True\n"
     ]
    }
   ],
   "source": [
    "'''cr2022, M'''\n",
    "from utils import TreeNode, Optional, pprint, trace, l2tn\n",
    "class Solution:\n",
    "    ''' 使用中序遍历，迭代 '''\n",
    "    pre_val = -float('inf')\n",
    "    def isValidBST(self, root: Optional[TreeNode]) -> bool:\n",
    "        # @trace\n",
    "        def dfs(root):\n",
    "            if not root:\n",
    "                return True\n",
    "            if not dfs(root.left):\n",
    "                return False\n",
    "            if root.val <= self.pre_val:\n",
    "                return False\n",
    "            self.pre_val = root.val\n",
    "            if not dfs(root.right):\n",
    "                return False\n",
    "            return True\n",
    "        return dfs(root)\n",
    "\n",
    "\n",
    "class Solution1:\n",
    "    ''' 使用中序遍历，遍历 '''\n",
    "    def isValidBST(self, root: Optional[TreeNode]) -> bool:\n",
    "        stack = list()\n",
    "        cur = root\n",
    "        pre_val = -float('inf')\n",
    "        while stack or cur:\n",
    "            while cur:\n",
    "                stack.append(cur)\n",
    "                cur = cur.left\n",
    "            cur = stack.pop()\n",
    "            if cur.val <= pre_val:\n",
    "                return False\n",
    "            pre_val = cur.val\n",
    "            cur = cur.right\n",
    "        return True\n",
    "\n",
    "\n",
    "root = [5, 4, 7, None, None, 6, 8]\n",
    "# root = [5, 4, 6, None, None, 3, 7]\n",
    "print(Solution().isValidBST(l2tn(root)))\n",
    "print(Solution1().isValidBST(l2tn(root)))"
   ]
  },
  {
   "cell_type": "code",
   "execution_count": null,
   "metadata": {},
   "outputs": [],
   "source": [
    "# 错误：理解错误，并不仅仅是当前节点、其左节点、其右节点的val比较，而是整个左树、右树所有的节点\n",
    "class Solution:\n",
    "    def isValidBST(self, root: Optional[TreeNode]) -> bool:\n",
    "        # @trace\n",
    "        def dfs(root):\n",
    "            if not root:\n",
    "                return True\n",
    "            if root.left:\n",
    "                if root.val <= root.left.val or not dfs(root.left):\n",
    "                    return False\n",
    "            if root.right:\n",
    "                if root.val >= root.right.val or not dfs(root.right):\n",
    "                    return False\n",
    "            return True\n",
    "        return dfs(root)"
   ]
  }
 ],
 "metadata": {
  "kernelspec": {
   "display_name": "Python 3.9.10 ('base')",
   "language": "python",
   "name": "python3"
  },
  "language_info": {
   "codemirror_mode": {
    "name": "ipython",
    "version": 3
   },
   "file_extension": ".py",
   "mimetype": "text/x-python",
   "name": "python",
   "nbconvert_exporter": "python",
   "pygments_lexer": "ipython3",
   "version": "3.9.10"
  },
  "toc": {
   "base_numbering": 1,
   "nav_menu": {},
   "number_sections": true,
   "sideBar": true,
   "skip_h1_title": false,
   "title_cell": "Table of Contents",
   "title_sidebar": "Contents",
   "toc_cell": false,
   "toc_position": {},
   "toc_section_display": true,
   "toc_window_display": false
  },
  "vscode": {
   "interpreter": {
    "hash": "3774638e36becc1b3be4f932a09ec02e29dc9d9fab753e191431a024cc1a4cff"
   }
  }
 },
 "nbformat": 4,
 "nbformat_minor": 2
}
