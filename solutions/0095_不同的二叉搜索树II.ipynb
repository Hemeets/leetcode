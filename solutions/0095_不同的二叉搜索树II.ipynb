{
 "cells": [
  {
   "attachments": {},
   "cell_type": "markdown",
   "metadata": {},
   "source": [
    "95. 不同的二叉搜索树 II\n",
    "\n",
    "给你一个整数 n ，请你生成并返回所有由 n 个节点组成且节点值从 1 到 n 互不相同的不同 二叉搜索树 。可以按 任意顺序 返回答案。\n",
    "\n",
    "示例 1：\n",
    "```\n",
    "输入：n = 3\n",
    "输出：[[1,null,2,null,3],[1,null,3,2],[2,1,3],[3,1,null,null,2],[3,2,null,1]]\n",
    "```\n",
    "示例 2：\n",
    "```\n",
    "输入：n = 1\n",
    "输出：[[1]]\n",
    "```\n",
    "\n",
    "提示：\n",
    "\n",
    "1 <= n <= 8"
   ]
  },
  {
   "cell_type": "code",
   "execution_count": 17,
   "metadata": {},
   "outputs": [
    {
     "name": "stdout",
     "output_type": "stream",
     "text": [
      "{'left': None,\n",
      " 'right': {'left': None,\n",
      "           'right': {'left': None, 'right': None, 'val': 3},\n",
      "           'val': 2},\n",
      " 'val': 1}\n",
      "{'left': None,\n",
      " 'right': {'left': {'left': None, 'right': None, 'val': 2},\n",
      "           'right': None,\n",
      "           'val': 3},\n",
      " 'val': 1}\n",
      "{'left': {'left': None, 'right': None, 'val': 1},\n",
      " 'right': {'left': None, 'right': None, 'val': 3},\n",
      " 'val': 2}\n",
      "{'left': {'left': None,\n",
      "          'right': {'left': None, 'right': None, 'val': 2},\n",
      "          'val': 1},\n",
      " 'right': None,\n",
      " 'val': 3}\n",
      "{'left': {'left': {'left': None, 'right': None, 'val': 1},\n",
      "          'right': None,\n",
      "          'val': 2},\n",
      " 'right': None,\n",
      " 'val': 3}\n"
     ]
    }
   ],
   "source": [
    "'''2022, M'''\n",
    "# 思路参考0096\n",
    "from utils import *\n",
    "class Solution:\n",
    "    \"\"\" dfs \"\"\"\n",
    "    def generateTrees(self, n: int) -> List[Optional[TreeNode]]:\n",
    "        \n",
    "        # @trace\n",
    "        def dfs(left=1, right=n):\n",
    "            ''' [left, right): 节点范围, return: 当前范围下的所有不同搜索二叉树 '''\n",
    "            # if \n",
    "            if left == right:\n",
    "                return [None]\n",
    "            cur_res = list()\n",
    "            # print(f\"l, r: {left}, {right}\")\n",
    "            for i in range(left, right):\n",
    "                left_res = dfs(left, i)\n",
    "                right_res = dfs(i+1, right)\n",
    "\n",
    "                for lr in left_res:\n",
    "                    for rr in right_res:\n",
    "                        cur_root = TreeNode(i)\n",
    "                        cur_root.left = lr\n",
    "                        cur_root.right = rr\n",
    "                        cur_res.append(cur_root)\n",
    "            return cur_res\n",
    "\n",
    "        return dfs(1, n+1)\n",
    "\n",
    "n = 3\n",
    "res = Solution().generateTrees(n)\n",
    "for r in res:\n",
    "    pprint(r.to_dict())"
   ]
  },
  {
   "cell_type": "code",
   "execution_count": null,
   "metadata": {},
   "outputs": [],
   "source": []
  }
 ],
 "metadata": {
  "kernelspec": {
   "display_name": "base",
   "language": "python",
   "name": "python3"
  },
  "language_info": {
   "codemirror_mode": {
    "name": "ipython",
    "version": 3
   },
   "file_extension": ".py",
   "mimetype": "text/x-python",
   "name": "python",
   "nbconvert_exporter": "python",
   "pygments_lexer": "ipython3",
   "version": "3.9.10"
  },
  "orig_nbformat": 4,
  "vscode": {
   "interpreter": {
    "hash": "3774638e36becc1b3be4f932a09ec02e29dc9d9fab753e191431a024cc1a4cff"
   }
  }
 },
 "nbformat": 4,
 "nbformat_minor": 2
}
