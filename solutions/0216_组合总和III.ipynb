{
 "cells": [
  {
   "attachments": {},
   "cell_type": "markdown",
   "metadata": {},
   "source": [
    "216. 组合总和 III\n",
    "\n",
    "找出所有相加之和为 n 的 k 个数的组合，且满足下列条件：\n",
    "\n",
    "只使用数字1到9\n",
    "每个数字 最多使用一次 \n",
    "返回 所有可能的有效组合的列表 。该列表不能包含相同的组合两次，组合可以以任何顺序返回。\n",
    "\n",
    "示例 1:\n",
    "```\n",
    "输入: k = 3, n = 7\n",
    "输出: [[1,2,4]]\n",
    "解释:\n",
    "1 + 2 + 4 = 7\n",
    "没有其他符合的组合了。\n",
    "```\n",
    "示例 2:\n",
    "```\n",
    "输入: k = 3, n = 9\n",
    "输出: [[1,2,6], [1,3,5], [2,3,4]]\n",
    "解释:\n",
    "1 + 2 + 6 = 9\n",
    "1 + 3 + 5 = 9\n",
    "2 + 3 + 4 = 9\n",
    "没有其他符合的组合了。\n",
    "```\n",
    "示例 3:\n",
    "```\n",
    "输入: k = 4, n = 1\n",
    "输出: []\n",
    "解释: 不存在有效的组合。\n",
    "在[1,9]范围内使用4个不同的数字，我们可以得到的最小和是1+2+3+4 = 10，因为10 > 1，没有有效的组合。\n",
    "```"
   ]
  },
  {
   "cell_type": "code",
   "execution_count": 5,
   "metadata": {},
   "outputs": [
    {
     "data": {
      "text/plain": [
       "[]"
      ]
     },
     "execution_count": 5,
     "metadata": {},
     "output_type": "execute_result"
    }
   ],
   "source": [
    "'''2022, M'''\n",
    "from typing import List\n",
    "class Solution:\n",
    "    def combinationSum3(self, k: int, n: int) -> List[List[int]]:\n",
    "        candidates = list(range(1, 10))\n",
    "        res = list()\n",
    "\n",
    "        def backtrack(idx, cur_cand_sum, cur_cand):\n",
    "            \"\"\" \n",
    "            idx: list中第几个数字\n",
    "            cur_cand_sum: 当前和\n",
    "            cur_cand: 当前和对应的res列表\n",
    "            \"\"\"\n",
    "            # print(idx, cur_cand_sum, cur_cand)\n",
    "            # 剪枝\n",
    "            if cur_cand_sum > n:\n",
    "                return\n",
    "            if cur_cand_sum == n and len(cur_cand) == k:\n",
    "                res.append(cur_cand[:])\n",
    "                return\n",
    "            for j in range(idx, 9):  # 注意题目中说可以无限制被重复选取\n",
    "                tmp_sum = cur_cand_sum + candidates[j]\n",
    "                if tmp_sum > n:\n",
    "                    break  # 配合sort，提前剪枝了\n",
    "                cur_cand.append(candidates[j])\n",
    "                backtrack(j + 1, tmp_sum, cur_cand)\n",
    "                cur_cand.pop()\n",
    "                # backtrack(j, cur_cand_sum+candidates[j], cur_cand + [candidates[j]])\n",
    "        \n",
    "        backtrack(0, 0, [])\n",
    "        return res\n",
    "\n",
    "k = 3\n",
    "n = 9\n",
    "Solution().combinationSum3(k, n)"
   ]
  },
  {
   "cell_type": "code",
   "execution_count": null,
   "metadata": {},
   "outputs": [],
   "source": []
  }
 ],
 "metadata": {
  "kernelspec": {
   "display_name": "Python 3.9.10 ('base')",
   "language": "python",
   "name": "python3"
  },
  "language_info": {
   "codemirror_mode": {
    "name": "ipython",
    "version": 3
   },
   "file_extension": ".py",
   "mimetype": "text/x-python",
   "name": "python",
   "nbconvert_exporter": "python",
   "pygments_lexer": "ipython3",
   "version": "3.9.10 | packaged by conda-forge | (main, Feb  1 2022, 21:27:43) \n[Clang 11.1.0 ]"
  },
  "toc": {
   "base_numbering": 1,
   "nav_menu": {},
   "number_sections": true,
   "sideBar": true,
   "skip_h1_title": false,
   "title_cell": "Table of Contents",
   "title_sidebar": "Contents",
   "toc_cell": false,
   "toc_position": {},
   "toc_section_display": true,
   "toc_window_display": false
  },
  "vscode": {
   "interpreter": {
    "hash": "3774638e36becc1b3be4f932a09ec02e29dc9d9fab753e191431a024cc1a4cff"
   }
  }
 },
 "nbformat": 4,
 "nbformat_minor": 2
}
