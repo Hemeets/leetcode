{
 "cells": [
  {
   "cell_type": "markdown",
   "metadata": {},
   "source": [
    "以 Unix 风格给出一个文件的绝对路径，你需要简化它。或者换句话说，将其转换为规范路径。\n",
    "\n",
    "在 Unix 风格的文件系统中，一个点（.）表示当前目录本身；此外，两个点 （..） 表示将目录切换到上一级（指向父目录）；两者都可以是复杂相对路径的组成部分。更多信息请参阅：Linux / Unix中的绝对路径 vs 相对路径\n",
    "\n",
    "请注意，返回的规范路径必须始终以斜杠 / 开头，并且两个目录名之间必须只有一个斜杠 /。最后一个目录名（如果存在）不能以 / 结尾。此外，规范路径必须是表示绝对路径的最短字符串。\n",
    "\n",
    " \n",
    "\n",
    "示例 1：\n",
    "\n",
    "输入：\"/home/\"\n",
    "输出：\"/home\"\n",
    "解释：注意，最后一个目录名后面没有斜杠。\n",
    "\n",
    "示例 2：\n",
    "\n",
    "输入：\"/../\"\n",
    "输出：\"/\"\n",
    "解释：从根目录向上一级是不可行的，因为根是你可以到达的最高级。\n",
    "\n",
    "示例 3：\n",
    "\n",
    "输入：\"/home//foo/\"\n",
    "输出：\"/home/foo\"\n",
    "解释：在规范路径中，多个连续斜杠需要用一个斜杠替换。\n",
    "\n",
    "示例 4：\n",
    "\n",
    "输入：\"/a/./b/../../c/\"\n",
    "输出：\"/c\"\n",
    "\n",
    "示例 5：\n",
    "\n",
    "输入：\"/a/../../b/../c//.//\"\n",
    "输出：\"/c\"\n",
    "\n",
    "示例 6：\n",
    "\n",
    "输入：\"/a//b////c/d//././/..\"\n",
    "输出：\"/a/b/c\"\n",
    "\n",
    "来源：力扣（LeetCode）\n",
    "链接：https://leetcode-cn.com/problems/simplify-path\n",
    "著作权归领扣网络所有。商业转载请联系官方授权，非商业转载请注明出处。"
   ]
  },
  {
   "cell_type": "code",
   "execution_count": 3,
   "metadata": {},
   "outputs": [
    {
     "name": "stdout",
     "output_type": "stream",
     "text": [
      "/home\n",
      "/\n",
      "/home/foo\n",
      "/c\n",
      "/c\n",
      "/a/b/c\n"
     ]
    }
   ],
   "source": [
    "'''cr2022, M'''\n",
    "class Solution:\n",
    "    def simplifyPath(self, path: str) -> str:\n",
    "        stack = list()\n",
    "        path = path.split(\"/\")\n",
    "        for p in path:\n",
    "            if p == \"..\":\n",
    "                if stack:\n",
    "                    stack.pop()\n",
    "            elif p and p != \".\":\n",
    "                stack.append(p)\n",
    "                \n",
    "        return '/' + '/'.join(stack)\n",
    "\n",
    "paths = ['/home/', \"/../\", \"/home//foo/\", \"/a/./b/../../c/\",\n",
    "         \"/a/../../b/../c//.//\" , \"/a//b////c/d//././/..\"]\n",
    "for path in paths:\n",
    "    print(Solution().simplifyPath(path))"
   ]
  },
  {
   "cell_type": "code",
   "execution_count": null,
   "metadata": {},
   "outputs": [],
   "source": [
    "def simplifyPath(self, path: str) -> str:\n",
    "    stack = list()\n",
    "    path = path.split(\"/\")\n",
    "    \n",
    "    for p in path:\n",
    "#         if p and p != '.':\n",
    "#             stack.append(p)\n",
    "#         elif p == '..' and stack:\n",
    "#             stack.pop()\n",
    "    # 顺序很重要！\n",
    "#         if p == \"..\" and stack: # 这两个放一起当出现“..”时可能出错\n",
    "        if p == \"..\":\n",
    "            if stack:\n",
    "                stack.pop()\n",
    "        elif p and p != \".\":\n",
    "            stack.append(p)\n",
    "            \n",
    "    return '/' + '/'.join(stack)"
   ]
  }
 ],
 "metadata": {
  "kernelspec": {
   "display_name": "Python 3.9.10 ('base')",
   "language": "python",
   "name": "python3"
  },
  "language_info": {
   "codemirror_mode": {
    "name": "ipython",
    "version": 3
   },
   "file_extension": ".py",
   "mimetype": "text/x-python",
   "name": "python",
   "nbconvert_exporter": "python",
   "pygments_lexer": "ipython3",
   "version": "3.9.10"
  },
  "toc": {
   "base_numbering": 1,
   "nav_menu": {},
   "number_sections": true,
   "sideBar": true,
   "skip_h1_title": false,
   "title_cell": "Table of Contents",
   "title_sidebar": "Contents",
   "toc_cell": false,
   "toc_position": {},
   "toc_section_display": true,
   "toc_window_display": false
  },
  "vscode": {
   "interpreter": {
    "hash": "3774638e36becc1b3be4f932a09ec02e29dc9d9fab753e191431a024cc1a4cff"
   }
  }
 },
 "nbformat": 4,
 "nbformat_minor": 2
}
