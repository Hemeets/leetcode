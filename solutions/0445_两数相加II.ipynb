{
 "cells": [
  {
   "cell_type": "markdown",
   "metadata": {},
   "source": [
    "### 两数相加II\n",
    "给定两个非空链表来代表两个非负整数。数字最高位位于链表开始位置。它们的每个节点只存储单个数字。将这两数相加会返回一个新的链表。\n",
    "\n",
    " \n",
    "\n",
    "你可以假设除了数字 0 之外，这两个数字都不会以零开头。\n",
    "\n",
    "进阶:\n",
    "\n",
    "如果输入链表不能修改该如何处理？换句话说，你不能对列表中的节点进行翻转。\n",
    "\n",
    "示例:\n",
    "\n",
    "输入: (7 -> 2 -> 4 -> 3) + (5 -> 6 -> 4)\n",
    "输出: 7 -> 8 -> 0 -> 7\n",
    "\n",
    "来源：力扣（LeetCode）\n",
    "链接：https://leetcode-cn.com/problems/add-two-numbers-ii\n",
    "著作权归领扣网络所有。商业转载请联系官方授权，非商业转载请注明出处。"
   ]
  },
  {
   "cell_type": "code",
   "execution_count": 1,
   "metadata": {},
   "outputs": [
    {
     "name": "stdout",
     "output_type": "stream",
     "text": [
      "[8, 0, 7]\n"
     ]
    }
   ],
   "source": [
    "''' cr_2022, Median '''\n",
    "from utils import *\n",
    "class Solution:\n",
    "    \"\"\" 用list临时保存listnode \"\"\"\n",
    "    def addTwoNumbers(self, l1: ListNode, l2: ListNode) -> ListNode:\n",
    "        s1 = []\n",
    "        s2 = []\n",
    "        s = []\n",
    "        while l1:\n",
    "            s1.append(l1.val)\n",
    "            l1 = l1.next\n",
    "        while l2:\n",
    "            s2.append(l2.val)\n",
    "            l2 = l2.next\n",
    "        carry = 0\n",
    "        while s1 or s2 or carry:\n",
    "            tmp = 0\n",
    "            if s1:\n",
    "                tmp += s1.pop()\n",
    "            if s2:\n",
    "                tmp += s2.pop()\n",
    "            tmp += carry\n",
    "            s.append(tmp % 10)\n",
    "            carry = tmp // 10\n",
    "        head = ListNode(0)\n",
    "        cur = head\n",
    "        while s:\n",
    "            cur.next = ListNode(s.pop())\n",
    "            cur = cur.next\n",
    "        return head.next\n",
    "\n",
    "l1 = [2, 4, 3]\n",
    "l2 = [5, 6, 4]\n",
    "node_l1 = l2ln(l1)\n",
    "node_l2 = l2ln(l2)\n",
    "res_node = Solution().addTwoNumbers(node_l1, node_l2)\n",
    "print(ln2l(res_node))"
   ]
  },
  {
   "cell_type": "code",
   "execution_count": null,
   "metadata": {},
   "outputs": [],
   "source": []
  }
 ],
 "metadata": {
  "kernelspec": {
   "display_name": "Python 3.9.10 ('base')",
   "language": "python",
   "name": "python3"
  },
  "language_info": {
   "codemirror_mode": {
    "name": "ipython",
    "version": 3
   },
   "file_extension": ".py",
   "mimetype": "text/x-python",
   "name": "python",
   "nbconvert_exporter": "python",
   "pygments_lexer": "ipython3",
   "version": "3.9.10"
  },
  "toc": {
   "base_numbering": 1,
   "nav_menu": {},
   "number_sections": true,
   "sideBar": true,
   "skip_h1_title": false,
   "title_cell": "Table of Contents",
   "title_sidebar": "Contents",
   "toc_cell": false,
   "toc_position": {},
   "toc_section_display": true,
   "toc_window_display": false
  },
  "vscode": {
   "interpreter": {
    "hash": "3774638e36becc1b3be4f932a09ec02e29dc9d9fab753e191431a024cc1a4cff"
   }
  }
 },
 "nbformat": 4,
 "nbformat_minor": 2
}
