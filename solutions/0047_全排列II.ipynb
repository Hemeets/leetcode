{
 "cells": [
  {
   "cell_type": "markdown",
   "metadata": {},
   "source": [
    "回溯法总结：\n",
    "https://leetcode.cn/problems/permutations/solution/hui-su-suan-fa-python-dai-ma-java-dai-ma-by-liweiw/"
   ]
  },
  {
   "cell_type": "markdown",
   "metadata": {},
   "source": [
    "### 47—全排列II\n",
    "给定一个可包含重复数字的序列，返回所有不重复的全排列。\n",
    "\n",
    "示例:\n",
    "\n",
    "输入: [1,1,2]\n",
    "输出:\n",
    "[\n",
    "  [1,1,2],\n",
    "  [1,2,1],\n",
    "  [2,1,1]\n",
    "]\n",
    "\n",
    "来源：力扣（LeetCode）\n",
    "链接：https://leetcode-cn.com/problems/permutations-ii\n",
    "著作权归领扣网络所有。商业转载请联系官方授权，非商业转载请注明出处。"
   ]
  },
  {
   "cell_type": "code",
   "execution_count": 9,
   "metadata": {},
   "outputs": [
    {
     "data": {
      "text/plain": [
       "[[1, 1, 2], [1, 2, 1], [2, 1, 1]]"
      ]
     },
     "execution_count": 9,
     "metadata": {},
     "output_type": "execute_result"
    }
   ],
   "source": [
    "'''cr2022, M'''\n",
    "from typing import List\n",
    "class Solution:\n",
    "    def permuteUnique(self, nums: List[int]) -> List[List[int]]:\n",
    "        if not nums:\n",
    "            return []\n",
    "        nums.sort()\n",
    "        res = []\n",
    "        n = len(nums)\n",
    "        visited = [0] * n\n",
    "        \n",
    "        def backtrack(tmp_list, length):\n",
    "            if length == n:\n",
    "                res.append(tmp_list)\n",
    "            for i in range(n):\n",
    "                if visited[i]:\n",
    "                    continue\n",
    "                if (i > 0 and nums[i] == nums[i-1] and not visited[i-1]):  \n",
    "                    # 这个判断条件保证了对于重复数的集合，一定是从左往右逐个填入的。\n",
    "                    # 加上 !vis[i - 1]来去重主要是通过限制一下两个相邻的重复数字的访问顺序\n",
    "                    continue\n",
    "                visited[i] = 1\n",
    "                backtrack(tmp_list + [nums[i]], length + 1)\n",
    "                visited[i] = 0\n",
    "        backtrack([], 0)\n",
    "        return res    \n",
    "\n",
    "nums = [1,1,2]\n",
    "Solution().permuteUnique(nums)"
   ]
  }
 ],
 "metadata": {
  "kernelspec": {
   "display_name": "Python 3.9.10 ('base')",
   "language": "python",
   "name": "python3"
  },
  "language_info": {
   "codemirror_mode": {
    "name": "ipython",
    "version": 3
   },
   "file_extension": ".py",
   "mimetype": "text/x-python",
   "name": "python",
   "nbconvert_exporter": "python",
   "pygments_lexer": "ipython3",
   "version": "3.9.10"
  },
  "toc": {
   "base_numbering": 1,
   "nav_menu": {},
   "number_sections": true,
   "sideBar": true,
   "skip_h1_title": false,
   "title_cell": "Table of Contents",
   "title_sidebar": "Contents",
   "toc_cell": false,
   "toc_position": {},
   "toc_section_display": true,
   "toc_window_display": false
  },
  "vscode": {
   "interpreter": {
    "hash": "3774638e36becc1b3be4f932a09ec02e29dc9d9fab753e191431a024cc1a4cff"
   }
  }
 },
 "nbformat": 4,
 "nbformat_minor": 2
}
