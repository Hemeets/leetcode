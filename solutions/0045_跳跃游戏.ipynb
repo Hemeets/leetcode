{
 "cells": [
  {
   "attachments": {},
   "cell_type": "markdown",
   "metadata": {},
   "source": [
    "45. 跳跃游戏 II\n",
    "\n",
    "给定一个长度为 n 的 0 索引整数数组 nums。初始位置为 nums[0]。\n",
    "\n",
    "每个元素 nums[i] 表示从索引 i 向前跳转的最大长度。换句话说，如果你在 nums[i] 处，你可以跳转到任意 nums[i + j] 处:\n",
    "\n",
    "0 <= j <= nums[i] \n",
    "\n",
    "i + j < n\n",
    "\n",
    "返回到达 nums[n - 1] 的最小跳跃次数。生成的测试用例可以到达 nums[n - 1]。\n",
    "\n",
    "\n",
    "示例 1:\n",
    "```\n",
    "输入: nums = [2,3,1,1,4]\n",
    "输出: 2\n",
    "解释: 跳到最后一个位置的最小跳跃数是 2。\n",
    "     从下标为 0 跳到下标为 1 的位置，跳 1 步，然后跳 3 步到达数组的最后一个位置。\n",
    "```\n",
    "示例 2:\n",
    "```\n",
    "输入: nums = [2,3,0,1,4]\n",
    "输出: 2\n",
    "```"
   ]
  },
  {
   "cell_type": "code",
   "execution_count": 46,
   "metadata": {},
   "outputs": [
    {
     "name": "stdout",
     "output_type": "stream",
     "text": [
      "0\n",
      "1\n",
      "3\n",
      "3\n"
     ]
    }
   ],
   "source": [
    "'''2022, M'''\n",
    "from typing import List\n",
    "# class Solution:\n",
    "#     \"\"\" dp，但是会超时\"\"\"\n",
    "#     def jump(self, nums: List[int]) -> int:\n",
    "#         n = len(nums)\n",
    "#         dp = [n + 1] * n\n",
    "#         dp[0] = 0\n",
    "#         for i in range(1, n):\n",
    "#             for j in range(i):\n",
    "#                 if nums[j] + j >= i:\n",
    "#                     dp[i] = min(dp[i], dp[j] + 1)\n",
    "#         return dp[n-1]\n",
    "\n",
    "class Solution:\n",
    "    \"\"\" 贪心法O(n)，下一步选：下下步能到达更远距离的 \"\"\"\n",
    "    def jump(self, nums: List[int]) -> int:\n",
    "        n = len(nums)\n",
    "        if n <= 1:\n",
    "            return 0\n",
    "        max_pos, start, step = 0, 0, 0\n",
    "        while start < n:\n",
    "            print(start)\n",
    "            if start + nums[start] >= n - 1:  # 当前可以直接跳到最后\n",
    "                step += 1\n",
    "                break\n",
    "            next_s = start\n",
    "            for i in range(start + 1, start + nums[start] + 1):\n",
    "                if i + nums[i] > max_pos:\n",
    "                    max_pos = i + nums[i]\n",
    "                    next_s = i\n",
    "            step += 1\n",
    "            start = next_s\n",
    "        return step\n",
    "\n",
    "# nums = [2,3,0,1,4]\n",
    "nums = [1,2,1,1,1]\n",
    "# nums = [1,2,3]\n",
    "# nums = [0]\n",
    "print(Solution().jump(nums))"
   ]
  },
  {
   "cell_type": "code",
   "execution_count": null,
   "metadata": {},
   "outputs": [],
   "source": []
  }
 ],
 "metadata": {
  "kernelspec": {
   "display_name": "base",
   "language": "python",
   "name": "python3"
  },
  "language_info": {
   "codemirror_mode": {
    "name": "ipython",
    "version": 3
   },
   "file_extension": ".py",
   "mimetype": "text/x-python",
   "name": "python",
   "nbconvert_exporter": "python",
   "pygments_lexer": "ipython3",
   "version": "3.9.10"
  },
  "orig_nbformat": 4,
  "vscode": {
   "interpreter": {
    "hash": "3774638e36becc1b3be4f932a09ec02e29dc9d9fab753e191431a024cc1a4cff"
   }
  }
 },
 "nbformat": 4,
 "nbformat_minor": 2
}
