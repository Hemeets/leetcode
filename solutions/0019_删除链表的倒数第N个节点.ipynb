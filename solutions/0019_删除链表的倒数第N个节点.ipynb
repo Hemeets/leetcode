{
 "cells": [
  {
   "attachments": {},
   "cell_type": "markdown",
   "metadata": {},
   "source": [
    "删除链表的倒数第N个节点\n",
    "\n",
    "给定一个链表，删除链表的倒数第 n 个节点，并且返回链表的头结点。\n",
    "\n",
    "示例：\n",
    "\n",
    "给定一个链表: 1->2->3->4->5, 和 n = 2.\n",
    "\n",
    "当删除了倒数第二个节点后，链表变为 1->2->3->5.\n",
    "\n",
    "来源：力扣（LeetCode）\n",
    "链接：https://leetcode-cn.com/problems/remove-nth-node-from-end-of-list\n",
    "著作权归领扣网络所有。商业转载请联系官方授权，非商业转载请注明出处。"
   ]
  },
  {
   "cell_type": "code",
   "execution_count": 6,
   "metadata": {},
   "outputs": [
    {
     "name": "stdout",
     "output_type": "stream",
     "text": [
      "[1, 2, 3, 5]\n"
     ]
    }
   ],
   "source": [
    "'''cr2022, M'''\n",
    "from typing import Optional\n",
    "from utils import List2ListNode, ListNode2List, ListNode\n",
    "\n",
    "class Solution:\n",
    "    def removeNthFromEnd(self, head: Optional[ListNode], n: int) -> Optional[ListNode]:\n",
    "        if not head:\n",
    "            return\n",
    "        head0 = ListNode(None)  # 头节点有可能被删除，所以另加一个node\n",
    "        head0.next = head\n",
    "        p, q = head0, head0  # p 快指针，q 慢指针\n",
    "        i = 0\n",
    "        while p:\n",
    "            if i > n:\n",
    "                q = q.next\n",
    "            p = p.next\n",
    "            i += 1\n",
    "        q.next = q.next.next\n",
    "        return head0.next\n",
    "\n",
    "l = [1,2,3,4,5]\n",
    "n = 2\n",
    "def get_solution_listnode(func, list_a: list, n: int):\n",
    "    list_node = List2ListNode(list_a)\n",
    "    res = func(list_node, n)\n",
    "    list_res = ListNode2List(res)\n",
    "    print(list_res)\n",
    "get_solution_listnode(Solution().removeNthFromEnd, l, n)"
   ]
  },
  {
   "cell_type": "code",
   "execution_count": 2,
   "metadata": {},
   "outputs": [],
   "source": [
    "class ListNode:\n",
    "    def __init__(self, x):\n",
    "        self.val = x\n",
    "        self.next = None\n",
    "\n",
    "def removeNthFromEnd(head, n):\n",
    "    if not head:\n",
    "        return \n",
    "    p = ListNode(None)\n",
    "    p.next = head\n",
    "    q = p\n",
    "    head0 =p\n",
    "    # q, p = head, head\n",
    "    i = 0\n",
    "    while p:\n",
    "\n",
    "        if i > n:\n",
    "            q = q.next\n",
    "        p = p.next\n",
    "        i += 1\n",
    "    q.next = q.next.next\n",
    "    return head0.next"
   ]
  },
  {
   "cell_type": "code",
   "execution_count": null,
   "metadata": {},
   "outputs": [],
   "source": []
  }
 ],
 "metadata": {
  "kernelspec": {
   "display_name": "Python 3.9.10 ('base')",
   "language": "python",
   "name": "python3"
  },
  "language_info": {
   "codemirror_mode": {
    "name": "ipython",
    "version": 3
   },
   "file_extension": ".py",
   "mimetype": "text/x-python",
   "name": "python",
   "nbconvert_exporter": "python",
   "pygments_lexer": "ipython3",
   "version": "3.9.10 | packaged by conda-forge | (main, Feb  1 2022, 21:27:43) \n[Clang 11.1.0 ]"
  },
  "toc": {
   "base_numbering": 1,
   "nav_menu": {},
   "number_sections": true,
   "sideBar": true,
   "skip_h1_title": false,
   "title_cell": "Table of Contents",
   "title_sidebar": "Contents",
   "toc_cell": false,
   "toc_position": {},
   "toc_section_display": true,
   "toc_window_display": false
  },
  "vscode": {
   "interpreter": {
    "hash": "3774638e36becc1b3be4f932a09ec02e29dc9d9fab753e191431a024cc1a4cff"
   }
  }
 },
 "nbformat": 4,
 "nbformat_minor": 2
}
