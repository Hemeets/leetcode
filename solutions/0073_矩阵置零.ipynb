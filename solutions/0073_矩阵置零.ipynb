{
 "cells": [
  {
   "attachments": {},
   "cell_type": "markdown",
   "metadata": {},
   "source": [
    "73. 矩阵置零\n",
    "\n",
    "给定一个 m x n 的矩阵，如果一个元素为 0 ，则将其所在行和列的所有元素都设为 0 。请使用 原地 算法。\n",
    "\n",
    "示例 1：\n",
    "```\n",
    "输入：matrix = [[1,1,1],[1,0,1],[1,1,1]]\n",
    "输出：[[1,0,1],[0,0,0],[1,0,1]]\n",
    "```\n",
    "示例 2：\n",
    "```\n",
    "输入：matrix = [[0,1,2,0],[3,4,5,2],[1,3,1,5]]\n",
    "输出：[[0,0,0,0],[0,4,5,0],[0,3,1,0]]\n",
    "```\n",
    "提示：\n",
    "```\n",
    "m == matrix.length\n",
    "n == matrix[0].length\n",
    "1 <= m, n <= 200\n",
    "-231 <= matrix[i][j] <= 231 - 1\n",
    "```\n",
    "进阶：\n",
    "\n",
    "一个直观的解决方案是使用  O(mn) 的额外空间，但这并不是一个好的解决方案。\n",
    "一个简单的改进方案是使用 O(m + n) 的额外空间，但这仍然不是最好的解决方案。\n",
    "你能想出一个仅使用常量空间的解决方案吗？"
   ]
  },
  {
   "cell_type": "code",
   "execution_count": 2,
   "metadata": {},
   "outputs": [
    {
     "name": "stdout",
     "output_type": "stream",
     "text": [
      "[[1, 0, 1], [0, 0, 0], [1, 0, 1]]\n"
     ]
    }
   ],
   "source": [
    "'''2022, M'''\n",
    "from typing import List\n",
    "class Solution:\n",
    "    \"\"\"额外m+n空间\"\"\"\n",
    "    def setZeroes(self, matrix: List[List[int]]) -> None:\n",
    "        \"\"\"\n",
    "        Do not return anything, modify matrix in-place instead.\n",
    "        \"\"\"\n",
    "        m = len(matrix)\n",
    "        n = len(matrix[0])\n",
    "        # row_zero, col_zero = set(), set()  # 记录行、列哪一行有0\n",
    "        row_zero, col_zero = [False] * m, [False] * n  # 官解这么写更清楚些\n",
    "        for i in range(m):\n",
    "            for j in range(n):\n",
    "                if matrix[i][j] == 0:\n",
    "                    row_zero[i] = True\n",
    "                    col_zero[j] = True\n",
    "                    # row_zero.add(i)\n",
    "                    # col_zero.add(j)\n",
    "        for i in range(m):\n",
    "            for j in range(n):\n",
    "                # if i in row_zero or j in col_zero:\n",
    "                if row_zero[i] or col_zero[j]:\n",
    "                    matrix[i][j] = 0\n",
    "\n",
    "\n",
    "class Solution1:\n",
    "    \"\"\" 额外常数空间：用第一行/列来代替额外的空间，需要先标记好第一行/列是否有0 \"\"\"\n",
    "    def setZeroes(self, matrix: List[List[int]]) -> None:\n",
    "        m = len(matrix)\n",
    "        n = len(matrix[0])\n",
    "        flag_row = any(matrix[0][j] == 0 for j in range(n))\n",
    "        flag_col = any(matrix[i][0] == 0 for i in range(m))\n",
    "        for i in range(1, m):\n",
    "            for j in range(1, n):\n",
    "                if matrix[i][j] == 0:\n",
    "                    matrix[i][0] = matrix[0][j] = 0\n",
    "        for i in range(1, m):\n",
    "            for j in range(1, n):\n",
    "                if matrix[i][0] == 0 or matrix[0][j] == 0:\n",
    "                    matrix[i][j] = 0 \n",
    "        if flag_row:\n",
    "            for j in range(n):\n",
    "                matrix[0][j] = 0\n",
    "        if flag_col:\n",
    "            for i in range(m):\n",
    "                matrix[i][0] = 0\n",
    "\n",
    "\n",
    "matrix = [[1,1,1],[1,0,1],[1,1,1]]\n",
    "# Solution().setZeroes(matrix)\n",
    "Solution1().setZeroes(matrix)\n",
    "print(matrix)"
   ]
  },
  {
   "cell_type": "code",
   "execution_count": null,
   "metadata": {},
   "outputs": [],
   "source": []
  }
 ],
 "metadata": {
  "kernelspec": {
   "display_name": "base",
   "language": "python",
   "name": "python3"
  },
  "language_info": {
   "codemirror_mode": {
    "name": "ipython",
    "version": 3
   },
   "file_extension": ".py",
   "mimetype": "text/x-python",
   "name": "python",
   "nbconvert_exporter": "python",
   "pygments_lexer": "ipython3",
   "version": "3.9.10"
  },
  "orig_nbformat": 4,
  "vscode": {
   "interpreter": {
    "hash": "3774638e36becc1b3be4f932a09ec02e29dc9d9fab753e191431a024cc1a4cff"
   }
  }
 },
 "nbformat": 4,
 "nbformat_minor": 2
}
