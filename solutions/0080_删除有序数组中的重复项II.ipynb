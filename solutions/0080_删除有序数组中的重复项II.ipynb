{
 "cells": [
  {
   "attachments": {},
   "cell_type": "markdown",
   "metadata": {},
   "source": [
    "80. 删除有序数组中的重复项 II\n",
    "\n",
    "给你一个有序数组 nums ，请你 原地 删除重复出现的元素，使得出现次数超过两次的元素只出现两次 ，返回删除后数组的新长度。\n",
    "\n",
    "不要使用额外的数组空间，你必须在 原地 修改输入数组 并在使用 O(1) 额外空间的条件下完成。\n",
    "\n",
    "说明：\n",
    "\n",
    "为什么返回数值是整数，但输出的答案是数组呢？\n",
    "\n",
    "请注意，输入数组是以「引用」方式传递的，这意味着在函数里修改输入数组对于调用者是可见的。\n",
    "\n",
    "你可以想象内部操作如下:\n",
    "```\n",
    "// nums 是以“引用”方式传递的。也就是说，不对实参做任何拷贝\n",
    "int len = removeDuplicates(nums);\n",
    "\n",
    "// 在函数里修改输入数组对于调用者是可见的。\n",
    "// 根据你的函数返回的长度, 它会打印出数组中 该长度范围内 的所有元素。\n",
    "for (int i = 0; i < len; i++) {\n",
    "    print(nums[i]);\n",
    "}\n",
    "```\n",
    "\n",
    "示例 1：\n",
    "```\n",
    "输入：nums = [1,1,1,2,2,3]\n",
    "输出：5, nums = [1,1,2,2,3]\n",
    "解释：函数应返回新长度 length = 5, 并且原数组的前五个元素被修改为 1, 1, 2, 2, 3 。 不需要考虑数组中超出新长度后面的元素。\n",
    "```\n",
    "示例 2：\n",
    "```\n",
    "输入：nums = [0,0,1,1,1,1,2,3,3]\n",
    "输出：7, nums = [0,0,1,1,2,3,3]\n",
    "解释：函数应返回新长度 length = 7, 并且原数组的前五个元素被修改为 0, 0, 1, 1, 2, 3, 3 。 不需要考虑数组中超出新长度后面的元素。\n",
    "```"
   ]
  },
  {
   "cell_type": "code",
   "execution_count": 12,
   "metadata": {},
   "outputs": [
    {
     "name": "stdout",
     "output_type": "stream",
     "text": [
      "5\n",
      "[1, 1, 2, 2, 3, 3]\n"
     ]
    }
   ],
   "source": [
    "'''2022, M'''\n",
    "from typing import List\n",
    "class Solution:\n",
    "    def removeDuplicates(self, nums: List[int]) -> int:\n",
    "        if not nums:\n",
    "            return 0\n",
    "        n = len(nums)\n",
    "        j = 1\n",
    "        cnt = 0\n",
    "        for i in range(1, n):\n",
    "            if (nums[i] > nums[i-1]):\n",
    "                nums[j] = nums[i]\n",
    "                j += 1\n",
    "                cnt = 0  # 注意cnt置0的位置。如果放在后面的else里，则无法解决badcase例如 [1,1,1,1,1,1]\n",
    "            elif nums[i] == nums[i-1] and cnt < 1:\n",
    "                nums[j] = nums[i]\n",
    "                j += 1\n",
    "                cnt += 1\n",
    "        return j\n",
    "\n",
    "nums = [1,1,1,2,2,3]\n",
    "# nums = [0,0,1,1,1,1,2,3,3]\n",
    "# nums = [1,1,1,1,1,1]\n",
    "print(Solution().removeDuplicates(nums))\n",
    "print(nums)"
   ]
  },
  {
   "cell_type": "code",
   "execution_count": null,
   "metadata": {},
   "outputs": [],
   "source": []
  }
 ],
 "metadata": {
  "kernelspec": {
   "display_name": "base",
   "language": "python",
   "name": "python3"
  },
  "language_info": {
   "codemirror_mode": {
    "name": "ipython",
    "version": 3
   },
   "file_extension": ".py",
   "mimetype": "text/x-python",
   "name": "python",
   "nbconvert_exporter": "python",
   "pygments_lexer": "ipython3",
   "version": "3.9.10"
  },
  "orig_nbformat": 4,
  "vscode": {
   "interpreter": {
    "hash": "3774638e36becc1b3be4f932a09ec02e29dc9d9fab753e191431a024cc1a4cff"
   }
  }
 },
 "nbformat": 4,
 "nbformat_minor": 2
}
