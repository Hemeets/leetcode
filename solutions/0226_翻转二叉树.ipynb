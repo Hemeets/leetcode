{
 "cells": [
  {
   "cell_type": "markdown",
   "metadata": {},
   "source": [
    "翻转一棵二叉树。\n",
    "\n",
    "示例：\n",
    "\n",
    "输入：\n",
    "\n",
    "         4\n",
    "       /   \\\n",
    "      2     7\n",
    "     / \\   / \\\n",
    "    1   3 6   9\n",
    "输出：\n",
    "\n",
    "          4\n",
    "        /   \\\n",
    "       7     2\n",
    "      / \\   / \\\n",
    "     9   6 3   1\n"
   ]
  },
  {
   "cell_type": "code",
   "execution_count": 6,
   "metadata": {},
   "outputs": [
    {
     "name": "stdout",
     "output_type": "stream",
     "text": [
      "{'left': {'left': {'left': None, 'right': None, 'val': 1},\n",
      "          'right': {'left': None, 'right': None, 'val': 3},\n",
      "          'val': 2},\n",
      " 'right': {'left': {'left': None, 'right': None, 'val': 6},\n",
      "           'right': {'left': None, 'right': None, 'val': 9},\n",
      "           'val': 7},\n",
      " 'val': 4}\n",
      "{'left': {'left': {'left': None, 'right': None, 'val': 9},\n",
      "          'right': {'left': None, 'right': None, 'val': 6},\n",
      "          'val': 7},\n",
      " 'right': {'left': {'left': None, 'right': None, 'val': 3},\n",
      "           'right': {'left': None, 'right': None, 'val': 1},\n",
      "           'val': 2},\n",
      " 'val': 4}\n",
      "{'left': {'left': {'left': None, 'right': None, 'val': 1},\n",
      "          'right': {'left': None, 'right': None, 'val': 3},\n",
      "          'val': 2},\n",
      " 'right': {'left': {'left': None, 'right': None, 'val': 6},\n",
      "           'right': {'left': None, 'right': None, 'val': 9},\n",
      "           'val': 7},\n",
      " 'val': 4}\n"
     ]
    }
   ],
   "source": [
    "'''2022, E'''\n",
    "from utils import *\n",
    "from collections import deque\n",
    "class Solution:\n",
    "    ''' dfs '''\n",
    "    def invertTree(self, root: Optional[TreeNode]) -> Optional[TreeNode]:\n",
    "        if not root:\n",
    "            return \n",
    "        root.left, root.right = self.invertTree(root.right), self.invertTree(root.left)\n",
    "        return root\n",
    "\n",
    "\n",
    "class Solution1:\n",
    "    ''' bfs '''\n",
    "    def invertTree(self, root: Optional[TreeNode]) -> Optional[TreeNode]:\n",
    "        if not root:\n",
    "            return \n",
    "        q = deque([root])\n",
    "        while q:\n",
    "            cur = q.popleft()\n",
    "            cur.left, cur.right = cur.right, cur.left\n",
    "            if cur.left:\n",
    "                q.append(cur.left)\n",
    "            if cur.right:\n",
    "                q.append(cur.right)\n",
    "        return root\n",
    "\n",
    "\n",
    "root = l2tn([4,2,7,1,3,6,9])\n",
    "pprint(root.to_dict())\n",
    "pprint(Solution().invertTree(root).to_dict())\n",
    "pprint(Solution1().invertTree(root).to_dict())"
   ]
  },
  {
   "cell_type": "code",
   "execution_count": null,
   "metadata": {},
   "outputs": [],
   "source": []
  }
 ],
 "metadata": {
  "kernelspec": {
   "display_name": "base",
   "language": "python",
   "name": "python3"
  },
  "language_info": {
   "codemirror_mode": {
    "name": "ipython",
    "version": 3
   },
   "file_extension": ".py",
   "mimetype": "text/x-python",
   "name": "python",
   "nbconvert_exporter": "python",
   "pygments_lexer": "ipython3",
   "version": "3.9.10 | packaged by conda-forge | (main, Feb  1 2022, 21:27:43) \n[Clang 11.1.0 ]"
  },
  "toc": {
   "base_numbering": 1,
   "nav_menu": {},
   "number_sections": true,
   "sideBar": true,
   "skip_h1_title": false,
   "title_cell": "Table of Contents",
   "title_sidebar": "Contents",
   "toc_cell": false,
   "toc_position": {},
   "toc_section_display": true,
   "toc_window_display": false
  },
  "vscode": {
   "interpreter": {
    "hash": "3774638e36becc1b3be4f932a09ec02e29dc9d9fab753e191431a024cc1a4cff"
   }
  }
 },
 "nbformat": 4,
 "nbformat_minor": 2
}
