{
 "cells": [
  {
   "attachments": {},
   "cell_type": "markdown",
   "metadata": {},
   "source": [
    "给定一个数组，将数组中的元素向右移动 k 个位置，其中 k 是非负数。\n",
    "\n",
    "示例 1:\n",
    "```\n",
    "输入: [1,2,3,4,5,6,7] 和 k = 3\n",
    "输出: [5,6,7,1,2,3,4]\n",
    "解释:\n",
    "向右旋转 1 步: [7,1,2,3,4,5,6]\n",
    "向右旋转 2 步: [6,7,1,2,3,4,5]\n",
    "向右旋转 3 步: [5,6,7,1,2,3,4]\n",
    "```\n",
    "示例 2:\n",
    "```\n",
    "输入: [-1,-100,3,99] 和 k = 2\n",
    "输出: [3,99,-1,-100]\n",
    "解释: \n",
    "向右旋转 1 步: [99,-1,-100,3]\n",
    "向右旋转 2 步: [3,99,-1,-100]\n",
    "```\n",
    "说明:\n",
    "\n",
    "尽可能想出更多的解决方案，至少有三种不同的方法可以解决这个问题。\n",
    "要求使用空间复杂度为 O(1) 的 原地 算法。"
   ]
  },
  {
   "cell_type": "code",
   "execution_count": 1,
   "metadata": {},
   "outputs": [
    {
     "name": "stdout",
     "output_type": "stream",
     "text": [
      "[5, 6, 7, 1, 2, 3, 4]\n"
     ]
    }
   ],
   "source": [
    "'''cr2022, M'''\n",
    "from typing import List\n",
    "class Solution:\n",
    "    ''' 翻转整个，再翻转前k个和后n-k个 '''\n",
    "    def rotate(self, nums: List[int], k: int) -> None:\n",
    "        \"\"\"\n",
    "        Do not return anything, modify nums in-place instead.\n",
    "        \"\"\"\n",
    "        n = len(nums)\n",
    "        k = k % n  # 注意这里\n",
    "        self.rev(nums, 0, n-1)\n",
    "        self.rev(nums, 0, k-1)\n",
    "        self.rev(nums, k, n-1)\n",
    "\n",
    "    def rev(self, nums, l, r):\n",
    "        ''' 闭区间 [l, r] '''\n",
    "        while l < r:\n",
    "            nums[l], nums[r] = nums[r], nums[l]\n",
    "            l += 1\n",
    "            r -= 1\n",
    "\n",
    "nums = [1,2,3,4,5,6,7]\n",
    "k = 3\n",
    "Solution().rotate(nums, k)\n",
    "print(nums)"
   ]
  },
  {
   "cell_type": "code",
   "execution_count": 2,
   "metadata": {},
   "outputs": [],
   "source": [
    "def rotate(nums, k):\n",
    "    # 暴力法，可能会超时\n",
    "    if not nums:\n",
    "        return nums\n",
    "    L = len(nums)\n",
    "    for _ in range(k):\n",
    "        pre = nums[L-1]\n",
    "        for i in range(L):\n",
    "            tmp = nums[i]\n",
    "            nums[i] = pre\n",
    "            pre = tmp\n",
    "    return nums"
   ]
  },
  {
   "cell_type": "code",
   "execution_count": 37,
   "metadata": {},
   "outputs": [],
   "source": [
    "def rotate2(nums, k):\n",
    "    # 翻转整个，再翻转前k个和后n-k个\n",
    "    L = len(nums)\n",
    "    k = k % L\n",
    "    print(nums)\n",
    "    rev(nums, 0, L-1)\n",
    "    print(nums)\n",
    "    rev(nums, 0, k-1)\n",
    "    print(nums)\n",
    "    rev(nums, k, L-1)\n",
    "    print(nums)\n",
    "    return nums\n",
    "    \n",
    "def rev(nums,l,r):\n",
    "    while l<r:\n",
    "        tmp = nums[l]\n",
    "        nums[l] = nums[r]\n",
    "        nums[r] = tmp\n",
    "        l += 1\n",
    "        r -= 1"
   ]
  }
 ],
 "metadata": {
  "kernelspec": {
   "display_name": "base",
   "language": "python",
   "name": "python3"
  },
  "language_info": {
   "codemirror_mode": {
    "name": "ipython",
    "version": 3
   },
   "file_extension": ".py",
   "mimetype": "text/x-python",
   "name": "python",
   "nbconvert_exporter": "python",
   "pygments_lexer": "ipython3",
   "version": "3.9.10 | packaged by conda-forge | (main, Feb  1 2022, 21:27:43) \n[Clang 11.1.0 ]"
  },
  "toc": {
   "base_numbering": 1,
   "nav_menu": {},
   "number_sections": true,
   "sideBar": true,
   "skip_h1_title": false,
   "title_cell": "Table of Contents",
   "title_sidebar": "Contents",
   "toc_cell": false,
   "toc_position": {},
   "toc_section_display": true,
   "toc_window_display": false
  },
  "vscode": {
   "interpreter": {
    "hash": "3774638e36becc1b3be4f932a09ec02e29dc9d9fab753e191431a024cc1a4cff"
   }
  }
 },
 "nbformat": 4,
 "nbformat_minor": 2
}
