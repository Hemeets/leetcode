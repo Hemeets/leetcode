{
 "cells": [
  {
   "cell_type": "markdown",
   "metadata": {},
   "source": [
    "格雷编码是一个二进制数字系统，在该系统中，两个连续的数值仅有一个位数的差异。\n",
    "\n",
    "给定一个代表编码总位数的非负整数 n，打印其格雷编码序列。格雷编码序列必须以 0 开头。\n",
    "\n",
    "示例 1:\n",
    "\n",
    "输入: 2\n",
    "输出: [0,1,3,2]\n",
    "解释:\n",
    "\n",
    "00 - 0\n",
    "\n",
    "01 - 1\n",
    "\n",
    "11 - 3\n",
    "\n",
    "10 - 2\n",
    "\n",
    "对于给定的 n，其格雷编码序列并不唯一。\n",
    "例如，[0,2,3,1] 也是一个有效的格雷编码序列。\n",
    "\n",
    "00 - 0\n",
    "\n",
    "10 - 2\n",
    "\n",
    "11 - 3\n",
    "\n",
    "01 - 1\n",
    "\n",
    "示例 2:\n",
    "\n",
    "输入: 0\n",
    "输出: [0]\n",
    "解释: 我们定义格雷编码序列必须以 0 开头。\n",
    "     给定编码总位数为 n 的格雷编码序列，其长度为 2^n。当 n = 0 时，长度为 2^0 = 1。\n",
    "     因此，当 n = 0 时，其格雷编码序列为 [0]。\n",
    "\n",
    "来源：力扣（LeetCode）\n",
    "链接：https://leetcode-cn.com/problems/gray-code\n",
    "著作权归领扣网络所有。商业转载请联系官方授权，非商业转载请注明出处。"
   ]
  },
  {
   "cell_type": "code",
   "execution_count": 2,
   "metadata": {},
   "outputs": [
    {
     "data": {
      "text/plain": [
       "[0, 1, 3, 2, 6, 7, 5, 4]"
      ]
     },
     "execution_count": 2,
     "metadata": {},
     "output_type": "execute_result"
    }
   ],
   "source": [
    "'''cr2022, M'''\n",
    "# 镜像对称法\n",
    "# n = 1  [0, 1]\n",
    "# n = 2  [00，01，11，10]\n",
    "# n = 3  [000, 001, 011, 010, 110, 111, 101, 100]\n",
    "from typing import List\n",
    "class Solution:\n",
    "    def grayCode(self, n: int) -> List[int]:\n",
    "        res = [0]\n",
    "        for i in range(n):\n",
    "            head = 1 << i  #二进制的 1向左挪 i位，返回的是10进制的数\n",
    "            for j in range(len(res) - 1, -1, -1):\n",
    "                res.append(head + res[j])\n",
    "        return res\n",
    "\n",
    "Solution().grayCode(3)"
   ]
  },
  {
   "cell_type": "code",
   "execution_count": 6,
   "metadata": {},
   "outputs": [
    {
     "name": "stdout",
     "output_type": "stream",
     "text": [
      "8\n",
      "6\n"
     ]
    }
   ],
   "source": [
    "print(1 << 3)\n",
    "print(3 << 1) "
   ]
  },
  {
   "cell_type": "code",
   "execution_count": null,
   "metadata": {},
   "outputs": [],
   "source": []
  }
 ],
 "metadata": {
  "kernelspec": {
   "display_name": "Python 3.9.10 ('base')",
   "language": "python",
   "name": "python3"
  },
  "language_info": {
   "codemirror_mode": {
    "name": "ipython",
    "version": 3
   },
   "file_extension": ".py",
   "mimetype": "text/x-python",
   "name": "python",
   "nbconvert_exporter": "python",
   "pygments_lexer": "ipython3",
   "version": "3.9.10"
  },
  "toc": {
   "base_numbering": 1,
   "nav_menu": {},
   "number_sections": true,
   "sideBar": true,
   "skip_h1_title": false,
   "title_cell": "Table of Contents",
   "title_sidebar": "Contents",
   "toc_cell": false,
   "toc_position": {},
   "toc_section_display": true,
   "toc_window_display": false
  },
  "vscode": {
   "interpreter": {
    "hash": "3774638e36becc1b3be4f932a09ec02e29dc9d9fab753e191431a024cc1a4cff"
   }
  }
 },
 "nbformat": 4,
 "nbformat_minor": 2
}
