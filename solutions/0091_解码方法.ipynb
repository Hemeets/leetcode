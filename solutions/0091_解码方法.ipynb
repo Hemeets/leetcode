{
 "cells": [
  {
   "attachments": {},
   "cell_type": "markdown",
   "metadata": {},
   "source": [
    "91. 解码方法\n",
    "\n",
    "一条包含字母 A-Z 的消息通过以下映射进行了 编码 ：\n",
    "\n",
    "'A' -> \"1\"\n",
    "'B' -> \"2\"\n",
    "...\n",
    "'Z' -> \"26\"\n",
    "要 解码 已编码的消息，所有数字必须基于上述映射的方法，反向映射回字母（可能有多种方法）。例如，\"11106\" 可以映射为：\n",
    "\n",
    "\"AAJF\" ，将消息分组为 (1 1 10 6)\n",
    "\"KJF\" ，将消息分组为 (11 10 6)\n",
    "注意，消息不能分组为  (1 11 06) ，因为 \"06\" 不能映射为 \"F\" ，这是由于 \"6\" 和 \"06\" 在映射中并不等价。\n",
    "\n",
    "给你一个只含数字的 非空 字符串 s ，请计算并返回 解码 方法的 总数 。\n",
    "\n",
    "题目数据保证答案肯定是一个 32 位 的整数。\n",
    "\n",
    "示例 1：\n",
    "```\n",
    "输入：s = \"12\"\n",
    "输出：2\n",
    "解释：它可以解码为 \"AB\"（1 2）或者 \"L\"（12）。\n",
    "```\n",
    "示例 2：\n",
    "```\n",
    "输入：s = \"226\"\n",
    "输出：3\n",
    "解释：它可以解码为 \"BZ\" (2 26), \"VF\" (22 6), 或者 \"BBF\" (2 2 6) 。\n",
    "```\n",
    "示例 3：\n",
    "```\n",
    "输入：s = \"06\"\n",
    "输出：0\n",
    "解释：\"06\" 无法映射到 \"F\" ，因为存在前导零（\"6\" 和 \"06\" 并不等价）。\n",
    "```\n",
    "\n",
    "提示：\n",
    "```\n",
    "1 <= s.length <= 100\n",
    "s 只包含数字，并且可能包含前导零。\n",
    "```"
   ]
  },
  {
   "cell_type": "code",
   "execution_count": 15,
   "metadata": {},
   "outputs": [
    {
     "name": "stdout",
     "output_type": "stream",
     "text": [
      "[1, 0, 0]\n",
      "0\n"
     ]
    }
   ],
   "source": [
    "'''2022, M'''\n",
    "# class Solution:\n",
    "#     \"\"\" dp，这个写复杂了 \"\"\"\n",
    "#     def numDecodings(self, s: str) -> int:\n",
    "#         n = len(s)\n",
    "#         num_set = set([str(i) for i in range(1, 27)])\n",
    "#         # dp\n",
    "#         dp = [0] * (n + 1)  # 长度i 解码方法数\n",
    "#         dp[0] = 1  # 注意初始化值\n",
    "#         for i in range(1, n + 1):\n",
    "#             for j in range(i):\n",
    "#                 if s[j:i] in num_set:\n",
    "#                     dp[i] += dp[j]\n",
    "\n",
    "#         print(dp)\n",
    "#         return dp[-1]\n",
    "\n",
    "\n",
    "class Solution:\n",
    "    \"\"\" dp, O(n) \"\"\"\n",
    "    def numDecodings(self, s: str) -> int:\n",
    "        n = len(s)\n",
    "        num_set = set([str(i) for i in range(1, 27)])\n",
    "        dp = [0] * (n + 1)\n",
    "        dp[0] = 1\n",
    "        # 当前状态只与前两个状态有关(1-26最多两位)\n",
    "        for i in range(1, n + 1):\n",
    "            if s[i-1:i] in num_set:\n",
    "                dp[i] += dp[i-1]\n",
    "            if i > 1 and s[i-2:i] in num_set:\n",
    "                dp[i] += dp[i-2]\n",
    "        print(dp)\n",
    "        return dp[-1]\n",
    "\n",
    "\n",
    "# s = \"12\"\n",
    "# s = \"226\"\n",
    "s = \"06\"\n",
    "print(Solution().numDecodings(s))"
   ]
  },
  {
   "cell_type": "code",
   "execution_count": 2,
   "metadata": {},
   "outputs": [
    {
     "data": {
      "text/plain": [
       "6"
      ]
     },
     "execution_count": 2,
     "metadata": {},
     "output_type": "execute_result"
    }
   ],
   "source": [
    "int('06')"
   ]
  },
  {
   "cell_type": "code",
   "execution_count": null,
   "metadata": {},
   "outputs": [],
   "source": []
  }
 ],
 "metadata": {
  "kernelspec": {
   "display_name": "base",
   "language": "python",
   "name": "python3"
  },
  "language_info": {
   "codemirror_mode": {
    "name": "ipython",
    "version": 3
   },
   "file_extension": ".py",
   "mimetype": "text/x-python",
   "name": "python",
   "nbconvert_exporter": "python",
   "pygments_lexer": "ipython3",
   "version": "3.9.10"
  },
  "orig_nbformat": 4,
  "vscode": {
   "interpreter": {
    "hash": "3774638e36becc1b3be4f932a09ec02e29dc9d9fab753e191431a024cc1a4cff"
   }
  }
 },
 "nbformat": 4,
 "nbformat_minor": 2
}
