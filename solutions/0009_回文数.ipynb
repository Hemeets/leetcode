{
 "cells": [
  {
   "cell_type": "markdown",
   "metadata": {},
   "source": [
    "判断一个整数是否是回文数。回文数是指正序（从左向右）和倒序（从右向左）读都是一样的整数。\n",
    "\n",
    "示例 1:\n",
    "```\n",
    "输入: 121\n",
    "输出: true\n",
    "```\n",
    "示例 2:\n",
    "```\n",
    "输入: -121\n",
    "输出: false\n",
    "解释: 从左向右读, 为 -121 。 从右向左读, 为 121- 。因此它不是一个回文数。\n",
    "```\n",
    "示例 3:\n",
    "```\n",
    "输入: 10\n",
    "输出: false\n",
    "解释: 从右向左读, 为 01 。因此它不是一个回文数。\n",
    "```\n",
    "进阶:\n",
    "\n",
    "你能不将整数转为字符串来解决这个问题吗？"
   ]
  },
  {
   "cell_type": "code",
   "execution_count": 2,
   "metadata": {},
   "outputs": [
    {
     "name": "stdout",
     "output_type": "stream",
     "text": [
      "True\n",
      "True\n"
     ]
    }
   ],
   "source": [
    "''' cr_2022, E '''\n",
    "class Solution1:\n",
    "    \"\"\" 转为字符串 \"\"\"\n",
    "    def isPalindrome(self, x: int) -> bool:\n",
    "        sx = str(x)\n",
    "        x_len = len(sx)\n",
    "        res = True\n",
    "        for i in range(x_len // 2):\n",
    "            if sx[i] != sx[x_len - 1 - i]:\n",
    "                res = False\n",
    "        return res\n",
    "\n",
    "class Solution2:\n",
    "    \"\"\" 利用 x % 10 依次得到个位，进行反转比较 \"\"\"\n",
    "    def isPalindrome(self, x: int) -> bool:\n",
    "        if x < 0 or (x % 10 == 0 and x != 0):\n",
    "            return False\n",
    "        rev_num = 0\n",
    "        while x > rev_num: # 反转一半即可\n",
    "            rev_num = rev_num * 10 + x % 10\n",
    "            x = x // 10\n",
    "        return x == rev_num or x == rev_num // 10  # x 长度为奇偶两种情况\n",
    "\n",
    "\n",
    "x = 12345654321\n",
    "print(Solution1().isPalindrome(x))\n",
    "print(Solution2().isPalindrome(x))"
   ]
  },
  {
   "cell_type": "code",
   "execution_count": 8,
   "metadata": {},
   "outputs": [],
   "source": [
    "def isPalindrome(x):\n",
    "    sx = str(x)\n",
    "    L = len(sx)\n",
    "    output = True\n",
    "    for i in range(L//2):\n",
    "        if sx[i] != sx[L-1-i]:\n",
    "            output = False\n",
    "    return output\n",
    "        "
   ]
  },
  {
   "cell_type": "code",
   "execution_count": 9,
   "metadata": {},
   "outputs": [
    {
     "data": {
      "text/plain": [
       "True"
      ]
     },
     "execution_count": 9,
     "metadata": {},
     "output_type": "execute_result"
    }
   ],
   "source": [
    "x = 12345654321\n",
    "isPalindrome(x)"
   ]
  },
  {
   "cell_type": "markdown",
   "metadata": {},
   "source": [
    "#### 不转换为str来解\n",
    "因为转str会花费额外内存"
   ]
  },
  {
   "cell_type": "code",
   "execution_count": 12,
   "metadata": {},
   "outputs": [],
   "source": [
    "def isPalindrome1(x):\n",
    "    # 主要用到x%10得到各位这个事实，以及x=x//10这个循环\n",
    "    if x < 0 or (x % 10 == 0 and x != 0):\n",
    "        # 排除100000这种情况，这种情况最后必然revertedNum和x都变成了0\n",
    "        return False  \n",
    "    revertedNum = 0\n",
    "    while x > revertedNum:\n",
    "        revertedNum = revertedNum * 10 + x % 10\n",
    "        x = x // 10\n",
    "    return x == revertedNum or x == revertedNum // 10\n",
    "#         // 当数字长度为奇数时，我们可以通过 revertedNumber/10 去除处于中位的数字。\n",
    "#         // 例如，当输入为 12321 时，在 while 循环的末尾我们可以得到 x = 12，revertedNumber = 123，\n",
    "#         // 由于处于中位的数字不影响回文（它总是与自己相等），所以我们可以简单地将其去除。"
   ]
  },
  {
   "cell_type": "code",
   "execution_count": 11,
   "metadata": {},
   "outputs": [
    {
     "data": {
      "text/plain": [
       "True"
      ]
     },
     "execution_count": 11,
     "metadata": {},
     "output_type": "execute_result"
    }
   ],
   "source": [
    "isPalindrome1(x)"
   ]
  },
  {
   "cell_type": "code",
   "execution_count": null,
   "metadata": {},
   "outputs": [],
   "source": []
  }
 ],
 "metadata": {
  "kernelspec": {
   "display_name": "Python 3.9.10 ('base')",
   "language": "python",
   "name": "python3"
  },
  "language_info": {
   "codemirror_mode": {
    "name": "ipython",
    "version": 3
   },
   "file_extension": ".py",
   "mimetype": "text/x-python",
   "name": "python",
   "nbconvert_exporter": "python",
   "pygments_lexer": "ipython3",
   "version": "3.9.10"
  },
  "toc": {
   "base_numbering": 1,
   "nav_menu": {},
   "number_sections": true,
   "sideBar": true,
   "skip_h1_title": false,
   "title_cell": "Table of Contents",
   "title_sidebar": "Contents",
   "toc_cell": false,
   "toc_position": {},
   "toc_section_display": true,
   "toc_window_display": false
  },
  "vscode": {
   "interpreter": {
    "hash": "3774638e36becc1b3be4f932a09ec02e29dc9d9fab753e191431a024cc1a4cff"
   }
  }
 },
 "nbformat": 4,
 "nbformat_minor": 2
}
