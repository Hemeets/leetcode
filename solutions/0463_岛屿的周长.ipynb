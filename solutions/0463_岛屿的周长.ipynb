{
 "cells": [
  {
   "attachments": {},
   "cell_type": "markdown",
   "metadata": {},
   "source": [
    "463. 岛屿的周长\n",
    "\n",
    "给定一个 row x col 的二维网格地图 grid ，其中：grid[i][j] = 1 表示陆地， grid[i][j] = 0 表示水域。\n",
    "\n",
    "网格中的格子 水平和垂直 方向相连（对角线方向不相连）。整个网格被水完全包围，但其中恰好有一个岛屿（或者说，一个或多个表示陆地的格子相连组成的岛屿）。\n",
    "\n",
    "岛屿中没有“湖”（“湖” 指水域在岛屿内部且不和岛屿周围的水相连）。格子是边长为 1 的正方形。网格为长方形，且宽度和高度均不超过 100 。计算这个岛屿的周长。\n",
    "\n",
    "示例 1：\n",
    "```\n",
    "输入：grid = [[0,1,0,0],[1,1,1,0],[0,1,0,0],[1,1,0,0]]\n",
    "输出：16\n",
    "解释：它的周长是上面图片中的 16 个黄色的边\n",
    "```\n",
    "示例 2：\n",
    "```\n",
    "输入：grid = [[1]]\n",
    "输出：4\n",
    "```\n",
    "示例 3：\n",
    "```\n",
    "输入：grid = [[1,0]]\n",
    "输出：4\n",
    "```"
   ]
  },
  {
   "cell_type": "code",
   "execution_count": 5,
   "metadata": {},
   "outputs": [
    {
     "name": "stdout",
     "output_type": "stream",
     "text": [
      "16\n"
     ]
    }
   ],
   "source": [
    "'''2022, E'''\n",
    "from typing import List\n",
    "from collections import deque\n",
    "class Solution:\n",
    "    ''' dfs '''\n",
    "    def islandPerimeter(self, grid: List[List[int]]) -> int:\n",
    "        try:\n",
    "            row_n = len(grid)\n",
    "            col_n = len(grid[0])\n",
    "        except:\n",
    "            return 0\n",
    "        directions = [(0, 1), (0, -1), (1, 0), (-1, 0)]\n",
    "        \n",
    "        def dfs(r, c):\n",
    "            ''' dfs周游, 返回周长'''\n",
    "            if not self.in_area(row_n, col_n, r, c):  # base case\n",
    "                return 1\n",
    "            if grid[r][c] == 0:\n",
    "                return 1\n",
    "            if grid[r][c] == 2:\n",
    "                return 0\n",
    "            grid[r][c] = 2\n",
    "            ret_pe = 0\n",
    "            for dr, dc in directions:\n",
    "                n_r, n_c = r + dr, c + dc\n",
    "                ret_pe += dfs(n_r, n_c)\n",
    "            return ret_pe\n",
    "        \n",
    "        perimeter = 0\n",
    "        for r in range(row_n):\n",
    "            for c in range(col_n):\n",
    "                if grid[r][c] == 1:\n",
    "                    perimeter += dfs(r, c)\n",
    "        return perimeter\n",
    "\n",
    "    def in_area(self, row_n, col_n, r, c):\n",
    "        ''' 判断是否越界 '''\n",
    "        if 0 <= r < row_n and 0 <= c < col_n:\n",
    "            return True\n",
    "        else:\n",
    "            return False\n",
    "\n",
    "\n",
    "# 遍历一遍, 遇到的每个格子给周长贡献4, 每次上方或者左边相邻的时候, 减去2条重复的边\n",
    "class Solution1:\n",
    "    ''' 数学 '''\n",
    "    def islandPerimeter(self, grid: List[List[int]]) -> int:\n",
    "        try:\n",
    "            row_n = len(grid)\n",
    "            col_n = len(grid[0])\n",
    "        except:\n",
    "            return 0\n",
    "        res = 0\n",
    "        for r in range(row_n):\n",
    "            for c in range(col_n):\n",
    "                if grid[r][c] == 1:\n",
    "                    res += 4\n",
    "                    if r - 1 >= 0 and grid[r - 1][c] == 1:  # 跟正上方陆地相邻, 减去重复的2条边\n",
    "                        res -= 2\n",
    "                    if c - 1 >= 0 and grid[r][c - 1] == 1:  # 跟正左方陆地相邻, 减去重复的2条边\n",
    "                        res -= 2\n",
    "        return res\n",
    "\n",
    "grid = [[0,1,0,0],[1,1,1,0],[0,1,0,0],[1,1,0,0]]\n",
    "# print(Solution().islandPerimeter(grid))\n",
    "print(Solution1().islandPerimeter(grid))"
   ]
  },
  {
   "cell_type": "code",
   "execution_count": null,
   "metadata": {},
   "outputs": [],
   "source": []
  }
 ],
 "metadata": {
  "kernelspec": {
   "display_name": "Python 3.9.10 ('base')",
   "language": "python",
   "name": "python3"
  },
  "language_info": {
   "codemirror_mode": {
    "name": "ipython",
    "version": 3
   },
   "file_extension": ".py",
   "mimetype": "text/x-python",
   "name": "python",
   "nbconvert_exporter": "python",
   "pygments_lexer": "ipython3",
   "version": "3.9.10 | packaged by conda-forge | (main, Feb  1 2022, 21:27:43) \n[Clang 11.1.0 ]"
  },
  "toc": {
   "base_numbering": 1,
   "nav_menu": {},
   "number_sections": true,
   "sideBar": true,
   "skip_h1_title": false,
   "title_cell": "Table of Contents",
   "title_sidebar": "Contents",
   "toc_cell": false,
   "toc_position": {},
   "toc_section_display": true,
   "toc_window_display": false
  },
  "vscode": {
   "interpreter": {
    "hash": "3774638e36becc1b3be4f932a09ec02e29dc9d9fab753e191431a024cc1a4cff"
   }
  }
 },
 "nbformat": 4,
 "nbformat_minor": 2
}
