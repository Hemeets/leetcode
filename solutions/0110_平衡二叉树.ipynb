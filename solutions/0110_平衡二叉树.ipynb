{
 "cells": [
  {
   "attachments": {},
   "cell_type": "markdown",
   "metadata": {},
   "source": [
    "平衡二叉树\n",
    "\n",
    "给定一个二叉树，判断它是否是高度平衡的二叉树。\n",
    "\n",
    "本题中，一棵高度平衡二叉树定义为：\n",
    ">一个二叉树每个节点 的左右两个子树的高度差的绝对值不超过 1 。\n"
   ]
  },
  {
   "cell_type": "code",
   "execution_count": 2,
   "metadata": {},
   "outputs": [
    {
     "name": "stdout",
     "output_type": "stream",
     "text": [
      "{'left': {'left': {'left': {'left': None, 'right': None, 'val': 4},\n",
      "                   'right': {'left': None, 'right': None, 'val': 4},\n",
      "                   'val': 3},\n",
      "          'right': {'left': None, 'right': None, 'val': 3},\n",
      "          'val': 2},\n",
      " 'right': {'left': None, 'right': None, 'val': 2},\n",
      " 'val': 1}\n",
      "False\n"
     ]
    }
   ],
   "source": [
    "'''cr2022, E'''\n",
    "# 自己写的\n",
    "from utils import TreeNode, pprint, l2tn, Optional\n",
    "class Solution:\n",
    "    def isBalanced(self, root: Optional[TreeNode]) -> bool:\n",
    "        def dfs(root):\n",
    "            if not root:\n",
    "                return True, 0\n",
    "            \n",
    "            left_is, left_h = dfs(root.left)\n",
    "            right_is, right_h = dfs(root.right)\n",
    "            if left_is and right_is and abs(left_h - right_h) <= 1:\n",
    "                return True, max(left_h, right_h) + 1\n",
    "            else:\n",
    "                return False, -1\n",
    "        is_bal, _ = dfs(root)\n",
    "        return is_bal\n",
    "\n",
    "# root = l2tn([3,9,20,None,None,15,7])\n",
    "root = l2tn([1,2,2,3,3,None,None,4,4])\n",
    "pprint(root.to_dict())\n",
    "print(Solution().isBalanced(root))"
   ]
  },
  {
   "cell_type": "code",
   "execution_count": null,
   "metadata": {},
   "outputs": [],
   "source": []
  }
 ],
 "metadata": {
  "kernelspec": {
   "display_name": "base",
   "language": "python",
   "name": "python3"
  },
  "language_info": {
   "codemirror_mode": {
    "name": "ipython",
    "version": 3
   },
   "file_extension": ".py",
   "mimetype": "text/x-python",
   "name": "python",
   "nbconvert_exporter": "python",
   "pygments_lexer": "ipython3",
   "version": "3.9.10 | packaged by conda-forge | (main, Feb  1 2022, 21:27:43) \n[Clang 11.1.0 ]"
  },
  "orig_nbformat": 4,
  "vscode": {
   "interpreter": {
    "hash": "3774638e36becc1b3be4f932a09ec02e29dc9d9fab753e191431a024cc1a4cff"
   }
  }
 },
 "nbformat": 4,
 "nbformat_minor": 2
}
