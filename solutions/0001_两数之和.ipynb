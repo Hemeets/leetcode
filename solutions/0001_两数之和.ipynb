{
 "cells": [
  {
   "cell_type": "markdown",
   "metadata": {},
   "source": [
    "### 两数之和\n",
    "给定一个整数数组 nums 和一个目标值 target，请你在该数组中找出和为目标值的那 两个 整数，并返回他们的数组下标。\n",
    "\n",
    "你可以假设每种输入只会对应一个答案。但是，你不能重复利用这个数组中同样的元素。\n",
    "\n",
    "示例:\n",
    "\n",
    "给定 nums = [2, 7, 11, 15], target = 9\n",
    "\n",
    "因为 nums[0] + nums[1] = 2 + 7 = 9\n",
    "所以返回 [0, 1]"
   ]
  },
  {
   "cell_type": "code",
   "execution_count": 9,
   "metadata": {},
   "outputs": [
    {
     "name": "stdout",
     "output_type": "stream",
     "text": [
      "(2, 4)\n",
      "(4, 2)\n"
     ]
    }
   ],
   "source": [
    "'''cr_2022, Easy'''\n",
    "\n",
    "# cr_2022 表示2022年重新review，并运行通过的\n",
    "from typing import List\n",
    "\n",
    "class Solution:\n",
    "    \"\"\" 方法1，hash表，空间换时间。空间O（n），时间O（n）\"\"\"\n",
    "    def twoSum(self, nums: List[int], target: int) -> List[int]:\n",
    "        hash_table = dict()\n",
    "        for i, num in enumerate(nums):\n",
    "            # 对于每一个 x，我们首先查询哈希表中是否存在 target - x，然后将 x 插入到哈希表中，即可保证不会让 x 和自己匹配。\n",
    "            if (target - num) in hash_table:\n",
    "                return (hash_table[target - num], i)\n",
    "            hash_table[num] = i\n",
    "        return None\n",
    "\n",
    "class Solution1:\n",
    "    \"\"\" 先排序，再查找，O(nlogn) \"\"\"\n",
    "    def twoSum(self, nums: List[int], target: int) -> List[int]:\n",
    "        nums_len = len(nums)\n",
    "        sorted_idx = sorted(range(nums_len), key=lambda i: nums[i])\n",
    "        head, tail = 0, nums_len - 1\n",
    "        # while head <= nums_len - 1 and tail >= 0:\n",
    "        while head <= tail:\n",
    "            cur_sum = nums[sorted_idx[head]] + nums[sorted_idx[tail]]\n",
    "            # print(head, tail, cur_sum)\n",
    "            if cur_sum == target:\n",
    "                return (sorted_idx[head], sorted_idx[tail])\n",
    "            elif cur_sum > target:\n",
    "                tail -= 1\n",
    "            else:\n",
    "                head += 1\n",
    "        return None\n",
    "\n",
    "\n",
    "nums = [-1,-2,-3,-4,-5]\n",
    "target = -8\n",
    "print(Solution().twoSum(nums, target))\n",
    "print(Solution1().twoSum(nums, target))"
   ]
  },
  {
   "cell_type": "markdown",
   "metadata": {},
   "source": [
    "#### 最直接的方法，时间复杂度为$O(n^2)$"
   ]
  },
  {
   "cell_type": "code",
   "execution_count": 7,
   "metadata": {},
   "outputs": [],
   "source": [
    "def twoSum1(nums, target):\n",
    "    for i in range(len(nums)):\n",
    "        for j in range(i + 1, len(nums)):\n",
    "            if nums[i] + nums[j] == target:\n",
    "                return [i, j]"
   ]
  },
  {
   "cell_type": "markdown",
   "metadata": {},
   "source": [
    "#### hash表 空间复杂度换取时间复杂度，空间复杂度$O(n)$，时间复杂度$O(n)$"
   ]
  },
  {
   "cell_type": "markdown",
   "metadata": {},
   "source": [
    "#### 先排序再查找，$T=O(nlogn)$"
   ]
  }
 ],
 "metadata": {
  "kernelspec": {
   "display_name": "Python 3.9.10 ('base')",
   "language": "python",
   "name": "python3"
  },
  "language_info": {
   "codemirror_mode": {
    "name": "ipython",
    "version": 3
   },
   "file_extension": ".py",
   "mimetype": "text/x-python",
   "name": "python",
   "nbconvert_exporter": "python",
   "pygments_lexer": "ipython3",
   "version": "3.9.10 | packaged by conda-forge | (main, Feb  1 2022, 21:27:43) \n[Clang 11.1.0 ]"
  },
  "toc": {
   "base_numbering": 1,
   "nav_menu": {},
   "number_sections": true,
   "sideBar": true,
   "skip_h1_title": false,
   "title_cell": "Table of Contents",
   "title_sidebar": "Contents",
   "toc_cell": false,
   "toc_position": {},
   "toc_section_display": true,
   "toc_window_display": false
  },
  "vscode": {
   "interpreter": {
    "hash": "3774638e36becc1b3be4f932a09ec02e29dc9d9fab753e191431a024cc1a4cff"
   }
  }
 },
 "nbformat": 4,
 "nbformat_minor": 2
}
