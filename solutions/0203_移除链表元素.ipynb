{
 "cells": [
  {
   "cell_type": "markdown",
   "metadata": {},
   "source": [
    "删除链表中等于给定值 val 的所有节点。\n",
    "\n",
    "示例:\n",
    "\n",
    "输入: 1->2->6->3->4->5->6, val = 6\n",
    "输出: 1->2->3->4->5"
   ]
  },
  {
   "cell_type": "code",
   "execution_count": 2,
   "metadata": {},
   "outputs": [
    {
     "data": {
      "text/plain": [
       "[1, 2, 3, 4, 5]"
      ]
     },
     "execution_count": 2,
     "metadata": {},
     "output_type": "execute_result"
    }
   ],
   "source": [
    "'''cr2022, E'''\n",
    "from utils import *\n",
    "class Solution:\n",
    "    def removeElements(self, head: Optional[ListNode], val: int) -> Optional[ListNode]:\n",
    "        prehead = ListNode(-1, head)\n",
    "        p = prehead\n",
    "        while p.next:\n",
    "            if p.next.val == val:\n",
    "                p.next = p.next.next\n",
    "            else:\n",
    "                p = p.next\n",
    "        return prehead.next\n",
    "\n",
    "head = l2ln([1,2,6,3,4,5,6])\n",
    "val = 6\n",
    "ln2l(Solution().removeElements(head, val))"
   ]
  }
 ],
 "metadata": {
  "kernelspec": {
   "display_name": "base",
   "language": "python",
   "name": "python3"
  },
  "language_info": {
   "codemirror_mode": {
    "name": "ipython",
    "version": 3
   },
   "file_extension": ".py",
   "mimetype": "text/x-python",
   "name": "python",
   "nbconvert_exporter": "python",
   "pygments_lexer": "ipython3",
   "version": "3.9.10 | packaged by conda-forge | (main, Feb  1 2022, 21:27:43) \n[Clang 11.1.0 ]"
  },
  "toc": {
   "base_numbering": 1,
   "nav_menu": {},
   "number_sections": true,
   "sideBar": true,
   "skip_h1_title": false,
   "title_cell": "Table of Contents",
   "title_sidebar": "Contents",
   "toc_cell": false,
   "toc_position": {},
   "toc_section_display": true,
   "toc_window_display": false
  },
  "vscode": {
   "interpreter": {
    "hash": "3774638e36becc1b3be4f932a09ec02e29dc9d9fab753e191431a024cc1a4cff"
   }
  }
 },
 "nbformat": 4,
 "nbformat_minor": 2
}
