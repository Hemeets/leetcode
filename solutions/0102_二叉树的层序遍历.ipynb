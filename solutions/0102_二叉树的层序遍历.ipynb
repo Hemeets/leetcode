{
 "cells": [
  {
   "attachments": {},
   "cell_type": "markdown",
   "metadata": {},
   "source": [
    "二叉树的层序遍历\n",
    "\n",
    "给定一个二叉树，返回其按层次遍历的节点值。 （即逐层地，从左到右访问所有节点）。\n",
    "\n",
    "例如:\n",
    "给定二叉树: [3,9,20,null,null,15,7],\n",
    "\n",
    "        3\n",
    "       / \\\n",
    "      9  20\n",
    "      /  \\\n",
    "     15   7\n",
    "返回其层次遍历结果：\n",
    "\n",
    "[\n",
    "  [3],\n",
    "  [9,20],\n",
    "  [15,7]\n",
    "]\n",
    "\n",
    "来源：力扣（LeetCode）\n",
    "链接：https://leetcode-cn.com/problems/binary-tree-level-order-traversal\n",
    "著作权归领扣网络所有。商业转载请联系官方授权，非商业转载请注明出处。"
   ]
  },
  {
   "cell_type": "code",
   "execution_count": 1,
   "metadata": {},
   "outputs": [
    {
     "data": {
      "text/plain": [
       "[[3], [9, 20], [15, 7]]"
      ]
     },
     "execution_count": 1,
     "metadata": {},
     "output_type": "execute_result"
    }
   ],
   "source": [
    "'''cr2022, M'''\n",
    "from utils import Optional, TreeNode, List, l2tn\n",
    "class Solution:\n",
    "    def levelOrder(self, root: Optional[TreeNode]) -> List[List[int]]:\n",
    "        res = list()\n",
    "        if not root:\n",
    "            return res\n",
    "        q = [root]\n",
    "        while q:\n",
    "            tmp_q = list()\n",
    "            cur_res = list()\n",
    "            for n in q:\n",
    "                cur_res.append(n.val)\n",
    "                if n.left:\n",
    "                    tmp_q.append(n.left)\n",
    "                if n.right:\n",
    "                    tmp_q.append(n.right)\n",
    "            q = tmp_q\n",
    "            res.append(cur_res)\n",
    "        return res\n",
    "\n",
    "\n",
    "root = [3,9,20,None,None,15,7]\n",
    "Solution().levelOrder(l2tn(root))"
   ]
  },
  {
   "cell_type": "code",
   "execution_count": null,
   "metadata": {},
   "outputs": [],
   "source": []
  }
 ],
 "metadata": {
  "kernelspec": {
   "display_name": "base",
   "language": "python",
   "name": "python3"
  },
  "language_info": {
   "codemirror_mode": {
    "name": "ipython",
    "version": 3
   },
   "file_extension": ".py",
   "mimetype": "text/x-python",
   "name": "python",
   "nbconvert_exporter": "python",
   "pygments_lexer": "ipython3",
   "version": "3.9.10 | packaged by conda-forge | (main, Feb  1 2022, 21:27:43) \n[Clang 11.1.0 ]"
  },
  "toc": {
   "base_numbering": 1,
   "nav_menu": {},
   "number_sections": true,
   "sideBar": true,
   "skip_h1_title": false,
   "title_cell": "Table of Contents",
   "title_sidebar": "Contents",
   "toc_cell": false,
   "toc_position": {},
   "toc_section_display": true,
   "toc_window_display": false
  },
  "vscode": {
   "interpreter": {
    "hash": "3774638e36becc1b3be4f932a09ec02e29dc9d9fab753e191431a024cc1a4cff"
   }
  }
 },
 "nbformat": 4,
 "nbformat_minor": 2
}
