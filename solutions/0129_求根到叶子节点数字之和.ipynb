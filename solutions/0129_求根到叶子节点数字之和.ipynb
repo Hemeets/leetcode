{
 "cells": [
  {
   "attachments": {},
   "cell_type": "markdown",
   "metadata": {},
   "source": [
    "求根到叶子节点数字之和\n",
    "\n",
    "给定一个二叉树，它的每个结点都存放一个 0-9 的数字，每条从根到叶子节点的路径都代表一个数字。\n",
    "\n",
    "例如，从根到叶子节点路径 1->2->3 代表数字 123。\n",
    "\n",
    "计算从根到叶子节点生成的所有数字之和。\n",
    "\n",
    "说明: 叶子节点是指没有子节点的节点。\n",
    "\n",
    "示例 1:\n",
    "```\n",
    "输入: [1,2,3]\n",
    "\n",
    "        1\n",
    "       / \\\n",
    "      2   3\n",
    "输出: 25\n",
    "解释:\n",
    "从根到叶子节点路径 1->2 代表数字 12.\n",
    "从根到叶子节点路径 1->3 代表数字 13.\n",
    "因此，数字总和 = 12 + 13 = 25.\n",
    "```\n",
    "示例 2:\n",
    "```\n",
    "输入: [4,9,0,5,1]\n",
    "\n",
    "        4\n",
    "       / \\\n",
    "      9   0\n",
    "     / \\\n",
    "    5   1\n",
    "输出: 1026\n",
    "解释:\n",
    "从根到叶子节点路径 4->9->5 代表数字 495.\n",
    "从根到叶子节点路径 4->9->1 代表数字 491.\n",
    "从根到叶子节点路径 4->0 代表数字 40.\n",
    "因此，数字总和 = 495 + 491 + 40 = 1026.\n",
    "```\n",
    "来源：力扣（LeetCode）\n",
    "链接：https://leetcode-cn.com/problems/sum-root-to-leaf-numbers\n",
    "著作权归领扣网络所有。商业转载请联系官方授权，非商业转载请注明出处。"
   ]
  },
  {
   "cell_type": "code",
   "execution_count": 2,
   "metadata": {},
   "outputs": [
    {
     "data": {
      "text/plain": [
       "1026"
      ]
     },
     "execution_count": 2,
     "metadata": {},
     "output_type": "execute_result"
    }
   ],
   "source": [
    "'''cr2022, M'''\n",
    "from utils import *\n",
    "class Solution:\n",
    "    def sumNumbers(self, root: Optional[TreeNode]) -> int:\n",
    "        def dfs(root, s):\n",
    "            if not root:\n",
    "                return 0\n",
    "            s = s * 10 + root.val\n",
    "            if root.left is None and root.right is None:\n",
    "                return s\n",
    "            return dfs(root.left, s) + dfs(root.right, s)\n",
    "        return dfs(root, 0)\n",
    "\n",
    "root = l2tn([4,9,0,5,1])\n",
    "Solution().sumNumbers(root)"
   ]
  },
  {
   "cell_type": "code",
   "execution_count": null,
   "metadata": {},
   "outputs": [],
   "source": []
  }
 ],
 "metadata": {
  "kernelspec": {
   "display_name": "Python 3.9.10 ('base')",
   "language": "python",
   "name": "python3"
  },
  "language_info": {
   "codemirror_mode": {
    "name": "ipython",
    "version": 3
   },
   "file_extension": ".py",
   "mimetype": "text/x-python",
   "name": "python",
   "nbconvert_exporter": "python",
   "pygments_lexer": "ipython3",
   "version": "3.9.10 | packaged by conda-forge | (main, Feb  1 2022, 21:27:43) \n[Clang 11.1.0 ]"
  },
  "toc": {
   "base_numbering": 1,
   "nav_menu": {},
   "number_sections": true,
   "sideBar": true,
   "skip_h1_title": false,
   "title_cell": "Table of Contents",
   "title_sidebar": "Contents",
   "toc_cell": false,
   "toc_position": {},
   "toc_section_display": true,
   "toc_window_display": false
  },
  "vscode": {
   "interpreter": {
    "hash": "3774638e36becc1b3be4f932a09ec02e29dc9d9fab753e191431a024cc1a4cff"
   }
  }
 },
 "nbformat": 4,
 "nbformat_minor": 2
}
