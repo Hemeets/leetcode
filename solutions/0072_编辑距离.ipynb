{
 "cells": [
  {
   "attachments": {},
   "cell_type": "markdown",
   "metadata": {},
   "source": [
    "编辑距离\n",
    "\n",
    "给你两个单词 word1 和 word2， 请返回将 word1 转换成 word2 所使用的最少操作数 \n",
    "\n",
    "你可以对一个单词进行如下三种操作：\n",
    "\n",
    "- 插入一个字符\n",
    "- 删除一个字符\n",
    "- 替换一个字符\n",
    " \n",
    "\n",
    "示例 1：\n",
    "```\n",
    "输入：word1 = \"horse\", word2 = \"ros\"\n",
    "输出：3\n",
    "解释：\n",
    "horse -> rorse (将 'h' 替换为 'r')\n",
    "rorse -> rose (删除 'r')\n",
    "rose -> ros (删除 'e')\n",
    "```\n",
    "示例 2：\n",
    "```\n",
    "输入：word1 = \"intention\", word2 = \"execution\"\n",
    "输出：5\n",
    "解释：\n",
    "intention -> inention (删除 't')\n",
    "inention -> enention (将 'i' 替换为 'e')\n",
    "enention -> exention (将 'n' 替换为 'x')\n",
    "exention -> exection (将 'n' 替换为 'c')\n",
    "exection -> execution (插入 'u')\n",
    "```\n",
    "\n",
    "提示：\n",
    "```\n",
    "0 <= word1.length, word2.length <= 500\n",
    "word1 和 word2 由小写英文字母组成\n",
    "```"
   ]
  },
  {
   "cell_type": "code",
   "execution_count": 1,
   "metadata": {},
   "outputs": [
    {
     "data": {
      "text/plain": [
       "3"
      ]
     },
     "execution_count": 1,
     "metadata": {},
     "output_type": "execute_result"
    }
   ],
   "source": [
    "'''cr2022, H'''\n",
    "# 动态规划，D[i][j]表示A的前i个字母和B的前j个字母之间的距离\n",
    "class Solution:\n",
    "    def minDistance(self, word1: str, word2: str) -> int:\n",
    "        n, m = len(word1), len(word2)\n",
    "        if n * m == 0:  # 有一个字符串为空串\n",
    "            return n + m\n",
    "        dp = [[0] * (m + 1) for _ in range(n + 1)]\n",
    "        # 边界初始化\n",
    "        for i in range(n + 1):\n",
    "            dp[i][0] = i\n",
    "        for j in range(m + 1):\n",
    "            dp[0][j] = j \n",
    "        for i in range(1, n + 1):\n",
    "            for j in range(1, m + 1):\n",
    "                left = dp[i][j - 1] + 1\n",
    "                down = dp[i - 1][j] + 1\n",
    "                left_down = dp[i - 1][j - 1]\n",
    "                if word1[i - 1] != word2[j - 1]:\n",
    "                    left_down += 1\n",
    "                dp[i][j] = min(left, down, left_down)\n",
    "        return dp[n][m]\n",
    "\n",
    "word1 = \"horse\"\n",
    "word2 = \"ros\"\n",
    "Solution().minDistance(word1, word2)"
   ]
  },
  {
   "cell_type": "code",
   "execution_count": null,
   "metadata": {},
   "outputs": [],
   "source": []
  }
 ],
 "metadata": {
  "kernelspec": {
   "display_name": "Python 3.9.10 ('base')",
   "language": "python",
   "name": "python3"
  },
  "language_info": {
   "codemirror_mode": {
    "name": "ipython",
    "version": 3
   },
   "file_extension": ".py",
   "mimetype": "text/x-python",
   "name": "python",
   "nbconvert_exporter": "python",
   "pygments_lexer": "ipython3",
   "version": "3.9.10 | packaged by conda-forge | (main, Feb  1 2022, 21:27:43) \n[Clang 11.1.0 ]"
  },
  "orig_nbformat": 4,
  "vscode": {
   "interpreter": {
    "hash": "3774638e36becc1b3be4f932a09ec02e29dc9d9fab753e191431a024cc1a4cff"
   }
  }
 },
 "nbformat": 4,
 "nbformat_minor": 2
}
