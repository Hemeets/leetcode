{
 "cells": [
  {
   "cell_type": "markdown",
   "metadata": {},
   "source": [
    "### 两数相加\n",
    "给出两个 非空 的链表用来表示两个非负的整数。其中，它们各自的位数是按照 **逆序** 的方式存储的，并且它们的每个节点只能存储 一位 数字。\n",
    "\n",
    "如果，我们将这两个数相加起来，则会返回一个新的链表来表示它们的和。\n",
    "\n",
    "您可以假设除了数字 0 之外，这两个数都不会以 0 开头。\n",
    "\n",
    "示例：\n",
    "\n",
    "输入：(2 -> 4 -> 3) + (5 -> 6 -> 4)\n",
    "输出：7 -> 0 -> 8\n",
    "原因：342 + 465 = 807"
   ]
  },
  {
   "cell_type": "code",
   "execution_count": 1,
   "metadata": {},
   "outputs": [
    {
     "name": "stdout",
     "output_type": "stream",
     "text": [
      "[7, 0, 8]\n"
     ]
    }
   ],
   "source": [
    "''' cr_2022, Median'''\n",
    "class ListNode:\n",
    "    def __init__(self, x):\n",
    "        self.val = x\n",
    "        self.next = None\n",
    "\n",
    "class Solution:\n",
    "    def addTwoNumbers(self, l1: ListNode, l2: ListNode) -> ListNode:\n",
    "        head = ListNode(None)\n",
    "        p = head\n",
    "        carry = 0\n",
    "        while carry or l1 or l2:\n",
    "            s = 0\n",
    "            if l1:\n",
    "                s += l1.val\n",
    "                l1 = l1.next\n",
    "            if l2:\n",
    "                s += l2.val\n",
    "                l2 = l2.next\n",
    "            if carry:\n",
    "                s += carry\n",
    "            carry = s // 10\n",
    "            p.next = ListNode(s % 10)\n",
    "            p = p.next\n",
    "        \n",
    "        return head.next\n",
    "\n",
    "\n",
    "def List2ListNode(List):\n",
    "    Fnode = ListNode(0)\n",
    "    node = Fnode\n",
    "    for a in List:\n",
    "        node.next = ListNode(a)\n",
    "        node = node.next\n",
    "    return Fnode.next\n",
    "def ListNode2List(Node):\n",
    "    List = list()\n",
    "    node = Node\n",
    "    while node:\n",
    "        List.append(node.val)\n",
    "        node = node.next\n",
    "    return List\n",
    "\n",
    "\n",
    "l1 = [2, 4, 3]\n",
    "l2 = [5, 6, 4]\n",
    "node_l1 = List2ListNode(l1)\n",
    "node_l2 = List2ListNode(l2)\n",
    "res_node = Solution().addTwoNumbers(node_l1, node_l2)\n",
    "print(ListNode2List(res_node))"
   ]
  },
  {
   "cell_type": "code",
   "execution_count": null,
   "metadata": {},
   "outputs": [],
   "source": []
  }
 ],
 "metadata": {
  "kernelspec": {
   "display_name": "Python 3.9.10 ('base')",
   "language": "python",
   "name": "python3"
  },
  "language_info": {
   "codemirror_mode": {
    "name": "ipython",
    "version": 3
   },
   "file_extension": ".py",
   "mimetype": "text/x-python",
   "name": "python",
   "nbconvert_exporter": "python",
   "pygments_lexer": "ipython3",
   "version": "3.9.10"
  },
  "toc": {
   "base_numbering": 1,
   "nav_menu": {},
   "number_sections": true,
   "sideBar": true,
   "skip_h1_title": false,
   "title_cell": "Table of Contents",
   "title_sidebar": "Contents",
   "toc_cell": false,
   "toc_position": {},
   "toc_section_display": true,
   "toc_window_display": false
  },
  "vscode": {
   "interpreter": {
    "hash": "3774638e36becc1b3be4f932a09ec02e29dc9d9fab753e191431a024cc1a4cff"
   }
  }
 },
 "nbformat": 4,
 "nbformat_minor": 2
}
