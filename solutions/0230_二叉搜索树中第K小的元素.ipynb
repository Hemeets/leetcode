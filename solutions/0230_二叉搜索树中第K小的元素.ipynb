{
 "cells": [
  {
   "cell_type": "markdown",
   "metadata": {},
   "source": [
    "给定一个二叉搜索树，编写一个函数 kthSmallest 来查找其中第 k 个最小的元素。\n",
    "\n",
    "说明：\n",
    "你可以假设 k 总是有效的，1 ≤ k ≤ 二叉搜索树元素个数。\n",
    "\n",
    "示例 1:\n",
    "\n",
    "输入: root = [3,1,4,null,2], k = 1\n",
    "\n",
    "       3\n",
    "      / \\\n",
    "     1   4\n",
    "      \\\n",
    "       2\n",
    "输出: 1\n",
    "\n",
    "示例 2:\n",
    "\n",
    "输入: root = [5,3,6,2,4,null,null,1], k = 3\n",
    "\n",
    "           5\n",
    "          / \\\n",
    "         3   6\n",
    "        / \\\n",
    "       2   4\n",
    "      /\n",
    "     1\n",
    "输出: 3\n",
    "进阶：\n",
    "如果二叉搜索树经常被修改（插入/删除操作）并且你需要频繁地查找第 k 小的值，你将如何优化 kthSmallest 函数？\n",
    "\n",
    "来源：力扣（LeetCode）\n",
    "链接：https://leetcode-cn.com/problems/kth-smallest-element-in-a-bst\n",
    "著作权归领扣网络所有。商业转载请联系官方授权，非商业转载请注明出处。"
   ]
  },
  {
   "cell_type": "code",
   "execution_count": 9,
   "metadata": {},
   "outputs": [
    {
     "name": "stdout",
     "output_type": "stream",
     "text": [
      "1\n",
      "1\n"
     ]
    }
   ],
   "source": [
    "'''2022, M'''\n",
    "from utils import *\n",
    "class Solution:\n",
    "    '''dfs迭代'''\n",
    "    def __init__(self):\n",
    "        self.res = None\n",
    "        self.count = 0\n",
    "    def kthSmallest(self, root: Optional[TreeNode], k: int) -> int:\n",
    "        def dfs(root):\n",
    "            if not root:\n",
    "                return\n",
    "            dfs(root.left)\n",
    "            if self.res:  # 剪枝\n",
    "                return\n",
    "            self.count += 1\n",
    "            if self.count == k:\n",
    "                self.res = root.val\n",
    "            dfs(root.right)\n",
    "        dfs(root)\n",
    "        return self.res\n",
    "\n",
    "\n",
    "class Solution1:\n",
    "    '''dfs遍历'''\n",
    "    def kthSmallest(self, root: Optional[TreeNode], k: int) -> int:\n",
    "        stack = list()\n",
    "        cur = root\n",
    "        count = 0\n",
    "        while stack or cur:\n",
    "            while cur:\n",
    "                stack.append(cur)\n",
    "                cur = cur.left\n",
    "            cur = stack.pop()\n",
    "            count += 1\n",
    "            if count == k:\n",
    "                return cur.val\n",
    "            cur = cur.right\n",
    "        return None\n",
    "\n",
    "\n",
    "root = l2tn([3,1,4,None,2])\n",
    "k = 1\n",
    "print(Solution().kthSmallest(root, k))\n",
    "print(Solution1().kthSmallest(root, k))"
   ]
  },
  {
   "cell_type": "code",
   "execution_count": null,
   "metadata": {},
   "outputs": [],
   "source": []
  }
 ],
 "metadata": {
  "kernelspec": {
   "display_name": "Python 3.9.10 ('base')",
   "language": "python",
   "name": "python3"
  },
  "language_info": {
   "codemirror_mode": {
    "name": "ipython",
    "version": 3
   },
   "file_extension": ".py",
   "mimetype": "text/x-python",
   "name": "python",
   "nbconvert_exporter": "python",
   "pygments_lexer": "ipython3",
   "version": "3.9.10 | packaged by conda-forge | (main, Feb  1 2022, 21:27:43) \n[Clang 11.1.0 ]"
  },
  "toc": {
   "base_numbering": 1,
   "nav_menu": {},
   "number_sections": true,
   "sideBar": true,
   "skip_h1_title": false,
   "title_cell": "Table of Contents",
   "title_sidebar": "Contents",
   "toc_cell": false,
   "toc_position": {},
   "toc_section_display": true,
   "toc_window_display": false
  },
  "vscode": {
   "interpreter": {
    "hash": "3774638e36becc1b3be4f932a09ec02e29dc9d9fab753e191431a024cc1a4cff"
   }
  }
 },
 "nbformat": 4,
 "nbformat_minor": 2
}
