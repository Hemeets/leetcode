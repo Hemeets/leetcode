{
 "cells": [
  {
   "cell_type": "markdown",
   "metadata": {},
   "source": [
    "给定不同面额的硬币 coins 和一个总金额 amount。编写一个函数来计算可以凑成总金额所需的最少的硬币个数。如果没有任何一种硬币组合能组成总金额，返回 -1。\n",
    "\n",
    "示例 1:\n",
    "\n",
    "输入: coins = [1, 2, 5], amount = 11\n",
    "输出: 3 \n",
    "解释: 11 = 5 + 5 + 1\n",
    "示例 2:\n",
    "\n",
    "输入: coins = [2], amount = 3\n",
    "输出: -1\n",
    "说明:\n",
    "你可以认为每种硬币的数量是无限的。\n",
    "\n",
    "来源：力扣（LeetCode）\n",
    "链接：https://leetcode-cn.com/problems/coin-change\n",
    "著作权归领扣网络所有。商业转载请联系官方授权，非商业转载请注明出处。"
   ]
  },
  {
   "cell_type": "code",
   "execution_count": 2,
   "metadata": {},
   "outputs": [
    {
     "data": {
      "text/plain": [
       "3"
      ]
     },
     "execution_count": 2,
     "metadata": {},
     "output_type": "execute_result"
    }
   ],
   "source": [
    "'''2022, M'''\n",
    "from typing import List\n",
    "class Solution:\n",
    "    ''' dp '''\n",
    "    def coinChange(self, coins: List[int], amount: int) -> int:\n",
    "        # dp[i], 凑成i所需要的最少硬币数\n",
    "        dp = [amount + 1] * (amount + 1)  # amout+1, 因为最后需要判断是否组合成功了\n",
    "        dp[0] = 0\n",
    "        for i in range(1, amount + 1):\n",
    "            for c in coins:\n",
    "                if i >= c:\n",
    "                    dp[i] = min(dp[i], dp[i - c] + 1)\n",
    "        return -1 if dp[amount] == amount + 1 else dp[amount]\n",
    "\n",
    "coins = [1, 2, 5]\n",
    "amount = 11\n",
    "Solution().coinChange(coins, amount)"
   ]
  },
  {
   "cell_type": "code",
   "execution_count": 17,
   "metadata": {},
   "outputs": [],
   "source": [
    "def coinChange(coins, amount):\n",
    "    \n",
    "    dp = [amount+1] * (amount + 1)\n",
    "    # 做对了！初始化和官方解答一样！说明想法一致\n",
    "    dp[0] = 0\n",
    "    for i in range(1, amount+1):\n",
    "        sw = False\n",
    "        for c in coins:           \n",
    "            if i >= c:\n",
    "                sw = True\n",
    "                dp[i] = min(dp[i], dp[i - c])\n",
    "        \n",
    "        if sw:\n",
    "            dp[i] = dp[i] + 1\n",
    "#         else:\n",
    "#             dp[i] = amount+1\n",
    "#         print(i, dp[i])\n",
    "    return -1 if dp[amount] > amount else dp[amount]      "
   ]
  }
 ],
 "metadata": {
  "kernelspec": {
   "display_name": "base",
   "language": "python",
   "name": "python3"
  },
  "language_info": {
   "codemirror_mode": {
    "name": "ipython",
    "version": 3
   },
   "file_extension": ".py",
   "mimetype": "text/x-python",
   "name": "python",
   "nbconvert_exporter": "python",
   "pygments_lexer": "ipython3",
   "version": "3.9.10 | packaged by conda-forge | (main, Feb  1 2022, 21:27:43) \n[Clang 11.1.0 ]"
  },
  "toc": {
   "base_numbering": 1,
   "nav_menu": {},
   "number_sections": true,
   "sideBar": true,
   "skip_h1_title": false,
   "title_cell": "Table of Contents",
   "title_sidebar": "Contents",
   "toc_cell": false,
   "toc_position": {},
   "toc_section_display": true,
   "toc_window_display": false
  },
  "vscode": {
   "interpreter": {
    "hash": "3774638e36becc1b3be4f932a09ec02e29dc9d9fab753e191431a024cc1a4cff"
   }
  }
 },
 "nbformat": 4,
 "nbformat_minor": 2
}
