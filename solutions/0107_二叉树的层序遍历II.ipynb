{
 "cells": [
  {
   "attachments": {},
   "cell_type": "markdown",
   "metadata": {},
   "source": [
    "二叉树的层序遍历II\n",
    "\n",
    "给定一个二叉树，返回其节点值自底向上的层次遍历。 （即按从叶子节点所在层到根节点所在的层，逐层从左向右遍历）\n",
    "\n",
    "例如：\n",
    "给定二叉树 [3,9,20,null,null,15,7],\n",
    "```\n",
    "    3\n",
    "   / \\\n",
    "  9  20\n",
    "    /  \\\n",
    "   15   7\n",
    "```\n",
    "返回其自底向上的层次遍历为：\n",
    "```\n",
    "[\n",
    "  [15,7],\n",
    "  [9,20],\n",
    "  [3]\n",
    "]\n",
    "```"
   ]
  },
  {
   "cell_type": "code",
   "execution_count": 3,
   "metadata": {},
   "outputs": [
    {
     "data": {
      "text/plain": [
       "[[15, 7], [9, 20], [3]]"
      ]
     },
     "execution_count": 3,
     "metadata": {},
     "output_type": "execute_result"
    }
   ],
   "source": [
    "'''cr2022, M'''\n",
    "from utils import Optional, TreeNode, List, l2tn\n",
    "class Solution:\n",
    "    def levelOrder(self, root: Optional[TreeNode]) -> List[List[int]]:\n",
    "        res = list()\n",
    "        if not root:\n",
    "            return res\n",
    "        q = [root]\n",
    "        while q:\n",
    "            tmp_q = list()\n",
    "            cur_res = list()\n",
    "            for n in q:\n",
    "                cur_res.append(n.val)\n",
    "                if n.left:\n",
    "                    tmp_q.append(n.left)\n",
    "                if n.right:\n",
    "                    tmp_q.append(n.right)\n",
    "            q = tmp_q\n",
    "            res.append(cur_res)\n",
    "        res.reverse()\n",
    "        return res\n",
    "\n",
    "\n",
    "root = [3,9,20,None,None,15,7]\n",
    "Solution().levelOrder(l2tn(root))"
   ]
  },
  {
   "cell_type": "markdown",
   "metadata": {},
   "source": [
    "我打算用队列来做，python中队列可以这么写：每次用个tmp的list接受上一层结点cur的所有子节点，每轮循环就是遍历cur后生成tmp，然后令 cur=tmp，开始循环"
   ]
  },
  {
   "cell_type": "code",
   "execution_count": 6,
   "metadata": {},
   "outputs": [],
   "source": [
    "def levelOrderBottom(root):\n",
    "    if not root:\n",
    "        return []\n",
    "    cur = [root]\n",
    "    out = []\n",
    "    while cur:\n",
    "        tmp = []\n",
    "        for node in cur:\n",
    "            if node.left:\n",
    "                tmp.append(node.left)\n",
    "            if node.right:\n",
    "                tmp.append(node.right) \n",
    "        out.append([n.val for n in cur])\n",
    "        cur = tmp\n",
    "    return out.reverse()"
   ]
  },
  {
   "cell_type": "code",
   "execution_count": 2,
   "metadata": {},
   "outputs": [
    {
     "name": "stdout",
     "output_type": "stream",
     "text": [
      "[[1], [2, 3]]\n"
     ]
    }
   ],
   "source": [
    "a = [[2,3],[1]]\n",
    "a.reverse()\n",
    "print(a)"
   ]
  },
  {
   "cell_type": "code",
   "execution_count": null,
   "metadata": {},
   "outputs": [],
   "source": []
  }
 ],
 "metadata": {
  "kernelspec": {
   "display_name": "base",
   "language": "python",
   "name": "python3"
  },
  "language_info": {
   "codemirror_mode": {
    "name": "ipython",
    "version": 3
   },
   "file_extension": ".py",
   "mimetype": "text/x-python",
   "name": "python",
   "nbconvert_exporter": "python",
   "pygments_lexer": "ipython3",
   "version": "3.9.10 | packaged by conda-forge | (main, Feb  1 2022, 21:27:43) \n[Clang 11.1.0 ]"
  },
  "toc": {
   "base_numbering": 1,
   "nav_menu": {},
   "number_sections": true,
   "sideBar": true,
   "skip_h1_title": false,
   "title_cell": "Table of Contents",
   "title_sidebar": "Contents",
   "toc_cell": false,
   "toc_position": {},
   "toc_section_display": true,
   "toc_window_display": false
  },
  "vscode": {
   "interpreter": {
    "hash": "3774638e36becc1b3be4f932a09ec02e29dc9d9fab753e191431a024cc1a4cff"
   }
  }
 },
 "nbformat": 4,
 "nbformat_minor": 2
}
