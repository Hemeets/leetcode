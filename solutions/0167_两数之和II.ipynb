{
 "cells": [
  {
   "cell_type": "markdown",
   "metadata": {},
   "source": [
    "### 167. 两数之和 II - 输入有序数组\n",
    "\n",
    "给你一个下标从 1 开始的整数数组 numbers ，该数组已按 非递减顺序排列  ，请你从数组中找出满足相加之和等于目标数 target 的两个数。如果设这两个数分别是 numbers[index1] 和 numbers[index2] ，则 1 <= index1 < index2 <= numbers.length 。\n",
    "\n",
    "以长度为 2 的整数数组 [index1, index2] 的形式返回这两个整数的下标 index1 和 index2。\n",
    "\n",
    "你可以假设每个输入 只对应唯一的答案 ，而且你 不可以 重复使用相同的元素。\n",
    "\n",
    "你所设计的解决方案必须只使用常量级的额外空间。\n"
   ]
  },
  {
   "cell_type": "code",
   "execution_count": 10,
   "metadata": {},
   "outputs": [
    {
     "name": "stdout",
     "output_type": "stream",
     "text": [
      "(1, 2)\n",
      "(1, 2)\n"
     ]
    }
   ],
   "source": [
    "'''cr_2022, Median'''\n",
    "\n",
    "from typing import List\n",
    "class Solution:\n",
    "    \"\"\" 双指针 O(n) \"\"\"\n",
    "    def twoSum(self, numbers: List[int], target: int) -> List[int]:\n",
    "        L = len(numbers)\n",
    "        low, high = 0, L-1\n",
    "        while low <= high:\n",
    "            cur_sum = numbers[low] + numbers[high]\n",
    "            if cur_sum < target:\n",
    "                low += 1\n",
    "            elif cur_sum > target:\n",
    "                high -= 1\n",
    "            else:\n",
    "                return low + 1, high + 1  # idx 从 1 开始\n",
    "        return [-1, -1]\n",
    "\n",
    "class Solution1:\n",
    "    \"\"\" 二分 + 双指针，O(logn) ~ O(n) \"\"\"\n",
    "    def twoSum(self, numbers: List[int], target: int) -> List[int]:\n",
    "        L = len(numbers)\n",
    "        low, high = 0, L-1\n",
    "        while low < high:\n",
    "            mid = (low + high) // 2\n",
    "            if (numbers[low] + numbers[mid] > target):\n",
    "                high = mid - 1\n",
    "            elif (numbers[mid] + numbers[high] < target):\n",
    "                low = mid + 1\n",
    "            elif numbers[low] + numbers[high] < target:\n",
    "                low += 1\n",
    "            elif numbers[low] + numbers[high] > target:\n",
    "                high -= 1\n",
    "            else:\n",
    "                return low + 1, high + 1  # idx 从 1 开始\n",
    "        return [-1, -1]\n",
    "\n",
    "\n",
    "\n",
    "nums = [2,7,11,15]\n",
    "target = 9\n",
    "print(Solution().twoSum(nums, target))\n",
    "print(Solution1().twoSum(nums, target))"
   ]
  }
 ],
 "metadata": {
  "kernelspec": {
   "display_name": "Python 3.9.10 ('base')",
   "language": "python",
   "name": "python3"
  },
  "language_info": {
   "codemirror_mode": {
    "name": "ipython",
    "version": 3
   },
   "file_extension": ".py",
   "mimetype": "text/x-python",
   "name": "python",
   "nbconvert_exporter": "python",
   "pygments_lexer": "ipython3",
   "version": "3.9.10 | packaged by conda-forge | (main, Feb  1 2022, 21:27:43) \n[Clang 11.1.0 ]"
  },
  "toc": {
   "base_numbering": 1,
   "nav_menu": {},
   "number_sections": true,
   "sideBar": true,
   "skip_h1_title": false,
   "title_cell": "Table of Contents",
   "title_sidebar": "Contents",
   "toc_cell": false,
   "toc_position": {},
   "toc_section_display": true,
   "toc_window_display": false
  },
  "vscode": {
   "interpreter": {
    "hash": "3774638e36becc1b3be4f932a09ec02e29dc9d9fab753e191431a024cc1a4cff"
   }
  }
 },
 "nbformat": 4,
 "nbformat_minor": 2
}
