{
 "cells": [
  {
   "cell_type": "markdown",
   "metadata": {},
   "source": [
    "给定一个正整数 n ，输出外观数列的第 n 项。\n",
    "\n",
    "「外观数列」是一个整数序列，从数字 1 开始，序列中的每一项都是对前一项的描述。\n",
    "\n",
    "你可以将其视作是由递归公式定义的数字字符串序列：\n",
    "\n",
    "countAndSay(1) = \"1\"\n",
    "countAndSay(n) 是对 countAndSay(n-1) 的描述，然后转换成另一个数字字符串。\n",
    "前五项如下：\n",
    "```\n",
    "1.     1\n",
    "2.     11\n",
    "3.     21\n",
    "4.     1211\n",
    "5.     111221\n",
    "第一项是数字 1 \n",
    "描述前一项，这个数是 1 即 “ 一 个 1 ”，记作 \"11\"\n",
    "描述前一项，这个数是 11 即 “ 二 个 1 ” ，记作 \"21\"\n",
    "描述前一项，这个数是 21 即 “ 一 个 2 + 一 个 1 ” ，记作 \"1211\"\n",
    "描述前一项，这个数是 1211 即 “ 一 个 1 + 一 个 2 + 二 个 1 ” ，记作 \"111221\"\n",
    "```\n",
    "\n",
    "要 描述 一个数字字符串，首先要将字符串分割为 最小 数量的组，每个组都由连续的最多 相同字符 组成。然后对于每个组，先描述字符的数量，然后描述字符，形成一个描述组。要将描述转换为数字字符串，先将每组中的字符数量用数字替换，再将所有描述组连接起来。\n",
    "\n",
    "例如，数字字符串 \"3322251\" 的描述如下图：\n",
    "\n",
    "\n",
    "来源：力扣（LeetCode）\n",
    "链接：https://leetcode.cn/problems/count-and-say\n",
    "著作权归领扣网络所有。商业转载请联系官方授权，非商业转载请注明出处。\n"
   ]
  },
  {
   "cell_type": "code",
   "execution_count": 7,
   "metadata": {},
   "outputs": [
    {
     "data": {
      "text/plain": [
       "'111221'"
      ]
     },
     "execution_count": 7,
     "metadata": {},
     "output_type": "execute_result"
    }
   ],
   "source": [
    "'''cr2022, M'''\n",
    "class Solution:\n",
    "    \"\"\" 时间复杂度：O(N*M)，其中 N 为给定的正整数，M 为生成的字符串中的最大长度。\"\"\"\n",
    "    def countAndSay(self, n: int) -> str:\n",
    "        prev = \"1\"\n",
    "        for _ in range(n-1):\n",
    "            cur = \"\"\n",
    "            pos, start = 0, 0\n",
    "            while pos < len(prev):\n",
    "                while pos < len(prev) and prev[pos] == prev[start]:\n",
    "                    pos += 1\n",
    "                cur += str(pos - start) + prev[start]\n",
    "                start = pos\n",
    "            prev = cur\n",
    "        return prev\n",
    "\n",
    "Solution().countAndSay(5)"
   ]
  },
  {
   "cell_type": "code",
   "execution_count": 3,
   "metadata": {},
   "outputs": [],
   "source": [
    "class Solution:\n",
    "    def countAndSay(self, n: int) -> str:\n",
    "        prev = \"1\"\n",
    "        for i in range(n-1):\n",
    "            curr = \"\"\n",
    "            pos = 0\n",
    "            start = 0\n",
    "\n",
    "            while pos < len(prev):\n",
    "                while pos < len(prev) and prev[pos] == prev[start]:\n",
    "                    pos += 1\n",
    "                curr += str(pos - start) + prev[start]\n",
    "                start = pos\n",
    "            prev = curr\n",
    "        \n",
    "        return prev\n",
    "\n",
    "# 作者：LeetCode-Solution\n",
    "# 链接：https://leetcode.cn/problems/count-and-say/solution/wai-guan-shu-lie-by-leetcode-solution-9rt8/\n",
    "# 来源：力扣（LeetCode）\n",
    "# 著作权归作者所有。商业转载请联系作者获得授权，非商业转载请注明出处。"
   ]
  },
  {
   "cell_type": "markdown",
   "metadata": {},
   "source": [
    "复杂度分析\n",
    "\n",
    "时间复杂度：\n",
    "O(N×M)，其中 \n",
    "N 为给定的正整数，\n",
    "M 为生成的字符串中的最大长度。\n",
    "\n",
    "空间复杂度：\n",
    "O(M)。其中 \n",
    "M 为生成的字符串中的最大长度。\n",
    "\n",
    "作者：LeetCode-Solution\n",
    "链接：https://leetcode.cn/problems/count-and-say/solution/wai-guan-shu-lie-by-leetcode-solution-9rt8/\n",
    "来源：力扣（LeetCode）\n",
    "著作权归作者所有。商业转载请联系作者获得授权，非商业转载请注明出处。"
   ]
  },
  {
   "cell_type": "code",
   "execution_count": 2,
   "metadata": {},
   "outputs": [
    {
     "data": {
      "text/plain": [
       "'111221'"
      ]
     },
     "execution_count": 2,
     "metadata": {},
     "output_type": "execute_result"
    }
   ],
   "source": [
    "Solution().countAndSay(5)"
   ]
  },
  {
   "cell_type": "code",
   "execution_count": null,
   "metadata": {},
   "outputs": [],
   "source": []
  }
 ],
 "metadata": {
  "kernelspec": {
   "display_name": "Python 3.9.10 ('base')",
   "language": "python",
   "name": "python3"
  },
  "language_info": {
   "codemirror_mode": {
    "name": "ipython",
    "version": 3
   },
   "file_extension": ".py",
   "mimetype": "text/x-python",
   "name": "python",
   "nbconvert_exporter": "python",
   "pygments_lexer": "ipython3",
   "version": "3.9.10"
  },
  "toc": {
   "base_numbering": 1,
   "nav_menu": {},
   "number_sections": true,
   "sideBar": true,
   "skip_h1_title": false,
   "title_cell": "Table of Contents",
   "title_sidebar": "Contents",
   "toc_cell": false,
   "toc_position": {},
   "toc_section_display": true,
   "toc_window_display": false
  },
  "vscode": {
   "interpreter": {
    "hash": "3774638e36becc1b3be4f932a09ec02e29dc9d9fab753e191431a024cc1a4cff"
   }
  }
 },
 "nbformat": 4,
 "nbformat_minor": 2
}
