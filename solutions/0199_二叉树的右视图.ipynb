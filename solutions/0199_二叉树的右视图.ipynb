{
 "cells": [
  {
   "cell_type": "markdown",
   "metadata": {},
   "source": [
    "给定一棵二叉树，想象自己站在它的右侧，按照从顶部到底部的顺序，返回从右侧所能看到的节点值。\n",
    "\n",
    "示例:\n",
    "\n",
    "输入: [1,2,3,null,5,null,4]\n",
    "输出: [1, 3, 4]\n",
    "解释:\n",
    "\n",
    "       1            <---\n",
    "     /   \\\n",
    "    2     3         <---\n",
    "    \\     \\\n",
    "     5     4       <---\n",
    "\n",
    "来源：力扣（LeetCode）\n",
    "链接：https://leetcode-cn.com/problems/binary-tree-right-side-view\n",
    "著作权归领扣网络所有。商业转载请联系官方授权，非商业转载请注明出处。"
   ]
  },
  {
   "cell_type": "code",
   "execution_count": 1,
   "metadata": {},
   "outputs": [
    {
     "data": {
      "text/plain": [
       "[1, 3, 4]"
      ]
     },
     "execution_count": 1,
     "metadata": {},
     "output_type": "execute_result"
    }
   ],
   "source": [
    "'''cr2022, M'''\n",
    "from utils import *\n",
    "# 用先根遍历\n",
    "class Solution:\n",
    "    def rightSideView(self, root: Optional[TreeNode]) -> List[int]:\n",
    "        res = list()\n",
    "        if not root:\n",
    "            return res\n",
    "        q = [root]\n",
    "        while q:\n",
    "            cur = q[-1]\n",
    "            res.append(cur.val)\n",
    "            tmp_q = list()\n",
    "            for n in q:\n",
    "                if n.left:\n",
    "                    tmp_q.append(n.left)\n",
    "                if n.right:\n",
    "                    tmp_q.append(n.right)\n",
    "            q = tmp_q\n",
    "        return res\n",
    "\n",
    "root = l2tn([1,2,3,None,5,None,4])\n",
    "Solution().rightSideView(root)"
   ]
  }
 ],
 "metadata": {
  "kernelspec": {
   "display_name": "base",
   "language": "python",
   "name": "python3"
  },
  "language_info": {
   "codemirror_mode": {
    "name": "ipython",
    "version": 3
   },
   "file_extension": ".py",
   "mimetype": "text/x-python",
   "name": "python",
   "nbconvert_exporter": "python",
   "pygments_lexer": "ipython3",
   "version": "3.9.10 | packaged by conda-forge | (main, Feb  1 2022, 21:27:43) \n[Clang 11.1.0 ]"
  },
  "toc": {
   "base_numbering": 1,
   "nav_menu": {},
   "number_sections": true,
   "sideBar": true,
   "skip_h1_title": false,
   "title_cell": "Table of Contents",
   "title_sidebar": "Contents",
   "toc_cell": false,
   "toc_position": {},
   "toc_section_display": true,
   "toc_window_display": false
  },
  "vscode": {
   "interpreter": {
    "hash": "3774638e36becc1b3be4f932a09ec02e29dc9d9fab753e191431a024cc1a4cff"
   }
  }
 },
 "nbformat": 4,
 "nbformat_minor": 2
}
