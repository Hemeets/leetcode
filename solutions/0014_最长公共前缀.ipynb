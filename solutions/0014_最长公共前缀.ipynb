{
 "cells": [
  {
   "cell_type": "markdown",
   "metadata": {},
   "source": [
    "编写一个函数来查找字符串数组中的最长公共前缀。\n",
    "\n",
    "如果不存在公共前缀，返回空字符串 \"\"。\n",
    "\n",
    "示例 1:\n",
    "\n",
    "输入: [\"flower\",\"flow\",\"flight\"]\n",
    "输出: \"fl\"\n",
    "示例 2:\n",
    "\n",
    "输入: [\"dog\",\"racecar\",\"car\"]\n",
    "输出: \"\"\n",
    "解释: 输入不存在公共前缀。\n"
   ]
  },
  {
   "cell_type": "code",
   "execution_count": 1,
   "metadata": {},
   "outputs": [
    {
     "name": "stdout",
     "output_type": "stream",
     "text": [
      "fl\n"
     ]
    }
   ],
   "source": [
    "''' cr_2022, E '''\n",
    "from typing import List\n",
    "\n",
    "class Solution:\n",
    "    \"\"\" 时间复杂度O(S)：全部字符个数S \"\"\"\n",
    "    def longestCommonPrefix(self, strs: List[str]) -> str:\n",
    "        if not strs:\n",
    "            return \"\"\n",
    "        com = strs[0]\n",
    "        for cur_s in strs:\n",
    "            while cur_s.find(com) != 0:  # 在strs[i]中找字符串com，如果是前缀必然返回0，com是空字符串也会返回0\n",
    "                com = com[: len(com) - 1]\n",
    "        return com\n",
    "\n",
    "strs = [\"flower\",\"flow\",\"flight\"]\n",
    "print(Solution().longestCommonPrefix(strs))"
   ]
  },
  {
   "cell_type": "code",
   "execution_count": 4,
   "metadata": {},
   "outputs": [],
   "source": [
    "def longestCommonPrefix(strs):\n",
    "    if len(strs) == 0:\n",
    "        return \"\"\n",
    "    com = strs[0]\n",
    "    for i in range(len(strs)):\n",
    "        j = 0\n",
    "        while j < min(len(com), len(strs[i])):\n",
    "            if com[j] == strs[i][j]:\n",
    "                j += 1\n",
    "            else:\n",
    "                break\n",
    "        com = com[0: j]\n",
    "    return com"
   ]
  },
  {
   "cell_type": "code",
   "execution_count": 6,
   "metadata": {},
   "outputs": [
    {
     "data": {
      "text/plain": [
       "''"
      ]
     },
     "execution_count": 6,
     "metadata": {},
     "output_type": "execute_result"
    }
   ],
   "source": [
    "strs1 = [\"flower\",\"flow\",\"flight\"]\n",
    "strs2 = [\"dog\",\"racecar\",\"car\"]\n",
    "longestCommonPrefix(strs2)"
   ]
  },
  {
   "cell_type": "markdown",
   "metadata": {},
   "source": [
    "虽然理论上上述方法T=（S）S是总字符个数，但是貌似比较臃肿，耗时较多，改进如下：\n",
    "\n",
    "改进后耗时就由60ms减少到40ms！"
   ]
  },
  {
   "cell_type": "code",
   "execution_count": 13,
   "metadata": {},
   "outputs": [],
   "source": [
    "def longestCommonPrefix1(strs):\n",
    "    if not strs:\n",
    "        return \"\"\n",
    "    com = strs[0]\n",
    "    i = 0\n",
    "    for i in range(len(strs)):\n",
    "        while strs[i].find(com)!= 0:\n",
    "            # 就是在strs[i]中找字符串com，如果是前缀必然返回0，\n",
    "            # 没找着返回-1，如果com是“”也返回0\n",
    "            com = com[:len(com)-1]\n",
    "    return com\n",
    "        "
   ]
  },
  {
   "cell_type": "code",
   "execution_count": 14,
   "metadata": {},
   "outputs": [
    {
     "data": {
      "text/plain": [
       "'fl'"
      ]
     },
     "execution_count": 14,
     "metadata": {},
     "output_type": "execute_result"
    }
   ],
   "source": [
    "longestCommonPrefix1(strs1)"
   ]
  },
  {
   "cell_type": "code",
   "execution_count": null,
   "metadata": {},
   "outputs": [],
   "source": []
  }
 ],
 "metadata": {
  "kernelspec": {
   "display_name": "Python 3.9.10 ('base')",
   "language": "python",
   "name": "python3"
  },
  "language_info": {
   "codemirror_mode": {
    "name": "ipython",
    "version": 3
   },
   "file_extension": ".py",
   "mimetype": "text/x-python",
   "name": "python",
   "nbconvert_exporter": "python",
   "pygments_lexer": "ipython3",
   "version": "3.9.10"
  },
  "toc": {
   "base_numbering": 1,
   "nav_menu": {},
   "number_sections": true,
   "sideBar": true,
   "skip_h1_title": false,
   "title_cell": "Table of Contents",
   "title_sidebar": "Contents",
   "toc_cell": false,
   "toc_position": {},
   "toc_section_display": true,
   "toc_window_display": false
  },
  "vscode": {
   "interpreter": {
    "hash": "3774638e36becc1b3be4f932a09ec02e29dc9d9fab753e191431a024cc1a4cff"
   }
  }
 },
 "nbformat": 4,
 "nbformat_minor": 2
}
