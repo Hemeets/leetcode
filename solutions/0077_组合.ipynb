{
 "cells": [
  {
   "attachments": {},
   "cell_type": "markdown",
   "metadata": {},
   "source": [
    "77. 组合\n",
    "\n",
    "给定两个整数 n 和 k，返回范围 [1, n] 中所有可能的 k 个数的组合。\n",
    "\n",
    "你可以按 任何顺序 返回答案。\n",
    "\n",
    "示例 1：\n",
    "```\n",
    "输入：n = 4, k = 2\n",
    "输出：\n",
    "[\n",
    "  [2,4],\n",
    "  [3,4],\n",
    "  [2,3],\n",
    "  [1,2],\n",
    "  [1,3],\n",
    "  [1,4],\n",
    "]\n",
    "```\n",
    "示例 2：\n",
    "```\n",
    "输入：n = 1, k = 1\n",
    "输出：[[1]]\n",
    "```"
   ]
  },
  {
   "cell_type": "code",
   "execution_count": 5,
   "metadata": {},
   "outputs": [
    {
     "name": "stdout",
     "output_type": "stream",
     "text": [
      "[[1, 2], [1, 3], [1, 4], [2, 3], [2, 4], [3, 4]]\n"
     ]
    }
   ],
   "source": [
    "'''2022, M'''\n",
    "from typing import List\n",
    "class Solution:\n",
    "    def combine(self, n: int, k: int) -> List[List[int]]:\n",
    "        res = list()\n",
    "        nums = list(range(1, n + 1))\n",
    "\n",
    "        def backtrack(idx, cur_len, cur_cand):\n",
    "            if cur_len > k:\n",
    "                return\n",
    "            if cur_len == k:\n",
    "                res.append(cur_cand[:])\n",
    "                return\n",
    "            for j in range(idx, n):\n",
    "                cur_cand.append(nums[j])\n",
    "                backtrack(j + 1, cur_len + 1, cur_cand)\n",
    "                cur_cand.pop()\n",
    "        backtrack(0, 0, [])\n",
    "        return res\n",
    "\n",
    "n = 4\n",
    "k = 2\n",
    "print(Solution().combine(n, k))"
   ]
  },
  {
   "cell_type": "code",
   "execution_count": null,
   "metadata": {},
   "outputs": [],
   "source": []
  }
 ],
 "metadata": {
  "kernelspec": {
   "display_name": "base",
   "language": "python",
   "name": "python3"
  },
  "language_info": {
   "codemirror_mode": {
    "name": "ipython",
    "version": 3
   },
   "file_extension": ".py",
   "mimetype": "text/x-python",
   "name": "python",
   "nbconvert_exporter": "python",
   "pygments_lexer": "ipython3",
   "version": "3.9.10"
  },
  "orig_nbformat": 4,
  "vscode": {
   "interpreter": {
    "hash": "3774638e36becc1b3be4f932a09ec02e29dc9d9fab753e191431a024cc1a4cff"
   }
  }
 },
 "nbformat": 4,
 "nbformat_minor": 2
}
