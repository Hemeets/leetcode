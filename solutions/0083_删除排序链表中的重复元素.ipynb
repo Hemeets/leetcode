{
 "cells": [
  {
   "attachments": {},
   "cell_type": "markdown",
   "metadata": {},
   "source": [
    "### 删除排序链表中重复元素\n",
    "给定一个排序链表，删除所有重复的元素，使得每个元素只出现一次。\n",
    "\n",
    "示例 1:\n",
    "\n",
    "输入: 1->1->2\n",
    "输出: 1->2\n",
    "示例 2:\n",
    "\n",
    "输入: 1->1->2->3->3\n",
    "输出: 1->2->3\n"
   ]
  },
  {
   "cell_type": "code",
   "execution_count": 1,
   "metadata": {},
   "outputs": [
    {
     "data": {
      "text/plain": [
       "[1, 2, 3]"
      ]
     },
     "execution_count": 1,
     "metadata": {},
     "output_type": "execute_result"
    }
   ],
   "source": [
    "'''cr2022, E'''\n",
    "from utils import ListNode, l2ln, ln2l, Optional\n",
    "class Solution:\n",
    "    def deleteDuplicates(self, head: Optional[ListNode]) -> Optional[ListNode]:\n",
    "        # head 一定不会被删掉\n",
    "        if not head:\n",
    "            return head\n",
    "        cur = head\n",
    "        while cur.next:\n",
    "            if cur.val == cur.next.val:\n",
    "                cur.next = cur.next.next\n",
    "            else:\n",
    "                cur = cur.next\n",
    "        return head\n",
    "\n",
    "head = l2ln([1,1,2,3,3])\n",
    "ln2l(Solution().deleteDuplicates(head))"
   ]
  },
  {
   "cell_type": "code",
   "execution_count": null,
   "metadata": {},
   "outputs": [],
   "source": []
  }
 ],
 "metadata": {
  "kernelspec": {
   "display_name": "Python 3.9.10 ('base')",
   "language": "python",
   "name": "python3"
  },
  "language_info": {
   "codemirror_mode": {
    "name": "ipython",
    "version": 3
   },
   "file_extension": ".py",
   "mimetype": "text/x-python",
   "name": "python",
   "nbconvert_exporter": "python",
   "pygments_lexer": "ipython3",
   "version": "3.9.10"
  },
  "toc": {
   "base_numbering": 1,
   "nav_menu": {},
   "number_sections": true,
   "sideBar": true,
   "skip_h1_title": false,
   "title_cell": "Table of Contents",
   "title_sidebar": "Contents",
   "toc_cell": false,
   "toc_position": {},
   "toc_section_display": true,
   "toc_window_display": false
  },
  "vscode": {
   "interpreter": {
    "hash": "3774638e36becc1b3be4f932a09ec02e29dc9d9fab753e191431a024cc1a4cff"
   }
  }
 },
 "nbformat": 4,
 "nbformat_minor": 2
}
