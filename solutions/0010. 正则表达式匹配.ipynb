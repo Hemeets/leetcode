{
 "cells": [
  {
   "cell_type": "markdown",
   "metadata": {},
   "source": [
    "给你一个字符串 s 和一个字符规律 p，请你来实现一个支持 '.' 和 '*' 的正则表达式匹配。\n",
    "\n",
    "'.' 匹配任意单个字符\n",
    "'*' 匹配零个或多个前面的那一个元素\n",
    "所谓匹配，是要涵盖 整个 字符串 s的，而不是部分字符串。\n",
    "\n",
    "说明:\n",
    "\n",
    "s 可能为空，且只包含从 a-z 的小写字母。\n",
    "p 可能为空，且只包含从 a-z 的小写字母，以及字符 . 和 *。\n",
    "\n",
    "示例 1:\n",
    "```\n",
    "输入:\n",
    "s = \"aa\"\n",
    "p = \"a\"\n",
    "输出: false\n",
    "解释: \"a\" 无法匹配 \"aa\" 整个字符串。\n",
    "```\n",
    "示例 2:\n",
    "```\n",
    "输入:\n",
    "s = \"aa\"\n",
    "p = \"a*\"\n",
    "输出: true\n",
    "解释: 因为 '*' 代表可以匹配零个或多个前面的那一个元素, 在这里前面的元素就是 'a'。因此，字符串 \"aa\" 可被视为 'a' 重复了一次。\n",
    "```\n",
    "示例 3:\n",
    "```\n",
    "输入:\n",
    "s = \"ab\"\n",
    "p = \".*\"\n",
    "输出: true\n",
    "解释: \".*\" 表示可匹配零个或多个（'*'）任意字符（'.'）。\n",
    "```\n",
    "示例 4:\n",
    "```\n",
    "输入:\n",
    "s = \"aab\"\n",
    "p = \"c*a*b\"\n",
    "输出: true\n",
    "解释: 因为 '*' 表示零个或多个，这里 'c' 为 0 个, 'a' 被重复一次。因此可以匹配字符串 \"aab\"。\n",
    "```\n",
    "示例 5:\n",
    "```\n",
    "输入:\n",
    "s = \"mississippi\"\n",
    "p = \"mis*is*p*.\"\n",
    "输出: false\n",
    "```\n",
    "来源：力扣（LeetCode）\n",
    "链接：https://leetcode-cn.com/problems/regular-expression-matching\n",
    "著作权归领扣网络所有。商业转载请联系官方授权，非商业转载请注明出处。"
   ]
  },
  {
   "cell_type": "code",
   "execution_count": 1,
   "metadata": {},
   "outputs": [
    {
     "name": "stdout",
     "output_type": "stream",
     "text": [
      "True\n"
     ]
    }
   ],
   "source": [
    "''' cr_2022, H '''\n",
    "# copy 官方解答：https://leetcode.cn/problems/regular-expression-matching/solutions/295977/zheng-ze-biao-da-shi-pi-pei-by-leetcode-solution/\n",
    "\n",
    "class Solution:\n",
    "    \"\"\" dp，O(mn)，主要考虑当前pattern为 * 的情况 \"\"\"\n",
    "    def isMatch(self, s: str, p: str) -> bool:\n",
    "        m, n = len(s), len(p)\n",
    "\n",
    "        def matches(i: int, j: int) -> bool:\n",
    "            if i == 0:\n",
    "                return False\n",
    "            if p[j - 1] == '.':\n",
    "                return True\n",
    "            return s[i - 1] == p[j - 1]\n",
    "\n",
    "        f = [[False] * (n + 1) for _ in range(m + 1)]\n",
    "        f[0][0] = True\n",
    "        for i in range(m + 1):\n",
    "            for j in range(1, n + 1):  # “ i 从0开始是让‘.*‘等等可以匹配‘’，j从1开始是因为除了‘’以外没有其他能匹配‘’ ”\n",
    "                if p[j - 1] == '*':\n",
    "                    f[i][j] |= f[i][j - 2]\n",
    "                    if matches(i, j - 1):\n",
    "                        f[i][j] |= f[i - 1][j]\n",
    "                else:\n",
    "                    if matches(i, j):\n",
    "                        f[i][j] |= f[i - 1][j - 1]\n",
    "        return f[m][n]\n",
    "\n",
    "s = \"aab\"\n",
    "p = \"c*a*b\"\n",
    "print(Solution().isMatch(s, p))"
   ]
  },
  {
   "cell_type": "markdown",
   "metadata": {},
   "source": [
    "### 回溯法"
   ]
  },
  {
   "cell_type": "code",
   "execution_count": 1,
   "metadata": {},
   "outputs": [],
   "source": [
    "class Solution(object):\n",
    "    def isMatch(self, text, pattern):\n",
    "        if not pattern:\n",
    "            return not text\n",
    "\n",
    "        first_match = bool(text) and pattern[0] in {text[0], '.'}\n",
    "\n",
    "        if len(pattern) >= 2 and pattern[1] == '*':\n",
    "            return (self.isMatch(text, pattern[2:]) or  # 这里指的是*把前面的字符消掉了\n",
    "                    first_match and self.isMatch(text[1:], pattern)) # 这里是说*复制了一个前面的字符 \n",
    "        else:\n",
    "            return first_match and self.isMatch(text[1:], pattern[1:])"
   ]
  },
  {
   "cell_type": "code",
   "execution_count": 2,
   "metadata": {},
   "outputs": [],
   "source": [
    "s = \"aab\" \n",
    "p = \"c*a*b\""
   ]
  },
  {
   "cell_type": "code",
   "execution_count": 3,
   "metadata": {},
   "outputs": [
    {
     "data": {
      "text/plain": [
       "True"
      ]
     },
     "execution_count": 3,
     "metadata": {},
     "output_type": "execute_result"
    }
   ],
   "source": [
    "Solution().isMatch(s, p)"
   ]
  },
  {
   "cell_type": "markdown",
   "metadata": {},
   "source": []
  },
  {
   "cell_type": "markdown",
   "metadata": {},
   "source": [
    "### 动态规划\n",
    "dp[i][j]记录s[i:]和p[j:]是否匹配"
   ]
  },
  {
   "cell_type": "code",
   "execution_count": 10,
   "metadata": {},
   "outputs": [],
   "source": [
    "class Solution1(object):\n",
    "    def isMatch(self, text, pattern):\n",
    "        if not pattern:\n",
    "            return not text  # 这里也是个小技巧\n",
    "        l_t = len(text)\n",
    "        l_p = len(pattern)\n",
    "        dp = [[False] * (l_p + 1) for _ in range(l_t + 1)]\n",
    "        # 在末尾多出来一位是为了容易初始化\n",
    "        dp[l_t][l_p] = True\n",
    "#         for i in range(l_t - 1, -1, -1): # 边界有遗漏 比如，s = \"aa\", p = \"a*\"\n",
    "        for i in range(l_t, -1, -1):\n",
    "            for j in range(l_p - 1, -1, -1):\n",
    "                \n",
    "                first_match = i < l_t and (pattern[j] in {text[i], '.'})\n",
    "                \n",
    "                if j < len(pattern) - 1 and pattern[j + 1] == \"*\":\n",
    "                    # 因为涉及到dp[i][j+2],如果j = len(pattern)-1 那就是最后一位，可以归到else\n",
    "                    dp[i][j] = dp[i][j+2] or (first_match and dp[i+1][j])\n",
    "                else:\n",
    "                    dp[i][j] = first_match and dp[i+1][j+1]                    \n",
    "                print(i, j, first_match, dp[i][j])\n",
    "        return dp[0][0]       "
   ]
  },
  {
   "cell_type": "code",
   "execution_count": 11,
   "metadata": {},
   "outputs": [
    {
     "name": "stdout",
     "output_type": "stream",
     "text": [
      "2 1 False False\n",
      "2 0 False True\n",
      "1 1 False False\n",
      "1 0 True True\n",
      "0 1 False False\n",
      "0 0 True True\n"
     ]
    },
    {
     "data": {
      "text/plain": [
       "True"
      ]
     },
     "execution_count": 11,
     "metadata": {},
     "output_type": "execute_result"
    }
   ],
   "source": [
    "s1 = 'aa'\n",
    "p1 = '.*'\n",
    "Solution1().isMatch(s1, p1)"
   ]
  },
  {
   "cell_type": "code",
   "execution_count": 8,
   "metadata": {},
   "outputs": [],
   "source": [
    "class Solution2(object):\n",
    "    def isMatch(self, text, pattern):\n",
    "        dp = [[False] * (len(pattern) + 1) for _ in range(len(text) + 1)]\n",
    "\n",
    "        dp[-1][-1] = True\n",
    "        for i in range(len(text), -1, -1):\n",
    "            for j in range(len(pattern) - 1, -1, -1):\n",
    "                first_match = i < len(text) and pattern[j] in {text[i], '.'}\n",
    "                if j+1 < len(pattern) and pattern[j+1] == '*':\n",
    "                    dp[i][j] = dp[i][j+2] or first_match and dp[i+1][j]\n",
    "                else:\n",
    "                    dp[i][j] = first_match and dp[i+1][j+1]\n",
    "                print(i, j, first_match, dp[i][j])\n",
    "        return dp[0][0]\n"
   ]
  },
  {
   "cell_type": "code",
   "execution_count": 9,
   "metadata": {},
   "outputs": [
    {
     "name": "stdout",
     "output_type": "stream",
     "text": [
      "2 1 False False\n",
      "2 0 False True\n",
      "1 1 False False\n",
      "1 0 True True\n",
      "0 1 False False\n",
      "0 0 True True\n"
     ]
    },
    {
     "data": {
      "text/plain": [
       "True"
      ]
     },
     "execution_count": 9,
     "metadata": {},
     "output_type": "execute_result"
    }
   ],
   "source": [
    "Solution2().isMatch(s1, p1)"
   ]
  },
  {
   "cell_type": "markdown",
   "metadata": {},
   "source": [
    "dp五部曲:\n",
    "```\n",
    "设主串s的长度为m,设模式串p的长度为n;其中s只有小写字母,p有字母/./*\n",
    "1.状态定义:dp[i][j]为考虑s[0,i-1]与p[0,j-1]是否能匹配上,能匹配上就为true\n",
    "2.状态转移:若要求dp[i][j]就必须考虑到s[i-1]与p[j-1]\n",
    "    2.1 当p[j-1]不是'*'时\n",
    "        2.1.1 若s[i-1]==p[j-1]时,即p[j-1]为'a'-'z'且与s[i-1]相等,看dp[i-1][j-1]\n",
    "        2.1.2 p[j-1] == '.'时,直接将'.'变成s[i-1],看dp[i-1][j-1]\n",
    "        注意:这里的'.'是匹配一个字符,而不是一连串,如\"a.b\"->\"axb\"\n",
    "    2.2 当p[j-1]是'*'时,主要看p[j-2]做判断\n",
    "        2.2.1 p[j-2]为'a'-'z'并且p[j-2]==s[i-1],那么此时s继续往前看,p暂时不动\n",
    "            即:看dp[i-1][j]\n",
    "        2.2.2 p[j-2]为'.',那么\".*\"可以变为\".....\"可以匹配s[i-1]前面的任何字符(万能串)\n",
    "            因此,直接看dp[i-1][j](或者直接返回true)\n",
    "        2.2.3 剩下的就是p[j-2]为'a'-'z'且p[j-2]!=s[i-1],那么此时p的\"x*\"作废,看dp[i][j-2]\n",
    "    这里:2.1.1与2.2.2可以看成一种情形:即s与p均前移一位\n",
    "        2.2.1与2.2.2可以看成一种情形:即p不动s前移一位\n",
    "3.初始化:\n",
    "    3.1 空的s\n",
    "        3.1.1 空的p,空的s可以匹配空的p,因此dp[0][0]=true\n",
    "        3.1.2 非空的p,空的s可能可以匹配非空的p,例如\"a*\",因此需要经过转移计算\n",
    "    3.2 空的p\n",
    "        3.2.1 空的s,同3.1.1\n",
    "        3.2.2 非空的s,空的p不可能匹配非空的s,因此dp[i][0]=false,i∈[1,m]\n",
    "    3.3 非空的s与非空的p:需要经过转移计算\n",
    "    其中:3.1.1与3.2.2可以合并为dp[i][0]=i==0\n",
    "4.遍历顺序:显然是正序遍历\n",
    "5.返回形式:返回dp[m][n]就是考虑s[0,m-1]与p[0,n-1]是否能匹配上\n",
    "```"
   ]
  },
  {
   "cell_type": "markdown",
   "metadata": {},
   "source": []
  }
 ],
 "metadata": {
  "kernelspec": {
   "display_name": "Python 3.9.10 ('base')",
   "language": "python",
   "name": "python3"
  },
  "language_info": {
   "codemirror_mode": {
    "name": "ipython",
    "version": 3
   },
   "file_extension": ".py",
   "mimetype": "text/x-python",
   "name": "python",
   "nbconvert_exporter": "python",
   "pygments_lexer": "ipython3",
   "version": "3.9.10"
  },
  "vscode": {
   "interpreter": {
    "hash": "3774638e36becc1b3be4f932a09ec02e29dc9d9fab753e191431a024cc1a4cff"
   }
  }
 },
 "nbformat": 4,
 "nbformat_minor": 2
}
