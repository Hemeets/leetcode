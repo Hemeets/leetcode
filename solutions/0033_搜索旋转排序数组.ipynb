{
 "cells": [
  {
   "attachments": {},
   "cell_type": "markdown",
   "metadata": {},
   "source": [
    "搜索旋转排序数组\n",
    "\n",
    "假设按照升序排序的数组在预先未知的某个点上进行了旋转。\n",
    "\n",
    "( 例如，数组 [0,1,2,4,5,6,7] 可能变为 [4,5,6,7,0,1,2] )。\n",
    "\n",
    "搜索一个给定的目标值，如果数组中存在这个目标值，则返回它的索引，否则返回 -1 。\n",
    "\n",
    "你可以假设数组中不存在重复的元素。\n",
    "\n",
    "你的算法时间复杂度必须是 O(log n) 级别。\n",
    "\n",
    "示例 1:\n",
    "\n",
    "输入: nums = [4,5,6,7,0,1,2], target = 0\n",
    "输出: 4\n",
    "示例 2:\n",
    "\n",
    "输入: nums = [4,5,6,7,0,1,2], target = 3\n",
    "输出: -1\n",
    "\n",
    "来源：力扣（LeetCode）\n",
    "链接：https://leetcode-cn.com/problems/search-in-rotated-sorted-array\n",
    "著作权归领扣网络所有。商业转载请联系官方授权，非商业转载请注明出处。"
   ]
  },
  {
   "cell_type": "markdown",
   "metadata": {},
   "source": [
    "想法：先二分找出旋转点（比如[4,5,6,7,0,1,2]就是0，再进行朴素的二分法；关键在于如何找出旋转点？旋转点的**性质**是，左>旋转点<右，而非旋转点则是左<dian<右。"
   ]
  },
  {
   "cell_type": "code",
   "execution_count": 26,
   "metadata": {},
   "outputs": [
    {
     "name": "stdout",
     "output_type": "stream",
     "text": [
      "4\n",
      "4\n"
     ]
    }
   ],
   "source": [
    "'''cr2022, M'''\n",
    "from typing import List\n",
    "class Solution:\n",
    "    \"\"\" 先二分找旋转点，判断target在哪个部分，然后朴素二分\"\"\"\n",
    "    def search(self, nums: List[int], target: int) -> int:\n",
    "        if not nums:\n",
    "            return -1\n",
    "        L = len(nums)\n",
    "        low, high = 0, L-1\n",
    "        # 详见0153: 寻找旋转排序数组中的最小值\n",
    "        while low < high:    \n",
    "            mid = (low + high) // 2\n",
    "            # print(low, mid, high)\n",
    "            if nums[mid] > nums[high]: \n",
    "                low = mid + 1\n",
    "            else:\n",
    "                high = mid\n",
    "        # low 即是旋转点\n",
    "        if nums[low] <= target <= nums[L-1]:\n",
    "            l, h = low, L - 1\n",
    "        elif nums[0] <= target <= nums[low-1]:\n",
    "            l, h = 0, low-1\n",
    "        else: return -1\n",
    "        while l <= h:\n",
    "            m = (l + h) // 2\n",
    "            if nums[m] == target:\n",
    "                return m\n",
    "            elif nums[m] > target:\n",
    "                h = m - 1\n",
    "            else:\n",
    "                l = m + 1\n",
    "        return -1\n",
    "\n",
    "\n",
    "# # https://leetcode.cn/problems/search-in-rotated-sorted-array/solutions/220083/sou-suo-xuan-zhuan-pai-xu-shu-zu-by-leetcode-solut/\n",
    "class Solution1:\n",
    "    \"\"\" 官方解答，统一思路，有利于后面II的理解 \"\"\"\n",
    "    def search(self, nums: List[int], target: int) -> int:\n",
    "        if not nums:\n",
    "            return -1\n",
    "        l, r = 0, len(nums) - 1\n",
    "        while l <= r:\n",
    "            m = (l + r) // 2\n",
    "            # print(l, m, r)\n",
    "            if nums[m] == target:\n",
    "                return m\n",
    "            # 将数组从中间分开成左右两部分的时候，一定有一部分的数组是有序的\n",
    "            if nums[l] <= nums[m]:  # [l, m] 是有序数组\n",
    "                if nums[l] <= target < nums[m]:\n",
    "                    r = m - 1\n",
    "                else:\n",
    "                    l = m + 1\n",
    "            else:  # [m+1, r] 是有序数组\n",
    "                if nums[m] < target <= nums[r]:\n",
    "                    l = m + 1\n",
    "                else:\n",
    "                    r = m - 1\n",
    "        return -1\n",
    "\n",
    "# nums = [4,5,6,7,8,0,1,2]\n",
    "# nums = [1, 3]\n",
    "# target = 3\n",
    "nums = [4,5,6,7,0,1,2]\n",
    "target = 0\n",
    "print(Solution().search(nums, target))\n",
    "print(Solution1().search(nums, target))"
   ]
  },
  {
   "cell_type": "code",
   "execution_count": null,
   "metadata": {},
   "outputs": [],
   "source": []
  }
 ],
 "metadata": {
  "kernelspec": {
   "display_name": "Python 3.9.10 ('base')",
   "language": "python",
   "name": "python3"
  },
  "language_info": {
   "codemirror_mode": {
    "name": "ipython",
    "version": 3
   },
   "file_extension": ".py",
   "mimetype": "text/x-python",
   "name": "python",
   "nbconvert_exporter": "python",
   "pygments_lexer": "ipython3",
   "version": "3.9.10 | packaged by conda-forge | (main, Feb  1 2022, 21:27:43) \n[Clang 11.1.0 ]"
  },
  "toc": {
   "base_numbering": 1,
   "nav_menu": {},
   "number_sections": true,
   "sideBar": true,
   "skip_h1_title": false,
   "title_cell": "Table of Contents",
   "title_sidebar": "Contents",
   "toc_cell": false,
   "toc_position": {},
   "toc_section_display": true,
   "toc_window_display": false
  },
  "vscode": {
   "interpreter": {
    "hash": "3774638e36becc1b3be4f932a09ec02e29dc9d9fab753e191431a024cc1a4cff"
   }
  }
 },
 "nbformat": 4,
 "nbformat_minor": 2
}
