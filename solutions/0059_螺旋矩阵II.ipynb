{
 "cells": [
  {
   "cell_type": "markdown",
   "metadata": {},
   "source": [
    "### 螺旋矩阵I\n",
    "给定一个包含 m x n 个元素的矩阵（m 行, n 列），请按照顺时针螺旋顺序，返回矩阵中的所有元素。\n",
    "\n",
    "示例 1:\n",
    "\n",
    "输入:\n",
    "[\n",
    " [ 1, 2, 3 ],\n",
    "\n",
    "[ 4, 5, 6 ],\n",
    "\n",
    "[ 7, 8, 9 ]\n",
    "]\n",
    "\n",
    "输出: [1,2,3,6,9,8,7,4,5]\n",
    "示例 2:\n",
    "\n",
    "输入:\n",
    "[\n",
    "  [1, 2, 3, 4],\n",
    "\n",
    "[5, 6, 7, 8],\n",
    " \n",
    " [9,10,11,12]\n",
    "]\n",
    "\n",
    "输出: [1,2,3,4,8,12,11,10,9,5,6,7]\n",
    "\n",
    "来源：力扣（LeetCode）\n",
    "链接：https://leetcode-cn.com/problems/spiral-matrix\n",
    "著作权归领扣网络所有。商业转载请联系官方授权，非商业转载请注明出处。"
   ]
  },
  {
   "cell_type": "code",
   "execution_count": 2,
   "metadata": {},
   "outputs": [
    {
     "data": {
      "text/plain": [
       "[1, 2, 3, 4, 8, 12, 11, 10, 9, 5, 6, 7]"
      ]
     },
     "execution_count": 2,
     "metadata": {},
     "output_type": "execute_result"
    }
   ],
   "source": [
    "'''cr2022, M'''\n",
    "from typing import List\n",
    "class Solution:\n",
    "    def spiralOrder(self, matrix: List[List[int]]) -> List[int]:\n",
    "        # 整体要考虑的太多就一层一层的来，思维不能僵化\n",
    "        try:\n",
    "            m = len(matrix)\n",
    "            n = len(matrix[0])\n",
    "        except:\n",
    "            return []\n",
    "        res = []\n",
    "        r1, c1, r2, c2 = 0, 0, m-1, n-1\n",
    "        while r1 <= r2 and c1 <= c2:\n",
    "            for r, c in self.spiral_coords(r1, c1, r2, c2):\n",
    "                res.append(matrix[r][c])\n",
    "            r1 += 1\n",
    "            c1 += 1\n",
    "            r2 -= 1\n",
    "            c2 -= 1\n",
    "        return res\n",
    "\n",
    "    def spiral_coords(self, r1, c1, r2, c2):\n",
    "        for c in range(c1, c2+1):\n",
    "            yield r1, c\n",
    "        for r in range(r1+1, r2+1):\n",
    "            yield r, c2\n",
    "        if r1 < r2 and c1 < c2:\n",
    "            for c in range(c2-1, c1, -1):\n",
    "                yield r2, c\n",
    "            for r in range(r2, r1, -1):\n",
    "                yield r, c1\n",
    "\n",
    "matrix =  [ [1, 2, 3, 4],\n",
    "[5, 6, 7, 8],\n",
    "[9,10,11,12] ]\n",
    "Solution().spiralOrder(matrix)"
   ]
  },
  {
   "cell_type": "markdown",
   "metadata": {},
   "source": [
    "### 螺旋矩阵II\n",
    "给定一个正整数 n，生成一个包含 1 到 n^2 所有元素，且元素按顺时针顺序螺旋排列的正方形矩阵。\n",
    "\n",
    "示例:\n",
    "\n",
    "输入: 3\n",
    "输出:\n",
    "[\n",
    " [ 1, 2, 3 ],\n",
    " [ 8, 9, 4 ],\n",
    " [ 7, 6, 5 ]\n",
    "]\n",
    "\n",
    "来源：力扣（LeetCode）\n",
    "链接：https://leetcode-cn.com/problems/spiral-matrix-ii\n",
    "著作权归领扣网络所有。商业转载请联系官方授权，非商业转载请注明出处。"
   ]
  },
  {
   "cell_type": "code",
   "execution_count": 4,
   "metadata": {},
   "outputs": [
    {
     "data": {
      "text/plain": [
       "[[1, 2, 3], [8, 9, 4], [7, 6, 5]]"
      ]
     },
     "execution_count": 4,
     "metadata": {},
     "output_type": "execute_result"
    }
   ],
   "source": [
    "'''cr2022, M'''\n",
    "from typing import List\n",
    "class Solution:\n",
    "    def generateMatrix(self, n: int) -> List[List[int]]:\n",
    "        res = [[0] * n for _ in range(n)]\n",
    "        r1, c1, r2, c2 = 0, 0, n-1, n-1\n",
    "        num = 1\n",
    "        while r1<=r2 and c1<=c2:\n",
    "            for r, c in self.spiral_coords(r1, c1, r2, c2):\n",
    "                res[r][c] = num\n",
    "                num += 1\n",
    "            r1 += 1\n",
    "            c1 += 1\n",
    "            r2 -= 1\n",
    "            c2 -= 1\n",
    "        return res\n",
    "\n",
    "    def spiral_coords(self, r1, c1, r2, c2):\n",
    "        for c in range(c1, c2+1):\n",
    "            yield r1, c\n",
    "        for r in range(r1+1, r2+1):\n",
    "            yield r, c2\n",
    "        if r1 < r2 and c1 < c2:\n",
    "            for c in range(c2-1, c1, -1):\n",
    "                yield r2, c\n",
    "            for r in range(r2, r1, -1):\n",
    "                yield r, c1\n",
    "\n",
    "Solution().generateMatrix(3)"
   ]
  },
  {
   "cell_type": "code",
   "execution_count": null,
   "metadata": {},
   "outputs": [],
   "source": []
  }
 ],
 "metadata": {
  "kernelspec": {
   "display_name": "Python 3.9.10 ('base')",
   "language": "python",
   "name": "python3"
  },
  "language_info": {
   "codemirror_mode": {
    "name": "ipython",
    "version": 3
   },
   "file_extension": ".py",
   "mimetype": "text/x-python",
   "name": "python",
   "nbconvert_exporter": "python",
   "pygments_lexer": "ipython3",
   "version": "3.9.10 | packaged by conda-forge | (main, Feb  1 2022, 21:27:43) \n[Clang 11.1.0 ]"
  },
  "toc": {
   "base_numbering": 1,
   "nav_menu": {},
   "number_sections": true,
   "sideBar": true,
   "skip_h1_title": false,
   "title_cell": "Table of Contents",
   "title_sidebar": "Contents",
   "toc_cell": false,
   "toc_position": {},
   "toc_section_display": true,
   "toc_window_display": false
  },
  "vscode": {
   "interpreter": {
    "hash": "3774638e36becc1b3be4f932a09ec02e29dc9d9fab753e191431a024cc1a4cff"
   }
  }
 },
 "nbformat": 4,
 "nbformat_minor": 2
}
