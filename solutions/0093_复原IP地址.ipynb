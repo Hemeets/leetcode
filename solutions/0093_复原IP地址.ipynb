{
 "cells": [
  {
   "attachments": {},
   "cell_type": "markdown",
   "metadata": {},
   "source": [
    "93. 复原 IP 地址\n",
    "\n",
    "有效 IP 地址 正好由四个整数（每个整数位于 0 到 255 之间组成，且不能含有前导 0），整数之间用 '.' 分隔。\n",
    "\n",
    "例如：\"0.1.2.201\" 和 \"192.168.1.1\" 是 有效 IP 地址，但是 \"0.011.255.245\"、\"192.168.1.312\" 和 \"192.168@1.1\" 是 无效 IP 地址。\n",
    "给定一个只包含数字的字符串 s ，用以表示一个 IP 地址，返回所有可能的有效 IP 地址，这些地址可以通过在 s 中插入 '.' 来形成。你 不能 重新排序或删除 s 中的任何数字。你可以按 任何 顺序返回答案。\n",
    "\n",
    "示例 1：\n",
    "```\n",
    "输入：s = \"25525511135\"\n",
    "输出：[\"255.255.11.135\",\"255.255.111.35\"]\n",
    "```\n",
    "示例 2：\n",
    "```\n",
    "输入：s = \"0000\"\n",
    "输出：[\"0.0.0.0\"]\n",
    "```\n",
    "示例 3：\n",
    "```\n",
    "输入：s = \"101023\"\n",
    "输出：[\"1.0.10.23\",\"1.0.102.3\",\"10.1.0.23\",\"10.10.2.3\",\"101.0.2.3\"]\n",
    "```\n",
    "\n",
    "提示：\n",
    "\n",
    "1 <= s.length <= 20\n",
    "s 仅由数字组成"
   ]
  },
  {
   "cell_type": "code",
   "execution_count": 14,
   "metadata": {},
   "outputs": [
    {
     "name": "stdout",
     "output_type": "stream",
     "text": [
      "['255.255.11.135', '255.255.111.35']\n"
     ]
    }
   ],
   "source": [
    "'''2022, M'''\n",
    "from typing import List\n",
    "from utils import trace\n",
    "class Solution:\n",
    "    def restoreIpAddresses(self, s: str) -> List[str]:\n",
    "        n = len(s)\n",
    "        res = list()\n",
    "        def backtrack(idx, cnt, cur_cand):\n",
    "            \"\"\" idx: s[0: idx], cnt: `.`个数 \"\"\"\n",
    "            if cnt == 4 and idx == n:\n",
    "                res.append('.'.join(cur_cand))\n",
    "                return\n",
    "                # print(idx, cur_cand)\n",
    "            for i in range(idx + 1, n + 1):\n",
    "                if i - idx > 3:  # 0-255最多3位\n",
    "                    break\n",
    "                cur_s = s[idx: i]\n",
    "                if int(cur_s) > 255:\n",
    "                    break\n",
    "                if i - idx > 1 and s[idx] == \"0\":\n",
    "                    continue\n",
    "                cur_cand.append(cur_s)\n",
    "                backtrack(i, cnt + 1, cur_cand)\n",
    "                cur_cand.pop()\n",
    "        backtrack(0, 0, [])\n",
    "        return res\n",
    "\n",
    "\n",
    "s = \"25525511135\"\n",
    "# s = \"101023\"\n",
    "# s = \"0000\"\n",
    "print(Solution().restoreIpAddresses(s))"
   ]
  },
  {
   "cell_type": "code",
   "execution_count": null,
   "metadata": {},
   "outputs": [],
   "source": []
  }
 ],
 "metadata": {
  "kernelspec": {
   "display_name": "base",
   "language": "python",
   "name": "python3"
  },
  "language_info": {
   "codemirror_mode": {
    "name": "ipython",
    "version": 3
   },
   "file_extension": ".py",
   "mimetype": "text/x-python",
   "name": "python",
   "nbconvert_exporter": "python",
   "pygments_lexer": "ipython3",
   "version": "3.9.10"
  },
  "orig_nbformat": 4,
  "vscode": {
   "interpreter": {
    "hash": "3774638e36becc1b3be4f932a09ec02e29dc9d9fab753e191431a024cc1a4cff"
   }
  }
 },
 "nbformat": 4,
 "nbformat_minor": 2
}
