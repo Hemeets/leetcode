{
 "cells": [
  {
   "attachments": {},
   "cell_type": "markdown",
   "metadata": {},
   "source": [
    "最长递增子序列\n",
    "\n",
    "给你一个整数数组 nums ，找到其中最长严格递增子序列的长度。\n",
    "\n",
    "子序列 是由数组派生而来的序列，删除（或不删除）数组中的元素而不改变其余元素的顺序。例如，[3,6,2,7] 是数组 [0,3,1,6,2,2,7] 的子序列。\n",
    "\n",
    " \n",
    "示例 1：\n",
    "```\n",
    "输入：nums = [10,9,2,5,3,7,101,18]\n",
    "输出：4\n",
    "解释：最长递增子序列是 [2,3,7,101]，因此长度为 4 。\n",
    "```\n",
    "示例 2：\n",
    "```\n",
    "输入：nums = [0,1,0,3,2,3]\n",
    "输出：4\n",
    "```\n",
    "示例 3：\n",
    "```\n",
    "输入：nums = [7,7,7,7,7,7,7]\n",
    "输出：1\n",
    "```"
   ]
  },
  {
   "cell_type": "code",
   "execution_count": 16,
   "metadata": {},
   "outputs": [
    {
     "name": "stdout",
     "output_type": "stream",
     "text": [
      "4\n",
      "4\n"
     ]
    }
   ],
   "source": [
    "'''2022, M'''\n",
    "from typing import List\n",
    "class Solution:\n",
    "    ''' dp[i]: 以第 i 个数字结尾的最长上升子序列的长度，注意 nums[i] 必须被选取 '''\n",
    "    def lengthOfLIS(self, nums: List[int]) -> int:\n",
    "        if not nums:\n",
    "            return 0\n",
    "        n = len(nums)\n",
    "        dp = [1] * n\n",
    "        for i in range(n):\n",
    "            for j in range(i):\n",
    "                if nums[i] > nums[j]:\n",
    "                    dp[i] = max(dp[i], dp[j] + 1)\n",
    "        return max(dp)\n",
    "\n",
    "# https://leetcode.cn/problems/longest-increasing-subsequence/solutions/147667/zui-chang-shang-sheng-zi-xu-lie-by-leetcode-soluti/\n",
    "class Solution1:\n",
    "    ''' 贪心 + 二分，详见官方解答 '''\n",
    "    def lengthOfLIS(self, nums: List[int]) -> int:\n",
    "        # 维护一个数组 d[i] ，表示长度为 i 的最长上升子序列的末尾元素的最小值\n",
    "        d = list()\n",
    "        for n in nums:\n",
    "            # print(d)\n",
    "            if not d or n > d[-1]:\n",
    "                d.append(n)\n",
    "            else:  # d有单调性，查找d中第一个 >=n 的位置， 使用二分加速\n",
    "                l, r = 0, len(d) - 1\n",
    "                while l <= r:\n",
    "                    m = l + (r - l) // 2\n",
    "                    if d[m] < n:\n",
    "                        l = m + 1\n",
    "                    else:\n",
    "                        r = m - 1\n",
    "                d[l] = n\n",
    "        return len(d)\n",
    "\n",
    "# nums = [10,9,2,5,3,7,101,18]\n",
    "nums = [0,1,0,3,2,3]\n",
    "print(Solution().lengthOfLIS(nums))\n",
    "print(Solution1().lengthOfLIS(nums))"
   ]
  },
  {
   "cell_type": "code",
   "execution_count": null,
   "metadata": {},
   "outputs": [],
   "source": []
  }
 ],
 "metadata": {
  "kernelspec": {
   "display_name": "base",
   "language": "python",
   "name": "python3"
  },
  "language_info": {
   "codemirror_mode": {
    "name": "ipython",
    "version": 3
   },
   "file_extension": ".py",
   "mimetype": "text/x-python",
   "name": "python",
   "nbconvert_exporter": "python",
   "pygments_lexer": "ipython3",
   "version": "3.9.10 | packaged by conda-forge | (main, Feb  1 2022, 21:27:43) \n[Clang 11.1.0 ]"
  },
  "orig_nbformat": 4,
  "vscode": {
   "interpreter": {
    "hash": "3774638e36becc1b3be4f932a09ec02e29dc9d9fab753e191431a024cc1a4cff"
   }
  }
 },
 "nbformat": 4,
 "nbformat_minor": 2
}
