{
 "cells": [
  {
   "cell_type": "markdown",
   "metadata": {},
   "source": [
    "给定一个非负整数数组，你最初位于数组的第一个位置。\n",
    "\n",
    "数组中的每个元素代表你在该位置可以跳跃的最大长度。\n",
    "\n",
    "判断你是否能够到达最后一个位置。\n",
    "\n",
    "示例 1:\n",
    "\n",
    "输入: [2,3,1,1,4]\n",
    "输出: true\n",
    "解释: 从位置 0 到 1 跳 1 步, 然后跳 3 步到达最后一个位置。\n",
    "示例 2:\n",
    "\n",
    "输入: [3,2,1,0,4]\n",
    "输出: false\n",
    "解释: 无论怎样，你总会到达索引为 3 的位置。但该位置的最大跳跃长度是 0 ， 所以你永远不可能到达最后一个位置。\n",
    "\n",
    "来源：力扣（LeetCode）\n",
    "链接：https://leetcode-cn.com/problems/jump-game\n",
    "著作权归领扣网络所有。商业转载请联系官方授权，非商业转载请注明出处。"
   ]
  },
  {
   "cell_type": "code",
   "execution_count": 1,
   "metadata": {},
   "outputs": [
    {
     "data": {
      "text/plain": [
       "True"
      ]
     },
     "execution_count": 1,
     "metadata": {},
     "output_type": "execute_result"
    }
   ],
   "source": [
    "'''cr2022, M'''\n",
    "from typing import List\n",
    "class Solution:\n",
    "    ''' 正向考虑 '''\n",
    "    def canJump(self, nums: List[int]) -> bool:\n",
    "        n = len(nums)\n",
    "        right_most = 0\n",
    "        for i in range(n):\n",
    "            if i <= right_most:\n",
    "                right_most = max(right_most, i + nums[i])\n",
    "                if right_most >= n - 1:\n",
    "                    return True\n",
    "        return False\n",
    "        \n",
    "\n",
    "class Solution1:\n",
    "    ''' 反向考虑 '''\n",
    "    def canJump(self, nums: List[int]) -> bool:\n",
    "        n = len(nums)\n",
    "        last_pos = n - 1\n",
    "        for i in range(n - 1, -1, -1):\n",
    "            if i + nums[i] >= last_pos:\n",
    "                last_pos = i\n",
    "        return last_pos == 0\n",
    "\n",
    "nums = [2,3,1,1,4]\n",
    "Solution().canJump(nums)"
   ]
  },
  {
   "cell_type": "code",
   "execution_count": 38,
   "metadata": {},
   "outputs": [],
   "source": [
    "def canJump(nums):\n",
    "    if not nums:\n",
    "        return False\n",
    "    L = len(nums)\n",
    "#     if L == 1:\n",
    "#         return True\n",
    "    dp = [False] * L\n",
    "    dp[0] = True\n",
    "    for i in range(L):\n",
    "#         print(i)\n",
    "        for j in range(i):\n",
    "#             print(j, nums[j]+j>=i, dp[j])\n",
    "            dp[i] = dp[i] or ((nums[j]+j>=i) and dp[j])\n",
    "            if dp[i] == True:\n",
    "                break\n",
    "    \n",
    "    return dp[L-1]"
   ]
  },
  {
   "cell_type": "markdown",
   "metadata": {},
   "source": [
    "上面想法应该是对的，但是竟然超时了！\n",
    "\n",
    "下面看一种O（n）的贪心法：\n",
    "方法 4：贪心\n",
    "当我们把代码改成自底向上的模式，我们会有一个重要的发现，从某个位置出发，我们只需要找到第一个标记为 GOOD 的坐标（由跳出循环的条件可得），也就是说找到最左边的那个坐标。如果我们用一个单独的变量来记录最左边的 GOOD 位置，我们就可以避免搜索整个数组，进而可以省略整个 memo 数组。\n",
    "\n",
    "从右向左迭代，对于每个节点我们检查是否存在一步跳跃可以到达 GOOD 的位置（currPosition + nums[currPosition] >= leftmostGoodIndex）。如果可以到达，当前位置也标记为 GOOD ，同时，这个位置将成为新的最左边的 GOOD 位置，一直重复到数组的开头，如果第一个坐标标记为 GOOD 意味着可以从第一个位置跳到最后的位置。\n",
    "\n",
    "模拟一下这个操作，对于输入数组 nums = [9, 4, 2, 1, 0, 2, 0]，我们用 G 表示 GOOD，用 B 表示 BAD 和 U 表示 UNKNOWN。我们需要考虑所有从 0 出发的情况并判断坐标 0 是否是好坐标。由于坐标 1 是 GOOD，我们可以从 0 跳到 1 并且 1 最终可以跳到坐标 6，所以尽管 nums[0] 可以直接跳到最后的位置，我们只需要一种方案就可以知道结果。\n",
    "\n",
    "Index\t0\t1\t2\t3\t4\t5\t6\n",
    "\n",
    "nums\t9\t4\t2\t1\t0\t2\t0\n",
    "\n",
    "memo\tU\tG\tB\tB\tB\tG\tG\n",
    "\n",
    "Java\n",
    "\n",
    "\n",
    "作者：LeetCode\n",
    "链接：https://leetcode-cn.com/problems/two-sum/solution/tiao-yue-you-xi-by-leetcode/\n",
    "来源：力扣（LeetCode）\n",
    "著作权归作者所有。商业转载请联系作者获得授权，非商业转载请注明出处。"
   ]
  },
  {
   "cell_type": "code",
   "execution_count": 42,
   "metadata": {},
   "outputs": [],
   "source": [
    "def canJump1(nums):\n",
    "    # 这个牛逼啊！！\n",
    "    L = len(nums)\n",
    "    lastPos = L - 1\n",
    "    for i in range(lastPos, -1, -1):\n",
    "        if i + nums[i] >= lastPos:\n",
    "            lastPos = i\n",
    "    return lastPos == 0"
   ]
  },
  {
   "cell_type": "code",
   "execution_count": 43,
   "metadata": {},
   "outputs": [
    {
     "data": {
      "text/plain": [
       "True"
      ]
     },
     "execution_count": 43,
     "metadata": {},
     "output_type": "execute_result"
    }
   ],
   "source": [
    "nums1 = [2,3,1,1,4]\n",
    "nums2 = [3,2,1,0,4]\n",
    "nums3 = [0,2,3]\n",
    "nums4 = [2,3,1,1,4]\n",
    "nums5 = [1,1,1,1,1,1,1,1,1,1,1,1,1,1,1,1,1,1]\n",
    "canJump1(nums5)"
   ]
  },
  {
   "cell_type": "code",
   "execution_count": 41,
   "metadata": {},
   "outputs": [
    {
     "data": {
      "text/plain": [
       "[5, 4, 3, 2]"
      ]
     },
     "execution_count": 41,
     "metadata": {},
     "output_type": "execute_result"
    }
   ],
   "source": [
    "list(range(5,1,-1))"
   ]
  },
  {
   "cell_type": "code",
   "execution_count": null,
   "metadata": {},
   "outputs": [],
   "source": []
  }
 ],
 "metadata": {
  "kernelspec": {
   "display_name": "Python 3.9.10 ('base')",
   "language": "python",
   "name": "python3"
  },
  "language_info": {
   "codemirror_mode": {
    "name": "ipython",
    "version": 3
   },
   "file_extension": ".py",
   "mimetype": "text/x-python",
   "name": "python",
   "nbconvert_exporter": "python",
   "pygments_lexer": "ipython3",
   "version": "3.9.10"
  },
  "toc": {
   "base_numbering": 1,
   "nav_menu": {},
   "number_sections": true,
   "sideBar": true,
   "skip_h1_title": false,
   "title_cell": "Table of Contents",
   "title_sidebar": "Contents",
   "toc_cell": false,
   "toc_position": {},
   "toc_section_display": true,
   "toc_window_display": false
  },
  "vscode": {
   "interpreter": {
    "hash": "3774638e36becc1b3be4f932a09ec02e29dc9d9fab753e191431a024cc1a4cff"
   }
  }
 },
 "nbformat": 4,
 "nbformat_minor": 2
}
