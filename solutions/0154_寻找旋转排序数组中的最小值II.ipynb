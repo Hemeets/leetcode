{
 "cells": [
  {
   "attachments": {},
   "cell_type": "markdown",
   "metadata": {},
   "source": [
    "154. 寻找旋转排序数组中的最小值 II\n",
    "\n",
    "已知一个长度为 n 的数组，预先按照升序排列，经由 1 到 n 次 旋转 后，得到输入数组。例如，原数组 nums = [0,1,4,4,5,6,7] 在变化后可能得到：\n",
    "若旋转 4 次，则可以得到 [4,5,6,7,0,1,4]\n",
    "若旋转 7 次，则可以得到 [0,1,4,4,5,6,7]\n",
    "注意，数组 [a[0], a[1], a[2], ..., a[n-1]] 旋转一次 的结果为数组 [a[n-1], a[0], a[1], a[2], ..., a[n-2]] 。\n",
    "\n",
    "给你一个可能存在 重复 元素值的数组 nums ，它原来是一个升序排列的数组，并按上述情形进行了多次旋转。请你找出并返回数组中的 最小元素 。\n",
    "\n",
    "你必须尽可能减少整个过程的操作步骤。\n",
    "\n",
    "示例 1：\n",
    "```\n",
    "输入：nums = [1,3,5]\n",
    "输出：1\n",
    "```\n",
    "示例 2：\n",
    "```\n",
    "输入：nums = [2,2,2,0,1]\n",
    "输出：0\n",
    "```\n",
    "\n",
    "提示：\n",
    "```\n",
    "n == nums.length\n",
    "1 <= n <= 5000\n",
    "-5000 <= nums[i] <= 5000\n",
    "nums 原来是一个升序排序的数组，并进行了 1 至 n 次旋转\n",
    "```\n",
    "\n",
    "进阶：这道题与 寻找旋转排序数组中的最小值 类似，但 nums 可能包含重复元素。允许重复会影响算法的时间复杂度吗？会如何影响，为什么？"
   ]
  },
  {
   "cell_type": "code",
   "execution_count": 12,
   "metadata": {},
   "outputs": [
    {
     "name": "stdout",
     "output_type": "stream",
     "text": [
      "idx: 4\n",
      "1\n",
      "0 3 7\n",
      "4 5 7\n",
      "5 5 6\n",
      "idx: 6\n",
      "1\n"
     ]
    }
   ],
   "source": [
    "'''2022, M'''\n",
    "# 注意nums中可能有重复\n",
    "from typing import List\n",
    "class Solution:\n",
    "    \"\"\" 只是找最小值 \"\"\"\n",
    "    def findMin(self, nums: List[int]) -> int:\n",
    "        n = len(nums)\n",
    "        l, r = 0, n - 1\n",
    "        while l < r:\n",
    "            m = (l + r) // 2\n",
    "            if nums[m] > nums[r]:\n",
    "                l = m + 1\n",
    "            elif nums[m] < nums[r]:\n",
    "                r = m\n",
    "            else:  # nums[m] == nums[r]\n",
    "                r -= 1\n",
    "        print(f'idx: {l}')\n",
    "        return nums[l]\n",
    "\n",
    "\n",
    "# class Solution1:\n",
    "#     \"\"\" 精确找到旋转点【不存在？这个也是不对的！】 \"\"\"\n",
    "#     def findMin(self, nums: List[int]) -> int:\n",
    "#         n = len(nums)\n",
    "#         l, r = 0, n - 1\n",
    "#         while l < r:\n",
    "#             m = (l + r) // 2\n",
    "#             print(l, m, r)\n",
    "#             if nums[m] > nums[r]:\n",
    "#                 l = m + 1\n",
    "#             elif nums[m] < nums[r]:\n",
    "#                 r = m\n",
    "#             else:\n",
    "#                 if nums[m] == nums[l]:\n",
    "#                     l += 1\n",
    "#                     r -= 1\n",
    "#                 else:\n",
    "#                     r -= 1\n",
    "#         print(f'idx: {l}')\n",
    "#         return nums[l]\n",
    "\n",
    "# nums = [2,2,2,0,1]\n",
    "nums = [1,1,1,3,1,1,1,1]\n",
    "print(Solution().findMin(nums))\n",
    "# print(Solution1().findMin(nums))"
   ]
  },
  {
   "attachments": {},
   "cell_type": "markdown",
   "metadata": {},
   "source": [
    "r -= 1的说明：\n",
    "\n",
    "重复元素的存在，我们并不能确定 nums[m] 究竟在最小值的左侧还是右侧，因此我们不能莽撞地忽略某一部分的元素。我们唯一可以知道的是，由于它们的值相同，所以无论 nums[r] 是不是最小值，都有一个它的「替代品」nums[m]，因此我们可以忽略二分查找区间的右端点。"
   ]
  },
  {
   "cell_type": "markdown",
   "metadata": {},
   "source": []
  }
 ],
 "metadata": {
  "kernelspec": {
   "display_name": "base",
   "language": "python",
   "name": "python3"
  },
  "language_info": {
   "codemirror_mode": {
    "name": "ipython",
    "version": 3
   },
   "file_extension": ".py",
   "mimetype": "text/x-python",
   "name": "python",
   "nbconvert_exporter": "python",
   "pygments_lexer": "ipython3",
   "version": "3.9.10"
  },
  "orig_nbformat": 4,
  "vscode": {
   "interpreter": {
    "hash": "3774638e36becc1b3be4f932a09ec02e29dc9d9fab753e191431a024cc1a4cff"
   }
  }
 },
 "nbformat": 4,
 "nbformat_minor": 2
}
