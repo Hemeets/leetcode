{
 "cells": [
  {
   "attachments": {},
   "cell_type": "markdown",
   "metadata": {},
   "source": [
    "18. 四数之和\n",
    "\n",
    "给你一个由 n 个整数组成的数组 nums ，和一个目标值 target 。请你找出并返回满足下述全部条件且不重复的四元组 [nums[a], nums[b], nums[c], nums[d]] （若两个四元组元素一一对应，则认为两个四元组重复）：\n",
    "\n",
    "0 <= a, b, c, d < n\n",
    "a、b、c 和 d 互不相同\n",
    "nums[a] + nums[b] + nums[c] + nums[d] == target\n",
    "你可以按 任意顺序 返回答案 。\n",
    "\n",
    "示例 1：\n",
    "```\n",
    "输入：nums = [1,0,-1,0,-2,2], target = 0\n",
    "输出：[[-2,-1,1,2],[-2,0,0,2],[-1,0,0,1]]\n",
    "```\n",
    "示例 2：\n",
    "```\n",
    "输入：nums = [2,2,2,2,2], target = 8\n",
    "输出：[[2,2,2,2]]\n",
    "```"
   ]
  },
  {
   "cell_type": "code",
   "execution_count": 24,
   "metadata": {},
   "outputs": [
    {
     "name": "stdout",
     "output_type": "stream",
     "text": [
      "-2 -1 1 2\n",
      "-2 0 0 2\n",
      "-2 -1 0 1\n",
      "-2 0 0 1\n",
      "-2 -1 0 0\n",
      "-1 0 0 1\n",
      "[[-2, -1, 1, 2], [-2, 0, 0, 2], [-1, 0, 0, 1]]\n",
      "2 2 2 2\n",
      "[[2, 2, 2, 2]]\n"
     ]
    }
   ],
   "source": [
    "'''2022, M'''\n",
    "from typing import List\n",
    "class Solution:\n",
    "    \"\"\" O(n^3)，与0015同样想法 \"\"\"\n",
    "    def fourSum(self, nums: List[int], target: int) -> List[List[int]]:\n",
    "        n = len(nums)\n",
    "        res = list()\n",
    "        if n < 4:\n",
    "            return res\n",
    "        nums.sort()\n",
    "\n",
    "        def dedup_left():\n",
    "            nonlocal left, right\n",
    "            while left < right and nums[left] == nums[left - 1]:\n",
    "                left += 1\n",
    "        \n",
    "        def dedup_right():\n",
    "            nonlocal left, right\n",
    "            while left < right and nums[right] == nums[right + 1]:\n",
    "                right -= 1\n",
    "\n",
    "        for start in range(n - 3):\n",
    "            if start > 0 and nums[start] == nums[start - 1]:\n",
    "                continue\n",
    "            # 剪枝\n",
    "            if nums[start] + nums[start+1] + nums[start+2] + nums[start+3] > target:\n",
    "                break\n",
    "            if nums[start] + nums[n-1] + nums[n-2] + nums[n-3] < target:\n",
    "                continue\n",
    "            for end in range(n - 1, start + 2, -1):\n",
    "                if end < n - 1 and nums[end] == nums[end + 1]:\n",
    "                    continue\n",
    "                if nums[start] + nums[start+1] + nums[start+2] + nums[end] > target:\n",
    "                    continue\n",
    "                if nums[start] + nums[end] + nums[end-1] + nums[end-2] < target:\n",
    "                    continue\n",
    "                left, right = start + 1, end - 1\n",
    "                while left < right:\n",
    "                    # print(nums[start], nums[left], nums[right], nums[end])\n",
    "                    cur_num = nums[start] + nums[left] + nums[right] + nums[end]\n",
    "                    if cur_num == target:\n",
    "                        res.append([nums[start], nums[left], nums[right], nums[end]])\n",
    "                        right -= 1\n",
    "                        left += 1\n",
    "                        dedup_left()\n",
    "                        dedup_right()\n",
    "                        # while left < right and nums[left] == nums[left - 1]:\n",
    "                        #     left += 1\n",
    "                        # while left < right and nums[right] == nums[right + 1]:\n",
    "                        #     right -= 1\n",
    "                        \n",
    "                    elif cur_num > target:\n",
    "                        right -= 1\n",
    "                        dedup_right()\n",
    "                        # while left < right and nums[right] == nums[right + 1]:\n",
    "                        #     right -= 1\n",
    "                    else:\n",
    "                        left += 1\n",
    "                        dedup_left()\n",
    "                        # while left < right and nums[left] == nums[left - 1]:\n",
    "                        #     left += 1\n",
    "        return res\n",
    "\n",
    "\n",
    "nums = [1,0,-1,0,-2,2]\n",
    "target = 0\n",
    "print(Solution().fourSum(nums, target))\n",
    "nums = [2,2,2,2,2]\n",
    "target = 8\n",
    "print(Solution().fourSum(nums, target))"
   ]
  },
  {
   "cell_type": "code",
   "execution_count": null,
   "metadata": {},
   "outputs": [],
   "source": []
  }
 ],
 "metadata": {
  "kernelspec": {
   "display_name": "base",
   "language": "python",
   "name": "python3"
  },
  "language_info": {
   "codemirror_mode": {
    "name": "ipython",
    "version": 3
   },
   "file_extension": ".py",
   "mimetype": "text/x-python",
   "name": "python",
   "nbconvert_exporter": "python",
   "pygments_lexer": "ipython3",
   "version": "3.9.10"
  },
  "orig_nbformat": 4,
  "vscode": {
   "interpreter": {
    "hash": "3774638e36becc1b3be4f932a09ec02e29dc9d9fab753e191431a024cc1a4cff"
   }
  }
 },
 "nbformat": 4,
 "nbformat_minor": 2
}
