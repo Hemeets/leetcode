{
 "cells": [
  {
   "cell_type": "markdown",
   "metadata": {},
   "source": [
    "给定一个包含 n 个整数的数组 nums，判断 nums 中是否存在三个元素 a，b，c ，使得 a + b + c = 0 ？找出所有满足条件且不重复的三元组。\n",
    "\n",
    "注意：答案中不可以包含重复的三元组。\n",
    "\n",
    "例如, 给定数组 nums = [-1, 0, 1, 2, -1, -4]，\n",
    "\n",
    "满足要求的三元组集合为：\n",
    "[\n",
    "  [-1, 0, 1],\n",
    "  [-1, -1, 2]\n",
    "]\n",
    "\n",
    "来源：力扣（LeetCode）\n",
    "链接：https://leetcode-cn.com/problems/3sum\n",
    "著作权归领扣网络所有。商业转载请联系官方授权，非商业转载请注明出处。"
   ]
  },
  {
   "cell_type": "markdown",
   "metadata": {},
   "source": [
    "先排序，再固定一个，左右指针找另两个，时间O（n^2）"
   ]
  },
  {
   "cell_type": "code",
   "execution_count": 2,
   "metadata": {},
   "outputs": [
    {
     "name": "stdout",
     "output_type": "stream",
     "text": [
      "[[-1, -1, 2], [-1, 0, 1]]\n"
     ]
    }
   ],
   "source": [
    "''' cr_2020, M '''\n",
    "from typing import List\n",
    "\n",
    "class Solution:\n",
    "    \"\"\" 先排序，然后双指针，O(n^2)\"\"\"\n",
    "    def threeSum(self, nums: List[int]) -> List[List[int]]:\n",
    "        n = len(nums)\n",
    "        nums.sort()\n",
    "        res = list()\n",
    "\n",
    "        for k in range(n-2):\n",
    "            if k > 0 and nums[k] == nums[k-1]:\n",
    "                continue\n",
    "            i, j = k + 1, n - 1\n",
    "            while i < j:\n",
    "                p = nums[k] + nums[i] + nums[j]\n",
    "                if p < 0:\n",
    "                    i += 1\n",
    "                    while i < j and nums[i] == nums[i - 1]:\n",
    "                        i += 1\n",
    "                elif p > 0:\n",
    "                    j -= 1\n",
    "                    while i < j and nums[j] == nums[j + 1]:\n",
    "                        j -= 1\n",
    "                else:\n",
    "                    res.append([nums[k], nums[i], nums[j]])\n",
    "                    i += 1\n",
    "                    j -= 1\n",
    "                    while i < j and nums[i] == nums[i - 1]:\n",
    "                        i += 1\n",
    "                    while i < j and nums[j] == nums[j + 1]:\n",
    "                        j -= 1\n",
    "        return res\n",
    "\n",
    "nums = [-1, 0, 1, 2, -1, -4]\n",
    "print(Solution().threeSum(nums))"
   ]
  },
  {
   "cell_type": "code",
   "execution_count": 1,
   "metadata": {},
   "outputs": [],
   "source": [
    "def threeSum(nums):\n",
    "    nums.sort()\n",
    "    res = []\n",
    "    L = len(nums)\n",
    "    for k in range(L - 2):\n",
    "        if nums[k] > 0:\n",
    "            break\n",
    "        if k > 0 and nums[k] == nums[k - 1]:\n",
    "            continue\n",
    "        i, j = k + 1, L - 1\n",
    "        while i < j:\n",
    "            s = nums[k] + nums[i] + nums[j]\n",
    "            if s < 0:\n",
    "                i += 1\n",
    "                while i < j and nums[i] == nums[i - 1]:\n",
    "                    i += 1\n",
    "            elif s > 0:\n",
    "                j -= 1\n",
    "                while i < j and nums[j] == nums[j + 1]:\n",
    "                    j -= 1\n",
    "            else:\n",
    "                res.append([nums[k], nums[i], nums[j]])\n",
    "                i += 1\n",
    "                j -= 1\n",
    "                while i < j and nums[i] == nums[i - 1]:\n",
    "                    i += 1\n",
    "                while i < j and nums[j] == nums[j + 1]:\n",
    "                    j -= 1\n",
    "    return res"
   ]
  },
  {
   "cell_type": "code",
   "execution_count": null,
   "metadata": {},
   "outputs": [],
   "source": []
  }
 ],
 "metadata": {
  "kernelspec": {
   "display_name": "Python 3.9.10 ('base')",
   "language": "python",
   "name": "python3"
  },
  "language_info": {
   "codemirror_mode": {
    "name": "ipython",
    "version": 3
   },
   "file_extension": ".py",
   "mimetype": "text/x-python",
   "name": "python",
   "nbconvert_exporter": "python",
   "pygments_lexer": "ipython3",
   "version": "3.9.10 | packaged by conda-forge | (main, Feb  1 2022, 21:27:43) \n[Clang 11.1.0 ]"
  },
  "toc": {
   "base_numbering": 1,
   "nav_menu": {},
   "number_sections": true,
   "sideBar": true,
   "skip_h1_title": false,
   "title_cell": "Table of Contents",
   "title_sidebar": "Contents",
   "toc_cell": false,
   "toc_position": {},
   "toc_section_display": true,
   "toc_window_display": false
  },
  "vscode": {
   "interpreter": {
    "hash": "3774638e36becc1b3be4f932a09ec02e29dc9d9fab753e191431a024cc1a4cff"
   }
  }
 },
 "nbformat": 4,
 "nbformat_minor": 2
}
