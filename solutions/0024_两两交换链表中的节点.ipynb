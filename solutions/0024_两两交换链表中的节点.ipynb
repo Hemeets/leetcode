{
 "cells": [
  {
   "cell_type": "markdown",
   "metadata": {},
   "source": [
    "给定一个链表，两两交换其中相邻的节点，并返回交换后的链表。\n",
    "\n",
    "你不能只是单纯的改变节点内部的值，而是需要实际的进行节点交换。\n",
    "\n",
    " \n",
    "\n",
    "示例:\n",
    "\n",
    "给定 1->2->3->4, 你应该返回 2->1->4->3.\n",
    "\n",
    "来源：力扣（LeetCode）\n",
    "链接：https://leetcode-cn.com/problems/swap-nodes-in-pairs\n",
    "著作权归领扣网络所有。商业转载请联系官方授权，非商业转载请注明出处。"
   ]
  },
  {
   "cell_type": "code",
   "execution_count": 3,
   "metadata": {},
   "outputs": [
    {
     "name": "stdout",
     "output_type": "stream",
     "text": [
      "[2, 1, 4, 3]\n",
      "[2, 1, 4, 3]\n"
     ]
    }
   ],
   "source": [
    "'''cr2022, M'''\n",
    "from utils import ListNode, l2ln, ln2l, Optional\n",
    "class Solution1:\n",
    "    \"\"\" 迭代 \"\"\"\n",
    "    def swapPairs(self, head: Optional[ListNode]) -> Optional[ListNode]:\n",
    "        if not head or not head.next:\n",
    "            return head\n",
    "        prevhead = ListNode(-1)\n",
    "        prevhead.next = head\n",
    "        pre, cur = prevhead, head\n",
    "        while cur and cur.next:\n",
    "            tmp = cur.next\n",
    "            pre.next = tmp\n",
    "            cur.next = tmp.next\n",
    "            tmp.next = cur\n",
    "            pre = cur\n",
    "            cur = cur.next\n",
    "        return prevhead.next\n",
    "\n",
    "\n",
    "class Solution2:\n",
    "    \"\"\" 递归 \"\"\"\n",
    "    def swapPairs(self, head: Optional[ListNode]) -> Optional[ListNode]:\n",
    "        if not head or not head.next:\n",
    "            return head\n",
    "        new_head = head.next\n",
    "        head.next = self.swapPairs(new_head.next)\n",
    "        new_head.next = head\n",
    "        return new_head\n",
    "\n",
    "\n",
    "head = [1,2,3,4]\n",
    "print(ln2l(Solution1().swapPairs(l2ln(head))))\n",
    "print(ln2l(Solution2().swapPairs(l2ln(head))))"
   ]
  },
  {
   "cell_type": "code",
   "execution_count": 4,
   "metadata": {},
   "outputs": [],
   "source": [
    "# Definition for singly-linked list.\n",
    "class ListNode:\n",
    "    def __init__(self, x):\n",
    "        self.val = x\n",
    "        self.next = None\n",
    "\n",
    "class Solution:\n",
    "    def swapPairs(self, head: ListNode) -> ListNode:\n",
    "        if not head:\n",
    "            return head\n",
    "        if not head.next:\n",
    "            return head\n",
    "        \n",
    "        head0 = ListNode(None)\n",
    "        head0.next = head\n",
    "        pre = head0\n",
    "        cur = head\n",
    "        \n",
    "       \n",
    "        while cur and cur.next:\n",
    "            tmp = cur.next.next\n",
    "            cur.next.next = cur\n",
    "            pre.next = cur.next\n",
    "            pre = cur\n",
    "            cur.next = tmp\n",
    "            cur = tmp\n",
    "              \n",
    "        return head0.next"
   ]
  },
  {
   "cell_type": "code",
   "execution_count": null,
   "metadata": {},
   "outputs": [],
   "source": []
  }
 ],
 "metadata": {
  "kernelspec": {
   "display_name": "Python 3.9.10 ('base')",
   "language": "python",
   "name": "python3"
  },
  "language_info": {
   "codemirror_mode": {
    "name": "ipython",
    "version": 3
   },
   "file_extension": ".py",
   "mimetype": "text/x-python",
   "name": "python",
   "nbconvert_exporter": "python",
   "pygments_lexer": "ipython3",
   "version": "3.9.10 | packaged by conda-forge | (main, Feb  1 2022, 21:27:43) \n[Clang 11.1.0 ]"
  },
  "toc": {
   "base_numbering": 1,
   "nav_menu": {},
   "number_sections": true,
   "sideBar": true,
   "skip_h1_title": false,
   "title_cell": "Table of Contents",
   "title_sidebar": "Contents",
   "toc_cell": false,
   "toc_position": {},
   "toc_section_display": true,
   "toc_window_display": false
  },
  "vscode": {
   "interpreter": {
    "hash": "3774638e36becc1b3be4f932a09ec02e29dc9d9fab753e191431a024cc1a4cff"
   }
  }
 },
 "nbformat": 4,
 "nbformat_minor": 2
}
