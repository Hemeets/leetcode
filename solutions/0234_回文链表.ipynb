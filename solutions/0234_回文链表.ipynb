{
 "cells": [
  {
   "cell_type": "markdown",
   "metadata": {},
   "source": [
    "请判断一个链表是否为回文链表。\n",
    "\n",
    "示例 1:\n",
    "\n",
    "输入: 1->2\n",
    "输出: false\n",
    "示例 2:\n",
    "\n",
    "输入: 1->2->2->1\n",
    "输出: true\n",
    "进阶：\n",
    "你能否用 O(n) 时间复杂度和 O(1) 空间复杂度解决此题？"
   ]
  },
  {
   "cell_type": "code",
   "execution_count": 5,
   "metadata": {},
   "outputs": [
    {
     "name": "stdout",
     "output_type": "stream",
     "text": [
      "2 2\n"
     ]
    },
    {
     "data": {
      "text/plain": [
       "True"
      ]
     },
     "execution_count": 5,
     "metadata": {},
     "output_type": "execute_result"
    }
   ],
   "source": [
    "'''2022, E'''\n",
    "from utils import *\n",
    "class Solution:\n",
    "    '''快慢指针 + 反转链表'''\n",
    "    def isPalindrome(self, head: Optional[ListNode]) -> bool:\n",
    "        # 反转前半部分\n",
    "        if not head or not head.next:\n",
    "            return True\n",
    "        slow, fast = head, head  # fast是head还是head.next需要看具体哪种方便\n",
    "        pre = None\n",
    "        while fast and fast.next:\n",
    "            fast = fast.next.next  # 注意fast的更新要在slow之前，否则slow反转了顺序导致bug\n",
    "            tmp = slow.next\n",
    "            slow.next = pre\n",
    "            pre = slow\n",
    "            slow = tmp\n",
    "        # pre 即为 len // 2\n",
    "        if fast:  # len 为 奇数\n",
    "            slow = slow.next\n",
    "        while pre and slow:\n",
    "            if pre.val != slow.val:\n",
    "                return False\n",
    "            pre = pre.next\n",
    "            slow = slow.next\n",
    "        if pre or slow:\n",
    "            return False\n",
    "        return True\n",
    "        \n",
    "\n",
    "head = l2ln([1,2,2,1])\n",
    "Solution().isPalindrome(head)"
   ]
  }
 ],
 "metadata": {
  "kernelspec": {
   "display_name": "Python 3.9.10 ('base')",
   "language": "python",
   "name": "python3"
  },
  "language_info": {
   "codemirror_mode": {
    "name": "ipython",
    "version": 3
   },
   "file_extension": ".py",
   "mimetype": "text/x-python",
   "name": "python",
   "nbconvert_exporter": "python",
   "pygments_lexer": "ipython3",
   "version": "3.9.10 | packaged by conda-forge | (main, Feb  1 2022, 21:27:43) \n[Clang 11.1.0 ]"
  },
  "toc": {
   "base_numbering": 1,
   "nav_menu": {},
   "number_sections": true,
   "sideBar": true,
   "skip_h1_title": false,
   "title_cell": "Table of Contents",
   "title_sidebar": "Contents",
   "toc_cell": false,
   "toc_position": {},
   "toc_section_display": true,
   "toc_window_display": false
  },
  "vscode": {
   "interpreter": {
    "hash": "3774638e36becc1b3be4f932a09ec02e29dc9d9fab753e191431a024cc1a4cff"
   }
  }
 },
 "nbformat": 4,
 "nbformat_minor": 2
}
