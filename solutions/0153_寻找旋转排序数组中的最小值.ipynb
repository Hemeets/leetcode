{
 "cells": [
  {
   "attachments": {},
   "cell_type": "markdown",
   "metadata": {},
   "source": [
    "153. 寻找旋转排序数组中的最小值\n",
    "\n",
    "已知一个长度为 n 的数组，预先按照升序排列，经由 1 到 n 次 旋转 后，得到输入数组。例如，原数组 nums = [0,1,2,4,5,6,7] 在变化后可能得到：\n",
    "若旋转 4 次，则可以得到 [4,5,6,7,0,1,2]\n",
    "若旋转 7 次，则可以得到 [0,1,2,4,5,6,7]\n",
    "注意，数组 [a[0], a[1], a[2], ..., a[n-1]] 旋转一次 的结果为数组 [a[n-1], a[0], a[1], a[2], ..., a[n-2]] 。\n",
    "\n",
    "给你一个元素值 互不相同 的数组 nums ，它原来是一个升序排列的数组，并按上述情形进行了多次旋转。请你找出并返回数组中的 最小元素 。\n",
    "\n",
    "你必须设计一个时间复杂度为 O(log n) 的算法解决此问题。\n",
    "\n",
    "示例 1：\n",
    "```\n",
    "输入：nums = [3,4,5,1,2]\n",
    "输出：1\n",
    "解释：原数组为 [1,2,3,4,5] ，旋转 3 次得到输入数组。\n",
    "```\n",
    "示例 2：\n",
    "```\n",
    "输入：nums = [4,5,6,7,0,1,2]\n",
    "输出：0\n",
    "解释：原数组为 [0,1,2,4,5,6,7] ，旋转 4 次得到输入数组。\n",
    "```\n",
    "示例 3：\n",
    "```\n",
    "输入：nums = [11,13,15,17]\n",
    "输出：11\n",
    "解释：原数组为 [11,13,15,17] ，旋转 4 次得到输入数组。\n",
    "```\n",
    "\n",
    "提示：\n",
    "```\n",
    "n == nums.length\n",
    "1 <= n <= 5000\n",
    "-5000 <= nums[i] <= 5000\n",
    "nums 中的所有整数 互不相同\n",
    "nums 原来是一个升序排序的数组，并进行了 1 至 n 次旋转\n",
    "```"
   ]
  },
  {
   "cell_type": "code",
   "execution_count": 3,
   "metadata": {},
   "outputs": [
    {
     "name": "stdout",
     "output_type": "stream",
     "text": [
      "11\n",
      "11\n"
     ]
    }
   ],
   "source": [
    "'''2022, M'''\n",
    "# 注意nums中整数互不相同，即无重复\n",
    "from typing import List\n",
    "class Solution:\n",
    "    def findMin(self, nums: List[int]) -> int:\n",
    "        left, right = 0, len(nums) - 1          # 左闭右闭区间，如果用右开区间则不方便判断右值\n",
    "        while left < right:                     # 循环不变式，如果left == right，则循环结束\n",
    "            mid = (left + right) >> 1           # 地板除，mid更靠近left\n",
    "            if nums[mid] > nums[right]:         # 中值 > 右值，最小值在右半边，收缩左边界\n",
    "                left = mid + 1                  # 因为中值 > 右值，中值肯定不是最小值，左边界可以跨过mid\n",
    "            elif nums[mid] < nums[right]:       # 明确中值 < 右值，最小值在左半边，收缩右边界\n",
    "                # 这里是为了更精确，当然也可以直接else\n",
    "                right = mid                     # 因为中值 < 右值，中值也可能是最小值，右边界只能取到mid处\n",
    "        return nums[left]                       # 循环结束，left == right，最小值输出nums[left]或nums[right]均可\n",
    "\n",
    "\n",
    "class Solution1:\n",
    "    ''' 找最大值 '''\n",
    "    def findMin(self, nums: List[int]) -> int:\n",
    "        n = len(nums)\n",
    "        left, right = 0, n - 1 \n",
    "        while left < right:\n",
    "            mid = (left + right + 1) // 2\n",
    "            if nums[left] < nums[mid]:\n",
    "                left = mid\n",
    "            elif nums[left] > nums[mid]:\n",
    "                right = mid - 1\n",
    "        idx = (right + 1) % n\n",
    "        return nums[idx]\n",
    "\n",
    "# nums = [4,5,6,7,0,1,2]\n",
    "nums = [11,13,15,17]\n",
    "print(Solution().findMin(nums))\n",
    "print(Solution1().findMin(nums))"
   ]
  },
  {
   "cell_type": "code",
   "execution_count": null,
   "metadata": {},
   "outputs": [],
   "source": []
  },
  {
   "attachments": {},
   "cell_type": "markdown",
   "metadata": {},
   "source": [
    "说明：参考https://leetcode.cn/problems/find-minimum-in-rotated-sorted-array/solutions/126635/er-fen-cha-zhao-wei-shi-yao-zuo-you-bu-dui-cheng-z/\n",
    "\n",
    "1. 为什么m和r比较而不是l？\n",
    "l、m、r的值有这么几种关系：\n",
    "1) A[l] < A[m], A[m] < A[r]: 没有旋转，最小值在最左边，可以收缩**右边界**\n",
    "2) A[l] > A[m], A[m] < A[r]: 有旋转，最小值在左半边，可以收缩**右边界**\n",
    "3) A[l] < A[m], A[m] > A[r]: 有旋转，最小值在右半边，可以收缩**左边界**\n",
    "\n",
    "其中1、2是一类，3是另一类；\n",
    "\n",
    "中间位置的计算：mid = left + (right - left) / 2\n",
    " 这里整数除法是向下取整的地板除，mid更靠近left，\n",
    " 再结合while循环的条件left < right，\n",
    " 可以知道left <= mid，mid < right，\n",
    " 即在while循环内，mid始终小于right。\n",
    "\n",
    "因此在while循环内，nums[mid]要么大于要么小于nums[right]，不会等于。\n",
    "\n",
    "这样else {right = mid;}这句判断可以改为更精确的\n",
    " else if (nums[mid] < nums[right]) {right = mid;}。\n",
    "\n"
   ]
  },
  {
   "cell_type": "markdown",
   "metadata": {},
   "source": []
  }
 ],
 "metadata": {
  "kernelspec": {
   "display_name": "base",
   "language": "python",
   "name": "python3"
  },
  "language_info": {
   "codemirror_mode": {
    "name": "ipython",
    "version": 3
   },
   "file_extension": ".py",
   "mimetype": "text/x-python",
   "name": "python",
   "nbconvert_exporter": "python",
   "pygments_lexer": "ipython3",
   "version": "3.9.10"
  },
  "orig_nbformat": 4,
  "vscode": {
   "interpreter": {
    "hash": "3774638e36becc1b3be4f932a09ec02e29dc9d9fab753e191431a024cc1a4cff"
   }
  }
 },
 "nbformat": 4,
 "nbformat_minor": 2
}
