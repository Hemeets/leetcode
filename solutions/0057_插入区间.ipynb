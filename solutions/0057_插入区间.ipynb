{
 "cells": [
  {
   "attachments": {},
   "cell_type": "markdown",
   "metadata": {},
   "source": [
    "57. 插入区间\n",
    "\n",
    "给你一个 无重叠的 ，按照区间起始端点排序的区间列表。\n",
    "\n",
    "在列表中插入一个新的区间，你需要确保列表中的区间仍然有序且不重叠（如果有必要的话，可以合并区间）。\n",
    "\n",
    "示例 1：\n",
    "```\n",
    "输入：intervals = [[1,3],[6,9]], newInterval = [2,5]\n",
    "输出：[[1,5],[6,9]]\n",
    "```\n",
    "示例 2：\n",
    "```\n",
    "输入：intervals = [[1,2],[3,5],[6,7],[8,10],[12,16]], newInterval = [4,8]\n",
    "输出：[[1,2],[3,10],[12,16]]\n",
    "解释：这是因为新的区间 [4,8] 与 [3,5],[6,7],[8,10] 重叠。\n",
    "```\n",
    "示例 3：\n",
    "```\n",
    "输入：intervals = [], newInterval = [5,7]\n",
    "输出：[[5,7]]\n",
    "```\n",
    "示例 4：\n",
    "```\n",
    "输入：intervals = [[1,5]], newInterval = [2,3]\n",
    "输出：[[1,5]]\n",
    "```\n",
    "示例 5：\n",
    "```\n",
    "输入：intervals = [[1,5]], newInterval = [2,7]\n",
    "输出：[[1,7]]\n",
    "```"
   ]
  },
  {
   "cell_type": "code",
   "execution_count": 37,
   "metadata": {},
   "outputs": [
    {
     "name": "stdout",
     "output_type": "stream",
     "text": [
      "[[1, 2], [3, 10], [12, 16]]\n"
     ]
    }
   ],
   "source": [
    "''' 2022, M '''\n",
    "from typing import List\n",
    "class Solution:\n",
    "    def insert(self, intervals: List[List[int]], newInterval: List[int]) -> List[List[int]]:\n",
    "        if not intervals:\n",
    "            return [newInterval]\n",
    "        insert_s, insert_e = newInterval\n",
    "\n",
    "        res = list()\n",
    "        insert_flag = False\n",
    "        for (s, e) in intervals:\n",
    "            if e < insert_s:\n",
    "                res.append([s, e])\n",
    "            elif s > insert_e:\n",
    "                if not insert_flag:\n",
    "                    res.append([insert_s, insert_e])\n",
    "                    insert_flag = True\n",
    "                res.append([s, e])\n",
    "            else:  # 有交叉\n",
    "                insert_s = min(insert_s, s)\n",
    "                insert_e = max(insert_e, e)\n",
    "\n",
    "        if not insert_flag:\n",
    "            res.append([insert_s, insert_e])\n",
    "\n",
    "        return res\n",
    "\n",
    "# intervals = [[1,3],[6,9]]\n",
    "# newInterval = [2,5]\n",
    "intervals = [[1,2],[3,5],[6,7],[8,10],[12,16]]\n",
    "newInterval = [4,8]\n",
    "# intervals = []\n",
    "# newInterval = [5,7]\n",
    "# intervals = [[1,5]]\n",
    "# newInterval = [2,3]\n",
    "# intervals = [[1,5]]\n",
    "# newInterval = [2,7]\n",
    "# intervals = [[1,5]]\n",
    "# newInterval = [6, 8]\n",
    "print(Solution().insert(intervals, newInterval))"
   ]
  },
  {
   "cell_type": "code",
   "execution_count": null,
   "metadata": {},
   "outputs": [],
   "source": [
    "# 通过了，但不优雅\n",
    "class Solution:\n",
    "    def insert(self, intervals: List[List[int]], newInterval: List[int]) -> List[List[int]]:\n",
    "        if not intervals:\n",
    "            return [newInterval]\n",
    "        insert_s, insert_e = newInterval\n",
    "        n = len(intervals)\n",
    "        res = list()\n",
    "        i = 0\n",
    "        while i < n:\n",
    "            cur_s, cur_e = intervals[i]\n",
    "            if cur_e < insert_s:\n",
    "                res.append([cur_s, cur_e])\n",
    "            elif self.is_cross([cur_s, cur_e], [insert_s, insert_e]):\n",
    "                insert_s = min(insert_s, cur_s)\n",
    "                insert_e = max(insert_e, cur_e)\n",
    "            else:\n",
    "                break\n",
    "            i += 1\n",
    "            print(f'{i}, insert: {insert_s}, {insert_e}')\n",
    "        res.append([insert_s, insert_e])\n",
    "        for j in range(i, n):\n",
    "            res.append(intervals[j])\n",
    "\n",
    "        return res\n",
    "    \n",
    "    def is_cross(self, interval1, interval2):\n",
    "        \"\"\" 假设 s1 < e1, s2 < e2 \"\"\"\n",
    "        s1, e1 = interval1\n",
    "        s2, e2 = interval2\n",
    "        if e1 < s2 or e2 < s1:\n",
    "            return False\n",
    "        else:\n",
    "            return True"
   ]
  }
 ],
 "metadata": {
  "kernelspec": {
   "display_name": "base",
   "language": "python",
   "name": "python3"
  },
  "language_info": {
   "codemirror_mode": {
    "name": "ipython",
    "version": 3
   },
   "file_extension": ".py",
   "mimetype": "text/x-python",
   "name": "python",
   "nbconvert_exporter": "python",
   "pygments_lexer": "ipython3",
   "version": "3.9.10"
  },
  "orig_nbformat": 4,
  "vscode": {
   "interpreter": {
    "hash": "3774638e36becc1b3be4f932a09ec02e29dc9d9fab753e191431a024cc1a4cff"
   }
  }
 },
 "nbformat": 4,
 "nbformat_minor": 2
}
