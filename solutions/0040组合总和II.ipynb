{
 "cells": [
  {
   "cell_type": "markdown",
   "metadata": {},
   "source": [
    "### 40_组合总和II\n",
    "给定一个数组 candidates 和一个目标数 target ，找出 candidates 中所有可以使数字和为 target 的组合。\n",
    "\n",
    "candidates 中的每个数字在每个组合中只能使用一次。\n",
    "\n",
    "说明：\n",
    "\n",
    "所有数字（包括目标数）都是正整数。\n",
    "解集不能包含重复的组合。 \n",
    "示例 1:\n",
    "\n",
    "输入: candidates = [10,1,2,7,6,1,5], target = 8,\n",
    "所求解集为:\n",
    "[\n",
    "  [1, 7],\n",
    "  [1, 2, 5],\n",
    "  [2, 6],\n",
    "  [1, 1, 6]\n",
    "]\n",
    "示例 2:\n",
    "\n",
    "输入: candidates = [2,5,2,1,2], target = 5,\n",
    "所求解集为:\n",
    "[\n",
    "  [1,2,2],\n",
    "  [5]\n",
    "]\n",
    "\n",
    "来源：力扣（LeetCode）\n",
    "链接：https://leetcode-cn.com/problems/combination-sum-ii\n",
    "著作权归领扣网络所有。商业转载请联系官方授权，非商业转载请注明出处。"
   ]
  },
  {
   "cell_type": "code",
   "execution_count": 33,
   "metadata": {},
   "outputs": [
    {
     "name": "stdout",
     "output_type": "stream",
     "text": [
      "0 0 []\n",
      "1 1 [1]\n",
      "2 2 [1, 1]\n",
      "3 4 [1, 1, 2]\n",
      "4 7 [1, 1, 5]\n",
      "5 8 [1, 1, 6]\n",
      "3 3 [1, 2]\n",
      "4 8 [1, 2, 5]\n",
      "4 6 [1, 5]\n",
      "5 7 [1, 6]\n",
      "6 8 [1, 7]\n",
      "3 2 [2]\n",
      "4 7 [2, 5]\n",
      "5 8 [2, 6]\n",
      "4 5 [5]\n",
      "5 6 [6]\n",
      "6 7 [7]\n"
     ]
    },
    {
     "data": {
      "text/plain": [
       "[[1, 1, 6], [1, 2, 5], [1, 7], [2, 6]]"
      ]
     },
     "execution_count": 33,
     "metadata": {},
     "output_type": "execute_result"
    }
   ],
   "source": [
    "'''cr2022, M'''\n",
    "from typing import List\n",
    "class Solution:\n",
    "    def combinationSum2(self, candidates: List[int], target: int) -> List[List[int]]:\n",
    "        candidates.sort()\n",
    "        n = len(candidates)\n",
    "        res = list()\n",
    "\n",
    "        def backtrack(idx, cur_cand_sum, cur_cand):\n",
    "            \"\"\" \n",
    "            idx: list中第几个数字\n",
    "            cur_cand_sum: 当前和\n",
    "            cur_cand: 当前和对应的res列表\n",
    "            \"\"\"\n",
    "            print(idx, cur_cand_sum, cur_cand)\n",
    "            # 剪枝\n",
    "            if cur_cand_sum > target:\n",
    "                return\n",
    "            if cur_cand_sum == target:\n",
    "                res.append(cur_cand[:])\n",
    "                return\n",
    "            for j in range(idx, n): \n",
    "                tmp_sum = cur_cand_sum + candidates[j]\n",
    "                if tmp_sum > target:\n",
    "                    break  # 配合sort，提前剪枝了\n",
    "                if j > idx and candidates[j-1] == candidates[j]:  # 注意无重复\n",
    "                    continue\n",
    "                cur_cand.append(candidates[j])\n",
    "                backtrack(j + 1, tmp_sum, cur_cand)  # 注意每个数字在每个组合中只能使用一次。\n",
    "                cur_cand.pop()\n",
    "        \n",
    "        backtrack(0, 0, [])\n",
    "        return res\n",
    "\n",
    "candidates = [10,1,2,7,6,1,5]\n",
    "target = 8\n",
    "Solution().combinationSum2(candidates, target)"
   ]
  },
  {
   "cell_type": "code",
   "execution_count": 23,
   "metadata": {},
   "outputs": [],
   "source": [
    "'''\n",
    "Author: QDX\n",
    "Date: 2022-10-09 10:46:38\n",
    "Description: \n",
    "'''\n",
    "class Solution:\n",
    "    def combinationSum2(self, candidates, target):\n",
    "        if not candidates:\n",
    "            return []\n",
    "        candidates.sort()\n",
    "        n = len(candidates)\n",
    "        res = []\n",
    "        \n",
    "        def backtrack(i, tmp_sum, tmp_list):\n",
    "            if tmp_sum > target:\n",
    "                return\n",
    "            if tmp_sum == target:\n",
    "                res.append(tmp_list)\n",
    "                print(tmp_list)\n",
    "                return\n",
    "            for j in range(i, n):\n",
    "                if candidates[j] + tmp_sum > target:\n",
    "                    break\n",
    "                if j > i and candidates[j-1] == candidates[j]:\n",
    "                    continue\n",
    "                backtrack(j+1, tmp_sum + candidates[j], tmp_list + [candidates[j]])\n",
    "        \n",
    "        backtrack(0,0,[])\n",
    "        return res"
   ]
  },
  {
   "cell_type": "code",
   "execution_count": 24,
   "metadata": {},
   "outputs": [
    {
     "name": "stdout",
     "output_type": "stream",
     "text": [
      "[1, 1, 6]\n",
      "[1, 2, 5]\n",
      "[1, 7]\n",
      "[2, 6]\n"
     ]
    },
    {
     "data": {
      "text/plain": [
       "[[1, 1, 6], [1, 2, 5], [1, 7], [2, 6]]"
      ]
     },
     "execution_count": 24,
     "metadata": {},
     "output_type": "execute_result"
    }
   ],
   "source": [
    "candidates = [10,1,2,7,6,1,5]\n",
    "target = 8\n",
    "Solution().combinationSum2(candidates, target)"
   ]
  }
 ],
 "metadata": {
  "kernelspec": {
   "display_name": "Python 3.9.10 ('base')",
   "language": "python",
   "name": "python3"
  },
  "language_info": {
   "codemirror_mode": {
    "name": "ipython",
    "version": 3
   },
   "file_extension": ".py",
   "mimetype": "text/x-python",
   "name": "python",
   "nbconvert_exporter": "python",
   "pygments_lexer": "ipython3",
   "version": "3.9.10 | packaged by conda-forge | (main, Feb  1 2022, 21:27:43) \n[Clang 11.1.0 ]"
  },
  "toc": {
   "base_numbering": 1,
   "nav_menu": {},
   "number_sections": true,
   "sideBar": true,
   "skip_h1_title": false,
   "title_cell": "Table of Contents",
   "title_sidebar": "Contents",
   "toc_cell": false,
   "toc_position": {},
   "toc_section_display": true,
   "toc_window_display": false
  },
  "vscode": {
   "interpreter": {
    "hash": "3774638e36becc1b3be4f932a09ec02e29dc9d9fab753e191431a024cc1a4cff"
   }
  }
 },
 "nbformat": 4,
 "nbformat_minor": 2
}
