{
 "cells": [
  {
   "cell_type": "markdown",
   "metadata": {},
   "source": [
    "在 O(n log n) 时间复杂度和常数级空间复杂度下，对链表进行排序。\n",
    "\n",
    "示例 1:\n",
    "\n",
    "输入: 4->2->1->3\n",
    "输出: 1->2->3->4\n",
    "示例 2:\n",
    "\n",
    "输入: -1->5->3->4->0\n",
    "输出: -1->0->3->4->5\n",
    "\n",
    "来源：力扣（LeetCode）\n",
    "链接：https://leetcode-cn.com/problems/sort-list\n",
    "著作权归领扣网络所有。商业转载请联系官方授权，非商业转载请注明出处。"
   ]
  },
  {
   "cell_type": "code",
   "execution_count": 1,
   "metadata": {},
   "outputs": [
    {
     "name": "stdout",
     "output_type": "stream",
     "text": [
      "[1, 2, 3, 4]\n"
     ]
    }
   ],
   "source": [
    "'''cr2022, M'''\n",
    "from utils import *\n",
    "# class Solution:\n",
    "#     ''' 快排 '''\n",
    "#     def sortList(self, head: Optional[ListNode]) -> Optional[ListNode]:\n",
    "#         p = head\n",
    "#         n = 0\n",
    "#         while p:\n",
    "#             p = p.next\n",
    "#             n += 1\n",
    "#         self.quich_sort(head, n)\n",
    "#         return head\n",
    "\n",
    "#     def partition(self, head, n):\n",
    "#         mid = head.val\n",
    "#         low, high = head, head.next\n",
    "#         c_l, c_h = 0, 0\n",
    "#         while c_h < n - 1:\n",
    "#             if high.val < mid:\n",
    "#                 low = low.next\n",
    "#                 c_l += 1\n",
    "#                 low.val, high.val = high.val, low.val  # 严格来说，不应该这么交换\n",
    "#             high = high.next\n",
    "#             c_h += 1\n",
    "#         head.val, low.val = low.val, head.val\n",
    "#         return (low, c_l)\n",
    "    \n",
    "#     def quich_sort(self, head, n):\n",
    "#         if n <= 0:\n",
    "#             return\n",
    "#         low, p = self.partition(head, n)\n",
    "#         self.quich_sort(head, p)\n",
    "#         self.quich_sort(low.next, n - p - 1)\n",
    "\n",
    "\n",
    "class Solution1:\n",
    "    ''' 归并 '''\n",
    "    def sortList(self, head: Optional[ListNode]) -> Optional[ListNode]:\n",
    "        if not head or not head.next:\n",
    "            return head\n",
    "        slow, fast = head, head.next  # 注意fast是head.next\n",
    "        while fast and fast.next:\n",
    "            fast = fast.next.next\n",
    "            slow = slow.next\n",
    "        mid = slow.next\n",
    "        slow.next = None\n",
    "        prehead = ListNode(-1)\n",
    "        p = prehead\n",
    "        left = self.sortList(head)\n",
    "        right = self.sortList(mid)\n",
    "        while left and right:\n",
    "            if left.val < right.val:\n",
    "                p.next = left\n",
    "                left = left.next\n",
    "            else:\n",
    "                p.next = right\n",
    "                right = right.next\n",
    "            p = p.next\n",
    "        p.next = left if left else right\n",
    "        return prehead.next\n",
    "    \n",
    "\n",
    "head = l2ln([4,2,1,3])\n",
    "# print(ln2l(Solution().sortList(head)))\n",
    "print(ln2l(Solution1().sortList(head)))"
   ]
  },
  {
   "cell_type": "code",
   "execution_count": null,
   "metadata": {},
   "outputs": [],
   "source": []
  }
 ],
 "metadata": {
  "kernelspec": {
   "display_name": "base",
   "language": "python",
   "name": "python3"
  },
  "language_info": {
   "codemirror_mode": {
    "name": "ipython",
    "version": 3
   },
   "file_extension": ".py",
   "mimetype": "text/x-python",
   "name": "python",
   "nbconvert_exporter": "python",
   "pygments_lexer": "ipython3",
   "version": "3.9.10 | packaged by conda-forge | (main, Feb  1 2022, 21:27:43) \n[Clang 11.1.0 ]"
  },
  "toc": {
   "base_numbering": 1,
   "nav_menu": {},
   "number_sections": true,
   "sideBar": true,
   "skip_h1_title": false,
   "title_cell": "Table of Contents",
   "title_sidebar": "Contents",
   "toc_cell": false,
   "toc_position": {},
   "toc_section_display": true,
   "toc_window_display": false
  },
  "vscode": {
   "interpreter": {
    "hash": "3774638e36becc1b3be4f932a09ec02e29dc9d9fab753e191431a024cc1a4cff"
   }
  }
 },
 "nbformat": 4,
 "nbformat_minor": 2
}
