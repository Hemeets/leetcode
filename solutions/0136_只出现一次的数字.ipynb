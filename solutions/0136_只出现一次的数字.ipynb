{
 "cells": [
  {
   "cell_type": "markdown",
   "metadata": {},
   "source": [
    "### 只出现一次的数字\n",
    "给定一个非空整数数组，除了某个元素只出现一次以外，其余每个元素均出现两次。找出那个只出现了一次的元素。\n",
    "\n",
    "说明：\n",
    "\n",
    "你的算法应该具有线性时间复杂度。 你可以不使用额外空间来实现吗？\n",
    "\n",
    "示例 1:\n",
    "\n",
    "输入: [2,2,1]\n",
    "输出: 1\n",
    "示例 2:\n",
    "\n",
    "输入: [4,1,2,1,2]\n",
    "输出: 4\n"
   ]
  },
  {
   "cell_type": "code",
   "execution_count": 1,
   "metadata": {},
   "outputs": [
    {
     "name": "stdout",
     "output_type": "stream",
     "text": [
      "4\n",
      "4\n",
      "4\n"
     ]
    }
   ],
   "source": [
    "'''cr2022, E'''\n",
    "from utils import *\n",
    "class Solution:\n",
    "    ''' 数学性质 '''\n",
    "    def singleNumber(self, nums: List[int]) -> int:\n",
    "        return 2*sum(set(nums)) - sum(nums)\n",
    "\n",
    "class Solution1:\n",
    "    ''' 位运算 '''\n",
    "    def singleNumber(self, nums: List[int]) -> int:\n",
    "        s = 0\n",
    "        for n in nums:\n",
    "            s ^= n\n",
    "        return s\n",
    "\n",
    "class Solution2:\n",
    "    ''' 去重集合 '''\n",
    "    def singleNumber(self, nums: List[int]) -> int:\n",
    "        s = set()\n",
    "        for n in nums:\n",
    "            if n in s:\n",
    "                s.remove(n)\n",
    "            else:\n",
    "                s.add(n)\n",
    "        return s.pop()\n",
    "\n",
    "nums = [4,1,2,1,2]\n",
    "print(Solution().singleNumber(nums))\n",
    "print(Solution1().singleNumber(nums))\n",
    "print(Solution2().singleNumber(nums))"
   ]
  }
 ],
 "metadata": {
  "kernelspec": {
   "display_name": "base",
   "language": "python",
   "name": "python3"
  },
  "language_info": {
   "codemirror_mode": {
    "name": "ipython",
    "version": 3
   },
   "file_extension": ".py",
   "mimetype": "text/x-python",
   "name": "python",
   "nbconvert_exporter": "python",
   "pygments_lexer": "ipython3",
   "version": "3.9.10 | packaged by conda-forge | (main, Feb  1 2022, 21:27:43) \n[Clang 11.1.0 ]"
  },
  "toc": {
   "base_numbering": 1,
   "nav_menu": {},
   "number_sections": true,
   "sideBar": true,
   "skip_h1_title": false,
   "title_cell": "Table of Contents",
   "title_sidebar": "Contents",
   "toc_cell": false,
   "toc_position": {},
   "toc_section_display": true,
   "toc_window_display": false
  },
  "vscode": {
   "interpreter": {
    "hash": "3774638e36becc1b3be4f932a09ec02e29dc9d9fab753e191431a024cc1a4cff"
   }
  }
 },
 "nbformat": 4,
 "nbformat_minor": 2
}
