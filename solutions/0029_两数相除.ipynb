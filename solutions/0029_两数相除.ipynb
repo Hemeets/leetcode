{
 "cells": [
  {
   "attachments": {},
   "cell_type": "markdown",
   "metadata": {},
   "source": [
    "29. 两数相除\n",
    "\n",
    "给定两个整数，被除数 dividend 和除数 divisor。将两数相除，要求不使用乘法、除法和 mod 运算符。\n",
    "\n",
    "返回被除数 dividend 除以除数 divisor 得到的商。\n",
    "\n",
    "整数除法的结果应当截去（truncate）其小数部分，例如：truncate(8.345) = 8 以及 truncate(-2.7335) = -2\n",
    "\n",
    "\n",
    "示例 1:\n",
    "```\n",
    "输入: dividend = 10, divisor = 3\n",
    "输出: 3\n",
    "解释: 10/3 = truncate(3.33333..) = truncate(3) = 3\n",
    "```\n",
    "示例 2:\n",
    "```\n",
    "输入: dividend = 7, divisor = -3\n",
    "输出: -2\n",
    "解释: 7/-3 = truncate(-2.33333..) = -2\n",
    "```"
   ]
  },
  {
   "cell_type": "code",
   "execution_count": 23,
   "metadata": {},
   "outputs": [
    {
     "name": "stdout",
     "output_type": "stream",
     "text": [
      "3\n",
      "-2\n",
      "2147483647\n"
     ]
    }
   ],
   "source": [
    "'''2022, M'''\n",
    "class Solution:\n",
    "    \"\"\" 算二分法吧，logn \"\"\"\n",
    "    def divide(self, dividend: int, divisor: int) -> int:\n",
    "        dividend_is_neg = dividend < 0\n",
    "        dividend = -dividend if dividend_is_neg else dividend\n",
    "        divisor_is_neg = divisor < 0\n",
    "        divisor = -divisor if divisor_is_neg else divisor\n",
    "        if dividend < divisor:\n",
    "            return 0\n",
    "        divisor_pow = [divisor]\n",
    "        # 确定范围 dividened >= divisor * Y, Y 可以用 1, 2, 4, ... 2^n来逼近\n",
    "        while divisor_pow[-1] + divisor_pow[-1] <= dividend:\n",
    "            divisor_pow.append(divisor_pow[-1] + divisor_pow[-1])\n",
    "        # 从记录Y值的数组中，挑选i\n",
    "        res = 0\n",
    "        for i in range(len(divisor_pow) - 1, -1, -1):\n",
    "            if divisor_pow[i] <= dividend:\n",
    "                dividend -= divisor_pow[i]\n",
    "                res += 1 << i\n",
    "        res = -res if dividend_is_neg ^ divisor_is_neg else res\n",
    "        res = min(max(res, -2**31), 2**31 - 1)\n",
    "        return res\n",
    "\n",
    "\n",
    "dividend = 10\n",
    "divisor = 3\n",
    "print(Solution().divide(dividend, divisor))\n",
    "dividend = 7\n",
    "divisor = -3\n",
    "print(Solution().divide(dividend, divisor))\n",
    "dividend = -2147483648\n",
    "divisor = -1\n",
    "print(Solution().divide(dividend, divisor))"
   ]
  },
  {
   "cell_type": "code",
   "execution_count": 3,
   "metadata": {},
   "outputs": [
    {
     "data": {
      "text/plain": [
       "4"
      ]
     },
     "execution_count": 3,
     "metadata": {},
     "output_type": "execute_result"
    }
   ],
   "source": [
    "2 << 1"
   ]
  },
  {
   "cell_type": "code",
   "execution_count": 1,
   "metadata": {},
   "outputs": [],
   "source": [
    "class Solution:\n",
    "    ''' 朴素方法，会超时 '''\n",
    "    def divide(self, dividend: int, divisor: int) -> int:\n",
    "        dividened_is_neg = dividend < 0\n",
    "        dividend = -dividend if dividened_is_neg else dividend\n",
    "        divisor_is_neg = divisor < 0\n",
    "        divisor = -divisor if divisor_is_neg else divisor\n",
    "        if dividend < divisor:\n",
    "            return 0\n",
    "        if divisor == 1:\n",
    "            cnt = -dividend if dividened_is_neg ^ divisor_is_neg else dividend\n",
    "            cnt = min(max(cnt, -2**31), 2**31 - 1)\n",
    "            return cnt\n",
    "        cnt = 0\n",
    "        while dividend >= divisor:\n",
    "            dividend -= divisor\n",
    "            cnt += 1\n",
    "        cnt = -cnt if dividened_is_neg ^ divisor_is_neg else cnt\n",
    "        cnt = min(max(cnt, -2**31), 2**31 - 1)\n",
    "        return cnt"
   ]
  },
  {
   "cell_type": "code",
   "execution_count": null,
   "metadata": {},
   "outputs": [],
   "source": []
  }
 ],
 "metadata": {
  "kernelspec": {
   "display_name": "base",
   "language": "python",
   "name": "python3"
  },
  "language_info": {
   "codemirror_mode": {
    "name": "ipython",
    "version": 3
   },
   "file_extension": ".py",
   "mimetype": "text/x-python",
   "name": "python",
   "nbconvert_exporter": "python",
   "pygments_lexer": "ipython3",
   "version": "3.9.10"
  },
  "orig_nbformat": 4,
  "vscode": {
   "interpreter": {
    "hash": "3774638e36becc1b3be4f932a09ec02e29dc9d9fab753e191431a024cc1a4cff"
   }
  }
 },
 "nbformat": 4,
 "nbformat_minor": 2
}
