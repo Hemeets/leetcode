{
 "cells": [
  {
   "cell_type": "markdown",
   "metadata": {},
   "source": [
    "给出 n 代表生成括号的对数，请你写出一个函数，使其能够生成所有可能的并且有效的括号组合。\n",
    "\n",
    "例如，给出 n = 3，生成结果为：\n",
    "\n",
    "[\n",
    "  \"((()))\",\n",
    "  \"(()())\",\n",
    "  \"(())()\",\n",
    "  \"()(())\",\n",
    "  \"()()()\"\n",
    "]\n",
    "\n",
    "来源：力扣（LeetCode）\n",
    "链接：https://leetcode-cn.com/problems/generate-parentheses\n",
    "著作权归领扣网络所有。商业转载请联系官方授权，非商业转载请注明出处。"
   ]
  },
  {
   "cell_type": "markdown",
   "metadata": {},
   "source": [
    "方法一：暴力法\n",
    "\n",
    "思路\n",
    "\n",
    "我们可以生成所有 22n2^{2n}2 \n",
    "2n\n",
    "  个 ‘(’\\text{`('}‘(’ 和 ‘)’\\text{`)'}‘)’ 字符构成的序列，然后我们检查每一个是否有效即可。\n",
    "\n",
    "算法\n",
    "\n",
    "为了生成所有序列，我们可以使用递归。长度为 nnn 的序列就是在长度为 n−1n - 1n−1 的序列前加一个 ‘(’\\text{`('}‘(’ 或 ‘)’\\text{`)'}‘)’。\n",
    "\n",
    "为了检查序列是否有效，我们遍历这个序列，并使用一个变量 balance\\textit{balance}balance 表示左括号的数量减去右括号的数量。如果在遍历过程中 balance\\textit{balance}balance 的值小于零，或者结束时 balance\\textit{balance}balance 的值不为零，那么该序列就是无效的，否则它是有效的。\n",
    "\n",
    "方法二：回溯法\n",
    "\n",
    "思路和算法\n",
    "\n",
    "方法一还有改进的余地：我们可以只在序列仍然保持有效时才添加 ‘(’\\text{`('}‘(’ 或 ‘)’\\text{`)'}‘)’，而不是像 方法一 那样每次添加。我们可以通过跟踪到目前为止放置的左括号和右括号的数目来做到这一点，\n",
    "\n",
    "如果左括号数量不大于 n，我们可以放一个左括号。如果右括号数量小于左括号的数量，我们可以放一个右括号。\n",
    "\n",
    "作者：力扣官方题解\n",
    "链接：https://leetcode.cn/problems/generate-parentheses/solutions/192912/gua-hao-sheng-cheng-by-leetcode-solution/\n",
    "来源：力扣（LeetCode）\n",
    "著作权归作者所有。商业转载请联系作者获得授权，非商业转载请注明出处。"
   ]
  },
  {
   "cell_type": "code",
   "execution_count": 1,
   "metadata": {},
   "outputs": [
    {
     "data": {
      "text/plain": [
       "['((()))', '(()())', '(())()', '()(())', '()()()']"
      ]
     },
     "execution_count": 1,
     "metadata": {},
     "output_type": "execute_result"
    }
   ],
   "source": [
    "'''cr2022, M'''\n",
    "from typing import List\n",
    "class Solution:\n",
    "    \"\"\" 回溯法，剪枝，时间复杂度比较复杂：4^n/sqrt(n) \"\"\"\n",
    "    def generateParenthesis(self, n: int) -> List[str]:\n",
    "        ans = []\n",
    "        def backtrack(S, left, right):\n",
    "            if len(S) == 2 * n:\n",
    "                ans.append(''.join(S))\n",
    "                return\n",
    "            if left < n:\n",
    "                S.append('(')\n",
    "                backtrack(S, left+1, right)\n",
    "                S.pop()\n",
    "            if right < left:\n",
    "                S.append(')')\n",
    "                backtrack(S, left, right+1)\n",
    "                S.pop()\n",
    "\n",
    "        backtrack([], 0, 0)\n",
    "        return ans\n",
    "\n",
    "n = 3\n",
    "Solution().generateParenthesis(3)"
   ]
  },
  {
   "cell_type": "code",
   "execution_count": 1,
   "metadata": {},
   "outputs": [],
   "source": [
    "def generateParenthesis(N):\n",
    "    res = []\n",
    "    def backtrack(S = '', left = 0, right = 0):\n",
    "        # left,right计的是左和右括号的数量\n",
    "        if len(S) == 2 * N:\n",
    "            res.append(S)\n",
    "            return \n",
    "        if left < N:\n",
    "            backtrack(S+'(', left+1, right)\n",
    "        if right < left:\n",
    "            backtrack(S+')', left, right+1)\n",
    "    \n",
    "    backtrack()\n",
    "    return res"
   ]
  },
  {
   "cell_type": "code",
   "execution_count": 2,
   "metadata": {},
   "outputs": [
    {
     "data": {
      "text/plain": [
       "['((()))', '(()())', '(())()', '()(())', '()()()']"
      ]
     },
     "execution_count": 2,
     "metadata": {},
     "output_type": "execute_result"
    }
   ],
   "source": [
    "N = 3\n",
    "generateParenthesis(N)"
   ]
  },
  {
   "cell_type": "code",
   "execution_count": null,
   "metadata": {},
   "outputs": [],
   "source": []
  }
 ],
 "metadata": {
  "kernelspec": {
   "display_name": "Python 3.9.10 ('base')",
   "language": "python",
   "name": "python3"
  },
  "language_info": {
   "codemirror_mode": {
    "name": "ipython",
    "version": 3
   },
   "file_extension": ".py",
   "mimetype": "text/x-python",
   "name": "python",
   "nbconvert_exporter": "python",
   "pygments_lexer": "ipython3",
   "version": "3.9.10"
  },
  "toc": {
   "base_numbering": 1,
   "nav_menu": {},
   "number_sections": true,
   "sideBar": true,
   "skip_h1_title": false,
   "title_cell": "Table of Contents",
   "title_sidebar": "Contents",
   "toc_cell": false,
   "toc_position": {},
   "toc_section_display": true,
   "toc_window_display": false
  },
  "vscode": {
   "interpreter": {
    "hash": "3774638e36becc1b3be4f932a09ec02e29dc9d9fab753e191431a024cc1a4cff"
   }
  }
 },
 "nbformat": 4,
 "nbformat_minor": 2
}
