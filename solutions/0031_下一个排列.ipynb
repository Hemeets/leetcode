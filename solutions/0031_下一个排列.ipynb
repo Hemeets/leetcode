{
 "cells": [
  {
   "attachments": {},
   "cell_type": "markdown",
   "metadata": {},
   "source": [
    "下一个排列\n",
    "\n",
    "整数数组的一个 排列  就是将其所有成员以序列或线性顺序排列。\n",
    "\n",
    "例如，arr = [1,2,3] ，以下这些都可以视作 arr 的排列：[1,2,3]、[1,3,2]、[3,1,2]、[2,3,1] 。\n",
    "\n",
    "整数数组的 下一个排列 是指其整数的下一个字典序更大的排列。更正式地，如果数组的所有排列根据其字典顺序从小到大排列在一个容器中，那么数组的 下一个排列 就是在这个有序容器中排在它后面的那个排列。如果不存在下一个更大的排列，那么这个数组必须重排为字典序最小的排列（即，其元素按升序排列）。\n",
    "\n",
    "例如，arr = [1,2,3] 的下一个排列是 [1,3,2] 。\n",
    "\n",
    "类似地，arr = [2,3,1] 的下一个排列是 [3,1,2] 。\n",
    "\n",
    "而 arr = [3,2,1] 的下一个排列是 [1,2,3] ，因为 [3,2,1] 不存在一个字典序更大的排列。\n",
    "\n",
    "给你一个整数数组 nums ，找出 nums 的下一个排列。\n",
    "\n",
    "必须 原地 修改，只允许使用额外常数空间。\n",
    "\n",
    "来源：力扣（LeetCode）\n",
    "链接：https://leetcode.cn/problems/next-permutation\n",
    "著作权归领扣网络所有。商业转载请联系官方授权，非商业转载请注明出处。"
   ]
  },
  {
   "cell_type": "code",
   "execution_count": 2,
   "metadata": {},
   "outputs": [
    {
     "name": "stdout",
     "output_type": "stream",
     "text": [
      "[1, 2, 3]\n"
     ]
    }
   ],
   "source": [
    "'''cr2022, M'''\n",
    "from typing import List\n",
    "class Solution:\n",
    "    def nextPermutation(self, nums: List[int]) -> None:\n",
    "        n_len = len(nums)\n",
    "        if n_len <= 1:\n",
    "            return \n",
    "        for i in range(n_len - 1, -1, -1):\n",
    "            if i == 0:\n",
    "                nums.reverse()\n",
    "                return\n",
    "            if nums[i - 1] <  nums[i]:\n",
    "                break\n",
    "        # 此时 nums[i:] 是从大到小排序的\n",
    "        for j in range(n_len - 1, i - 1, -1):\n",
    "            if nums[j] > nums[i - 1]:\n",
    "                nums[i - 1], nums[j] = nums[j], nums[i - 1]\n",
    "                # 交换后 nums[i:] 仍然是从大到小的\n",
    "                break\n",
    "        self.rev(nums, i, n_len - 1)\n",
    "    \n",
    "    def rev(self, nums, left, right):\n",
    "        while left < right:\n",
    "            nums[left], nums[right] = nums[right], nums[left]\n",
    "            left += 1\n",
    "            right += 1\n",
    "        \n",
    "nums = [1,2,3]\n",
    "nums = [3,2,1]\n",
    "Solution().nextPermutation(nums)\n",
    "print(nums)"
   ]
  },
  {
   "cell_type": "markdown",
   "metadata": {},
   "source": [
    "思路：从后至前找到第一个i，使得nums[i-1]<nums[i],然后把nums[i-1]换成i-1右边的比nums[i-1]大的最小的nums[j]，现在nums[i:]是逆序的，然后把这部分reverse"
   ]
  },
  {
   "cell_type": "code",
   "execution_count": 12,
   "metadata": {},
   "outputs": [],
   "source": [
    "class Solution:\n",
    "    def nextPermutation(self, nums):\n",
    "        L = len(nums)\n",
    "        if L == 0 or L == 1:\n",
    "            return nums\n",
    "        for i in range(L-1, -1, -1):\n",
    "            if i == 0: # 不存在更大的排序\n",
    "                nums.reverse()\n",
    "                return nums\n",
    "            if nums[i-1] < nums[i]:\n",
    "                break\n",
    "\n",
    "        for j in range(L-1, i-1, -1):\n",
    "            if nums[j] > nums[i-1]:\n",
    "                nums[i-1], nums[j] = nums[j], nums[i-1]\n",
    "                break\n",
    "            print(nums)\n",
    "        self.rev(nums, i, L-1)\n",
    "        return nums\n",
    "    def rev(self, nums, left, right):\n",
    "        while left < right:\n",
    "            nums[left], nums[right] = nums[right], nums[left]\n",
    "            left += 1\n",
    "            right -= 1          "
   ]
  },
  {
   "cell_type": "code",
   "execution_count": 13,
   "metadata": {},
   "outputs": [
    {
     "data": {
      "text/plain": [
       "[2, 1, 3]"
      ]
     },
     "execution_count": 13,
     "metadata": {},
     "output_type": "execute_result"
    }
   ],
   "source": [
    "nums = [1,3,2]\n",
    "Solution().nextPermutation(nums)\n"
   ]
  },
  {
   "cell_type": "code",
   "execution_count": null,
   "metadata": {},
   "outputs": [],
   "source": []
  }
 ],
 "metadata": {
  "kernelspec": {
   "display_name": "Python 3.9.10 ('base')",
   "language": "python",
   "name": "python3"
  },
  "language_info": {
   "codemirror_mode": {
    "name": "ipython",
    "version": 3
   },
   "file_extension": ".py",
   "mimetype": "text/x-python",
   "name": "python",
   "nbconvert_exporter": "python",
   "pygments_lexer": "ipython3",
   "version": "3.9.10 | packaged by conda-forge | (main, Feb  1 2022, 21:27:43) \n[Clang 11.1.0 ]"
  },
  "vscode": {
   "interpreter": {
    "hash": "3774638e36becc1b3be4f932a09ec02e29dc9d9fab753e191431a024cc1a4cff"
   }
  }
 },
 "nbformat": 4,
 "nbformat_minor": 2
}
