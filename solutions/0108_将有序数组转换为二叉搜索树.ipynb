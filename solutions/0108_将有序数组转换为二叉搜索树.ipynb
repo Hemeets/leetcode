{
 "cells": [
  {
   "attachments": {},
   "cell_type": "markdown",
   "metadata": {},
   "source": [
    "将有序数组转换为二叉搜索树\n",
    "\n",
    "将一个按照升序排列的有序数组，转换为一棵高度平衡二叉搜索树。\n",
    "\n",
    "本题中，一个高度平衡二叉树是指一个二叉树每个节点 的左右两个子树的高度差的绝对值不超过 1。\n",
    "\n",
    "示例:\n",
    "\n",
    "给定有序数组: [-10,-3,0,5,9],\n",
    "\n",
    "一个可能的答案是：[0,-3,9,-10,null,5]，它可以表示下面这个高度平衡二叉搜索树：\n",
    "```\n",
    "      0\n",
    "     / \\\n",
    "    -3   9\n",
    "    /   /\n",
    "    -10  5\n",
    "```\n"
   ]
  },
  {
   "cell_type": "markdown",
   "metadata": {},
   "source": [
    "先用递归思想写一下，这个应该很契合递归的想法"
   ]
  },
  {
   "cell_type": "code",
   "execution_count": 1,
   "metadata": {},
   "outputs": [
    {
     "name": "stdout",
     "output_type": "stream",
     "text": [
      "{'left': {'left': {'left': None, 'right': None, 'val': -10},\n",
      "          'right': None,\n",
      "          'val': -3},\n",
      " 'right': {'left': {'left': None, 'right': None, 'val': 5},\n",
      "           'right': None,\n",
      "           'val': 9},\n",
      " 'val': 0}\n"
     ]
    }
   ],
   "source": [
    "'''cr2022, E'''\n",
    "from utils import TreeNode, List, Optional, pprint, l2tn\n",
    "\n",
    "class Solution:\n",
    "    def sortedArrayToBST(self, nums: List[int]) -> Optional[TreeNode]:\n",
    "        if not nums:\n",
    "            return None\n",
    "        center = len(nums)//2\n",
    "        root = TreeNode(nums[center])\n",
    "        root.left = self.sortedArrayToBST(nums[:center])\n",
    "        root.right = self.sortedArrayToBST(nums[center+1:])\n",
    "        # 注意这个center加一，这里搞不好就递归出不来了\n",
    "        return root\n",
    "\n",
    "nums = [-10,-3,0,5,9]\n",
    "root = Solution().sortedArrayToBST(nums)\n",
    "pprint(root.to_dict())"
   ]
  },
  {
   "cell_type": "code",
   "execution_count": null,
   "metadata": {},
   "outputs": [],
   "source": []
  }
 ],
 "metadata": {
  "kernelspec": {
   "display_name": "base",
   "language": "python",
   "name": "python3"
  },
  "language_info": {
   "codemirror_mode": {
    "name": "ipython",
    "version": 3
   },
   "file_extension": ".py",
   "mimetype": "text/x-python",
   "name": "python",
   "nbconvert_exporter": "python",
   "pygments_lexer": "ipython3",
   "version": "3.9.10"
  },
  "toc": {
   "base_numbering": 1,
   "nav_menu": {},
   "number_sections": true,
   "sideBar": true,
   "skip_h1_title": false,
   "title_cell": "Table of Contents",
   "title_sidebar": "Contents",
   "toc_cell": false,
   "toc_position": {},
   "toc_section_display": true,
   "toc_window_display": false
  },
  "vscode": {
   "interpreter": {
    "hash": "3774638e36becc1b3be4f932a09ec02e29dc9d9fab753e191431a024cc1a4cff"
   }
  }
 },
 "nbformat": 4,
 "nbformat_minor": 2
}
