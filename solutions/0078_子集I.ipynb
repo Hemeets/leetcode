{
 "cells": [
  {
   "cell_type": "markdown",
   "metadata": {},
   "source": [
    "给定一组不含重复元素的整数数组 nums，返回该数组所有可能的子集（幂集）。\n",
    "\n",
    "说明：解集不能包含重复的子集。\n",
    "\n",
    "示例:\n",
    "\n",
    "输入: nums = [1,2,3]\n",
    "输出:\n",
    "[\n",
    "  [3],\n",
    "  [1],\n",
    "  [2],\n",
    "  [1,2,3],\n",
    "  [1,3],\n",
    "  [2,3],\n",
    "  [1,2],\n",
    "  []\n",
    "]\n",
    "\n",
    "来源：力扣（LeetCode）\n",
    "链接：https://leetcode-cn.com/problems/subsets\n",
    "著作权归领扣网络所有。商业转载请联系官方授权，非商业转载请注明出处。"
   ]
  },
  {
   "cell_type": "code",
   "execution_count": 4,
   "metadata": {},
   "outputs": [
    {
     "data": {
      "text/plain": [
       "[[], [1], [1, 2], [1, 2, 3], [1, 3], [2], [2, 3], [3]]"
      ]
     },
     "execution_count": 4,
     "metadata": {},
     "output_type": "execute_result"
    }
   ],
   "source": [
    "'''cr2022, M'''\n",
    "# dfs 画个树状图更好理解\n",
    "from typing import List\n",
    "class Solution:\n",
    "    \"\"\" dfs \"\"\"\n",
    "    def subsets(self, nums: List[int]) -> List[List[int]]:\n",
    "        res = list()\n",
    "        n = len(nums)\n",
    "        \n",
    "        def dfs(tmp, i):\n",
    "            res.append(tmp)\n",
    "            for j in range(i, n):\n",
    "                dfs(tmp + [nums[j]], j + 1)\n",
    "    \n",
    "        dfs([], 0)\n",
    "        return res\n",
    "        \n",
    "nums = [1, 2, 3]\n",
    "Solution().subsets(nums)"
   ]
  },
  {
   "cell_type": "code",
   "execution_count": 11,
   "metadata": {},
   "outputs": [],
   "source": [
    "# 法1：迭代\n",
    "# 过程和广度优先相似\n",
    "def subsets(nums):\n",
    "    res = [[]]  # 先把空集放进来，这很重要\n",
    "    for i in nums:\n",
    "        add = [s+[i] for s in res]\n",
    "        res = res + add #res和add都有k个元素，那么现在res就有2*k个元素了，\n",
    "                        #每次迭代res元素个数都变成二倍，最后变成2的n次方\n",
    "    return res"
   ]
  },
  {
   "cell_type": "code",
   "execution_count": 12,
   "metadata": {},
   "outputs": [
    {
     "data": {
      "text/plain": [
       "[[], [1], [2], [1, 2], [3], [1, 3], [2, 3], [1, 2, 3]]"
      ]
     },
     "execution_count": 12,
     "metadata": {},
     "output_type": "execute_result"
    }
   ],
   "source": [
    "nums = [1,2,3]\n",
    "subsets(nums)"
   ]
  },
  {
   "cell_type": "code",
   "execution_count": 13,
   "metadata": {},
   "outputs": [],
   "source": [
    "# 回溯递归\n",
    "# 过程和深度优先相似\n",
    "def subsets1(nums):\n",
    "    res = []\n",
    "    n = len(nums)\n",
    "    \n",
    "    def helper(tmp, i):\n",
    "        res.append(tmp)\n",
    "        for j in range(i, n):\n",
    "            helper(tmp+[nums[j]], j+1)\n",
    "    helper([], 0)\n",
    "    return res"
   ]
  }
 ],
 "metadata": {
  "kernelspec": {
   "display_name": "Python 3.9.10 ('base')",
   "language": "python",
   "name": "python3"
  },
  "language_info": {
   "codemirror_mode": {
    "name": "ipython",
    "version": 3
   },
   "file_extension": ".py",
   "mimetype": "text/x-python",
   "name": "python",
   "nbconvert_exporter": "python",
   "pygments_lexer": "ipython3",
   "version": "3.9.10 | packaged by conda-forge | (main, Feb  1 2022, 21:27:43) \n[Clang 11.1.0 ]"
  },
  "toc": {
   "base_numbering": 1,
   "nav_menu": {},
   "number_sections": true,
   "sideBar": true,
   "skip_h1_title": false,
   "title_cell": "Table of Contents",
   "title_sidebar": "Contents",
   "toc_cell": false,
   "toc_position": {},
   "toc_section_display": true,
   "toc_window_display": false
  },
  "vscode": {
   "interpreter": {
    "hash": "3774638e36becc1b3be4f932a09ec02e29dc9d9fab753e191431a024cc1a4cff"
   }
  }
 },
 "nbformat": 4,
 "nbformat_minor": 2
}
