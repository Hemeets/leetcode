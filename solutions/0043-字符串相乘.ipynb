{
 "cells": [
  {
   "attachments": {},
   "cell_type": "markdown",
   "metadata": {},
   "source": [
    "字符串相乘\n",
    "\n",
    "给定两个以字符串形式表示的非负整数 num1 和 num2，返回 num1 和 num2 的乘积，它们的乘积也表示为字符串形式。\n",
    "\n",
    "示例 1:\n",
    "\n",
    "输入: num1 = \"2\", num2 = \"3\"\n",
    "输出: \"6\"\n",
    "示例 2:\n",
    "\n",
    "输入: num1 = \"123\", num2 = \"456\"\n",
    "输出: \"56088\"\n",
    "说明：\n",
    "\n",
    "num1 和 num2 的长度小于110。\n",
    "num1 和 num2 只包含数字 0-9。\n",
    "num1 和 num2 均不以零开头，除非是数字 0 本身。\n",
    "不能使用任何标准库的大数类型（比如 BigInteger）或直接将输入转换为整数来处理。\n",
    "\n",
    "来源：力扣（LeetCode）\n",
    "链接：https://leetcode-cn.com/problems/multiply-strings\n",
    "著作权归领扣网络所有。商业转载请联系官方授权，非商业转载请注明出处。"
   ]
  },
  {
   "cell_type": "code",
   "execution_count": 1,
   "metadata": {},
   "outputs": [
    {
     "data": {
      "text/plain": [
       "'56088'"
      ]
     },
     "execution_count": 1,
     "metadata": {},
     "output_type": "execute_result"
    }
   ],
   "source": [
    "'''cr2022, M'''\n",
    "# 有疑问，好像不能这么做？不能使用大数乘法？\n",
    "# class Solution:\n",
    "#     def multiply(self, num1: str, num2: str) -> str:\n",
    "#         a = num1[::-1]\n",
    "#         b = num2[::-1]\n",
    "#         res = 0\n",
    "\n",
    "#         for i, x in enumerate(a):\n",
    "#             tmp_res = 0\n",
    "#             i_num = self.char2int(x)\n",
    "#             for j, y in enumerate(b):\n",
    "#                 tmp_res += i_num * self.char2int(y) * 10**j\n",
    "#             res += tmp_res * 10**i\n",
    "#         # print(str(res))\n",
    "#         return self.int2str(res)\n",
    "\n",
    "#     def char2int(self, c):\n",
    "#         return ord(c) - ord('0')\n",
    "\n",
    "#     def int2str(self, num):\n",
    "#         res = list()\n",
    "#         while num > 0:\n",
    "#             a = num % 10\n",
    "#             res.append(str(a))\n",
    "#             num = num // 10\n",
    "#         res.reverse()\n",
    "#         res_str = \"\".join(res)\n",
    "#         return res_str\n",
    "\n",
    "class Solution:\n",
    "    \"\"\" 官方解答 \"\"\"\n",
    "    def multiply(self, num1: str, num2: str) -> str:\n",
    "        if num1 == \"0\" or num2 == \"0\":\n",
    "            return \"0\"\n",
    "        \n",
    "        ans = \"0\"\n",
    "        m, n = len(num1), len(num2)\n",
    "        for i in range(n - 1, -1, -1):\n",
    "            add = 0\n",
    "            y = int(num2[i])\n",
    "            curr = [\"0\"] * (n - i - 1)\n",
    "            for j in range(m - 1, -1, -1):\n",
    "                product = int(num1[j]) * y + add\n",
    "                curr.append(str(product % 10))\n",
    "                add = product // 10\n",
    "            if add > 0:\n",
    "                curr.append(str(add))\n",
    "            curr = \"\".join(curr[::-1])\n",
    "            ans = self.addStrings(ans, curr)\n",
    "        \n",
    "        return ans\n",
    "    \n",
    "    def addStrings(self, num1: str, num2: str) -> str:\n",
    "        i, j = len(num1) - 1, len(num2) - 1\n",
    "        add = 0\n",
    "        ans = list()\n",
    "        while i >= 0 or j >= 0 or add != 0:\n",
    "            x = int(num1[i]) if i >= 0 else 0\n",
    "            y = int(num2[j]) if j >= 0 else 0\n",
    "            result = x + y + add\n",
    "            ans.append(str(result % 10))\n",
    "            add = result // 10\n",
    "            i -= 1\n",
    "            j -= 1\n",
    "        return \"\".join(ans[::-1])\n",
    "\n",
    "# 作者：力扣官方题解\n",
    "# 链接：https://leetcode.cn/problems/multiply-strings/solutions/372098/zi-fu-chuan-xiang-cheng-by-leetcode-solution/\n",
    "# 来源：力扣（LeetCode）\n",
    "# 著作权归作者所有。商业转载请联系作者获得授权，非商业转载请注明出处。\n",
    "\n",
    "num1 = \"123\"\n",
    "num2 = \"456\"\n",
    "Solution().multiply(num1, num2)"
   ]
  },
  {
   "cell_type": "code",
   "execution_count": 8,
   "metadata": {},
   "outputs": [
    {
     "data": {
      "text/plain": [
       "'56088'"
      ]
     },
     "execution_count": 8,
     "metadata": {},
     "output_type": "execute_result"
    }
   ],
   "source": [
    "class Solution:\n",
    "    def str2int(self,s):\n",
    "        return ord(s)-ord('0')\n",
    "\n",
    "    def multiply(self, num1: str, num2: str) -> str:\n",
    "        a = num1[::-1]\n",
    "        b = num2[::-1]\n",
    "        result = 0\n",
    "        \n",
    "        for i,x in enumerate(a):\n",
    "            temp_result = 0\n",
    "            for j,y in enumerate(b):\n",
    "                temp_result += self.str2int(x) * self.str2int(y) * 10**j\n",
    "            result += temp_result * 10**i\n",
    "        return str(result)\n",
    "\n",
    "num1 = \"123\"\n",
    "num2 = \"456\"\n",
    "Solution().multiply(num1, num2)"
   ]
  },
  {
   "cell_type": "code",
   "execution_count": null,
   "metadata": {},
   "outputs": [],
   "source": []
  }
 ],
 "metadata": {
  "kernelspec": {
   "display_name": "Python 3.9.10 ('base')",
   "language": "python",
   "name": "python3"
  },
  "language_info": {
   "codemirror_mode": {
    "name": "ipython",
    "version": 3
   },
   "file_extension": ".py",
   "mimetype": "text/x-python",
   "name": "python",
   "nbconvert_exporter": "python",
   "pygments_lexer": "ipython3",
   "version": "3.9.10"
  },
  "toc": {
   "base_numbering": 1,
   "nav_menu": {},
   "number_sections": true,
   "sideBar": true,
   "skip_h1_title": false,
   "title_cell": "Table of Contents",
   "title_sidebar": "Contents",
   "toc_cell": false,
   "toc_position": {},
   "toc_section_display": true,
   "toc_window_display": false
  },
  "vscode": {
   "interpreter": {
    "hash": "3774638e36becc1b3be4f932a09ec02e29dc9d9fab753e191431a024cc1a4cff"
   }
  }
 },
 "nbformat": 4,
 "nbformat_minor": 2
}
