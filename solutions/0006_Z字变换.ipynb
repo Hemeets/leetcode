{
 "cells": [
  {
   "cell_type": "markdown",
   "metadata": {},
   "source": [
    "将一个给定字符串 s 根据给定的行数 numRows ，以从上往下、从左到右进行 Z 字形排列。\n",
    "\n",
    "比如输入字符串为 \"PAYPALISHIRING\" 行数为 3 时，排列如下：\n",
    "```\n",
    "P   A   H   N\n",
    "A P L S I I G\n",
    "Y   I   R\n",
    "```\n",
    "之后，你的输出需要从左往右逐行读取，产生出一个新的字符串，比如：\"PAHNAPLSIIGYIR\"。\n",
    "\n",
    "请你实现这个将字符串进行指定行数变换的函数：\n",
    "```\n",
    "string convert(string s, int numRows);\n",
    "```\n",
    "\n",
    "示例 1：\n",
    "```\n",
    "输入：s = \"PAYPALISHIRING\", numRows = 3\n",
    "输出：\"PAHNAPLSIIGYIR\"\n",
    "```\n",
    "示例 2：\n",
    "```\n",
    "输入：s = \"PAYPALISHIRING\", numRows = 4\n",
    "输出：\"PINALSIGYAHRPI\"\n",
    "解释：\n",
    "P     I    N\n",
    "A   L S  I G\n",
    "Y A   H R\n",
    "P     I\n",
    "```\n",
    "示例 3：\n",
    "```\n",
    "输入：s = \"A\", numRows = 1\n",
    "输出：\"A\"\n",
    "```"
   ]
  },
  {
   "cell_type": "code",
   "execution_count": 1,
   "metadata": {},
   "outputs": [
    {
     "name": "stdout",
     "output_type": "stream",
     "text": [
      "LCIRETOESIIGEDHN\n"
     ]
    }
   ],
   "source": [
    "''' cr_2022, M '''\n",
    "class Solution:\n",
    "    def convert(self, s: str, numRows: int) -> str:\n",
    "        if numRows == 1:\n",
    "            return s\n",
    "        go_down = -1  # 控制走向：上或者下\n",
    "        cur_row = 0\n",
    "        rows = [\"\"] * min(numRows, len(s))\n",
    "        for c in s:\n",
    "            rows[cur_row] += c\n",
    "            if cur_row == 0 or cur_row == numRows - 1:\n",
    "                go_down = -go_down\n",
    "            cur_row += go_down\n",
    "\n",
    "        res = \"\".join(rows)\n",
    "        return res\n",
    "\n",
    "s = \"LEETCODEISHIRING\"\n",
    "numRows = 3\n",
    "print(Solution().convert(s, numRows))"
   ]
  },
  {
   "cell_type": "code",
   "execution_count": 20,
   "metadata": {},
   "outputs": [],
   "source": [
    "def convert(s, numRows):\n",
    "    if numRows == 1:\n",
    "        return s\n",
    "    rows = [\"\"] * min(numRows, len(s))\n",
    "    goingDown = False\n",
    "    cur_row = 0\n",
    "    for c in s:\n",
    "#         print(cur_row, goingDown)\n",
    "        rows[cur_row] += c\n",
    "        if cur_row == 0 or cur_row == numRows - 1:\n",
    "            goingDown = not goingDown\n",
    "        \n",
    "        cur_row += 1 if goingDown else -1\n",
    "        \n",
    "    res = \"\"\n",
    "    for string in rows:\n",
    "        res += string\n",
    "    return res\n",
    "    "
   ]
  },
  {
   "cell_type": "code",
   "execution_count": 21,
   "metadata": {},
   "outputs": [
    {
     "name": "stdout",
     "output_type": "stream",
     "text": [
      "0 False\n",
      "1 True\n",
      "2 True\n",
      "1 False\n",
      "0 False\n",
      "1 True\n",
      "2 True\n",
      "1 False\n",
      "0 False\n",
      "1 True\n",
      "2 True\n",
      "1 False\n",
      "0 False\n",
      "1 True\n",
      "2 True\n",
      "1 False\n"
     ]
    },
    {
     "data": {
      "text/plain": [
       "'LCIRETOESIIGEDHN'"
      ]
     },
     "execution_count": 21,
     "metadata": {},
     "output_type": "execute_result"
    }
   ],
   "source": [
    "s = \"LEETCODEISHIRING\"\n",
    "numRows = 3\n",
    "convert(s, numRows)"
   ]
  },
  {
   "cell_type": "code",
   "execution_count": null,
   "metadata": {},
   "outputs": [],
   "source": []
  }
 ],
 "metadata": {
  "kernelspec": {
   "display_name": "Python 3.9.10 ('base')",
   "language": "python",
   "name": "python3"
  },
  "language_info": {
   "codemirror_mode": {
    "name": "ipython",
    "version": 3
   },
   "file_extension": ".py",
   "mimetype": "text/x-python",
   "name": "python",
   "nbconvert_exporter": "python",
   "pygments_lexer": "ipython3",
   "version": "3.9.10 | packaged by conda-forge | (main, Feb  1 2022, 21:27:43) \n[Clang 11.1.0 ]"
  },
  "toc": {
   "base_numbering": 1,
   "nav_menu": {},
   "number_sections": true,
   "sideBar": true,
   "skip_h1_title": false,
   "title_cell": "Table of Contents",
   "title_sidebar": "Contents",
   "toc_cell": false,
   "toc_position": {},
   "toc_section_display": true,
   "toc_window_display": false
  },
  "vscode": {
   "interpreter": {
    "hash": "3774638e36becc1b3be4f932a09ec02e29dc9d9fab753e191431a024cc1a4cff"
   }
  }
 },
 "nbformat": 4,
 "nbformat_minor": 2
}
