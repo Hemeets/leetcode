{
 "cells": [
  {
   "attachments": {},
   "cell_type": "markdown",
   "metadata": {},
   "source": [
    "在排序数组中查找第一个和最后一个位置\n",
    "\n",
    "给定一个按照升序排列的整数数组 nums，和一个目标值 target。找出给定目标值在数组中的开始位置和结束位置。\n",
    "\n",
    "你的算法时间复杂度必须是 O(log n) 级别。\n",
    "\n",
    "如果数组中不存在目标值，返回 [-1, -1]。\n",
    "\n",
    "示例 1:\n",
    "\n",
    "输入: nums = [5,7,7,8,8,10], target = 8\n",
    "输出: [3,4]\n",
    "示例 2:\n",
    "\n",
    "输入: nums = [5,7,7,8,8,10], target = 6\n",
    "输出: [-1,-1]\n",
    "\n",
    "来源：力扣（LeetCode）\n",
    "链接：https://leetcode-cn.com/problems/find-first-and-last-position-of-element-in-sorted-array\n",
    "著作权归领扣网络所有。商业转载请联系官方授权，非商业转载请注明出处。"
   ]
  },
  {
   "cell_type": "code",
   "execution_count": 3,
   "metadata": {},
   "outputs": [
    {
     "data": {
      "text/plain": [
       "[3, 4]"
      ]
     },
     "execution_count": 3,
     "metadata": {},
     "output_type": "execute_result"
    }
   ],
   "source": [
    "'''cr2022, M'''\n",
    "# 二分查找中，寻找 leftIdx 即为在数组中寻找第一个大于等于 target 的下标，\n",
    "# 寻找 rightIdx 即为在数组中寻找第一个大于 target 的下标，然后将下标减一\n",
    "from typing import List\n",
    "class Solution:\n",
    "    def searchRange(self, nums: List[int], target: int) -> List[int]:\n",
    "        left = self.lower_bound(nums, target)\n",
    "        if left == len(nums) or nums[left] != target:\n",
    "            return [-1, -1]\n",
    "        right = self.lower_bound(nums, target + 1) - 1 # 左边找到了，右边一点能找到！\n",
    "        return [left, right]\n",
    "    \n",
    "    def lower_bound(self, nums, target):\n",
    "        left, right = 0, len(nums) - 1  # 闭区间[left, right]\n",
    "        while left <= right:  # 区间不为空\n",
    "            mid = (left + right) // 2\n",
    "            # 下面的if else即为循环不变量\n",
    "            if nums[mid] < target:  # mid一定不是想要的数，因为它的值小于target\n",
    "                left = mid + 1  # [mid + 1, right]\n",
    "            else:\n",
    "                right = mid - 1  # [left, mid - 1]\n",
    "        return left  # 结束时 left = right + 1\n",
    "\n",
    "    def lower_bound1(self, nums, target):\n",
    "        left, right = 0, len(nums)\n",
    "        while left < right:\n",
    "            mid = (left + right) // 2\n",
    "            if nums[mid] < target:\n",
    "                left = mid + 1  # [mid + 1, right)\n",
    "            else:\n",
    "                right = mid   # [left, mid)\n",
    "        return left  # 结束时 left = right\n",
    "\n",
    "    def lower_bound2(self, nums, target):\n",
    "        left, right = -1, len(nums)\n",
    "        while left + 1 < right:\n",
    "            mid = (left + right) // 2\n",
    "            if nums[mid] < target:\n",
    "                left = mid  # (mid, right)\n",
    "            else:\n",
    "                right = mid   # (left, mid)\n",
    "        return right  # 结束时 left + 1 = right\n",
    "\n",
    "nums = [5,7,7,8,8,10]\n",
    "target = 8\n",
    "Solution().searchRange(nums, target)"
   ]
  },
  {
   "cell_type": "markdown",
   "metadata": {},
   "source": [
    "## 二分法总结\n",
    "左右边界，三种区间\n",
    "``` [], [), () ```\n",
    "四种关系\n",
    "``` >=, >, <=, < ```\n",
    "\n",
    "#### 左右边界，三种区间\n",
    "以找升序中第一个>=x为例： x左边的数一定`<`x，x右边一定`>=`x\n",
    "L和R分别指向左右边界，即闭区间[L, R]，M指向当前询问的数，**循环不变量** 为 L-1 始终`<`x，R+1始终`>=`x，循环结束时**区间应为空**，即L=R+1，R+1是我们要找的答案，也可以用L表示\n",
    "```py\n",
    "def lower_bound(nums, target):\n",
    "    left, right = 0, len(nums) - 1  # 闭区间[left, right]\n",
    "    while left <= right:  # 区间不为空\n",
    "        mid = (left + right) // 2\n",
    "        # 下面的if else即为循环不变量\n",
    "        if nums[mid] < target:  # mid一定不是想要的数，因为它的值小于target\n",
    "            left = mid + 1  # [mid + 1, right]\n",
    "        else:\n",
    "            right = mid - 1  # [left, mid - 1]\n",
    "    return left  # 结束时 left = right + 1\n",
    "```\n",
    "\n",
    "基于上述变种1: 左闭右开（本质是一样的）\n",
    "```py\n",
    "def lower_bound1(nums, target):\n",
    "    left, right = 0, len(nums)\n",
    "    while left < right:\n",
    "        mid = (left + right) // 2\n",
    "        if nums[mid] < target:\n",
    "            left = mid + 1  # [mid + 1, right)\n",
    "        else:\n",
    "            right = mid   # [left, mid)\n",
    "    return left  # 结束时 left = right\n",
    "```\n",
    "\n",
    "变种2: 都开\n",
    "```py\n",
    "def lower_bound2(nums, target):\n",
    "    left, right = -1, len(nums)\n",
    "    while left + 1 < right:\n",
    "        mid = (left + right) // 2\n",
    "        if nums[mid] < target:\n",
    "            left = mid  # (mid, right)\n",
    "        else:\n",
    "            right = mid   # (left, mid)\n",
    "    return right  # 结束时 left + 1 = right\n",
    "```\n",
    "\n",
    "#### 四种关系\n",
    "以找升序整数数组中第一个>=x的下标为例,\n",
    "- 找第一个`>x`的下标：等价于第一个`>=`(x+1)\n",
    "- 最后一个`<x`的：第一个`>=`x的下标 - 1\n",
    "- 最后一个`<=x`的：第一个`>`x的下标 - 1，即`>=`(x+1) - 1\n",
    "\n"
   ]
  },
  {
   "cell_type": "code",
   "execution_count": 2,
   "metadata": {},
   "outputs": [],
   "source": [
    "def searchRange(nums, target):\n",
    "    # 要找左边的点，要义是high等于target了也得把high左移，而且要high=mid而不是mid-1（这样可能导致漏掉了）\n",
    "    # 右边的点则相反，\n",
    "    # 怎么把这两种情况统一到一起值得考虑，官方答案写的很好\n",
    "    left = divided_search(nums, target, True)\n",
    "    if left == len(nums) or nums[left] != target:\n",
    "        return [-1, -1]\n",
    "    right = divided_search(nums, target, False) # 左边找到了，右边一点能找到！\n",
    "    return [left, right - 1]\n",
    "\n",
    "def divided_search(nums, target, left):\n",
    "    l, h = 0, len(nums) # 注意这里的h不是L-1而是L\n",
    "    while l < h:\n",
    "        m = (l + h) // 2\n",
    "        if nums[m] > target or (left and nums[m] == target):\n",
    "            h = m\n",
    "        else:\n",
    "            l = m + 1\n",
    "    return l # 注意return是l"
   ]
  },
  {
   "cell_type": "code",
   "execution_count": 5,
   "metadata": {},
   "outputs": [
    {
     "data": {
      "text/plain": [
       "[3, 4]"
      ]
     },
     "execution_count": 5,
     "metadata": {},
     "output_type": "execute_result"
    }
   ],
   "source": [
    "nums = [5,7,7,8,8,10]\n",
    "target = 8\n",
    "searchRange(nums, target)"
   ]
  },
  {
   "cell_type": "code",
   "execution_count": null,
   "metadata": {},
   "outputs": [],
   "source": []
  }
 ],
 "metadata": {
  "kernelspec": {
   "display_name": "Python 3.9.10 ('base')",
   "language": "python",
   "name": "python3"
  },
  "language_info": {
   "codemirror_mode": {
    "name": "ipython",
    "version": 3
   },
   "file_extension": ".py",
   "mimetype": "text/x-python",
   "name": "python",
   "nbconvert_exporter": "python",
   "pygments_lexer": "ipython3",
   "version": "3.9.10"
  },
  "toc": {
   "base_numbering": 1,
   "nav_menu": {},
   "number_sections": true,
   "sideBar": true,
   "skip_h1_title": false,
   "title_cell": "Table of Contents",
   "title_sidebar": "Contents",
   "toc_cell": false,
   "toc_position": {},
   "toc_section_display": true,
   "toc_window_display": false
  },
  "vscode": {
   "interpreter": {
    "hash": "3774638e36becc1b3be4f932a09ec02e29dc9d9fab753e191431a024cc1a4cff"
   }
  }
 },
 "nbformat": 4,
 "nbformat_minor": 2
}
