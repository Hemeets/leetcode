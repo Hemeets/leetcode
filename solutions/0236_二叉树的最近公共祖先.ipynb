{
 "cells": [
  {
   "attachments": {},
   "cell_type": "markdown",
   "metadata": {},
   "source": [
    "给定一个二叉树, 找到该树中两个指定节点的最近公共祖先。\n",
    "\n",
    "百度百科中最近公共祖先的定义为：“对于有根树 T 的两个结点 p、q，最近公共祖先表示为一个结点 x，满足 x 是 p、q 的祖先且 x 的深度尽可能大（一个节点也可以是它自己的祖先）。”\n",
    "\n",
    "例如，给定如下二叉树:  root = [3,5,1,6,2,0,8,null,null,7,4]\n",
    "\n",
    "\n",
    "![](../pic/binarytree.png)\n",
    " \n",
    "\n",
    "示例 1:\n",
    "\n",
    "输入: root = [3,5,1,6,2,0,8,null,null,7,4], p = 5, q = 1\n",
    "输出: 3\n",
    "解释: 节点 5 和节点 1 的最近公共祖先是节点 3。\n",
    "示例 2:\n",
    "\n",
    "输入: root = [3,5,1,6,2,0,8,null,null,7,4], p = 5, q = 4\n",
    "输出: 5\n",
    "解释: 节点 5 和节点 4 的最近公共祖先是节点 5。因为根据定义最近公共祖先节点可以为节点本身。\n",
    " \n",
    "\n",
    "说明:\n",
    "\n",
    "所有节点的值都是唯一的。\n",
    "p、q 为不同节点且均存在于给定的二叉树中。\n",
    "\n",
    "来源：力扣（LeetCode）\n",
    "链接：https://leetcode-cn.com/problems/lowest-common-ancestor-of-a-binary-tree\n",
    "著作权归领扣网络所有。商业转载请联系官方授权，非商业转载请注明出处。"
   ]
  },
  {
   "cell_type": "code",
   "execution_count": 6,
   "metadata": {},
   "outputs": [
    {
     "name": "stdout",
     "output_type": "stream",
     "text": [
      "5\n",
      "5\n"
     ]
    }
   ],
   "source": [
    "'''2022, M'''\n",
    "from utils import *\n",
    "class Solution:\n",
    "    \"\"\" dfs迭代 \"\"\"\n",
    "    def __init__(self) -> None:\n",
    "        self.res = None\n",
    "    def lowestCommonAncestor(self, root: TreeNode, p: TreeNode, q: TreeNode) -> TreeNode:\n",
    "        def dfs(root):\n",
    "            if not root:\n",
    "                return False\n",
    "            mid = root.val == p.val or root.val == q.val\n",
    "            left = dfs(root.left)\n",
    "            right = dfs(root.right)\n",
    "            if mid + left + right >= 2:\n",
    "                self.res = root\n",
    "            return mid or left or right\n",
    "        dfs(root)\n",
    "        return self.res\n",
    "\n",
    "\n",
    "class Solution1:\n",
    "    ''' 定义父指针 '''\n",
    "    def lowestCommonAncestor(self, root: TreeNode, p: TreeNode, q: TreeNode) -> TreeNode:\n",
    "        parent = {root: None}\n",
    "        stack = [root]\n",
    "        while stack and (p not in parent or q not in parent):\n",
    "            cur = stack.pop()\n",
    "            if cur.right:\n",
    "                stack.append(cur.right)\n",
    "                parent[cur.right] = cur\n",
    "            if cur.left:\n",
    "                stack.append(cur.left)\n",
    "                parent[cur.left] = cur\n",
    "        anc = set()\n",
    "        while p in parent:\n",
    "            anc.add(p)\n",
    "            p = parent[p]\n",
    "        while q not in anc:\n",
    "            q = parent[q]\n",
    "        return q\n",
    "\n",
    "\n",
    "root = l2tn([3,5,1,6,2,0,8,None,None,7,4])\n",
    "p = root.left\n",
    "q = root.left.right.right\n",
    "print(Solution().lowestCommonAncestor(root, p, q).val)\n",
    "print(Solution1().lowestCommonAncestor(root, p, q).val)"
   ]
  },
  {
   "cell_type": "markdown",
   "metadata": {},
   "source": [
    "#### 法1：回溯法，递归\n",
    "方法一：递归\n",
    "这种方法非常直观。先深度遍历改树。当你遇到节点 p 或 q 时，返回一些布尔标记。该标志有助于确定是否在任何路径中找到了所需的节点。最不常见的祖先将是两个子树递归都返回真标志的节点。它也可以是一个节点，它本身是p或q中的一个，对于这个节点,子树递归返回一个真标志。\n",
    "\n",
    "让我们看看基于这个想法的形式算法。\n",
    "\n",
    "算法：\n",
    "\n",
    "从根节点开始遍历树。\n",
    "如果当前节点本身是 p 或 q 中的一个，我们会将变量 mid 标记为 true，并继续搜索左右分支中的另一个节点。\n",
    "如果左分支或右分支中的任何一个返回 true，则表示在下面找到了两个节点中的一个。\n",
    "如果在遍历的任何点上，左、右或中三个标志中的任意两个变为 true，这意味着我们找到了节点 p 和 q 的最近公共祖先。\n",
    "让我们看一个示例，然后搜索树中两个节点 9 和 11 的最近公共祖先。\n",
    "\n",
    "\n",
    "\n",
    "作者：LeetCode\n",
    "链接：https://leetcode-cn.com/problems/two-sum/solution/er-cha-shu-de-zui-jin-gong-gong-zu-xian-by-leetcod/\n",
    "来源：力扣（LeetCode）\n",
    "著作权归作者所有。商业转载请联系作者获得授权，非商业转载请注明出处。"
   ]
  },
  {
   "cell_type": "code",
   "execution_count": 1,
   "metadata": {},
   "outputs": [],
   "source": [
    "class Solution:\n",
    "    def __init__(self):\n",
    "        self.ans = None\n",
    "        \n",
    "    def lowestCommonAncestor(self, root, p, q):\n",
    "        def recurse_tree(current_node):\n",
    "            if not current_node:\n",
    "                return False\n",
    "            left = recurse_tree(current_node.left)\n",
    "            right = recurse_tree(current_node.right)\n",
    "            mid = current_node == p or current_node ==q\n",
    "            if mid + left + right >= 2:\n",
    "                self.ans = current_node\n",
    "                # self.ans只会更新一次，后面的不符合if条件了，例如left是公共祖先，那么right必然不包含这两个节点，即为false，同样当前root也是false\n",
    "            return mid or left or right\n",
    "            # 即当前节点为pq之一或者左右子树包含pq则，置当前节点为True\n",
    "            \n",
    "        recurse_tree(root)\n",
    "        return self.ans"
   ]
  },
  {
   "cell_type": "code",
   "execution_count": 2,
   "metadata": {},
   "outputs": [
    {
     "data": {
      "text/plain": [
       "2"
      ]
     },
     "execution_count": 2,
     "metadata": {},
     "output_type": "execute_result"
    }
   ],
   "source": [
    "True + True"
   ]
  },
  {
   "cell_type": "markdown",
   "metadata": {},
   "source": [
    "#### 方法二：使用父指针迭代\n",
    "如果每个节点都有父指针，那么我们可以从 p 和 q 返回以获取它们的祖先。在这个遍历过程中，我们得到的第一个公共节点是 LCA 节点。我们可以在遍历树时将父指针保存在字典中。\n",
    "\n",
    "算法：\n",
    "\n",
    "从根节点开始遍历树。\n",
    "在找到 p 和 q 之前，将父指针存储在字典中。\n",
    "一旦我们找到了 p 和 q，我们就可以使用父亲字典获得 p 的所有祖先，并添加到一个称为祖先的集合中。\n",
    "同样，我们遍历节点 q 的祖先。如果祖先存在于为 p 设置的祖先中，这意味着这是 p 和 q 之间的第一个共同祖先（同时向上遍历），因此这是 LCA 节点。\n",
    "\n",
    "作者：LeetCode\n",
    "链接：https://leetcode-cn.com/problems/two-sum/solution/er-cha-shu-de-zui-jin-gong-gong-zu-xian-by-leetcod/\n",
    "来源：力扣（LeetCode）\n",
    "著作权归作者所有。商业转载请联系作者获得授权，非商业转载请注明出处。"
   ]
  },
  {
   "cell_type": "code",
   "execution_count": 4,
   "metadata": {},
   "outputs": [],
   "source": [
    "class Solution:\n",
    "    \n",
    "    # 关键在于用字典储存父节点\n",
    "    def lowestCommonAncestor(self, root, p, q):\n",
    "        stack = [root]  # stack for tree traversal\n",
    "        parent = {root:None}\n",
    "        while p not in parent or q not in parent:\n",
    "            # Iterate until we find both the nodes p and q\n",
    "            node = stack.pop()\n",
    "            if node.left:\n",
    "                parent[node.left] = node\n",
    "                stack.append(node.left)\n",
    "            if node.right:\n",
    "                parent[node.right] = node\n",
    "                stack.append(node.right)\n",
    "                \n",
    "        ancestors = set() # Ancestors set() for node p\n",
    "            \n",
    "        while p:\n",
    "            # process all ancestors for node p using parent pointers\n",
    "            ancestors.add(p)\n",
    "            p = parent[p]\n",
    "\n",
    "        while q not in ancestors:\n",
    "            # The first ancestor of q which appears in \n",
    "            # p's ancestor set() is their lowest common ancestor.\n",
    "            q = parent[q]\n",
    "        return q\n"
   ]
  },
  {
   "cell_type": "code",
   "execution_count": null,
   "metadata": {},
   "outputs": [],
   "source": []
  }
 ],
 "metadata": {
  "kernelspec": {
   "display_name": "base",
   "language": "python",
   "name": "python3"
  },
  "language_info": {
   "codemirror_mode": {
    "name": "ipython",
    "version": 3
   },
   "file_extension": ".py",
   "mimetype": "text/x-python",
   "name": "python",
   "nbconvert_exporter": "python",
   "pygments_lexer": "ipython3",
   "version": "3.9.10 | packaged by conda-forge | (main, Feb  1 2022, 21:27:43) \n[Clang 11.1.0 ]"
  },
  "toc": {
   "base_numbering": 1,
   "nav_menu": {},
   "number_sections": true,
   "sideBar": true,
   "skip_h1_title": false,
   "title_cell": "Table of Contents",
   "title_sidebar": "Contents",
   "toc_cell": false,
   "toc_position": {},
   "toc_section_display": true,
   "toc_window_display": false
  },
  "vscode": {
   "interpreter": {
    "hash": "3774638e36becc1b3be4f932a09ec02e29dc9d9fab753e191431a024cc1a4cff"
   }
  }
 },
 "nbformat": 4,
 "nbformat_minor": 2
}
