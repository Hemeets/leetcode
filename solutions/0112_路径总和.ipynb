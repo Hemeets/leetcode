{
 "cells": [
  {
   "attachments": {},
   "cell_type": "markdown",
   "metadata": {},
   "source": [
    "路径总和\n",
    "\n",
    "给定一个二叉树和一个目标和，判断该树中是否存在根节点到叶子节点的路径，这条路径上所有节点值相加等于目标和。\n",
    "\n",
    "说明: 叶子节点是指没有子节点的节点。\n",
    "\n",
    "示例: \n",
    "给定如下二叉树，以及目标和 sum = 22，\n",
    "\n",
    "              5\n",
    "             / \\\n",
    "            4   8\n",
    "           /   / \\\n",
    "          11  13  4\n",
    "         /  \\      \\\n",
    "        7    2      1\n",
    "返回 true, 因为存在目标和为 22 的根节点到叶子节点的路径 5->4->11->2。\n"
   ]
  },
  {
   "cell_type": "markdown",
   "metadata": {},
   "source": [
    "想法可以用递归做，也可以用栈，我更倾向于用栈把递归打开"
   ]
  },
  {
   "cell_type": "code",
   "execution_count": 3,
   "metadata": {},
   "outputs": [
    {
     "data": {
      "text/plain": [
       "True"
      ]
     },
     "execution_count": 3,
     "metadata": {},
     "output_type": "execute_result"
    }
   ],
   "source": [
    "'''cr2022, E'''\n",
    "# 自己写的\n",
    "from utils import *\n",
    "class Solution:\n",
    "    def hasPathSum(self, root: Optional[TreeNode], targetSum: int) -> bool:\n",
    "        if not root:\n",
    "            return False\n",
    "        cur_sum = targetSum - root.val\n",
    "        if not root.left and not root.right:\n",
    "            return True if cur_sum == 0 else False\n",
    "        return self.hasPathSum(root.left, cur_sum) or self.hasPathSum(root.right, cur_sum)\n",
    "\n",
    "\n",
    "root = l2tn([5,4,8,11,None,13,4,7,2,None,None,None,1])\n",
    "targetSum = 22\n",
    "Solution().hasPathSum(root, targetSum)"
   ]
  },
  {
   "cell_type": "code",
   "execution_count": 2,
   "metadata": {},
   "outputs": [],
   "source": [
    "def hasPathSum(root, sum):\n",
    "    if not root:\n",
    "        return False\n",
    "    stack = list()\n",
    "    stack.append((root, sum))\n",
    "    #我这里（root， sum）的sum计的是还没减去root.val的值，和leetcode解答中不一样\n",
    "    while len(stack) != 0:\n",
    "        top, sum = stack.pop()\n",
    "        sum -= top.val\n",
    "        if sum == 0 and not top.left and not top.right:\n",
    "            return True\n",
    "        if top.right:\n",
    "            stack.append((top.right, sum))\n",
    "        if top.left:\n",
    "            stack.append((top.left, sum))\n",
    "    return False"
   ]
  },
  {
   "cell_type": "code",
   "execution_count": null,
   "metadata": {},
   "outputs": [],
   "source": []
  }
 ],
 "metadata": {
  "kernelspec": {
   "display_name": "base",
   "language": "python",
   "name": "python3"
  },
  "language_info": {
   "codemirror_mode": {
    "name": "ipython",
    "version": 3
   },
   "file_extension": ".py",
   "mimetype": "text/x-python",
   "name": "python",
   "nbconvert_exporter": "python",
   "pygments_lexer": "ipython3",
   "version": "3.9.10 | packaged by conda-forge | (main, Feb  1 2022, 21:27:43) \n[Clang 11.1.0 ]"
  },
  "toc": {
   "base_numbering": 1,
   "nav_menu": {},
   "number_sections": true,
   "sideBar": true,
   "skip_h1_title": false,
   "title_cell": "Table of Contents",
   "title_sidebar": "Contents",
   "toc_cell": false,
   "toc_position": {},
   "toc_section_display": true,
   "toc_window_display": false
  },
  "vscode": {
   "interpreter": {
    "hash": "3774638e36becc1b3be4f932a09ec02e29dc9d9fab753e191431a024cc1a4cff"
   }
  }
 },
 "nbformat": 4,
 "nbformat_minor": 2
}
