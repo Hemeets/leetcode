{
 "cells": [
  {
   "attachments": {},
   "cell_type": "markdown",
   "metadata": {},
   "source": [
    "二进制求和\n",
    "\n",
    "给定两个二进制字符串，返回他们的和（用二进制表示）。\n",
    "\n",
    "输入为非空字符串且只包含数字 1 和 0。\n",
    "\n",
    "示例 1:\n",
    "\n",
    "输入: a = \"11\", b = \"1\"\n",
    "输出: \"100\"\n",
    "示例 2:\n",
    "\n",
    "输入: a = \"1010\", b = \"1011\"\n",
    "输出: \"10101\"\n"
   ]
  },
  {
   "cell_type": "code",
   "execution_count": 1,
   "metadata": {},
   "outputs": [
    {
     "data": {
      "text/plain": [
       "'100'"
      ]
     },
     "execution_count": 1,
     "metadata": {},
     "output_type": "execute_result"
    }
   ],
   "source": [
    "'''cr2022, E'''\n",
    "class Solution:\n",
    "    def addBinary(self, a: str, b: str) -> str:\n",
    "        la = [int(c) for c in a]\n",
    "        lb = [int(c) for c in b]\n",
    "        output = list()\n",
    "        carry = 0\n",
    "        while la or lb or carry:\n",
    "            ta, tb = 0, 0\n",
    "            if la:\n",
    "                ta = la.pop()\n",
    "            if lb:\n",
    "                tb = lb.pop()\n",
    "            tmp = ta + tb + carry\n",
    "            output.append(int(tmp % 2))\n",
    "            carry = tmp // 2\n",
    "        return \"\".join([str(i) for i in output[::-1]])\n",
    "a = \"11\"\n",
    "b = \"1\"\n",
    "Solution().addBinary(a, b)"
   ]
  }
 ],
 "metadata": {
  "kernelspec": {
   "display_name": "Python 3.9.10 ('base')",
   "language": "python",
   "name": "python3"
  },
  "language_info": {
   "codemirror_mode": {
    "name": "ipython",
    "version": 3
   },
   "file_extension": ".py",
   "mimetype": "text/x-python",
   "name": "python",
   "nbconvert_exporter": "python",
   "pygments_lexer": "ipython3",
   "version": "3.9.10"
  },
  "toc": {
   "base_numbering": 1,
   "nav_menu": {},
   "number_sections": true,
   "sideBar": true,
   "skip_h1_title": false,
   "title_cell": "Table of Contents",
   "title_sidebar": "Contents",
   "toc_cell": false,
   "toc_position": {},
   "toc_section_display": true,
   "toc_window_display": false
  },
  "vscode": {
   "interpreter": {
    "hash": "3774638e36becc1b3be4f932a09ec02e29dc9d9fab753e191431a024cc1a4cff"
   }
  }
 },
 "nbformat": 4,
 "nbformat_minor": 2
}
