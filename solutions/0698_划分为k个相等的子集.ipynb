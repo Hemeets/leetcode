{
 "cells": [
  {
   "cell_type": "markdown",
   "metadata": {},
   "source": [
    "给定一个整数数组  nums 和一个正整数 k，找出是否有可能把这个数组分成 k 个非空子集，其总和都相等。\n",
    "\n",
    "示例 1：\n",
    "\n",
    "输入： nums = [4, 3, 2, 3, 5, 2, 1], k = 4\n",
    "输出： True\n",
    "说明： 有可能将其分成 4 个子集（5），（1,4），（2,3），（2,3）等于总和。\n",
    " \n",
    "\n",
    "注意:\n",
    "\n",
    "1 <= k <= len(nums) <= 16\n",
    "0 < nums[i] < 10000\n",
    "\n",
    "来源：力扣（LeetCode）\n",
    "链接：https://leetcode-cn.com/problems/partition-to-k-equal-sum-subsets\n",
    "著作权归领扣网络所有。商业转载请联系官方授权，非商业转载请注明出处。"
   ]
  },
  {
   "cell_type": "code",
   "execution_count": 9,
   "metadata": {},
   "outputs": [
    {
     "data": {
      "text/plain": [
       "True"
      ]
     },
     "execution_count": 9,
     "metadata": {},
     "output_type": "execute_result"
    }
   ],
   "source": [
    "'''2022, M'''\n",
    "from typing import List\n",
    "\n",
    "class Solution:\n",
    "    ''' 回溯法：’桶选球‘，注意剪枝，否则超时 '''\n",
    "    def canPartitionKSubsets(self, nums: List[int], k: int) -> bool:\n",
    "        n = len(nums)\n",
    "        if n < k:\n",
    "            return False\n",
    "        if k == 1:\n",
    "            return True\n",
    "        sum_n = sum(nums)\n",
    "        if sum_n % k != 0:\n",
    "            return False\n",
    "        target = sum_n // k\n",
    "        visited = [0] * n  # 表示球是否被使用了\n",
    "        nums.sort(reverse=True)\n",
    "\n",
    "        def backtrack(idx, tmp_sum, tmp_k):\n",
    "            ''' \n",
    "            idx: 从当前索引idx开始向后遍历\n",
    "            tmp_sum: 当前求和\n",
    "            tmp_k: 凑够了几组\n",
    "            '''\n",
    "            if tmp_k == k:\n",
    "                return True\n",
    "            if tmp_sum == target:\n",
    "                return backtrack(0, 0, tmp_k + 1)  # visited的用处在这里\n",
    "            for j in range(idx, n):\n",
    "                if visited[j]:\n",
    "                    continue\n",
    "                if tmp_sum + nums[j] > target:\n",
    "                    continue\n",
    "                if j > idx and nums[j] == nums[j - 1] and not visited[j - 1]:\n",
    "                    continue\n",
    "                visited[j] = 1\n",
    "                if backtrack(j + 1, tmp_sum + nums[j], tmp_k):\n",
    "                    return True\n",
    "                visited[j] = 0\n",
    "            return False\n",
    "        \n",
    "        return backtrack(0, 0, 0)\n",
    "\n",
    "\n",
    "nums = [4, 3, 2, 3, 5, 2, 1]\n",
    "k = 4\n",
    "# nums = [10,5,5,4,3,6,6,7,6,8,6,3,4,5,3,7]\n",
    "# k = 8\n",
    "Solution().canPartitionKSubsets(nums, k)"
   ]
  },
  {
   "cell_type": "code",
   "execution_count": 1,
   "metadata": {},
   "outputs": [],
   "source": [
    "# 球选桶：\n",
    "\n",
    "# 划分为k的相等子集\n",
    "class Solution:\n",
    "    def canPartitionKSubsets(self, nums, k: int) -> bool:\n",
    "        sum_nums = sum(nums)\n",
    "        if sum_nums % k != 0:\n",
    "            return False\n",
    "        target = sum_nums // k\n",
    "        nums = sorted(nums,reverse= True) # 先用最大的值填充，减小回溯次数\n",
    "        bucket = [0]*k  # 存储的是每个桶中的总和\n",
    "        # 球选桶的视角进行，回溯方法判断当前球放入第i个桶的时候是否合适，当最终桶中元素不符合要求，进行回溯\n",
    "        def backtrack(nums,index,bucket,k,target):\n",
    "            if len(nums) == index:  # 此处需要使用len(nums)如果减1最后一个元素不能加上去\n",
    "                return True\n",
    "            # 否则开始判断填到哪个桶中\n",
    "            for i in range(k):\n",
    "                # 如果当前桶和上一个桶总和相同，加入新元素结果也必然相同，因此跳过\n",
    "                if i > 0 and bucket[i] == bucket[i-1]:\n",
    "                    continue\n",
    "                if bucket[i] + nums[index] > target:continue # 超出就不加\n",
    "                # 否则就加入\n",
    "                bucket[i] += nums[index]\n",
    "                # 回溯下一个元素\n",
    "                if backtrack(nums,index+1,bucket,k,target):return True\n",
    "                # 最终结果不满足就回溯\n",
    "                bucket[i] -= nums[index]\n",
    "            return False\n",
    "        return backtrack(nums,0,bucket,k,target)\n",
    "\n",
    "# 修改，返回划分结果，如果不满足划分条件，返回false，如果满足，返回划分的结果\n",
    "class Solution:\n",
    "    def canPartitionKSubsets(self, nums, k: int) -> bool:\n",
    "        sum_nums = sum(nums)\n",
    "        if sum_nums % k != 0:\n",
    "            return False\n",
    "        target = sum_nums // k\n",
    "        nums = sorted(nums,reverse= True) # 先用最大的值填充，减小回溯次数\n",
    "        bucket = [[] for _ in range(k)] # 存储的是每个桶中的数值\n",
    "        def backtrack(nums,index,bucket,k,target):\n",
    "            if len(nums) == index:\n",
    "                return True\n",
    "            for i in range(k):\n",
    "                if i > 0 and sum(bucket[i]) == sum(bucket[i-1]):\n",
    "                    continue\n",
    "                if sum(bucket[i]) + nums[index] > target:continue # 超出就不加\n",
    "                bucket[i].append(nums[index])\n",
    "                # 回溯下一个元素\n",
    "                if backtrack(nums,index+1,bucket,k,target):return True\n",
    "                # 最终结果不满足就回溯\n",
    "                bucket[i].pop() # 回溯，删除加入的元素\n",
    "            return False\n",
    "        return bucket if backtrack(nums,0,bucket,k,target) else False"
   ]
  },
  {
   "cell_type": "code",
   "execution_count": null,
   "metadata": {},
   "outputs": [],
   "source": []
  }
 ],
 "metadata": {
  "kernelspec": {
   "display_name": "Python 3.9.10 ('base')",
   "language": "python",
   "name": "python3"
  },
  "language_info": {
   "codemirror_mode": {
    "name": "ipython",
    "version": 3
   },
   "file_extension": ".py",
   "mimetype": "text/x-python",
   "name": "python",
   "nbconvert_exporter": "python",
   "pygments_lexer": "ipython3",
   "version": "3.9.10 | packaged by conda-forge | (main, Feb  1 2022, 21:27:43) \n[Clang 11.1.0 ]"
  },
  "toc": {
   "base_numbering": 1,
   "nav_menu": {},
   "number_sections": true,
   "sideBar": true,
   "skip_h1_title": false,
   "title_cell": "Table of Contents",
   "title_sidebar": "Contents",
   "toc_cell": false,
   "toc_position": {},
   "toc_section_display": true,
   "toc_window_display": false
  },
  "vscode": {
   "interpreter": {
    "hash": "3774638e36becc1b3be4f932a09ec02e29dc9d9fab753e191431a024cc1a4cff"
   }
  }
 },
 "nbformat": 4,
 "nbformat_minor": 2
}
