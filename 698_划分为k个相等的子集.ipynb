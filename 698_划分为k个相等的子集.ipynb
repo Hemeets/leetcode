{
 "cells": [
  {
   "cell_type": "markdown",
   "metadata": {},
   "source": [
    "给定一个整数数组  nums 和一个正整数 k，找出是否有可能把这个数组分成 k 个非空子集，其总和都相等。\n",
    "\n",
    "示例 1：\n",
    "\n",
    "输入： nums = [4, 3, 2, 3, 5, 2, 1], k = 4\n",
    "输出： True\n",
    "说明： 有可能将其分成 4 个子集（5），（1,4），（2,3），（2,3）等于总和。\n",
    " \n",
    "\n",
    "注意:\n",
    "\n",
    "1 <= k <= len(nums) <= 16\n",
    "0 < nums[i] < 10000\n",
    "\n",
    "来源：力扣（LeetCode）\n",
    "链接：https://leetcode-cn.com/problems/partition-to-k-equal-sum-subsets\n",
    "著作权归领扣网络所有。商业转载请联系官方授权，非商业转载请注明出处。"
   ]
  },
  {
   "cell_type": "code",
   "execution_count": 1,
   "metadata": {},
   "outputs": [],
   "source": [
    "# 想法：S = sum(nums)/k ，先排序，比如说从大到小排，然后从下标0开始找，\n",
    "# 找到了一组就k-1，递归接着找下一组\n",
    "class Solution:\n",
    "    def canPartitionKSubsets(self, nums, k):\n",
    "        n = len(nums)\n",
    "        if n < k:\n",
    "            return False\n",
    "        if k == 1:\n",
    "            return True\n",
    "        sum_num = sum(nums)\n",
    "        if sum_num % k != 0:\n",
    "            return False\n",
    "        avg = sum_num // k\n",
    "        nums.sort(reverse=True)\n",
    "        \n",
    "        visited = set()\n",
    "        \n",
    "        def backtrack(k, tmp_sum, loc):\n",
    "            # k 表示还有几组要凑\n",
    "            # loc 是当前要从下标loc开始往后遍历找\n",
    "            if tmp_sum == avg:\n",
    "                return backtrack(k-1, 0, 0) # 只有这种方式能让k-1\n",
    "            if k == 1:\n",
    "                return True\n",
    "            for i in range(loc, n):\n",
    "                if i not in visited and nums[i] + tmp_sum <= avg:\n",
    "                    visited.add(i)\n",
    "                    if backtrack(k, tmp_sum + nums[i], i + 1):\n",
    "                        return True\n",
    "                    visited.remove(i)\n",
    "            return False\n",
    "        return backtrack(k, 0, 0)\n",
    "        "
   ]
  },
  {
   "cell_type": "code",
   "execution_count": 2,
   "metadata": {},
   "outputs": [
    {
     "data": {
      "text/plain": [
       "True"
      ]
     },
     "execution_count": 2,
     "metadata": {},
     "output_type": "execute_result"
    }
   ],
   "source": [
    "nums = [4, 3, 2, 3, 5, 2, 1]\n",
    "k = 4 \n",
    "Solution().canPartitionKSubsets(nums, k)"
   ]
  },
  {
   "cell_type": "code",
   "execution_count": null,
   "metadata": {},
   "outputs": [],
   "source": []
  }
 ],
 "metadata": {
  "kernelspec": {
   "display_name": "Python 3",
   "language": "python",
   "name": "python3"
  },
  "language_info": {
   "codemirror_mode": {
    "name": "ipython",
    "version": 3
   },
   "file_extension": ".py",
   "mimetype": "text/x-python",
   "name": "python",
   "nbconvert_exporter": "python",
   "pygments_lexer": "ipython3",
   "version": "3.7.3"
  },
  "toc": {
   "base_numbering": 1,
   "nav_menu": {},
   "number_sections": true,
   "sideBar": true,
   "skip_h1_title": false,
   "title_cell": "Table of Contents",
   "title_sidebar": "Contents",
   "toc_cell": false,
   "toc_position": {},
   "toc_section_display": true,
   "toc_window_display": false
  }
 },
 "nbformat": 4,
 "nbformat_minor": 2
}
