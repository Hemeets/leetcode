{
 "cells": [
  {
   "cell_type": "markdown",
   "metadata": {},
   "source": [
    "给定正整数数组 A，A[i] 表示第 i 个观光景点的评分，并且两个景点 i 和 j 之间的距离为 j - i。\n",
    "\n",
    "一对景点（i < j）组成的观光组合的得分为（A[i] + A[j] + i - j）：景点的评分之和减去它们两者之间的距离。\n",
    "\n",
    "返回一对观光景点能取得的最高分。\n",
    "\n",
    " \n",
    "\n",
    "示例：\n",
    "\n",
    "输入：[8,1,5,2,6]\n",
    "输出：11\n",
    "解释：i = 0, j = 2, A[i] + A[j] + i - j = 8 + 5 + 0 - 2 = 11\n",
    " \n",
    "\n",
    "提示：\n",
    "\n",
    "2 <= A.length <= 50000\n",
    "1 <= A[i] <= 1000\n",
    "\n",
    "暴力法就不写了，下面讨论一个时间n，空间1的算法"
   ]
  },
  {
   "cell_type": "code",
   "execution_count": 2,
   "metadata": {},
   "outputs": [],
   "source": [
    "def maxScoreSightseeingPair(A) -> int:\n",
    "    # 一个想法是，固定j，遍历的时候得到j之前的 A[i]+i 的最大值 max_i\n",
    "    # 同时也在遍历j，那么再取 max_i + A[j] - j的最大值\n",
    "    max_i = A[0] + 0\n",
    "    max_score = 0 # 为啥是0？因为A[0]+A[1]+0-1最小为1\n",
    "    for j in range(1, len(A)):\n",
    "        max_score = max(max_score, max_i + A[j] - j)\n",
    "        max_i = max(max_i, A[j] + j)\n",
    "    return max_score"
   ]
  },
  {
   "cell_type": "code",
   "execution_count": 3,
   "metadata": {},
   "outputs": [
    {
     "data": {
      "text/plain": [
       "11"
      ]
     },
     "execution_count": 3,
     "metadata": {},
     "output_type": "execute_result"
    }
   ],
   "source": [
    "A = [8, 1, 5, 2, 6]\n",
    "maxScoreSightseeingPair(A)"
   ]
  },
  {
   "cell_type": "code",
   "execution_count": null,
   "metadata": {},
   "outputs": [],
   "source": []
  }
 ],
 "metadata": {
  "kernelspec": {
   "display_name": "Python 3",
   "language": "python",
   "name": "python3"
  },
  "language_info": {
   "codemirror_mode": {
    "name": "ipython",
    "version": 3
   },
   "file_extension": ".py",
   "mimetype": "text/x-python",
   "name": "python",
   "nbconvert_exporter": "python",
   "pygments_lexer": "ipython3",
   "version": "3.7.3"
  },
  "toc": {
   "base_numbering": 1,
   "nav_menu": {},
   "number_sections": true,
   "sideBar": true,
   "skip_h1_title": false,
   "title_cell": "Table of Contents",
   "title_sidebar": "Contents",
   "toc_cell": false,
   "toc_position": {},
   "toc_section_display": true,
   "toc_window_display": false
  }
 },
 "nbformat": 4,
 "nbformat_minor": 2
}
