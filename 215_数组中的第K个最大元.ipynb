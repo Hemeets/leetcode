{
 "cells": [
  {
   "cell_type": "markdown",
   "metadata": {},
   "source": [
    "在未排序的数组中找到第 k 个最大的元素。请注意，你需要找的是数组排序后的第 k 个最大的元素，而不是第 k 个不同的元素。\n",
    "\n",
    "示例 1:\n",
    "\n",
    "输入: [3,2,1,5,6,4] 和 k = 2\n",
    "输出: 5\n",
    "示例 2:\n",
    "\n",
    "输入: [3,2,3,1,2,4,5,5,6] 和 k = 4\n",
    "输出: 4\n",
    "说明:\n",
    "\n",
    "你可以假设 k 总是有效的，且 1 ≤ k ≤ 数组的长度。\n",
    "\n",
    "来源：力扣（LeetCode）\n",
    "链接：https://leetcode-cn.com/problems/kth-largest-element-in-an-array\n",
    "著作权归领扣网络所有。商业转载请联系官方授权，非商业转载请注明出处。"
   ]
  },
  {
   "cell_type": "code",
   "execution_count": 11,
   "metadata": {},
   "outputs": [],
   "source": [
    "class Solution:\n",
    " \n",
    "    def _partition(self, nums, l, r):\n",
    "        j = l\n",
    "        for i in range(l + 1, r + 1):\n",
    "            if nums[i] > nums[l]:  # 大于nums[l]的放在左边\n",
    "                j += 1\n",
    "                nums[i], nums[j] = nums[j], nums[i]\n",
    "        nums[l], nums[j] = nums[j], nums[l]\n",
    "        return j\n",
    "    \n",
    "    def findKthLargest(self, nums, k):\n",
    "    # 这个是利用快排的思想，牛逼，但是估计也没有最小堆快\n",
    "        l, r, k = 0, len(nums) - 1, k - 1\n",
    "        while True:\n",
    "            p = self._partition(nums, l, r)\n",
    "            if k == p:\n",
    "                return nums[p]\n",
    "            elif k < p:\n",
    "                r = p - 1\n",
    "            else:\n",
    "                l = l + 1\n",
    "    "
   ]
  },
  {
   "cell_type": "code",
   "execution_count": 12,
   "metadata": {},
   "outputs": [
    {
     "data": {
      "text/plain": [
       "4"
      ]
     },
     "execution_count": 12,
     "metadata": {},
     "output_type": "execute_result"
    }
   ],
   "source": [
    "nums = [3,2,3,1,2,4,5,5,6]\n",
    "k = 4 \n",
    "Solution().findKthLargest(nums, k)"
   ]
  },
  {
   "cell_type": "markdown",
   "metadata": {},
   "source": [
    "接下来是用最小堆"
   ]
  },
  {
   "cell_type": "code",
   "execution_count": 14,
   "metadata": {},
   "outputs": [],
   "source": [
    "import heapq\n",
    "class Solution:\n",
    "    def findKthLargest(self, nums, k):\n",
    "        heap = []\n",
    "        for num in nums[:k]:\n",
    "            heapq.heappush(heap, num)\n",
    "        for num in nums[k:]:\n",
    "            if num > heap[0]:\n",
    "                heapq.heappop(heap)\n",
    "                heapq.heappush(heap, num)\n",
    "        return heap[0]"
   ]
  },
  {
   "cell_type": "code",
   "execution_count": null,
   "metadata": {},
   "outputs": [],
   "source": []
  }
 ],
 "metadata": {
  "kernelspec": {
   "display_name": "Python 3",
   "language": "python",
   "name": "python3"
  },
  "language_info": {
   "codemirror_mode": {
    "name": "ipython",
    "version": 3
   },
   "file_extension": ".py",
   "mimetype": "text/x-python",
   "name": "python",
   "nbconvert_exporter": "python",
   "pygments_lexer": "ipython3",
   "version": "3.6.8"
  },
  "toc": {
   "base_numbering": 1,
   "nav_menu": {},
   "number_sections": true,
   "sideBar": true,
   "skip_h1_title": false,
   "title_cell": "Table of Contents",
   "title_sidebar": "Contents",
   "toc_cell": false,
   "toc_position": {},
   "toc_section_display": true,
   "toc_window_display": false
  }
 },
 "nbformat": 4,
 "nbformat_minor": 2
}
