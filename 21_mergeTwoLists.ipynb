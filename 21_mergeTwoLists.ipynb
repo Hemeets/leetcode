{
 "cells": [
  {
   "cell_type": "markdown",
   "metadata": {},
   "source": [
    "将两个有序链表合并为一个新的有序链表并返回。新链表是通过拼接给定的两个链表的所有节点组成的。 \n",
    "\n",
    "示例：\n",
    "\n",
    "输入：1->2->4, 1->3->4\n",
    "输出：1->1->2->3->4->4\n"
   ]
  },
  {
   "cell_type": "code",
   "execution_count": 1,
   "metadata": {},
   "outputs": [],
   "source": [
    "class ListNode:\n",
    "    def __init__(self, x):\n",
    "        self.val = x\n",
    "        self.next = None"
   ]
  },
  {
   "cell_type": "code",
   "execution_count": 2,
   "metadata": {},
   "outputs": [],
   "source": [
    "def mergeTwoLists(l1, l2):\n",
    "    cur1, cur2 = l1, l2\n",
    "    out = ListNode(0)\n",
    "    cur = out\n",
    "    while cur1 and cur2:\n",
    "        if cur1.val < cur2.val:\n",
    "            cur.next = ListNode(cur1.val)\n",
    "            cur1 = cur1.next\n",
    "        else:\n",
    "            cur.next = ListNode(cur2.val)\n",
    "            cur2 = cur2.next\n",
    "        cur = cur.next\n",
    "    if cur2:\n",
    "        # cur2剩余了\n",
    "        cur.next = cur2\n",
    "    if cur1:\n",
    "        cur.next = cur1\n",
    "    return out.next"
   ]
  },
  {
   "cell_type": "code",
   "execution_count": 2,
   "metadata": {},
   "outputs": [],
   "source": [
    "def mergeTwoLists(l1, l2):\n",
    "    prehead = ListNode(0)\n",
    "    prev = prehead \n",
    "    while l1 and l2:\n",
    "        if l1.val <= l2.val:\n",
    "            prev.next = l1\n",
    "            l1 = l1.next\n",
    "        else:\n",
    "            prev.next = l2\n",
    "            l2 = l2.next\n",
    "        prev = prev.next\n",
    "    prev.next = l1 if l1 else l2\n",
    "    return prehead.next"
   ]
  },
  {
   "cell_type": "code",
   "execution_count": null,
   "metadata": {},
   "outputs": [],
   "source": []
  }
 ],
 "metadata": {
  "kernelspec": {
   "display_name": "Python 3",
   "language": "python",
   "name": "python3"
  },
  "language_info": {
   "codemirror_mode": {
    "name": "ipython",
    "version": 3
   },
   "file_extension": ".py",
   "mimetype": "text/x-python",
   "name": "python",
   "nbconvert_exporter": "python",
   "pygments_lexer": "ipython3",
   "version": "3.6.8"
  },
  "toc": {
   "base_numbering": 1,
   "nav_menu": {},
   "number_sections": true,
   "sideBar": true,
   "skip_h1_title": false,
   "title_cell": "Table of Contents",
   "title_sidebar": "Contents",
   "toc_cell": false,
   "toc_position": {},
   "toc_section_display": true,
   "toc_window_display": false
  }
 },
 "nbformat": 4,
 "nbformat_minor": 2
}
