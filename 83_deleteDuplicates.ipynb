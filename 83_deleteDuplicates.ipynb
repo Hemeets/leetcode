{
 "cells": [
  {
   "cell_type": "markdown",
   "metadata": {},
   "source": [
    "### 删除排序链表中重复元素I\n",
    "给定一个排序链表，删除所有重复的元素，使得每个元素只出现一次。\n",
    "\n",
    "示例 1:\n",
    "\n",
    "输入: 1->1->2\n",
    "输出: 1->2\n",
    "示例 2:\n",
    "\n",
    "输入: 1->1->2->3->3\n",
    "输出: 1->2->3\n"
   ]
  },
  {
   "cell_type": "code",
   "execution_count": 1,
   "metadata": {},
   "outputs": [],
   "source": [
    "class ListNode:\n",
    "    def __init__(self, x):\n",
    "        self.val = x\n",
    "        self.next = None\n",
    "def List2ListNode(List):\n",
    "    Fnode = ListNode(0)\n",
    "    node = Fnode\n",
    "    for a in List:\n",
    "        node.next = ListNode(a)\n",
    "        node = node.next\n",
    "    return Fnode.next\n",
    "def ListNode2List(Node):\n",
    "    List = list()\n",
    "    node = Node\n",
    "    while node:\n",
    "        List.append(node.val)\n",
    "        node = node.next\n",
    "    return List\n",
    "\n",
    "        \n",
    "def deleteDuplicates(head):\n",
    "    if not head:\n",
    "        return None\n",
    "    out_head = head\n",
    "    cur = head\n",
    "    pre = out_head\n",
    "    while cur.next:\n",
    "        \n",
    "#         if cur.val == cur.next.val:\n",
    "#             cur = cur.next\n",
    "#         else:\n",
    "#             cur = cur.next\n",
    "#             pre.next = cur\n",
    "#             pre = pre.next\n",
    "        if cur.val != cur.next.val:\n",
    "            pre.next = cur.next\n",
    "            pre = pre.next\n",
    "        cur = cur.next\n",
    "    pre.next = None\n",
    "    return out_head"
   ]
  },
  {
   "cell_type": "code",
   "execution_count": 2,
   "metadata": {},
   "outputs": [
    {
     "name": "stdout",
     "output_type": "stream",
     "text": [
      "[1, 2, 3]\n"
     ]
    }
   ],
   "source": [
    "head = List2ListNode([1,1,2,3,3])\n",
    "out = deleteDuplicates(head)\n",
    "print(ListNode2List(out))"
   ]
  },
  {
   "cell_type": "markdown",
   "metadata": {},
   "source": [
    "上面那个自己写的有点儿冗余了（但是试了几次自己那个更快？？），就是重复就next.next，不重复就是next，自己还搞那么麻烦"
   ]
  },
  {
   "cell_type": "code",
   "execution_count": 3,
   "metadata": {},
   "outputs": [],
   "source": [
    "def deleteDuplicates1(head):\n",
    "    if (not head) or (not head.next) :\n",
    "            return head \n",
    "    out_head = head\n",
    "    cur = out_head\n",
    "    while True:\n",
    "        # 为什么我不像上面那个一样写while cur.next:了？\n",
    "        # 因为cur = cur.next.next这一句就可能导致cur为None了，\n",
    "        # 这时再cur.next必然出错\n",
    "        if cur.val == cur.next.val:\n",
    "            cur.next = cur.next.next\n",
    "        else:\n",
    "            cur = cur.next\n",
    "        if not cur.next:\n",
    "            break\n",
    "#         print(cur.val)\n",
    "    return out_head"
   ]
  },
  {
   "cell_type": "code",
   "execution_count": 4,
   "metadata": {},
   "outputs": [
    {
     "name": "stdout",
     "output_type": "stream",
     "text": [
      "[1, 2, 3]\n"
     ]
    }
   ],
   "source": [
    "head = List2ListNode([1,1,2,3,3])\n",
    "out = deleteDuplicates1(head)\n",
    "print(ListNode2List(out))"
   ]
  },
  {
   "cell_type": "markdown",
   "metadata": {},
   "source": [
    "### 删除排序链表中的重复元素II\n",
    "给定一个排序链表，删除所有含有重复数字的节点，只保留原始链表中 没有重复出现 的数字。\n",
    "\n",
    "示例 1:\n",
    "\n",
    "输入: 1->2->3->3->4->4->5\n",
    "输出: 1->2->5\n",
    "示例 2:\n",
    "\n",
    "输入: 1->1->1->2->3\n",
    "输出: 2->3\n",
    "\n",
    "来源：力扣（LeetCode）\n",
    "链接：https://leetcode-cn.com/problems/remove-duplicates-from-sorted-list-ii\n",
    "著作权归领扣网络所有。商业转载请联系官方授权，非商业转载请注明出处。"
   ]
  },
  {
   "cell_type": "code",
   "execution_count": null,
   "metadata": {},
   "outputs": [],
   "source": [
    "class Solution:\n",
    "    def deleteDuplicates(self, head):\n",
    "        if not head:\n",
    "            return head\n",
    "    \n",
    "        head0 = ListNode(None)\n",
    "        head0.next = head\n",
    "        pre = head0\n",
    "        cur = head\n",
    "        \n",
    "        while cur:\n",
    "            if cur.next and cur.val == cur.next.val:\n",
    "                tmp_val = cur.val\n",
    "                while cur and cur.val == tmp_val:\n",
    "                    cur = cur.next\n",
    "            else:\n",
    "                pre.next = cur\n",
    "                pre = cur\n",
    "                cur = cur.next\n",
    "                \n",
    "        pre.next = cur\n",
    "        \n",
    "        return head0.next\n",
    "                \n",
    "            "
   ]
  }
 ],
 "metadata": {
  "kernelspec": {
   "display_name": "Python 3",
   "language": "python",
   "name": "python3"
  },
  "language_info": {
   "codemirror_mode": {
    "name": "ipython",
    "version": 3
   },
   "file_extension": ".py",
   "mimetype": "text/x-python",
   "name": "python",
   "nbconvert_exporter": "python",
   "pygments_lexer": "ipython3",
   "version": "3.6.8"
  },
  "toc": {
   "base_numbering": 1,
   "nav_menu": {},
   "number_sections": true,
   "sideBar": true,
   "skip_h1_title": false,
   "title_cell": "Table of Contents",
   "title_sidebar": "Contents",
   "toc_cell": false,
   "toc_position": {},
   "toc_section_display": true,
   "toc_window_display": false
  }
 },
 "nbformat": 4,
 "nbformat_minor": 2
}
