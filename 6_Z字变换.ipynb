{
 "cells": [
  {
   "cell_type": "markdown",
   "metadata": {},
   "source": [
    "将一个给定字符串根据给定的行数，以从上往下、从左到右进行 Z 字形排列。\n",
    "\n",
    "比如输入字符串为 \"LEETCODEISHIRING\" 行数为 3 时，排列如下：\n",
    "\n",
    "L   C   I   R\n",
    "\n",
    "E T O E S I I G\n",
    "\n",
    "E   D   H   N\n",
    "\n",
    "之后，你的输出需要从左往右逐行读取，产生出一个新的字符串，比如：\"LCIRETOESIIGEDHN\"。\n",
    "\n",
    "请你实现这个将字符串进行指定行数变换的函数：\n",
    "\n",
    "string convert(string s, int numRows);\n",
    "示例 1:\n",
    "\n",
    "输入: s = \"LEETCODEISHIRING\", numRows = 3\n",
    "输出: \"LCIRETOESIIGEDHN\"\n",
    "示例 2:\n",
    "\n",
    "输入: s = \"LEETCODEISHIRING\", numRows = 4\n",
    "输出: \"LDREOEIIECIHNTSG\"\n",
    "解释:\n",
    "\n",
    "L     D     R\n",
    "\n",
    "E   O E   I I\n",
    "\n",
    "E C   I H   N\n",
    "\n",
    "T     S     G\n",
    "\n",
    "来源：力扣（LeetCode）\n",
    "链接：https://leetcode-cn.com/problems/zigzag-conversion\n",
    "著作权归领扣网络所有。商业转载请联系官方授权，非商业转载请注明出处。"
   ]
  },
  {
   "cell_type": "code",
   "execution_count": 20,
   "metadata": {},
   "outputs": [],
   "source": [
    "def convert(s, numRows):\n",
    "    if numRows == 1:\n",
    "        return s\n",
    "    rows = [\"\"] * min(numRows, len(s))\n",
    "    goingDown = False\n",
    "    cur_row = 0\n",
    "    for c in s:\n",
    "#         print(cur_row, goingDown)\n",
    "        rows[cur_row] += c\n",
    "        if cur_row == 0 or cur_row == numRows - 1:\n",
    "            goingDown = not goingDown\n",
    "        \n",
    "        cur_row += 1 if goingDown else -1\n",
    "        \n",
    "    res = \"\"\n",
    "    for string in rows:\n",
    "        res += string\n",
    "    return res\n",
    "    "
   ]
  },
  {
   "cell_type": "code",
   "execution_count": 21,
   "metadata": {},
   "outputs": [
    {
     "name": "stdout",
     "output_type": "stream",
     "text": [
      "0 False\n",
      "1 True\n",
      "2 True\n",
      "1 False\n",
      "0 False\n",
      "1 True\n",
      "2 True\n",
      "1 False\n",
      "0 False\n",
      "1 True\n",
      "2 True\n",
      "1 False\n",
      "0 False\n",
      "1 True\n",
      "2 True\n",
      "1 False\n"
     ]
    },
    {
     "data": {
      "text/plain": [
       "'LCIRETOESIIGEDHN'"
      ]
     },
     "execution_count": 21,
     "metadata": {},
     "output_type": "execute_result"
    }
   ],
   "source": [
    "s = \"LEETCODEISHIRING\"\n",
    "numRows = 3\n",
    "convert(s, numRows)"
   ]
  },
  {
   "cell_type": "code",
   "execution_count": null,
   "metadata": {},
   "outputs": [],
   "source": []
  }
 ],
 "metadata": {
  "kernelspec": {
   "display_name": "Python 3",
   "language": "python",
   "name": "python3"
  },
  "language_info": {
   "codemirror_mode": {
    "name": "ipython",
    "version": 3
   },
   "file_extension": ".py",
   "mimetype": "text/x-python",
   "name": "python",
   "nbconvert_exporter": "python",
   "pygments_lexer": "ipython3",
   "version": "3.6.8"
  },
  "toc": {
   "base_numbering": 1,
   "nav_menu": {},
   "number_sections": true,
   "sideBar": true,
   "skip_h1_title": false,
   "title_cell": "Table of Contents",
   "title_sidebar": "Contents",
   "toc_cell": false,
   "toc_position": {},
   "toc_section_display": true,
   "toc_window_display": false
  }
 },
 "nbformat": 4,
 "nbformat_minor": 2
}
