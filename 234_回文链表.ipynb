{
 "cells": [
  {
   "cell_type": "markdown",
   "metadata": {},
   "source": [
    "请判断一个链表是否为回文链表。\n",
    "\n",
    "示例 1:\n",
    "\n",
    "输入: 1->2\n",
    "输出: false\n",
    "示例 2:\n",
    "\n",
    "输入: 1->2->2->1\n",
    "输出: true\n",
    "进阶：\n",
    "你能否用 O(n) 时间复杂度和 O(1) 空间复杂度解决此题？"
   ]
  },
  {
   "cell_type": "code",
   "execution_count": 28,
   "metadata": {},
   "outputs": [],
   "source": [
    "class ListNode:\n",
    "    def __init__(self, x):\n",
    "        self.val = x\n",
    "        self.next = None\n",
    "def List2ListNode(List):\n",
    "    Fnode = ListNode(0)\n",
    "    node = Fnode\n",
    "    for a in List:\n",
    "        node.next = ListNode(a)\n",
    "        node = node.next\n",
    "    return Fnode.next\n",
    "def ListNode2List(Node):\n",
    "    List = list()\n",
    "    node = Node\n",
    "    while node:\n",
    "        List.append(node.val)\n",
    "        node = node.next\n",
    "    return List\n",
    "def isPalindrome(head: ListNode) -> bool:\n",
    "    #先反转，再比较是否相同\n",
    "    if not head:\n",
    "        return True\n",
    "    pre = None\n",
    "    cur = head\n",
    "    \n",
    "    while cur:\n",
    "        next_tmp = cur.next\n",
    "        cur.next = pre\n",
    "        pre = cur\n",
    "        cur = next_tmp\n",
    "    # 此时pre是反转的链表\n",
    "    cur1, cur2 = head, pre\n",
    "\n",
    "    while cur1 and cur2:\n",
    "        if cur1.val != cur2.val:\n",
    "            return False\n",
    "            print(1)\n",
    "        cur1 = cur1.next\n",
    "        cur2 = cur2.next\n",
    "    if cur1 or cur2:\n",
    "        return False\n",
    "        print(2)\n",
    "    return True"
   ]
  },
  {
   "cell_type": "markdown",
   "metadata": {},
   "source": [
    "上述code有bug，而且这方法不行，因为你把整个链表反转了，原来的就没了，要是重新构造一个链表那和空间要求O（1）不符\n",
    "\n",
    "下面是仅反转前半段，可行无bug\n"
   ]
  },
  {
   "cell_type": "code",
   "execution_count": 29,
   "metadata": {},
   "outputs": [],
   "source": [
    "def isPalindrome1(head):\n",
    "    if not head :\n",
    "        return True\n",
    "    if not head.next:\n",
    "        return True\n",
    "    p, p_pre, p2 = head, None, head\n",
    "    # p一个先开始，p2另一个next.next，即可以实现p2到末尾，p到中点\n",
    "    # p一开始就要反转了\n",
    "    while p2 and p2.next:\n",
    "\n",
    "        p2 = p2.next.next\n",
    "\n",
    "        p_tmp = p.next\n",
    "        p.next = p_pre\n",
    "        p_pre = p\n",
    "        p = p_tmp\n",
    "        # 反转完毕\n",
    "        print(p_pre.val)\n",
    "\n",
    "    # 此时p_tmp应该记的是p_pre的下一个\n",
    "    if p2:\n",
    "        # 目的是：根据p2是None还是P2.next是None处理不同的情况\n",
    "        p_tmp = p_tmp.next\n",
    "    while p_pre and p_tmp:\n",
    "        if p_pre.val != p_tmp.val:\n",
    "            return False\n",
    "        p_pre = p_pre.next\n",
    "        p_tmp = p_tmp.next\n",
    "    if p_pre and p_tmp:\n",
    "        return False\n",
    "    return True\n",
    "    # while p_pre and p_tmp and (p_pre.val == p_tmp.val):\n",
    "    #     p_pre = p_pre.next\n",
    "    #     p_tmp = p_tmp.next\n",
    "    # return p_pre == p_tmp == None"
   ]
  },
  {
   "cell_type": "code",
   "execution_count": 27,
   "metadata": {},
   "outputs": [
    {
     "name": "stdout",
     "output_type": "stream",
     "text": [
      "[1]\n",
      "[1, 2, 2, 1]\n"
     ]
    },
    {
     "data": {
      "text/plain": [
       "False"
      ]
     },
     "execution_count": 27,
     "metadata": {},
     "output_type": "execute_result"
    }
   ],
   "source": [
    "a = [1,2,2,1]\n",
    "la = List2ListNode(a)\n",
    "isPalindrome(la)"
   ]
  },
  {
   "cell_type": "code",
   "execution_count": null,
   "metadata": {},
   "outputs": [],
   "source": []
  }
 ],
 "metadata": {
  "kernelspec": {
   "display_name": "Python 3",
   "language": "python",
   "name": "python3"
  },
  "language_info": {
   "codemirror_mode": {
    "name": "ipython",
    "version": 3
   },
   "file_extension": ".py",
   "mimetype": "text/x-python",
   "name": "python",
   "nbconvert_exporter": "python",
   "pygments_lexer": "ipython3",
   "version": "3.6.8"
  },
  "toc": {
   "base_numbering": 1,
   "nav_menu": {},
   "number_sections": true,
   "sideBar": true,
   "skip_h1_title": false,
   "title_cell": "Table of Contents",
   "title_sidebar": "Contents",
   "toc_cell": false,
   "toc_position": {},
   "toc_section_display": true,
   "toc_window_display": false
  }
 },
 "nbformat": 4,
 "nbformat_minor": 2
}
