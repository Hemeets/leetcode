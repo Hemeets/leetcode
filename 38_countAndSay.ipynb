{
 "cells": [
  {
   "cell_type": "markdown",
   "metadata": {},
   "source": [
    "报数序列是一个整数序列，按照其中的整数的顺序进行报数，得到下一个数。其前五项如下：\n",
    "\n",
    "1.     1\n",
    "2.     11\n",
    "3.     21\n",
    "4.     1211\n",
    "5.     111221\n",
    "1 被读作  \"one 1\"  (\"一个一\") , 即 11。\n",
    "11 被读作 \"two 1s\" (\"两个一\"）, 即 21。\n",
    "21 被读作 \"one 2\",  \"one 1\" （\"一个二\" ,  \"一个一\") , 即 1211。\n",
    "\n",
    "给定一个正整数 n（1 ≤ n ≤ 30），输出报数序列的第 n 项。\n",
    "\n",
    "注意：整数顺序将表示为一个字符串。\n",
    "\n",
    " \n",
    "\n",
    "示例 1:\n",
    "\n",
    "输入: 1\n",
    "输出: \"1\"\n",
    "示例 2:\n",
    "\n",
    "输入: 4\n",
    "输出: \"1211\"\n"
   ]
  },
  {
   "cell_type": "code",
   "execution_count": 16,
   "metadata": {},
   "outputs": [],
   "source": [
    "def countAndSay(n):\n",
    "    N = n - 1\n",
    "    L1 = ['1']\n",
    "    k = 0\n",
    "    while k < N:\n",
    "        re = 0  #re记录之前的位置，目的是i-re得到“数字字符”的个数\n",
    "        i = 0\n",
    "        L1.append('0')  # 末尾补一个原字符串不存在的字符，比如“0”，方便下面计数\n",
    "        L2 = list()\n",
    "        while i < len(L1)-1:\n",
    "            if L1[i] != L1[i+1]:\n",
    "                L2.append(str(i+1-re))\n",
    "                L2.append(L1[i])\n",
    "                re = i + 1\n",
    "            i += 1\n",
    "        L1 = L2\n",
    "        k += 1\n",
    "    s = \"\".join(L1)\n",
    "    return s"
   ]
  },
  {
   "cell_type": "code",
   "execution_count": 17,
   "metadata": {},
   "outputs": [
    {
     "name": "stdout",
     "output_type": "stream",
     "text": [
      "1211\n"
     ]
    }
   ],
   "source": [
    "print(countAndSay(4))"
   ]
  },
  {
   "cell_type": "code",
   "execution_count": null,
   "metadata": {},
   "outputs": [],
   "source": []
  }
 ],
 "metadata": {
  "kernelspec": {
   "display_name": "Python 3",
   "language": "python",
   "name": "python3"
  },
  "language_info": {
   "codemirror_mode": {
    "name": "ipython",
    "version": 3
   },
   "file_extension": ".py",
   "mimetype": "text/x-python",
   "name": "python",
   "nbconvert_exporter": "python",
   "pygments_lexer": "ipython3",
   "version": "3.6.8"
  },
  "toc": {
   "base_numbering": 1,
   "nav_menu": {},
   "number_sections": true,
   "sideBar": true,
   "skip_h1_title": false,
   "title_cell": "Table of Contents",
   "title_sidebar": "Contents",
   "toc_cell": false,
   "toc_position": {},
   "toc_section_display": true,
   "toc_window_display": false
  }
 },
 "nbformat": 4,
 "nbformat_minor": 2
}
