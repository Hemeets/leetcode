{
 "cells": [
  {
   "cell_type": "markdown",
   "metadata": {},
   "source": [
    "给定两个大小为 m 和 n 的有序数组 nums1 和 nums2。\n",
    "\n",
    "请你找出这两个有序数组的中位数，并且要求算法的时间复杂度为 O(log(m + n))。\n",
    "\n",
    "你可以假设 nums1 和 nums2 不会同时为空。\n",
    "\n",
    "示例 1:\n",
    "\n",
    "nums1 = [1, 3]\n",
    "\n",
    "nums2 = [2]\n",
    "\n",
    "则中位数是 2.0\n",
    "\n",
    "示例 2:\n",
    "\n",
    "nums1 = [1, 2]\n",
    "\n",
    "nums2 = [3, 4]\n",
    "\n",
    "则中位数是 (2 + 3)/2 = 2.5"
   ]
  },
  {
   "cell_type": "code",
   "execution_count": null,
   "metadata": {},
   "outputs": [],
   "source": []
  },
  {
   "cell_type": "markdown",
   "metadata": {},
   "source": [
    "#### 类似于归并排序，朴素的方法"
   ]
  },
  {
   "cell_type": "code",
   "execution_count": 1,
   "metadata": {},
   "outputs": [],
   "source": [
    "def findM(nums1, nums2):\n",
    "    L1 = len(nums1)\n",
    "    L2 = len(nums2)\n",
    "    i, j, k = 0, 0, 0\n",
    "    nums3 = [0] * (L1+L2)\n",
    "    while i < L1 and j < L2:\n",
    "        if nums1[i] <= nums2[j]:\n",
    "            nums3[k] = nums1[i]\n",
    "            i += 1\n",
    "        else:\n",
    "            nums3[k] = nums2[j]\n",
    "            j += 1\n",
    "        k += 1\n",
    "    if i < L1:\n",
    "        nums3[k:] = nums1[i:]\n",
    "    else:\n",
    "        nums3[k:] = nums2[j:]\n",
    "    L3 = len(nums3)\n",
    "    m_ind = L3 // 2\n",
    "    if L3 % 2 == 1:\n",
    "        median = nums3[m_ind]\n",
    "    else:\n",
    "        median = (nums3[m_ind-1]+nums3[m_ind])/2\n",
    "    return nums3, float(median)"
   ]
  },
  {
   "cell_type": "code",
   "execution_count": 11,
   "metadata": {},
   "outputs": [],
   "source": [
    "nums1 = [ 2]\n",
    "nums2 = [3, 4]"
   ]
  },
  {
   "cell_type": "code",
   "execution_count": 12,
   "metadata": {},
   "outputs": [
    {
     "ename": "NameError",
     "evalue": "name 'findM' is not defined",
     "output_type": "error",
     "traceback": [
      "\u001b[1;31m---------------------------------------------------------------------------\u001b[0m",
      "\u001b[1;31mNameError\u001b[0m                                 Traceback (most recent call last)",
      "\u001b[1;32m<ipython-input-12-02288c5a19fc>\u001b[0m in \u001b[0;36m<module>\u001b[1;34m()\u001b[0m\n\u001b[1;32m----> 1\u001b[1;33m \u001b[0mfindM\u001b[0m\u001b[1;33m(\u001b[0m\u001b[0mnums1\u001b[0m\u001b[1;33m,\u001b[0m \u001b[0mnums2\u001b[0m\u001b[1;33m)\u001b[0m\u001b[1;33m\u001b[0m\u001b[1;33m\u001b[0m\u001b[0m\n\u001b[0m",
      "\u001b[1;31mNameError\u001b[0m: name 'findM' is not defined"
     ]
    }
   ],
   "source": [
    "findM(nums1, nums2)"
   ]
  },
  {
   "cell_type": "markdown",
   "metadata": {},
   "source": [
    "#### 分治法\n",
    "如何想到分治法？\n",
    "<br />     ................... left_part  |  right_part....................\n",
    "<br />    A[0], A[1], ..., A[i-1]  |  A[i], A[i+1], ..., A[m-1]\n",
    "<br />    B[0], B[1], ..., B[j-1]  |  B[j], B[j+1], ..., B[n-1]\n",
    "\n",
    "1. 用中位数左右个数相等作为第一个条件，推出i，j的关系；\n",
    "2. i，j是此消彼长的，A，B也是有序（假设小到大），故可以考虑分治法\n",
    "\n",
    "这里是详细解题思路[leetcode](https://leetcode-cn.com/problems/median-of-two-sorted-arrays/solution/xun-zhao-liang-ge-you-xu-shu-zu-de-zhong-wei-shu-b/)"
   ]
  },
  {
   "cell_type": "code",
   "execution_count": 14,
   "metadata": {},
   "outputs": [],
   "source": [
    "def findM1(A, B):\n",
    "    m, n = len(A), len(B)\n",
    "    if m > n:\n",
    "        A, B, m, n = B, A, n, m\n",
    "    if n == 0:\n",
    "        raise ValueError\n",
    "    imin, imax, media = 0, m, int((m+n+1)/2)\n",
    "    # 要仔细考虑奇偶问题\n",
    "    while imin <= imax:\n",
    "        i = int((imin + imax) / 2)\n",
    "        j = media - i\n",
    "        if i < m and B[j-1] > A[i]:\n",
    "            imin = i + 1\n",
    "        elif i > 0 and A[i-1] > B[j]:\n",
    "            imax = i - 1\n",
    "        else:\n",
    "            if i == 0: max_of_left = B[j-1]\n",
    "            elif j == 0: max_of_left = A[i-1]\n",
    "            else: max_of_left = max(A[i-1], B[j-1])\n",
    "                \n",
    "            if (m+n) % 2 == 1:\n",
    "                return float(max_of_left)\n",
    "            \n",
    "            if i == m: min_of_right = B[j]\n",
    "            elif j == n: min_of_right = A[i]\n",
    "            else: min_of_right = min(B[j], A[i])\n",
    "            return (max_of_left + min_of_right) / 2.0"
   ]
  },
  {
   "cell_type": "code",
   "execution_count": 13,
   "metadata": {},
   "outputs": [
    {
     "data": {
      "text/plain": [
       "3"
      ]
     },
     "execution_count": 13,
     "metadata": {},
     "output_type": "execute_result"
    }
   ],
   "source": [
    "findM1(nums1, nums2)"
   ]
  },
  {
   "cell_type": "code",
   "execution_count": null,
   "metadata": {},
   "outputs": [],
   "source": []
  }
 ],
 "metadata": {
  "kernelspec": {
   "display_name": "Python 3",
   "language": "python",
   "name": "python3"
  },
  "language_info": {
   "codemirror_mode": {
    "name": "ipython",
    "version": 3
   },
   "file_extension": ".py",
   "mimetype": "text/x-python",
   "name": "python",
   "nbconvert_exporter": "python",
   "pygments_lexer": "ipython3",
   "version": "3.6.8"
  },
  "toc": {
   "base_numbering": 1,
   "nav_menu": {},
   "number_sections": true,
   "sideBar": true,
   "skip_h1_title": false,
   "title_cell": "Table of Contents",
   "title_sidebar": "Contents",
   "toc_cell": false,
   "toc_position": {},
   "toc_section_display": true,
   "toc_window_display": false
  }
 },
 "nbformat": 4,
 "nbformat_minor": 2
}
