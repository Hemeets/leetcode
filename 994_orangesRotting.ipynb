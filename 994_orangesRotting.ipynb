{
 "cells": [
  {
   "cell_type": "markdown",
   "metadata": {},
   "source": [
    "在给定的网格中，每个单元格可以有以下三个值之一：\n",
    "\n",
    "值 0 代表空单元格；\n",
    "值 1 代表新鲜橘子；\n",
    "值 2 代表腐烂的橘子。\n",
    "每分钟，任何与腐烂的橘子（在 4 个正方向上）相邻的新鲜橘子都会腐烂。\n",
    "\n",
    "返回直到单元格中没有新鲜橘子为止所必须经过的最小分钟数。如果不可能，返回 -1。\n",
    "\n",
    " \n",
    "\n",
    "示例 1：\n",
    "\n",
    "\n",
    "\n",
    "输入：[[2,1,1],[1,1,0],[0,1,1]]\n",
    "输出：4\n",
    "示例 2：\n",
    "\n",
    "输入：[[2,1,1],[0,1,1],[1,0,1]]\n",
    "输出：-1\n",
    "解释：左下角的橘子（第 2 行， 第 0 列）永远不会腐烂，因为腐烂只会发生在 4 个正向上。\n",
    "示例 3：\n",
    "\n",
    "输入：[[0,2]]\n",
    "输出：0\n",
    "解释：因为 0 分钟时已经没有新鲜橘子了，所以答案就是 0 。\n",
    " \n",
    "\n",
    "提示：\n",
    "\n",
    "1 <= grid.length <= 10\n",
    "1 <= grid[0].length <= 10\n",
    "grid[i][j] 仅为 0、1 或 2\n"
   ]
  },
  {
   "cell_type": "markdown",
   "metadata": {},
   "source": [
    "#### 广度优先搜索"
   ]
  },
  {
   "cell_type": "code",
   "execution_count": 17,
   "metadata": {},
   "outputs": [],
   "source": [
    "def orangesRotting(grid):\n",
    "    if sum([sum(i) for i in grid]) == 0:\n",
    "        #考虑没有橘子的情况，即都是0\n",
    "        return 0\n",
    "    cur = []\n",
    "    t = 0\n",
    "    rows = len(grid)\n",
    "    cols = len(grid[0])\n",
    "    for i in range(rows):\n",
    "        for j in range(cols):\n",
    "            if grid[i][j] == 2:\n",
    "                cur.append((i,j))\n",
    "    if not cur:\n",
    "        return -1\n",
    "    while cur:\n",
    "        print(cur)\n",
    "        tmp = []\n",
    "        for rot in cur:\n",
    "            r1, r2 = rot\n",
    "            if r1>0 and grid[r1-1][r2] == 1:\n",
    "                tmp.append((r1-1, r2))\n",
    "                grid[r1-1][r2] = 2\n",
    "            if r2>0 and grid[r1][r2-1] == 1:\n",
    "                tmp.append((r1, r2-1))\n",
    "                grid[r1][r2-1] = 2\n",
    "            if r1<rows-1 and grid[r1+1][r2] == 1:\n",
    "                tmp.append((r1+1, r2))\n",
    "                grid[r1+1][r2] = 2\n",
    "            if r2<cols-1 and grid[r1][r2+1] == 1:\n",
    "                tmp.append((r1, r2+1))\n",
    "                grid[r1][r2+1] = 2\n",
    "        cur = tmp\n",
    "        t += 1        \n",
    "    for i in range(rows):\n",
    "        for j in range(cols):\n",
    "            if grid[i][j] == 1:\n",
    "                return -1\n",
    "    return t-1     "
   ]
  },
  {
   "cell_type": "code",
   "execution_count": 18,
   "metadata": {},
   "outputs": [
    {
     "name": "stdout",
     "output_type": "stream",
     "text": [
      "[(0, 0)]\n",
      "[(1, 0), (0, 1)]\n",
      "[(1, 1), (0, 2)]\n",
      "[(2, 1)]\n",
      "[(2, 2)]\n",
      "4\n",
      "[(0, 0)]\n",
      "[(0, 1)]\n",
      "[(1, 1), (0, 2)]\n",
      "[(1, 2)]\n",
      "[(2, 2)]\n",
      "-1\n",
      "[(0, 1)]\n",
      "0\n"
     ]
    }
   ],
   "source": [
    "grid1 = [[2,1,1],[1,1,0],[0,1,1]]\n",
    "print(orangesRotting(grid1))\n",
    "grid2 = [[2,1,1],[0,1,1],[1,0,1]]\n",
    "print(orangesRotting(grid2))\n",
    "grid3 = [[0,2]] \n",
    "print(orangesRotting(grid3))"
   ]
  },
  {
   "cell_type": "code",
   "execution_count": 15,
   "metadata": {},
   "outputs": [
    {
     "data": {
      "text/plain": [
       "14"
      ]
     },
     "execution_count": 15,
     "metadata": {},
     "output_type": "execute_result"
    }
   ],
   "source": [
    "sum([sum(i) for i in grid1])"
   ]
  },
  {
   "cell_type": "code",
   "execution_count": null,
   "metadata": {},
   "outputs": [],
   "source": []
  }
 ],
 "metadata": {
  "kernelspec": {
   "display_name": "Python 3",
   "language": "python",
   "name": "python3"
  },
  "language_info": {
   "codemirror_mode": {
    "name": "ipython",
    "version": 3
   },
   "file_extension": ".py",
   "mimetype": "text/x-python",
   "name": "python",
   "nbconvert_exporter": "python",
   "pygments_lexer": "ipython3",
   "version": "3.7.3"
  },
  "toc": {
   "base_numbering": 1,
   "nav_menu": {},
   "number_sections": true,
   "sideBar": true,
   "skip_h1_title": false,
   "title_cell": "Table of Contents",
   "title_sidebar": "Contents",
   "toc_cell": false,
   "toc_position": {},
   "toc_section_display": true,
   "toc_window_display": false
  }
 },
 "nbformat": 4,
 "nbformat_minor": 2
}
