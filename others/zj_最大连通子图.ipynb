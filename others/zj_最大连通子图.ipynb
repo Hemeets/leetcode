{
 "cells": [
  {
   "attachments": {},
   "cell_type": "markdown",
   "metadata": {},
   "source": [
    "给定元素两两之间关系，求最大连通子图的个数（给定一些好友的关系，求这些好友关系中，存在多少个朋友圈？）"
   ]
  },
  {
   "cell_type": "code",
   "execution_count": 5,
   "metadata": {},
   "outputs": [
    {
     "name": "stdout",
     "output_type": "stream",
     "text": [
      "1\n"
     ]
    }
   ],
   "source": [
    "'''2022, zijie'''\n",
    "# 用并查集做\n",
    "from typing import List, Optional\n",
    "\n",
    "class UnionFind:\n",
    "    def __init__(self, nodes) -> None:\n",
    "        n = len(nodes)\n",
    "        self.count = 0\n",
    "        self.parent = [-1] * n\n",
    "        self.rank = [0] * n\n",
    "        for idx in range(n):\n",
    "            self.parent[idx] = idx\n",
    "            self.count += 1\n",
    "\n",
    "    def find(self, x):\n",
    "        if self.parent[x] != x:\n",
    "            self.parent[x] = self.find(self.parent[x])\n",
    "        return self.parent[x]\n",
    "\n",
    "    def union(self, x, y):\n",
    "        rootx = self.find(x)\n",
    "        rooty = self.find(y)\n",
    "        if rootx != rooty:\n",
    "            if self.rank[rootx] < self.rank[rooty]:  # 不妨设x的秩较大，y向x合并\n",
    "                rootx, rooty = rooty, rootx\n",
    "            self.parent[rooty] = rootx\n",
    "            if self.rank[rootx] == self.rank[rooty]:\n",
    "                self.rank[rootx] += 1\n",
    "            self.count -= 1\n",
    "\n",
    "    def get_count(self):\n",
    "        return self.count\n",
    "\n",
    "\n",
    "def get_circle_cnt(edges: List[List[int]]):\n",
    "    n = len(edges)\n",
    "    nodes = list(range(n))\n",
    "    uf = UnionFind(nodes)\n",
    "    for i_x in range(n):\n",
    "        for i_y in range(i_x + 1, n):\n",
    "            if edges[i_x][i_y] == 1:\n",
    "                uf.union(i_x, i_y)\n",
    "    return uf.get_count()\n",
    "\n",
    "\n",
    "edges = [\n",
    "    [1,1,0,0,1,0,0,0,0,0],\n",
    "    [0,1,1,1,0,0,0,0,0,0],\n",
    "    [0,0,1,0,0,0,0,0,0,0],\n",
    "    [0,0,0,1,0,0,0,0,0,0],\n",
    "    [0,0,0,0,1,0,0,0,0,0],\n",
    "    [0,0,0,0,0,1,1,0,0,0],\n",
    "    [0,0,0,0,0,0,1,1,0,0],\n",
    "    [0,0,0,0,0,0,0,1,0,0],\n",
    "    [0,0,0,0,0,0,0,0,1,1],\n",
    "    [0,0,0,0,0,0,0,0,0,1],\n",
    "]\n",
    "edges = [\n",
    "    [1,1,1,0],\n",
    "    [0,1,0,0],\n",
    "    [0,0,1,1],\n",
    "    [0,0,0,1]\n",
    "]\n",
    "print(get_circle_cnt(edges))"
   ]
  },
  {
   "cell_type": "code",
   "execution_count": null,
   "metadata": {},
   "outputs": [],
   "source": []
  }
 ],
 "metadata": {
  "kernelspec": {
   "display_name": "base",
   "language": "python",
   "name": "python3"
  },
  "language_info": {
   "codemirror_mode": {
    "name": "ipython",
    "version": 3
   },
   "file_extension": ".py",
   "mimetype": "text/x-python",
   "name": "python",
   "nbconvert_exporter": "python",
   "pygments_lexer": "ipython3",
   "version": "3.9.10"
  },
  "orig_nbformat": 4,
  "vscode": {
   "interpreter": {
    "hash": "3774638e36becc1b3be4f932a09ec02e29dc9d9fab753e191431a024cc1a4cff"
   }
  }
 },
 "nbformat": 4,
 "nbformat_minor": 2
}
