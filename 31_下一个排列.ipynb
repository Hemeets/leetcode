{
 "cells": [
  {
   "cell_type": "markdown",
   "metadata": {},
   "source": [
    "实现获取下一个排列的函数，算法需要将给定数字序列重新排列成字典序中下一个更大的排列。\n",
    "\n",
    "如果不存在下一个更大的排列，则将数字重新排列成最小的排列（即升序排列）。\n",
    "\n",
    "必须原地修改，只允许使用额外常数空间。\n",
    "\n",
    "以下是一些例子，输入位于左侧列，其相应输出位于右侧列。\n",
    "1,2,3 → 1,3,2\n",
    "\n",
    "3,2,1 → 1,2,3\n",
    "\n",
    "1,1,5 → 1,5,1\n",
    "\n",
    "来源：力扣（LeetCode）\n",
    "链接：https://leetcode-cn.com/problems/next-permutation\n",
    "著作权归领扣网络所有。商业转载请联系官方授权，非商业转载请注明出处。"
   ]
  },
  {
   "cell_type": "markdown",
   "metadata": {},
   "source": [
    "思路：从后至前找到第一个i，使得nums[i-1]<nums[i],然后把nums[i-1]换成i-1右边的比nums[i-1]大的最小的nums[j]，现在nums[i:]是逆序的，最后再把这部分倒转过来变成正序的就ok了！"
   ]
  },
  {
   "cell_type": "code",
   "execution_count": 12,
   "metadata": {},
   "outputs": [],
   "source": [
    "class Solution:\n",
    "    def nextPermutation(self, nums):\n",
    "        L = len(nums)\n",
    "        if L == 0 or L == 1:\n",
    "            return nums\n",
    "        for i in range(L-1, -1, -1):\n",
    "            if i == 0: # 不存在更大的排序\n",
    "                nums.reverse()\n",
    "                return nums\n",
    "            if nums[i-1] < nums[i]:\n",
    "                break\n",
    "                \n",
    "        for j in range(L-1, i-1, -1):\n",
    "            if nums[j] > nums[i-1]:\n",
    "                nums[i-1], nums[j] = nums[j], nums[i-1]\n",
    "                break\n",
    "            print(nums)\n",
    "        self.rev(nums, i, L-1)\n",
    "        return nums\n",
    "    def rev(self, nums, left, right):\n",
    "        while left < right:\n",
    "            nums[left], nums[right] = nums[right], nums[left]\n",
    "            left += 1\n",
    "            right -= 1          "
   ]
  },
  {
   "cell_type": "code",
   "execution_count": 13,
   "metadata": {},
   "outputs": [
    {
     "data": {
      "text/plain": [
       "[2, 1, 3]"
      ]
     },
     "execution_count": 13,
     "metadata": {},
     "output_type": "execute_result"
    }
   ],
   "source": [
    "nums = [1,3,2]\n",
    "Solution().nextPermutation(nums)\n"
   ]
  },
  {
   "cell_type": "code",
   "execution_count": null,
   "metadata": {},
   "outputs": [],
   "source": []
  }
 ],
 "metadata": {
  "kernelspec": {
   "display_name": "Python 3",
   "language": "python",
   "name": "python3"
  },
  "language_info": {
   "codemirror_mode": {
    "name": "ipython",
    "version": 3
   },
   "file_extension": ".py",
   "mimetype": "text/x-python",
   "name": "python",
   "nbconvert_exporter": "python",
   "pygments_lexer": "ipython3",
   "version": "3.7.3"
  }
 },
 "nbformat": 4,
 "nbformat_minor": 2
}
