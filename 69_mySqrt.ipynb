{
 "cells": [
  {
   "cell_type": "markdown",
   "metadata": {},
   "source": [
    "实现 int sqrt(int x) 函数。\n",
    "\n",
    "计算并返回 x 的平方根，其中 x 是非负整数。\n",
    "\n",
    "由于返回类型是整数，结果只保留整数的部分，小数部分将被舍去。\n",
    "\n",
    "示例 1:\n",
    "\n",
    "输入: 4\n",
    "输出: 2\n",
    "示例 2:\n",
    "\n",
    "输入: 8\n",
    "输出: 2\n",
    "说明: 8 的平方根是 2.82842..., \n",
    "     由于返回类型是整数，小数部分将被舍去。\n"
   ]
  },
  {
   "cell_type": "markdown",
   "metadata": {},
   "source": [
    "#### 暴力法很简单，这里不说了\n",
    "1. 分治法：其实就是个有序数列找特定位置，\n",
    "2. 牛顿法，用一阶taylar找零点带入逼近\n",
    "\n",
    "下面代码用分治法"
   ]
  },
  {
   "cell_type": "code",
   "execution_count": 23,
   "metadata": {},
   "outputs": [],
   "source": [
    "def mySqrt(x):\n",
    "    low, high = 0, x\n",
    "    while low <= high:\n",
    "        middle = (low+high)//2\n",
    "        if middle**2 < x:\n",
    "            low = middle + 1\n",
    "        elif middle**2 > x:\n",
    "            high = middle -1\n",
    "        else:\n",
    "            return middle\n",
    "        print(low, high)\n",
    "    return low - 1  "
   ]
  },
  {
   "cell_type": "code",
   "execution_count": 25,
   "metadata": {},
   "outputs": [
    {
     "name": "stdout",
     "output_type": "stream",
     "text": [
      "0 7\n",
      "4 7\n",
      "4 4\n"
     ]
    },
    {
     "data": {
      "text/plain": [
       "4"
      ]
     },
     "execution_count": 25,
     "metadata": {},
     "output_type": "execute_result"
    }
   ],
   "source": [
    "x = 16\n",
    "mySqrt(x)"
   ]
  },
  {
   "cell_type": "markdown",
   "metadata": {},
   "source": [
    "但是貌似这道题用分治法排名都进不了前50%，也许大家都是用牛顿法做的？"
   ]
  },
  {
   "cell_type": "code",
   "execution_count": 33,
   "metadata": {},
   "outputs": [],
   "source": [
    "def mySqrt1(x):\n",
    "    if x == 0:\n",
    "        return 0\n",
    "    # 起始的时候在 1 ，这可以比较随意设置\n",
    "    cur = 1\n",
    "    k = 0\n",
    "    while True:\n",
    "        pre = cur\n",
    "        cur = (cur + x / cur) / 2\n",
    "        k += 1\n",
    "        if abs(cur - pre) < 1/(pre+cur):\n",
    "            print(k)\n",
    "            return int(cur)"
   ]
  },
  {
   "cell_type": "code",
   "execution_count": 35,
   "metadata": {},
   "outputs": [
    {
     "name": "stdout",
     "output_type": "stream",
     "text": [
      "18\n"
     ]
    },
    {
     "data": {
      "text/plain": [
       "10000"
      ]
     },
     "execution_count": 35,
     "metadata": {},
     "output_type": "execute_result"
    }
   ],
   "source": [
    "x = 100000000\n",
    "mySqrt1(x)"
   ]
  },
  {
   "cell_type": "markdown",
   "metadata": {},
   "source": [
    "果然牛顿法会更快一些"
   ]
  },
  {
   "cell_type": "code",
   "execution_count": 38,
   "metadata": {},
   "outputs": [
    {
     "data": {
      "text/plain": [
       "262144"
      ]
     },
     "execution_count": 38,
     "metadata": {},
     "output_type": "execute_result"
    }
   ],
   "source": [
    "2**18"
   ]
  },
  {
   "cell_type": "code",
   "execution_count": null,
   "metadata": {},
   "outputs": [],
   "source": []
  }
 ],
 "metadata": {
  "kernelspec": {
   "display_name": "Python 3",
   "language": "python",
   "name": "python3"
  },
  "language_info": {
   "codemirror_mode": {
    "name": "ipython",
    "version": 3
   },
   "file_extension": ".py",
   "mimetype": "text/x-python",
   "name": "python",
   "nbconvert_exporter": "python",
   "pygments_lexer": "ipython3",
   "version": "3.6.8"
  },
  "toc": {
   "base_numbering": 1,
   "nav_menu": {},
   "number_sections": true,
   "sideBar": true,
   "skip_h1_title": false,
   "title_cell": "Table of Contents",
   "title_sidebar": "Contents",
   "toc_cell": false,
   "toc_position": {},
   "toc_section_display": true,
   "toc_window_display": false
  }
 },
 "nbformat": 4,
 "nbformat_minor": 2
}
