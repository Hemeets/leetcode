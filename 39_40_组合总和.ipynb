{
 "cells": [
  {
   "cell_type": "markdown",
   "metadata": {},
   "source": [
    "### 39-组合总和\n",
    "给定一个无重复元素的数组 candidates 和一个目标数 target ，找出 candidates 中所有可以使数字和为 target 的组合。\n",
    "\n",
    "candidates 中的数字可以无限制重复被选取。\n",
    "\n",
    "说明：\n",
    "\n",
    "所有数字（包括 target）都是正整数。\n",
    "解集不能包含重复的组合。 \n",
    "示例 1:\n",
    "\n",
    "输入: candidates = [2,3,6,7], target = 7,\n",
    "所求解集为:\n",
    "[\n",
    "  [7],\n",
    "  [2,2,3]\n",
    "]\n",
    "示例 2:\n",
    "\n",
    "输入: candidates = [2,3,5], target = 8,\n",
    "所求解集为:\n",
    "[\n",
    "  [2,2,2,2],\n",
    "  [2,3,3],\n",
    "  [3,5]\n",
    "]\n",
    "\n",
    "来源：力扣（LeetCode）\n",
    "链接：https://leetcode-cn.com/problems/combination-sum\n",
    "著作权归领扣网络所有。商业转载请联系官方授权，非商业转载请注明出处。"
   ]
  },
  {
   "cell_type": "code",
   "execution_count": 4,
   "metadata": {},
   "outputs": [],
   "source": [
    "class Solution:\n",
    "    def combinationSum(self, candidates, target):\n",
    "        candidates.sort()\n",
    "        n = len(candidates)\n",
    "        res = []\n",
    "        \n",
    "        def backtrack(i, tmp_sum, tmp_list):\n",
    "            if tmp_sum > target or i == n:\n",
    "                return \n",
    "            if tmp_sum == target:\n",
    "                res.append(tmp_list)\n",
    "                return\n",
    "            for j in range(i, n):\n",
    "                if candidates[j] + tmp_sum > target:\n",
    "                    break\n",
    "                backtrack(j, tmp_sum + candidates[j], tmp_list + [candidates[j]])\n",
    "        backtrack(0, 0, [])\n",
    "        return res\n",
    "                "
   ]
  },
  {
   "cell_type": "code",
   "execution_count": 3,
   "metadata": {},
   "outputs": [
    {
     "data": {
      "text/plain": [
       "[[2, 2, 2, 2], [2, 3, 3], [3, 5]]"
      ]
     },
     "execution_count": 3,
     "metadata": {},
     "output_type": "execute_result"
    }
   ],
   "source": [
    "candidates = [2,3,5]\n",
    "target = 8\n",
    "Solution().combinationSum(candidates, target)"
   ]
  },
  {
   "cell_type": "markdown",
   "metadata": {},
   "source": [
    "### 40_组合总和II\n",
    "给定一个数组 candidates 和一个目标数 target ，找出 candidates 中所有可以使数字和为 target 的组合。\n",
    "\n",
    "candidates 中的每个数字在每个组合中只能使用一次。\n",
    "\n",
    "说明：\n",
    "\n",
    "所有数字（包括目标数）都是正整数。\n",
    "解集不能包含重复的组合。 \n",
    "示例 1:\n",
    "\n",
    "输入: candidates = [10,1,2,7,6,1,5], target = 8,\n",
    "所求解集为:\n",
    "[\n",
    "  [1, 7],\n",
    "  [1, 2, 5],\n",
    "  [2, 6],\n",
    "  [1, 1, 6]\n",
    "]\n",
    "示例 2:\n",
    "\n",
    "输入: candidates = [2,5,2,1,2], target = 5,\n",
    "所求解集为:\n",
    "[\n",
    "  [1,2,2],\n",
    "  [5]\n",
    "]\n",
    "\n",
    "来源：力扣（LeetCode）\n",
    "链接：https://leetcode-cn.com/problems/combination-sum-ii\n",
    "著作权归领扣网络所有。商业转载请联系官方授权，非商业转载请注明出处。"
   ]
  },
  {
   "cell_type": "code",
   "execution_count": 23,
   "metadata": {},
   "outputs": [],
   "source": [
    "class Solution:\n",
    "    def combinationSum2(self, candidates, target):\n",
    "        if not candidates:\n",
    "            return []\n",
    "        candidates.sort()\n",
    "        n = len(candidates)\n",
    "        res = []\n",
    "        \n",
    "        def backtrack(i, tmp_sum, tmp_list):\n",
    "            if tmp_sum > target:\n",
    "                return\n",
    "            if tmp_sum == target:\n",
    "                res.append(tmp_list)\n",
    "                print(tmp_list)\n",
    "                return\n",
    "            for j in range(i, n):\n",
    "                if candidates[j] + tmp_sum > target:\n",
    "                    break\n",
    "                if j > i and candidates[j-1] == candidates[j]:\n",
    "                    continue\n",
    "                backtrack(j+1, tmp_sum + candidates[j], tmp_list + [candidates[j]])\n",
    "        \n",
    "        backtrack(0,0,[])\n",
    "        return res"
   ]
  },
  {
   "cell_type": "code",
   "execution_count": 24,
   "metadata": {},
   "outputs": [
    {
     "name": "stdout",
     "output_type": "stream",
     "text": [
      "[1, 1, 6]\n",
      "[1, 2, 5]\n",
      "[1, 7]\n",
      "[2, 6]\n"
     ]
    },
    {
     "data": {
      "text/plain": [
       "[[1, 1, 6], [1, 2, 5], [1, 7], [2, 6]]"
      ]
     },
     "execution_count": 24,
     "metadata": {},
     "output_type": "execute_result"
    }
   ],
   "source": [
    "candidates = [10,1,2,7,6,1,5]\n",
    "target = 8\n",
    "Solution().combinationSum2(candidates, target)"
   ]
  },
  {
   "cell_type": "code",
   "execution_count": null,
   "metadata": {},
   "outputs": [],
   "source": []
  }
 ],
 "metadata": {
  "kernelspec": {
   "display_name": "Python 3",
   "language": "python",
   "name": "python3"
  },
  "language_info": {
   "codemirror_mode": {
    "name": "ipython",
    "version": 3
   },
   "file_extension": ".py",
   "mimetype": "text/x-python",
   "name": "python",
   "nbconvert_exporter": "python",
   "pygments_lexer": "ipython3",
   "version": "3.6.8"
  },
  "toc": {
   "base_numbering": 1,
   "nav_menu": {},
   "number_sections": true,
   "sideBar": true,
   "skip_h1_title": false,
   "title_cell": "Table of Contents",
   "title_sidebar": "Contents",
   "toc_cell": false,
   "toc_position": {},
   "toc_section_display": true,
   "toc_window_display": false
  }
 },
 "nbformat": 4,
 "nbformat_minor": 2
}
