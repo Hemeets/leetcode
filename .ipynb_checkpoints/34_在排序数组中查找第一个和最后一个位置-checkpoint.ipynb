{
 "cells": [
  {
   "cell_type": "markdown",
   "metadata": {},
   "source": [
    "给定一个按照升序排列的整数数组 nums，和一个目标值 target。找出给定目标值在数组中的开始位置和结束位置。\n",
    "\n",
    "你的算法时间复杂度必须是 O(log n) 级别。\n",
    "\n",
    "如果数组中不存在目标值，返回 [-1, -1]。\n",
    "\n",
    "示例 1:\n",
    "\n",
    "输入: nums = [5,7,7,8,8,10], target = 8\n",
    "输出: [3,4]\n",
    "示例 2:\n",
    "\n",
    "输入: nums = [5,7,7,8,8,10], target = 6\n",
    "输出: [-1,-1]\n",
    "\n",
    "来源：力扣（LeetCode）\n",
    "链接：https://leetcode-cn.com/problems/find-first-and-last-position-of-element-in-sorted-array\n",
    "著作权归领扣网络所有。商业转载请联系官方授权，非商业转载请注明出处。"
   ]
  },
  {
   "cell_type": "code",
   "execution_count": 1,
   "metadata": {},
   "outputs": [],
   "source": [
    "def searchRange(nums, target):\n",
    "    # 要找左边的点，要义是high等于target了也得把high左移，而且要high=mid而不是mid-1（这样可能导致漏掉了）\n",
    "    # 右边的点则相反，\n",
    "    # 怎么把这两种情况统一到一起值得考虑，官方答案写的很好\n",
    "    left = divided_search(nums, target, True)\n",
    "    if left == len(nums) or nums[left] != target:\n",
    "        return [-1, -1]\n",
    "    right = divided_search(nums, target, False) # 左边找到了，右边一点能找到！\n",
    "    return [left, right - 1]\n",
    "\n",
    "def divided_search(nums, target, left):\n",
    "    l, h = 0, len(nums) # 注意这里的h不是L-1而是L\n",
    "    while l < h:\n",
    "        m = (l + h) // 2\n",
    "        if nums[m] > target or (left and nums[m] == target):\n",
    "            h = m\n",
    "        else:\n",
    "            l = m + 1\n",
    "    return l # 注意return是l"
   ]
  },
  {
   "cell_type": "code",
   "execution_count": null,
   "metadata": {},
   "outputs": [],
   "source": []
  }
 ],
 "metadata": {
  "kernelspec": {
   "display_name": "Python 3",
   "language": "python",
   "name": "python3"
  },
  "language_info": {
   "codemirror_mode": {
    "name": "ipython",
    "version": 3
   },
   "file_extension": ".py",
   "mimetype": "text/x-python",
   "name": "python",
   "nbconvert_exporter": "python",
   "pygments_lexer": "ipython3",
   "version": "3.6.8"
  },
  "toc": {
   "base_numbering": 1,
   "nav_menu": {},
   "number_sections": true,
   "sideBar": true,
   "skip_h1_title": false,
   "title_cell": "Table of Contents",
   "title_sidebar": "Contents",
   "toc_cell": false,
   "toc_position": {},
   "toc_section_display": true,
   "toc_window_display": false
  }
 },
 "nbformat": 4,
 "nbformat_minor": 2
}
