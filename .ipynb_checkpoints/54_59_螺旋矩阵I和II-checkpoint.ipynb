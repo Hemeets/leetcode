{
 "cells": [
  {
   "cell_type": "markdown",
   "metadata": {},
   "source": [
    "给定一个包含 m x n 个元素的矩阵（m 行, n 列），请按照顺时针螺旋顺序，返回矩阵中的所有元素。\n",
    "\n",
    "示例 1:\n",
    "\n",
    "输入:\n",
    "[\n",
    " [ 1, 2, 3 ],\n",
    "\n",
    "[ 4, 5, 6 ],\n",
    "\n",
    "[ 7, 8, 9 ]\n",
    "]\n",
    "\n",
    "输出: [1,2,3,6,9,8,7,4,5]\n",
    "示例 2:\n",
    "\n",
    "输入:\n",
    "[\n",
    "  [1, 2, 3, 4],\n",
    "\n",
    "[5, 6, 7, 8],\n",
    " \n",
    " [9,10,11,12]\n",
    "]\n",
    "\n",
    "输出: [1,2,3,4,8,12,11,10,9,5,6,7]\n",
    "\n",
    "来源：力扣（LeetCode）\n",
    "链接：https://leetcode-cn.com/problems/spiral-matrix\n",
    "著作权归领扣网络所有。商业转载请联系官方授权，非商业转载请注明出处。"
   ]
  },
  {
   "cell_type": "code",
   "execution_count": 9,
   "metadata": {},
   "outputs": [],
   "source": [
    "def spiralOrder(matrix):\n",
    "    # 整体要考虑的太多就一层一层的来，思维不能僵化\n",
    "    try:\n",
    "        m = len(matrix)\n",
    "        n = len(matrix[0])\n",
    "    except:\n",
    "        return []\n",
    "    res = []\n",
    "    r1, c1, r2, c2 = 0, 0, m-1, n-1\n",
    "    def spiral_coords(r1, c1, r2, c2):\n",
    "        for c in range(c1, c2+1):\n",
    "            yield r1, c\n",
    "        for r in range(r1+1, r2+1):\n",
    "            yield r, c2\n",
    "        if r1 < r2 and c1 < c2:\n",
    "            for c in range(c2-1, c1, -1):\n",
    "                yield r2, c\n",
    "            for r in range(r2, r1, -1):\n",
    "                yield r, c1\n",
    "    while r1 <= r2 and c1 <= c2:\n",
    "        for r, c in spiral_coords(r1, c1, r2, c2):\n",
    "            res.append(matrix[r][c])\n",
    "        r1 += 1\n",
    "        c1 += 1\n",
    "        r2 -= 1\n",
    "        c2 -= 1\n",
    "    return res\n"
   ]
  },
  {
   "cell_type": "code",
   "execution_count": 10,
   "metadata": {},
   "outputs": [
    {
     "data": {
      "text/plain": [
       "[1, 2, 3, 4, 8, 12, 11, 10, 9, 5, 6, 7]"
      ]
     },
     "execution_count": 10,
     "metadata": {},
     "output_type": "execute_result"
    }
   ],
   "source": [
    "matrix =  [ [1, 2, 3, 4],\n",
    "[5, 6, 7, 8],\n",
    "[9,10,11,12] ]\n",
    "spiralOrder(matrix)"
   ]
  },
  {
   "cell_type": "code",
   "execution_count": null,
   "metadata": {},
   "outputs": [],
   "source": []
  }
 ],
 "metadata": {
  "kernelspec": {
   "display_name": "Python 3",
   "language": "python",
   "name": "python3"
  },
  "language_info": {
   "codemirror_mode": {
    "name": "ipython",
    "version": 3
   },
   "file_extension": ".py",
   "mimetype": "text/x-python",
   "name": "python",
   "nbconvert_exporter": "python",
   "pygments_lexer": "ipython3",
   "version": "3.6.8"
  },
  "toc": {
   "base_numbering": 1,
   "nav_menu": {},
   "number_sections": true,
   "sideBar": true,
   "skip_h1_title": false,
   "title_cell": "Table of Contents",
   "title_sidebar": "Contents",
   "toc_cell": false,
   "toc_position": {},
   "toc_section_display": true,
   "toc_window_display": false
  }
 },
 "nbformat": 4,
 "nbformat_minor": 2
}
