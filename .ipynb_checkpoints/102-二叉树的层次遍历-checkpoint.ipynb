{
 "cells": [
  {
   "cell_type": "markdown",
   "metadata": {},
   "source": [
    "给定一个二叉树，返回其按层次遍历的节点值。 （即逐层地，从左到右访问所有节点）。\n",
    "\n",
    "例如:\n",
    "给定二叉树: [3,9,20,null,null,15,7],\n",
    "\n",
    "        3\n",
    "       / \\\n",
    "      9  20\n",
    "      /  \\\n",
    "     15   7\n",
    "返回其层次遍历结果：\n",
    "\n",
    "[\n",
    "  [3],\n",
    "  [9,20],\n",
    "  [15,7]\n",
    "]\n",
    "\n",
    "来源：力扣（LeetCode）\n",
    "链接：https://leetcode-cn.com/problems/binary-tree-level-order-traversal\n",
    "著作权归领扣网络所有。商业转载请联系官方授权，非商业转载请注明出处。"
   ]
  },
  {
   "cell_type": "code",
   "execution_count": 1,
   "metadata": {},
   "outputs": [],
   "source": [
    "def levelOrder(root):\n",
    "    if not root:\n",
    "        return []\n",
    "    cur = []\n",
    "    res = []\n",
    "    cur.append(root)\n",
    "    while cur:\n",
    "        tmp = []\n",
    "        res_tmp = []\n",
    "        for c in cur:\n",
    "            res_tmp.append(c.val)\n",
    "            if c.left:\n",
    "                tmp.append(c.left)\n",
    "            if c.right:\n",
    "                tmp.append(c.right)      \n",
    "        cur = tmp\n",
    "        res.append(res_tmp)\n",
    "    return res\n",
    "        \n",
    "    "
   ]
  },
  {
   "cell_type": "code",
   "execution_count": null,
   "metadata": {},
   "outputs": [],
   "source": []
  }
 ],
 "metadata": {
  "kernelspec": {
   "display_name": "Python 3",
   "language": "python",
   "name": "python3"
  },
  "language_info": {
   "codemirror_mode": {
    "name": "ipython",
    "version": 3
   },
   "file_extension": ".py",
   "mimetype": "text/x-python",
   "name": "python",
   "nbconvert_exporter": "python",
   "pygments_lexer": "ipython3",
   "version": "3.6.8"
  },
  "toc": {
   "base_numbering": 1,
   "nav_menu": {},
   "number_sections": true,
   "sideBar": true,
   "skip_h1_title": false,
   "title_cell": "Table of Contents",
   "title_sidebar": "Contents",
   "toc_cell": false,
   "toc_position": {},
   "toc_section_display": true,
   "toc_window_display": false
  }
 },
 "nbformat": 4,
 "nbformat_minor": 2
}
