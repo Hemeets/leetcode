{
 "cells": [
  {
   "cell_type": "markdown",
   "metadata": {},
   "source": [
    "给定一棵二叉树，想象自己站在它的右侧，按照从顶部到底部的顺序，返回从右侧所能看到的节点值。\n",
    "\n",
    "示例:\n",
    "\n",
    "输入: [1,2,3,null,5,null,4]\n",
    "输出: [1, 3, 4]\n",
    "解释:\n",
    "\n",
    "       1            <---\n",
    "     /   \\\n",
    "    2     3         <---\n",
    "    \\     \\\n",
    "     5     4       <---\n",
    "\n",
    "来源：力扣（LeetCode）\n",
    "链接：https://leetcode-cn.com/problems/binary-tree-right-side-view\n",
    "著作权归领扣网络所有。商业转载请联系官方授权，非商业转载请注明出处。"
   ]
  },
  {
   "cell_type": "code",
   "execution_count": 1,
   "metadata": {},
   "outputs": [],
   "source": [
    "class TreeNode:\n",
    "    def __init__(self, x):\n",
    "        self.val = x\n",
    "        self.left = None\n",
    "        self.right = None\n",
    "\n",
    "def rightSideView(root):\n",
    "    # 考虑用队列\n",
    "    if not root:\n",
    "        return []\n",
    "    cur = []\n",
    "    out = []\n",
    "    cur.append(root)\n",
    "    while cur:\n",
    "        out.append(cur[0].val)\n",
    "        tmp = []\n",
    "        for c in cur:\n",
    "            if c.right:\n",
    "                tmp.append(c.right)\n",
    "            if c.left:\n",
    "                tmp.append(c.left)\n",
    "        cur = tmp\n",
    "    return out  "
   ]
  },
  {
   "cell_type": "code",
   "execution_count": null,
   "metadata": {},
   "outputs": [],
   "source": []
  }
 ],
 "metadata": {
  "kernelspec": {
   "display_name": "Python 3",
   "language": "python",
   "name": "python3"
  },
  "language_info": {
   "codemirror_mode": {
    "name": "ipython",
    "version": 3
   },
   "file_extension": ".py",
   "mimetype": "text/x-python",
   "name": "python",
   "nbconvert_exporter": "python",
   "pygments_lexer": "ipython3",
   "version": "3.6.8"
  },
  "toc": {
   "base_numbering": 1,
   "nav_menu": {},
   "number_sections": true,
   "sideBar": true,
   "skip_h1_title": false,
   "title_cell": "Table of Contents",
   "title_sidebar": "Contents",
   "toc_cell": false,
   "toc_position": {},
   "toc_section_display": true,
   "toc_window_display": false
  }
 },
 "nbformat": 4,
 "nbformat_minor": 2
}
