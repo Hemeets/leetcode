{
 "cells": [
  {
   "cell_type": "markdown",
   "metadata": {},
   "source": [
    "给定一个二叉树，判断其是否是一个有效的二叉搜索树。\n",
    "\n",
    "假设一个二叉搜索树具有如下特征：\n",
    "\n",
    "节点的左子树只包含小于当前节点的数。\n",
    "节点的右子树只包含大于当前节点的数。\n",
    "所有左子树和右子树自身必须也是二叉搜索树。\n",
    "示例 1:\n",
    "\n",
    "输入:\n",
    "\n",
    "        2\n",
    "       / \\\n",
    "      1   3\n",
    "\n",
    "输出: true\n",
    "示例 2:\n",
    "\n",
    "输入:\n",
    "\n",
    "        5\n",
    "       / \\\n",
    "      1   4\n",
    "         / \\\n",
    "        3   6\n",
    "输出: false\n",
    "解释: 输入为: [5,1,4,null,null,3,6]。\n",
    "     根节点的值为 5 ，但是其右子节点值为 4 。\n",
    "\n",
    "来源：力扣（LeetCode）\n",
    "链接：https://leetcode-cn.com/problems/validate-binary-search-tree\n",
    "著作权归领扣网络所有。商业转载请联系官方授权，非商业转载请注明出处。"
   ]
  },
  {
   "cell_type": "code",
   "execution_count": 14,
   "metadata": {},
   "outputs": [],
   "source": [
    "class TreeNode:\n",
    "    def __init__(self, x):\n",
    "        self.val = x\n",
    "        self.left = None\n",
    "        self.right = None\n",
    "     \n",
    "# 想法1：利用中序遍历\n",
    "def isValidBST(root):\n",
    "    stack = []\n",
    "    p = root\n",
    "    pre_val = -float('inf')\n",
    "    while p or stack:\n",
    "        while p:\n",
    "            stack.append(p)\n",
    "            p = p.left\n",
    "        p = stack.pop()\n",
    "        if p.val <= pre_val:\n",
    "            return False\n",
    "        pre_val = p.val\n",
    "        p = p.right\n",
    "    return True\n",
    "\n",
    "# 想法2：递归\n",
    "def isValidBST1(root):\n",
    "    pre_val = -float('inf')\n",
    "    def BST(root):\n",
    "        nonlocal pre_val\n",
    "        if not root:\n",
    "            return True\n",
    "        if not BST(root.left):\n",
    "            return False\n",
    "        if root.val <= pre_val:\n",
    "            return False\n",
    "        pre_val = root.val\n",
    "        if not BST(root.right):\n",
    "            return False\n",
    "        return True\n",
    "    return BST(root)\n",
    "\n"
   ]
  },
  {
   "cell_type": "code",
   "execution_count": 8,
   "metadata": {},
   "outputs": [],
   "source": [
    "# 另：函数闭包示范，nonlocal\n",
    "def counter():\n",
    "    c = 0\n",
    "    def inc():\n",
    "        nonlocal c\n",
    "        c += 1\n",
    "        return c\n",
    "    return inc"
   ]
  },
  {
   "cell_type": "code",
   "execution_count": 10,
   "metadata": {},
   "outputs": [
    {
     "name": "stdout",
     "output_type": "stream",
     "text": [
      "1 2\n",
      "3\n"
     ]
    }
   ],
   "source": [
    "foo = counter()\n",
    "print(foo(),foo())\n",
    "c = 100\n",
    "print(foo())"
   ]
  },
  {
   "cell_type": "code",
   "execution_count": null,
   "metadata": {},
   "outputs": [],
   "source": []
  }
 ],
 "metadata": {
  "kernelspec": {
   "display_name": "Python 3",
   "language": "python",
   "name": "python3"
  },
  "language_info": {
   "codemirror_mode": {
    "name": "ipython",
    "version": 3
   },
   "file_extension": ".py",
   "mimetype": "text/x-python",
   "name": "python",
   "nbconvert_exporter": "python",
   "pygments_lexer": "ipython3",
   "version": "3.6.8"
  },
  "toc": {
   "base_numbering": 1,
   "nav_menu": {},
   "number_sections": true,
   "sideBar": true,
   "skip_h1_title": false,
   "title_cell": "Table of Contents",
   "title_sidebar": "Contents",
   "toc_cell": false,
   "toc_position": {},
   "toc_section_display": true,
   "toc_window_display": false
  }
 },
 "nbformat": 4,
 "nbformat_minor": 2
}
