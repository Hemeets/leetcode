{
 "cells": [
  {
   "cell_type": "markdown",
   "metadata": {},
   "source": [
    "翻转一棵二叉树。\n",
    "\n",
    "示例：\n",
    "\n",
    "输入：\n",
    "\n",
    "         4\n",
    "       /   \\\n",
    "      2     7\n",
    "     / \\   / \\\n",
    "    1   3 6   9\n",
    "输出：\n",
    "\n",
    "          4\n",
    "        /   \\\n",
    "       7     2\n",
    "      / \\   / \\\n",
    "     9   6 3   1\n"
   ]
  },
  {
   "cell_type": "code",
   "execution_count": 1,
   "metadata": {},
   "outputs": [],
   "source": [
    "class TreeNode:\n",
    "    def __init__(self, x):\n",
    "        self.val = x\n",
    "        self.left = None\n",
    "        self.right = None"
   ]
  },
  {
   "cell_type": "code",
   "execution_count": 2,
   "metadata": {},
   "outputs": [],
   "source": [
    "def invertTree(root):\n",
    "    # 法1：递归\n",
    "    if not root:\n",
    "        return None\n",
    "    tmp = root.right\n",
    "    root.right = invertTree(root.left)\n",
    "    root.left = invertTree(tmp)\n",
    "    return root"
   ]
  },
  {
   "cell_type": "code",
   "execution_count": 4,
   "metadata": {},
   "outputs": [],
   "source": [
    "def invertT(root):\n",
    "    # 法2：广度breadth优先检索\n",
    "    if not root:\n",
    "        return None\n",
    "    queue = [root]\n",
    "    \n",
    "    while queue:\n",
    "        tmp = []\n",
    "        for q in queue:\n",
    "            left = q.left\n",
    "            right = q.right\n",
    "            q.left = right\n",
    "            q.right = left\n",
    "            if q.left:\n",
    "                tmp.append(q.left)\n",
    "            if q.right:\n",
    "                tmp.append(q.right)\n",
    "        queue = tmp\n",
    "    return root"
   ]
  },
  {
   "cell_type": "code",
   "execution_count": null,
   "metadata": {},
   "outputs": [],
   "source": []
  }
 ],
 "metadata": {
  "kernelspec": {
   "display_name": "Python 3",
   "language": "python",
   "name": "python3"
  },
  "language_info": {
   "codemirror_mode": {
    "name": "ipython",
    "version": 3
   },
   "file_extension": ".py",
   "mimetype": "text/x-python",
   "name": "python",
   "nbconvert_exporter": "python",
   "pygments_lexer": "ipython3",
   "version": "3.6.8"
  },
  "toc": {
   "base_numbering": 1,
   "nav_menu": {},
   "number_sections": true,
   "sideBar": true,
   "skip_h1_title": false,
   "title_cell": "Table of Contents",
   "title_sidebar": "Contents",
   "toc_cell": false,
   "toc_position": {},
   "toc_section_display": true,
   "toc_window_display": false
  }
 },
 "nbformat": 4,
 "nbformat_minor": 2
}
