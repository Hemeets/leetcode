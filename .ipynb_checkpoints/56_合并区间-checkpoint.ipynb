{
 "cells": [
  {
   "cell_type": "markdown",
   "metadata": {},
   "source": [
    "给出一个区间的集合，请合并所有重叠的区间。\n",
    "\n",
    "示例 1:\n",
    "\n",
    "输入: [[1,3],[2,6],[8,10],[15,18]]\n",
    "输出: [[1,6],[8,10],[15,18]]\n",
    "解释: 区间 [1,3] 和 [2,6] 重叠, 将它们合并为 [1,6].\n",
    "示例 2:\n",
    "\n",
    "输入: [[1,4],[4,5]]\n",
    "输出: [[1,5]]\n",
    "解释: 区间 [1,4] 和 [4,5] 可被视为重叠区间。\n",
    "\n",
    "来源：力扣（LeetCode）\n",
    "链接：https://leetcode-cn.com/problems/merge-intervals\n",
    "著作权归领扣网络所有。商业转载请联系官方授权，非商业转载请注明出处。"
   ]
  },
  {
   "cell_type": "code",
   "execution_count": 9,
   "metadata": {},
   "outputs": [],
   "source": [
    "# 想法，先排序，再考虑\n",
    "\n",
    "def merge(intervals):\n",
    "    try: \n",
    "        L = len(intervals)\n",
    "        ll = len(intervals[0])\n",
    "    except:\n",
    "        return intervals\n",
    "    \n",
    "    intervals.sort(key=lambda x: x[0])\n",
    "    merged = list()\n",
    "    \n",
    "    start, end = intervals[0]\n",
    "    L = len(intervals)\n",
    "    \n",
    "    for i in range(1, L):\n",
    "        \n",
    "        if intervals[i][0] > end:\n",
    "            merged.append([start, end])\n",
    "            start, end = intervals[i]\n",
    "        else:\n",
    "            end = max(end, intervals[i][1]) # 注意这里的max\n",
    "    merged.append([start, end])\n",
    "    return merged\n",
    "            \n",
    "    \n",
    "        \n",
    "        "
   ]
  },
  {
   "cell_type": "code",
   "execution_count": 11,
   "metadata": {},
   "outputs": [
    {
     "data": {
      "text/plain": [
       "[[1, 6]]"
      ]
     },
     "execution_count": 11,
     "metadata": {},
     "output_type": "execute_result"
    }
   ],
   "source": [
    "intervals = [[1,3],[2,6],[8,10],[15,18]]\n",
    "intervals2 = [[1,4],[4,6]]\n",
    "merge(intervals2)"
   ]
  },
  {
   "cell_type": "code",
   "execution_count": 3,
   "metadata": {},
   "outputs": [
    {
     "data": {
      "text/plain": [
       "[[1, 2], [2, 8], [4, 6]]"
      ]
     },
     "execution_count": 3,
     "metadata": {},
     "output_type": "execute_result"
    }
   ],
   "source": [
    "a"
   ]
  },
  {
   "cell_type": "code",
   "execution_count": 6,
   "metadata": {},
   "outputs": [],
   "source": [
    "s,e=[1,2]"
   ]
  },
  {
   "cell_type": "code",
   "execution_count": 7,
   "metadata": {},
   "outputs": [
    {
     "data": {
      "text/plain": [
       "1"
      ]
     },
     "execution_count": 7,
     "metadata": {},
     "output_type": "execute_result"
    }
   ],
   "source": [
    "s"
   ]
  },
  {
   "cell_type": "code",
   "execution_count": 8,
   "metadata": {},
   "outputs": [
    {
     "data": {
      "text/plain": [
       "2"
      ]
     },
     "execution_count": 8,
     "metadata": {},
     "output_type": "execute_result"
    }
   ],
   "source": [
    "e"
   ]
  },
  {
   "cell_type": "code",
   "execution_count": null,
   "metadata": {},
   "outputs": [],
   "source": []
  }
 ],
 "metadata": {
  "kernelspec": {
   "display_name": "Python 3",
   "language": "python",
   "name": "python3"
  },
  "language_info": {
   "codemirror_mode": {
    "name": "ipython",
    "version": 3
   },
   "file_extension": ".py",
   "mimetype": "text/x-python",
   "name": "python",
   "nbconvert_exporter": "python",
   "pygments_lexer": "ipython3",
   "version": "3.6.8"
  },
  "toc": {
   "base_numbering": 1,
   "nav_menu": {},
   "number_sections": true,
   "sideBar": true,
   "skip_h1_title": false,
   "title_cell": "Table of Contents",
   "title_sidebar": "Contents",
   "toc_cell": false,
   "toc_position": {},
   "toc_section_display": true,
   "toc_window_display": false
  }
 },
 "nbformat": 4,
 "nbformat_minor": 2
}
