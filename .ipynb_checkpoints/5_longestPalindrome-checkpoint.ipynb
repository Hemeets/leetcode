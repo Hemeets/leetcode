{
 "cells": [
  {
   "cell_type": "markdown",
   "metadata": {},
   "source": [
    "### 最长回文子串\n",
    "给定一个字符串 s，找到 s 中最长的回文子串。你可以假设 s 的最大长度为 1000。\n",
    "\n",
    "示例 1：\n",
    "\n",
    "输入: \"babad\"\n",
    "输出: \"bab\"\n",
    "注意: \"aba\" 也是一个有效答案。\n",
    "\n",
    "示例 2：\n",
    "\n",
    "输入: \"cbbd\"\n",
    "输出: \"bb\""
   ]
  },
  {
   "cell_type": "markdown",
   "metadata": {},
   "source": [
    "#### 暴力法\n",
    "很明显，暴力法将选出所有子字符串可能的开始和结束位置，并检验它是不是回文。\n",
    "\n",
    "复杂度分析\n",
    "\n",
    "时间复杂度：O(n^3)\n",
    " )，假设 n 是输入字符串的长度，则n(n-1)/2 \n",
    "  为此类子字符串(不包括字符本身是回文的一般解法)的总数。因为验证每个子字符串需要 O(n)的时间，所以运行时间复杂度是 O(n^3)\n",
    " )。\n",
    "\n",
    "空间复杂度：O(1)\n",
    "\n",
    "这里不写这种方法的代码了"
   ]
  },
  {
   "cell_type": "markdown",
   "metadata": {},
   "source": [
    "#### 中心扩散\n",
    "以某个中心向两侧扩散，看能扩散多远，扩散耗费时间n，最多2n-1个中心（why 2n-1 ？\n",
    "因为偶数个回文串中心在两个索引中间，故奇数n，偶数n-1，加起来是2n-1），所以时间复杂度为\n",
    "$O(n^2)$, 空间复杂度$O(1)$"
   ]
  },
  {
   "cell_type": "code",
   "execution_count": 45,
   "metadata": {},
   "outputs": [],
   "source": [
    "#写个函数来判断是否回文,以及回文子串和长度\n",
    "def center_spread(s, size, i, j): #这里size完全可以不传入，但是这里是为了减少计算次数\n",
    "    while i >= 0 and j < size:\n",
    "#         print(i, j)\n",
    "        if s[i] == s[j]:\n",
    "            i -= 1\n",
    "            j += 1\n",
    "        else:\n",
    "            break\n",
    "    return s[i+1:j], j - i - 1\n",
    "def longestP(s):\n",
    "    size = len(s)\n",
    "    if size==0:\n",
    "        return \"\"\n",
    "    max_sub = s[0]\n",
    "    max_sub_len = 1\n",
    "    for i in range(size):\n",
    "        cur_sub_1, cur_sub_len_1 = center_spread(s, size, i, i)\n",
    "        cur_sub_2, cur_sub_len_2 = center_spread(s, size, i ,i+1)\n",
    "        if cur_sub_len_1 > cur_sub_len_2:\n",
    "            cur_sub = cur_sub_1\n",
    "            cur_sub_len = cur_sub_len_1\n",
    "        else:\n",
    "            cur_sub = cur_sub_2\n",
    "            cur_sub_len = cur_sub_len_2\n",
    "\n",
    "        if cur_sub_len > max_sub_len:\n",
    "            max_sub = cur_sub\n",
    "            max_sub_len = cur_sub_len\n",
    "    return max_sub"
   ]
  },
  {
   "cell_type": "code",
   "execution_count": 46,
   "metadata": {},
   "outputs": [
    {
     "name": "stdout",
     "output_type": "stream",
     "text": [
      "dabad\n"
     ]
    }
   ],
   "source": [
    "ss = \"ababcdabadaa\""
   ]
  },
  {
   "cell_type": "code",
   "execution_count": 47,
   "metadata": {},
   "outputs": [
    {
     "data": {
      "text/plain": [
       "'dabad'"
      ]
     },
     "execution_count": 47,
     "metadata": {},
     "output_type": "execute_result"
    }
   ],
   "source": [
    "longestP(ss)"
   ]
  },
  {
   "cell_type": "markdown",
   "metadata": {},
   "source": [
    "#### 动态规划\n"
   ]
  }
 ],
 "metadata": {
  "kernelspec": {
   "display_name": "Python 3",
   "language": "python",
   "name": "python3"
  },
  "language_info": {
   "codemirror_mode": {
    "name": "ipython",
    "version": 3
   },
   "file_extension": ".py",
   "mimetype": "text/x-python",
   "name": "python",
   "nbconvert_exporter": "python",
   "pygments_lexer": "ipython3",
   "version": "3.6.8"
  },
  "toc": {
   "base_numbering": 1,
   "nav_menu": {},
   "number_sections": true,
   "sideBar": true,
   "skip_h1_title": false,
   "title_cell": "Table of Contents",
   "title_sidebar": "Contents",
   "toc_cell": false,
   "toc_position": {},
   "toc_section_display": true,
   "toc_window_display": false
  }
 },
 "nbformat": 4,
 "nbformat_minor": 2
}
