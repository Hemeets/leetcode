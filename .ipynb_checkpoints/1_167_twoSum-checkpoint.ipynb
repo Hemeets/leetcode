{
 "cells": [
  {
   "cell_type": "markdown",
   "metadata": {},
   "source": [
    "### 两数之和\n",
    "给定一个整数数组 nums 和一个目标值 target，请你在该数组中找出和为目标值的那 两个 整数，并返回他们的数组下标。\n",
    "\n",
    "你可以假设每种输入只会对应一个答案。但是，你不能重复利用这个数组中同样的元素。\n",
    "\n",
    "示例:\n",
    "\n",
    "给定 nums = [2, 7, 11, 15], target = 9\n",
    "\n",
    "因为 nums[0] + nums[1] = 2 + 7 = 9\n",
    "所以返回 [0, 1]"
   ]
  },
  {
   "cell_type": "markdown",
   "metadata": {},
   "source": [
    "#### 最直接的方法，时间复杂度为$O(n^2)$"
   ]
  },
  {
   "cell_type": "code",
   "execution_count": 7,
   "metadata": {},
   "outputs": [],
   "source": [
    "def twoSum1(nums, target):\n",
    "    for i in range(len(nums)):\n",
    "        for j in range(i + 1, len(nums)):\n",
    "            if nums[i] + nums[j] == target:\n",
    "                return [i, j]"
   ]
  },
  {
   "cell_type": "markdown",
   "metadata": {},
   "source": [
    "#### hash表 空间复杂度换取时间复杂度，空间复杂度$O(n)$，时间复杂度$O(n)$"
   ]
  },
  {
   "cell_type": "code",
   "execution_count": 9,
   "metadata": {},
   "outputs": [],
   "source": [
    "def twoSum2(nums, target):\n",
    "    hashtable = {}\n",
    "    for i,num in enumerate(nums):\n",
    "        if num in hashtable:\n",
    "            return [hashtable[num], i]\n",
    "        hashtable[target - num] = i"
   ]
  },
  {
   "cell_type": "markdown",
   "metadata": {},
   "source": [
    "#### 先排序再查找，$T=O(nlogn)$"
   ]
  },
  {
   "cell_type": "code",
   "execution_count": 21,
   "metadata": {},
   "outputs": [],
   "source": [
    "def twoSum3(nums, target):\n",
    "    \"\"\"\n",
    "    :type nums: List[int]\n",
    "    :type target: int\n",
    "    :rtype: List[int]\n",
    "    \"\"\"\n",
    "    L = len(nums)\n",
    "    sorted_id = sorted(range(L), key=lambda k:nums[k])\n",
    "    head = 0\n",
    "    tail = L - 1\n",
    "    sum_result = nums[sorted_id[head]] + nums[sorted_id[tail]]\n",
    "    while sum_result != target:\n",
    "        if sum_result > target:\n",
    "            tail -= 1\n",
    "        elif sum_result < target:\n",
    "            head += 1\n",
    "        sum_result = nums[sorted_id[head]] + nums[sorted_id[tail]]\n",
    "        if tail == -1 or head == L:\n",
    "            return None\n",
    "    return [sorted_id[head], sorted_id[tail]]"
   ]
  },
  {
   "cell_type": "code",
   "execution_count": 23,
   "metadata": {},
   "outputs": [
    {
     "name": "stdout",
     "output_type": "stream",
     "text": [
      "[0, 2]\n",
      "[0, 2]\n",
      "[0, 2]\n"
     ]
    }
   ],
   "source": [
    "nums = [2, 7, 11, 15]\n",
    "target = 13\n",
    "print(twoSum1(nums, target))\n",
    "print(twoSum2(nums, target))\n",
    "print(twoSum3(nums, target))"
   ]
  },
  {
   "cell_type": "markdown",
   "metadata": {},
   "source": [
    "### 两数之和II\n",
    "给定一个已按照升序排列 的有序数组，找到两个数使得它们相加之和等于目标数。\n",
    "\n",
    "函数应该返回这两个下标值 index1 和 index2，其中 index1 必须小于 index2。\n",
    "\n",
    "说明:\n",
    "\n",
    "返回的下标值（index1 和 index2）不是从零开始的。\n",
    "你可以假设每个输入只对应唯一的答案，而且你不可以重复使用相同的元素。\n",
    "示例:\n",
    "\n",
    "输入: numbers = [2, 7, 11, 15], target = 9\n",
    "输出: [1,2]\n",
    "解释: 2 与 7 之和等于目标数 9 。因此 index1 = 1, index2 = 2 。\n"
   ]
  },
  {
   "cell_type": "code",
   "execution_count": 4,
   "metadata": {},
   "outputs": [],
   "source": [
    "def twoSum4(numbers, target):\n",
    "    L = len(numbers)\n",
    "    low, high = 0, L-1\n",
    "    cur_sum = numbers[low] + numbers[high]\n",
    "    while low <= high:\n",
    "        if cur_sum < target:\n",
    "            low += 1\n",
    "        elif cur_sum > target:\n",
    "            high -= 1\n",
    "        else:\n",
    "            return low+1, high+1\n",
    "        cur_sum = numbers[low] + numbers[high]\n",
    "    return None"
   ]
  },
  {
   "cell_type": "code",
   "execution_count": 5,
   "metadata": {},
   "outputs": [
    {
     "name": "stdout",
     "output_type": "stream",
     "text": [
      "(1, 2)\n"
     ]
    }
   ],
   "source": [
    "numbers = [2, 7, 11, 15]\n",
    "target = 9\n",
    "print(twoSum4(numbers, target))"
   ]
  },
  {
   "cell_type": "code",
   "execution_count": null,
   "metadata": {},
   "outputs": [],
   "source": []
  }
 ],
 "metadata": {
  "kernelspec": {
   "display_name": "Python 3",
   "language": "python",
   "name": "python3"
  },
  "language_info": {
   "codemirror_mode": {
    "name": "ipython",
    "version": 3
   },
   "file_extension": ".py",
   "mimetype": "text/x-python",
   "name": "python",
   "nbconvert_exporter": "python",
   "pygments_lexer": "ipython3",
   "version": "3.7.3"
  },
  "toc": {
   "base_numbering": 1,
   "nav_menu": {},
   "number_sections": true,
   "sideBar": true,
   "skip_h1_title": false,
   "title_cell": "Table of Contents",
   "title_sidebar": "Contents",
   "toc_cell": false,
   "toc_position": {},
   "toc_section_display": true,
   "toc_window_display": false
  }
 },
 "nbformat": 4,
 "nbformat_minor": 2
}
