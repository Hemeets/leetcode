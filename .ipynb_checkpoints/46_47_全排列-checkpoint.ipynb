{
 "cells": [
  {
   "cell_type": "markdown",
   "metadata": {},
   "source": [
    "### 46-全排列\n",
    "给定一个没有重复数字的序列，返回其所有可能的全排列。\n",
    "\n",
    "示例:\n",
    "\n",
    "输入: [1,2,3]\n",
    "输出:\n",
    "[\n",
    "\n",
    "[1,2,3],\n",
    "\n",
    "[1,3,2],\n",
    "\n",
    "[2,1,3],\n",
    "\n",
    "[2,3,1],\n",
    "\n",
    "[3,1,2],\n",
    "\n",
    "[3,2,1]\n",
    "]\n",
    "\n",
    "来源：力扣（LeetCode）\n",
    "链接：https://leetcode-cn.com/problems/permutations\n",
    "著作权归领扣网络所有。商业转载请联系官方授权，非商业转载请注明出处。"
   ]
  },
  {
   "cell_type": "code",
   "execution_count": 1,
   "metadata": {},
   "outputs": [],
   "source": [
    "def permute(nums):\n",
    "    res = []\n",
    "    n = len(nums)\n",
    "    # 广度优先的思想\n",
    "    def backtrack(first=0):\n",
    "        if first == n:\n",
    "            res.append(nums[:])\n",
    "        for i in range(first, n):\n",
    "            nums[first], nums[i] = nums[i], nums[first]\n",
    "            backtrack(first+1)\n",
    "            # backtrack\n",
    "            nums[first], nums[i] = nums[i], nums[first]\n",
    "    \n",
    "    backtrack()\n",
    "    return res\n",
    "        \n",
    "        "
   ]
  },
  {
   "cell_type": "code",
   "execution_count": 2,
   "metadata": {},
   "outputs": [
    {
     "data": {
      "text/plain": [
       "[[1, 2, 3], [1, 3, 2], [2, 1, 3], [2, 3, 1], [3, 2, 1], [3, 1, 2]]"
      ]
     },
     "execution_count": 2,
     "metadata": {},
     "output_type": "execute_result"
    }
   ],
   "source": [
    "nums = [1,2,3]\n",
    "permute(nums)"
   ]
  },
  {
   "cell_type": "markdown",
   "metadata": {},
   "source": [
    "### 47—全排列II\n",
    "给定一个可包含重复数字的序列，返回所有不重复的全排列。\n",
    "\n",
    "示例:\n",
    "\n",
    "输入: [1,1,2]\n",
    "输出:\n",
    "[\n",
    "  [1,1,2],\n",
    "  [1,2,1],\n",
    "  [2,1,1]\n",
    "]\n",
    "\n",
    "来源：力扣（LeetCode）\n",
    "链接：https://leetcode-cn.com/problems/permutations-ii\n",
    "著作权归领扣网络所有。商业转载请联系官方授权，非商业转载请注明出处。"
   ]
  },
  {
   "cell_type": "code",
   "execution_count": 4,
   "metadata": {},
   "outputs": [],
   "source": [
    "# emmmmmm....这个错了\n",
    "def permute2(nums):\n",
    "    res = []\n",
    "    n = len(nums)\n",
    "    \n",
    "    def backtrack(first=0):\n",
    "        if first == n:\n",
    "            res.append(nums[:])\n",
    "            print(nums[:])\n",
    "        for i in range(first, n):\n",
    "            if i > first and nums[i-1] == nums[i]:\n",
    "                print(\"******\")\n",
    "                continue\n",
    "            nums[first], nums[i] = nums[i], nums[first]\n",
    "            backtrack(first+1)\n",
    "            # backtrack\n",
    "            nums[first], nums[i] = nums[i], nums[first]\n",
    "    \n",
    "    backtrack()\n",
    "    return res\n",
    "        "
   ]
  },
  {
   "cell_type": "code",
   "execution_count": 9,
   "metadata": {
    "scrolled": true
   },
   "outputs": [
    {
     "name": "stdout",
     "output_type": "stream",
     "text": [
      "[0, 0, 0, 1, 9]\n",
      "[0, 0, 0, 9, 1]\n",
      "[0, 0, 1, 0, 9]\n",
      "[0, 0, 1, 9, 0]\n",
      "[0, 0, 9, 1, 0]\n",
      "[0, 0, 9, 0, 1]\n",
      "******\n",
      "[0, 1, 0, 0, 9]\n",
      "[0, 1, 0, 9, 0]\n",
      "******\n",
      "[0, 1, 9, 0, 0]\n",
      "******\n",
      "[0, 9, 0, 1, 0]\n",
      "[0, 9, 0, 0, 1]\n",
      "[0, 9, 1, 0, 0]\n",
      "******\n",
      "[0, 9, 0, 1, 0]\n",
      "[0, 9, 0, 0, 1]\n",
      "******\n",
      "******\n",
      "[1, 0, 0, 0, 9]\n",
      "[1, 0, 0, 9, 0]\n",
      "******\n",
      "[1, 0, 9, 0, 0]\n",
      "******\n",
      "******\n",
      "******\n",
      "[1, 9, 0, 0, 0]\n",
      "******\n",
      "******\n",
      "******\n",
      "[9, 0, 0, 1, 0]\n",
      "[9, 0, 0, 0, 1]\n",
      "[9, 0, 1, 0, 0]\n",
      "******\n",
      "[9, 0, 0, 1, 0]\n",
      "[9, 0, 0, 0, 1]\n",
      "******\n",
      "[9, 1, 0, 0, 0]\n",
      "******\n",
      "******\n",
      "******\n",
      "[9, 0, 0, 1, 0]\n",
      "[9, 0, 0, 0, 1]\n",
      "[9, 0, 1, 0, 0]\n",
      "******\n",
      "[9, 0, 0, 1, 0]\n",
      "[9, 0, 0, 0, 1]\n"
     ]
    },
    {
     "data": {
      "text/plain": [
       "[[0, 0, 0, 1, 9],\n",
       " [0, 0, 0, 9, 1],\n",
       " [0, 0, 1, 0, 9],\n",
       " [0, 0, 1, 9, 0],\n",
       " [0, 0, 9, 1, 0],\n",
       " [0, 0, 9, 0, 1],\n",
       " [0, 1, 0, 0, 9],\n",
       " [0, 1, 0, 9, 0],\n",
       " [0, 1, 9, 0, 0],\n",
       " [0, 9, 0, 1, 0],\n",
       " [0, 9, 0, 0, 1],\n",
       " [0, 9, 1, 0, 0],\n",
       " [0, 9, 0, 1, 0],\n",
       " [0, 9, 0, 0, 1],\n",
       " [1, 0, 0, 0, 9],\n",
       " [1, 0, 0, 9, 0],\n",
       " [1, 0, 9, 0, 0],\n",
       " [1, 9, 0, 0, 0],\n",
       " [9, 0, 0, 1, 0],\n",
       " [9, 0, 0, 0, 1],\n",
       " [9, 0, 1, 0, 0],\n",
       " [9, 0, 0, 1, 0],\n",
       " [9, 0, 0, 0, 1],\n",
       " [9, 1, 0, 0, 0],\n",
       " [9, 0, 0, 1, 0],\n",
       " [9, 0, 0, 0, 1],\n",
       " [9, 0, 1, 0, 0],\n",
       " [9, 0, 0, 1, 0],\n",
       " [9, 0, 0, 0, 1]]"
      ]
     },
     "execution_count": 9,
     "metadata": {},
     "output_type": "execute_result"
    }
   ],
   "source": [
    "nums = [0,0,0,1,9]\n",
    "permute2(nums)"
   ]
  },
  {
   "cell_type": "markdown",
   "metadata": {},
   "source": [
    "46，47的另一种写法"
   ]
  },
  {
   "cell_type": "code",
   "execution_count": 12,
   "metadata": {},
   "outputs": [],
   "source": [
    "def permute46(nums):\n",
    "    if not nums:\n",
    "        return []\n",
    "    res = []\n",
    "    n = len(nums)\n",
    "    visited = [0] * n\n",
    "    # 回溯法主要在于这个helper函数怎么写，重要的是怎么传递参数\n",
    "    # 这里的helper传递的参数就是当前的tmplist以及它的长度\n",
    "    def helper(tmp_list, length):\n",
    "        if length == n:\n",
    "            res.append(tmp_list)\n",
    "        for i in range(n):\n",
    "            if visited[i]:\n",
    "                continue\n",
    "            visited[i] = 1\n",
    "            helper(tmp_list + [nums[i]], length + 1)\n",
    "            visited[i] = 0\n",
    "    helper([], 0)\n",
    "    return res\n",
    "\n",
    "def permute47(nums):\n",
    "    if not nums:\n",
    "        return []\n",
    "    nums.sort()\n",
    "    res = []\n",
    "    n = len(nums)\n",
    "    visited = [0] * n\n",
    "    \n",
    "    def helper(tmp_list, length):\n",
    "        if length == n:\n",
    "            res.append(tmp_list)\n",
    "        for i in range(n):\n",
    "            if visited[i] or (i > 0 and nums[i] == nums[i-1] and not visited[i-1]):\n",
    "                continue\n",
    "            visited[i] = 1\n",
    "            helper(tmp_list + [nums[i]], length + 1)\n",
    "            visited[i] = 0\n",
    "    helper([], 0)\n",
    "    return res    "
   ]
  },
  {
   "cell_type": "code",
   "execution_count": 13,
   "metadata": {},
   "outputs": [
    {
     "data": {
      "text/plain": [
       "[[2]]"
      ]
     },
     "execution_count": 13,
     "metadata": {},
     "output_type": "execute_result"
    }
   ],
   "source": [
    "nums = [2]\n",
    "permute47(nums)"
   ]
  },
  {
   "cell_type": "code",
   "execution_count": null,
   "metadata": {},
   "outputs": [],
   "source": []
  }
 ],
 "metadata": {
  "kernelspec": {
   "display_name": "Python 3",
   "language": "python",
   "name": "python3"
  },
  "language_info": {
   "codemirror_mode": {
    "name": "ipython",
    "version": 3
   },
   "file_extension": ".py",
   "mimetype": "text/x-python",
   "name": "python",
   "nbconvert_exporter": "python",
   "pygments_lexer": "ipython3",
   "version": "3.6.8"
  },
  "toc": {
   "base_numbering": 1,
   "nav_menu": {},
   "number_sections": true,
   "sideBar": true,
   "skip_h1_title": false,
   "title_cell": "Table of Contents",
   "title_sidebar": "Contents",
   "toc_cell": false,
   "toc_position": {},
   "toc_section_display": true,
   "toc_window_display": false
  }
 },
 "nbformat": 4,
 "nbformat_minor": 2
}
