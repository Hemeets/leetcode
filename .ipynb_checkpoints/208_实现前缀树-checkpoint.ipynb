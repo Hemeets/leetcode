{
 "cells": [
  {
   "cell_type": "markdown",
   "metadata": {},
   "source": [
    "实现一个 Trie (前缀树)，包含 insert, search, 和 startsWith 这三个操作。\n",
    "\n",
    "示例:\n",
    "\n",
    "Trie trie = new Trie();\n",
    "\n",
    "trie.insert(\"apple\");\n",
    "trie.search(\"apple\");   // 返回 true\n",
    "trie.search(\"app\");     // 返回 false\n",
    "trie.startsWith(\"app\"); // 返回 true\n",
    "trie.insert(\"app\");   \n",
    "trie.search(\"app\");     // 返回 true\n",
    "说明:\n",
    "\n",
    "你可以假设所有的输入都是由小写字母 a-z 构成的。\n",
    "保证所有输入均为非空字符串。\n",
    "\n",
    "来源：力扣（LeetCode）\n",
    "链接：https://leetcode-cn.com/problems/implement-trie-prefix-tree\n",
    "著作权归领扣网络所有。商业转载请联系官方授权，非商业转载请注明出处。"
   ]
  },
  {
   "cell_type": "code",
   "execution_count": 1,
   "metadata": {},
   "outputs": [],
   "source": [
    "class Trie:\n",
    "    \n",
    "    def __init__(self):\n",
    "        self.root = dict()\n",
    "    \n",
    "    def insert(self, word):\n",
    "        node = self.root\n",
    "        for s in word:\n",
    "            if s in node.keys():\n",
    "                node = node[s]\n",
    "            else:\n",
    "                node[s] = dict()\n",
    "                node = node[s]\n",
    "        node['is_word'] = True #用来标示word结束了\n",
    "        \n",
    "    def search(self, word):\n",
    "        node = self.root\n",
    "        for s in word:\n",
    "            if s in node.keys:\n",
    "                node = node[s]\n",
    "            else: return False\n",
    "        if 'is_word' in node.keys():\n",
    "            return True\n",
    "        else: return False\n",
    "    \n",
    "    def startsWith(self, prefix):\n",
    "        node = self.root\n",
    "        for s in prefix:\n",
    "            if s in node.keys():\n",
    "                node = node[s]\n",
    "            else: return False\n",
    "        return True\n",
    "        "
   ]
  },
  {
   "cell_type": "code",
   "execution_count": null,
   "metadata": {},
   "outputs": [],
   "source": []
  }
 ],
 "metadata": {
  "kernelspec": {
   "display_name": "Python 3",
   "language": "python",
   "name": "python3"
  },
  "language_info": {
   "codemirror_mode": {
    "name": "ipython",
    "version": 3
   },
   "file_extension": ".py",
   "mimetype": "text/x-python",
   "name": "python",
   "nbconvert_exporter": "python",
   "pygments_lexer": "ipython3",
   "version": "3.6.8"
  },
  "toc": {
   "base_numbering": 1,
   "nav_menu": {},
   "number_sections": true,
   "sideBar": true,
   "skip_h1_title": false,
   "title_cell": "Table of Contents",
   "title_sidebar": "Contents",
   "toc_cell": false,
   "toc_position": {},
   "toc_section_display": true,
   "toc_window_display": false
  }
 },
 "nbformat": 4,
 "nbformat_minor": 2
}
