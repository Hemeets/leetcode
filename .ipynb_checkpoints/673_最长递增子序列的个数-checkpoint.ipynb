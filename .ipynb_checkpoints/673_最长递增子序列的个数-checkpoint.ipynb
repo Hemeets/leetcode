{
 "cells": [
  {
   "cell_type": "markdown",
   "metadata": {},
   "source": [
    "给定一个未排序的整数数组，找到最长递增子序列的个数。\n",
    "\n",
    "示例 1:\n",
    "\n",
    "输入: [1,3,5,4,7]\n",
    "输出: 2\n",
    "解释: 有两个最长递增子序列，分别是 [1, 3, 4, 7] 和[1, 3, 5, 7]。\n",
    "示例 2:\n",
    "\n",
    "输入: [2,2,2,2,2]\n",
    "输出: 5\n",
    "解释: 最长递增子序列的长度是1，并且存在5个子序列的长度为1，因此输出5。"
   ]
  },
  {
   "cell_type": "markdown",
   "metadata": {},
   "source": [
    "先看一下第300题，求数组的最长严格递增子序列长度：\n",
    "\n",
    "若以dp来解，想法的关键是dp[i]记录的是**以i为结尾**的最长子序列，最后再求max（dp）就得到了，（而不是i之前的最大子序列，这么设解不出来）"
   ]
  },
  {
   "cell_type": "code",
   "execution_count": 5,
   "metadata": {},
   "outputs": [],
   "source": [
    "def lengthOfLIS(nums):\n",
    "    L = len(nums)\n",
    "    if L <= 1:\n",
    "        return nums\n",
    "    dp = [1] * L\n",
    "    for i in range(1, L):\n",
    "        for j in range(i):\n",
    "            if nums[i] > nums[j]:\n",
    "                dp[i] = max(dp[i], dp[j]+1) # 求以i结尾的前i个的最大值\n",
    "    return max(dp)"
   ]
  },
  {
   "cell_type": "code",
   "execution_count": 12,
   "metadata": {},
   "outputs": [
    {
     "data": {
      "text/plain": [
       "1"
      ]
     },
     "execution_count": 12,
     "metadata": {},
     "output_type": "execute_result"
    }
   ],
   "source": [
    "nums =  [2,2,2,2,2]\n",
    "lengthOfLIS(nums)"
   ]
  },
  {
   "cell_type": "markdown",
   "metadata": {},
   "source": [
    "现在再来看这个题，"
   ]
  },
  {
   "cell_type": "code",
   "execution_count": 21,
   "metadata": {},
   "outputs": [],
   "source": [
    "def findNumberOfLIS(nums):\n",
    "    L = len(nums)\n",
    "    if L <= 1:\n",
    "        return L\n",
    "    total_count = 0\n",
    "    dp = [1] * L  # dp[i]记录的是以i结尾的最长序列的长度\n",
    "    C = [1] * L  # C[i]记录的是 长度为dp[i] 的序列的个数\n",
    "    for i in range(1, L):\n",
    "        count = 1     \n",
    "        for j in range(i):\n",
    "            if nums[i] > nums[j]:\n",
    "                if dp[j] + 1 > dp[i]:\n",
    "                    dp[i] = dp[j] + 1\n",
    "                    count = C[j]  ## 注意这里的C[j]\n",
    "                elif dp[j] + 1 == dp[i]:\n",
    "                    count += C[j]\n",
    "        C[i] = count\n",
    "    max_length = max(dp)\n",
    "    for i in range(L):\n",
    "        if dp[i] == max_length:\n",
    "            total_count += C[i]             \n",
    "    return max(dp), total_count"
   ]
  },
  {
   "cell_type": "code",
   "execution_count": 22,
   "metadata": {},
   "outputs": [
    {
     "data": {
      "text/plain": [
       "(3, 27)"
      ]
     },
     "execution_count": 22,
     "metadata": {},
     "output_type": "execute_result"
    }
   ],
   "source": [
    "nums = [1,1,1,2,2,2,3,3,3]\n",
    "findNumberOfLIS(nums)"
   ]
  },
  {
   "cell_type": "markdown",
   "metadata": {},
   "source": [
    "上面那个有点冗余，count变量多余了"
   ]
  },
  {
   "cell_type": "code",
   "execution_count": 6,
   "metadata": {},
   "outputs": [],
   "source": [
    "def findNumberOfLIS1(nums):\n",
    "    L = len(nums)\n",
    "    if L <= 1:\n",
    "        return L\n",
    "    total_count = 0\n",
    "    dp = [1] * L  # dp[i]记录的是以i结尾的最长序列的长度\n",
    "    C = [1] * L  # C[i]记录的是 长度为dp[i] 的序列的个数\n",
    "    for i in range(L):    \n",
    "        for j in range(i):\n",
    "            if nums[i] > nums[j]:\n",
    "                if dp[j] + 1 > dp[i]:\n",
    "                    dp[i] = dp[j] + 1\n",
    "                    C[i] = C[j]  ## 注意这里的C[j]\n",
    "                elif dp[j] + 1 == dp[i]:\n",
    "                    C[i] += C[j]\n",
    "    max_length = max(dp)\n",
    "    for i in range(L):\n",
    "        if dp[i] == max_length:\n",
    "            total_count += C[i]             \n",
    "    return total_count"
   ]
  },
  {
   "cell_type": "code",
   "execution_count": 7,
   "metadata": {},
   "outputs": [
    {
     "data": {
      "text/plain": [
       "27"
      ]
     },
     "execution_count": 7,
     "metadata": {},
     "output_type": "execute_result"
    }
   ],
   "source": [
    "nums = [1,1,1,2,2,2,3,3,3]\n",
    "findNumberOfLIS1(nums)"
   ]
  },
  {
   "cell_type": "code",
   "execution_count": null,
   "metadata": {},
   "outputs": [],
   "source": []
  },
  {
   "cell_type": "code",
   "execution_count": null,
   "metadata": {},
   "outputs": [],
   "source": []
  }
 ],
 "metadata": {
  "kernelspec": {
   "display_name": "Python 3",
   "language": "python",
   "name": "python3"
  },
  "language_info": {
   "codemirror_mode": {
    "name": "ipython",
    "version": 3
   },
   "file_extension": ".py",
   "mimetype": "text/x-python",
   "name": "python",
   "nbconvert_exporter": "python",
   "pygments_lexer": "ipython3",
   "version": "3.7.3"
  },
  "toc": {
   "base_numbering": 1,
   "nav_menu": {},
   "number_sections": true,
   "sideBar": true,
   "skip_h1_title": false,
   "title_cell": "Table of Contents",
   "title_sidebar": "Contents",
   "toc_cell": false,
   "toc_position": {},
   "toc_section_display": true,
   "toc_window_display": false
  }
 },
 "nbformat": 4,
 "nbformat_minor": 2
}
