{
 "cells": [
  {
   "cell_type": "markdown",
   "metadata": {},
   "source": [
    "给定一个单链表，其中的元素按升序排序，将其转换为高度平衡的二叉搜索树。\n",
    "\n",
    "本题中，一个高度平衡二叉树是指一个二叉树每个节点 的左右两个子树的高度差的绝对值不超过 1。\n",
    "\n",
    "示例:\n",
    "\n",
    "给定的有序链表： [-10, -3, 0, 5, 9],\n",
    "\n",
    "一个可能的答案是：[0, -3, 9, -10, null, 5], 它可以表示下面这个高度平衡二叉搜索树：\n",
    "\n",
    "          0\n",
    "         / \\\n",
    "       -3   9\n",
    "       /   /\n",
    "     -10  5\n",
    "\n",
    "来源：力扣（LeetCode）\n",
    "链接：https://leetcode-cn.com/problems/convert-sorted-list-to-binary-search-tree\n",
    "著作权归领扣网络所有。商业转载请联系官方授权，非商业转载请注明出处。"
   ]
  },
  {
   "cell_type": "code",
   "execution_count": 1,
   "metadata": {},
   "outputs": [],
   "source": [
    "# Definition for singly-linked list.\n",
    "class ListNode:\n",
    "    def __init__(self, x):\n",
    "        self.val = x\n",
    "        self.next = None\n",
    "# Definition for a binary tree node.\n",
    "class TreeNode:\n",
    "    def __init__(self, x):\n",
    "        self.val = x\n",
    "        self.left = None\n",
    "        self.right = None\n"
   ]
  },
  {
   "cell_type": "code",
   "execution_count": 2,
   "metadata": {},
   "outputs": [],
   "source": [
    "# 法一：每次用快慢指针找到中间元 time: nlogn, space: logn\n",
    "class Solution:\n",
    "    \n",
    "    def findMiddle(self, head):\n",
    "        prev = None\n",
    "        slow = head\n",
    "        fast = head\n",
    "        while fast and fast.next:\n",
    "            prev = slow\n",
    "            slow = slow.next\n",
    "            fast = fast.next.next\n",
    "        if prev:\n",
    "            prev.next = None\n",
    "        return slow\n",
    "    \n",
    "    def sortedListToBST(self, head):\n",
    "        if not head:\n",
    "            return None\n",
    "        mid = self.findMiddle(head)\n",
    "        node = TreeNode(mid.val)\n",
    "        if head == mid:  # base case when there is just one element in the linked list\n",
    "            return node\n",
    "        node.left = self.sortedListToBST(head)\n",
    "        node.right = self.sortedListToBST(mid.next)\n",
    "        return node\n",
    "    "
   ]
  },
  {
   "cell_type": "code",
   "execution_count": 3,
   "metadata": {},
   "outputs": [],
   "source": [
    "# 法2：链表转成数组再用108题一样做，这里略\n",
    "# 法3：（这个牛逼），"
   ]
  },
  {
   "cell_type": "markdown",
   "metadata": {},
   "source": [
    "方法 3：中序遍历模拟\n",
    "想法\n",
    "\n",
    "我们知道，二叉树有三种不同的遍历方法：\n",
    "\n",
    "前序遍历\n",
    "中序遍历 和\n",
    "后序遍历。\n",
    "中序遍历一棵二叉搜索树会有一个非常有趣的结论。\n",
    "\n",
    "**中序遍历一棵二叉搜索树的结果是得到一个升序序列。**\n",
    "\n",
    "这个方法模拟了二叉搜索树的构造过程，因为我们已经获得有序的链表，所以自然的产生了这样的想法。\n",
    "\n",
    "在描述算法之前，先看一下中序遍历是如何获得有序值的。\n",
    "\n",
    "基于解决这个问题的中序遍历的思想：\n",
    "\n",
    "**我们知道中序遍历最左边的元素一定是给定链表的头部，类似地下一个元素一定是链表的下一个元素，**以此类推。这是肯定的因为给定的初始链表保证了升序排列。\n",
    "\n",
    "1. 遍历整个链表获得它的长度，我们用两个指针标记结果数组的开始和结束，记为 start 和 end，他们的初始值分别为 0 和 length - 1。\n",
    "2. 记住，我们当前需要模拟中序遍历，找到中间元素 (start + end) / 2。注意这里**并不需要**在链表中找到确定的元素是哪个，只需要用一个变量告诉我们中间元素的下标。我们只需要递归调用这两侧。\n",
    "3. 递归左半边，其中开始和结束的值分别为 start, mid - 1。\n",
    "4. 在这个算法中，每当我们构建完二叉搜索树的左半部分时，链表中的头指针将指向根节点或中间节点（它成为根节点）。 因此，我们只需使用头指针指向的当前值作为根节点，并将指针后移一位，即 head = head.next。\n",
    "5. 我们在递归右半部分 mid + 1, end。\n",
    "\n",
    "\n",
    "作者：LeetCode\n",
    "链接：https://leetcode-cn.com/problems/two-sum/solution/you-xu-lian-biao-zhuan-huan-er-cha-sou-suo-shu-by-/\n",
    "来源：力扣（LeetCode）\n",
    "著作权归作者所有。商业转载请联系作者获得授权，非商业转载请注明出处。"
   ]
  },
  {
   "cell_type": "code",
   "execution_count": 6,
   "metadata": {},
   "outputs": [],
   "source": [
    "class Solution:\n",
    "# time: n, space: logn   \n",
    "    def findSize(self, head):\n",
    "        #只需要知道中点的index而不需要知道具体是哪个listnode的意思是，\n",
    "        # 这个mid只是用来确定递归return的条件的\n",
    "        p = head\n",
    "        c = 0\n",
    "        while p:\n",
    "            p = p.next\n",
    "            c += 1\n",
    "        return c\n",
    "    def sortedListToBST(self, head):\n",
    "        size = self.findSize(head)\n",
    "        def convert(l, r):\n",
    "            nonlocal head\n",
    "            if l > r:\n",
    "                return None\n",
    "            mid = (l + r) // 2\n",
    "            left = convert(l, mid-1)\n",
    "            node = TreeNode(head.val)\n",
    "            node.left = left\n",
    "            head = head.next\n",
    "            node.right = convert(mid+1, r)\n",
    "            return node\n",
    "        return convert(0, size-1)"
   ]
  },
  {
   "cell_type": "code",
   "execution_count": null,
   "metadata": {},
   "outputs": [],
   "source": []
  }
 ],
 "metadata": {
  "kernelspec": {
   "display_name": "Python 3",
   "language": "python",
   "name": "python3"
  },
  "language_info": {
   "codemirror_mode": {
    "name": "ipython",
    "version": 3
   },
   "file_extension": ".py",
   "mimetype": "text/x-python",
   "name": "python",
   "nbconvert_exporter": "python",
   "pygments_lexer": "ipython3",
   "version": "3.6.8"
  },
  "toc": {
   "base_numbering": 1,
   "nav_menu": {},
   "number_sections": true,
   "sideBar": true,
   "skip_h1_title": false,
   "title_cell": "Table of Contents",
   "title_sidebar": "Contents",
   "toc_cell": false,
   "toc_position": {},
   "toc_section_display": true,
   "toc_window_display": false
  }
 },
 "nbformat": 4,
 "nbformat_minor": 2
}
