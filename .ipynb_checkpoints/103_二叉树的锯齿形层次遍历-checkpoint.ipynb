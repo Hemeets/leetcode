{
 "cells": [
  {
   "cell_type": "markdown",
   "metadata": {},
   "source": [
    "给定一个二叉树，返回其节点值的锯齿形层次遍历。（即先从左往右，再从右往左进行下一层遍历，以此类推，层与层之间交替进行）。\n",
    "\n",
    "例如：\n",
    "给定二叉树 [3,9,20,null,null,15,7],\n",
    "\n",
    "        3\n",
    "       / \\\n",
    "      9  20\n",
    "    /  \\\n",
    "       15   7\n",
    "返回锯齿形层次遍历如下：\n",
    "\n",
    "[\n",
    "  [3],\n",
    "  \n",
    "  [20,9],\n",
    "  \n",
    "  [15,7]\n",
    "]\n",
    "\n",
    "来源：力扣（LeetCode）\n",
    "链接：https://leetcode-cn.com/problems/binary-tree-zigzag-level-order-traversal\n",
    "著作权归领扣网络所有。商业转载请联系官方授权，非商业转载请注明出处。"
   ]
  },
  {
   "cell_type": "code",
   "execution_count": 1,
   "metadata": {},
   "outputs": [
    {
     "ename": "SyntaxError",
     "evalue": "unexpected EOF while parsing (<ipython-input-1-4a171c026f79>, line 45)",
     "output_type": "error",
     "traceback": [
      "\u001b[1;36m  File \u001b[1;32m\"<ipython-input-1-4a171c026f79>\"\u001b[1;36m, line \u001b[1;32m45\u001b[0m\n\u001b[1;33m    \u001b[0m\n\u001b[1;37m    ^\u001b[0m\n\u001b[1;31mSyntaxError\u001b[0m\u001b[1;31m:\u001b[0m unexpected EOF while parsing\n"
     ]
    }
   ],
   "source": [
    "class TreeNode:\n",
    "    def __init__(self, x):\n",
    "        self.val = x\n",
    "        self.left = None\n",
    "        self.right = None\n",
    "        \n",
    "def zigzagLevelOrder(root):\n",
    "    if not root:\n",
    "        return []\n",
    "    l2r = list()\n",
    "    r2l = list()\n",
    "    out = list()\n",
    "    tmp = list()\n",
    "    l2r.append(root)\n",
    "    # 栈的属性，天然就决定了下次读取时是填装的倒叙！关键在这！\n",
    "    while True:\n",
    "        while l2r:\n",
    "            cur = l2r.pop()\n",
    "            tmp.append(cur.val)\n",
    "            if cur.left:\n",
    "                r2l.append(cur.left)\n",
    "            if cur.right:\n",
    "                r2l.append(cur.right)\n",
    "        if tmp:\n",
    "            out.append(tmp)\n",
    "            tmp = list()\n",
    "        else:\n",
    "            break\n",
    "        \n",
    "        while r2l:\n",
    "            cur = r2l.pop()\n",
    "            tmp.append(cur.val)\n",
    "            if cur.right:\n",
    "                l2r.append(cur.right)\n",
    "            if cur.left:\n",
    "                l2r.append(cur.left)\n",
    "        if tmp:\n",
    "            out.append(tmp)\n",
    "            tmp = list()\n",
    "        else:\n",
    "            break\n",
    "            \n",
    "    return out\n",
    "\n",
    "        "
   ]
  },
  {
   "cell_type": "code",
   "execution_count": 3,
   "metadata": {},
   "outputs": [
    {
     "data": {
      "text/plain": [
       "[3, 2, 1]"
      ]
     },
     "execution_count": 3,
     "metadata": {},
     "output_type": "execute_result"
    }
   ],
   "source": [
    "a = [1,2,3]\n",
    "list(reversed(a))"
   ]
  },
  {
   "cell_type": "code",
   "execution_count": 4,
   "metadata": {},
   "outputs": [
    {
     "data": {
      "text/plain": [
       "[1, 2, 3]"
      ]
     },
     "execution_count": 4,
     "metadata": {},
     "output_type": "execute_result"
    }
   ],
   "source": [
    "a"
   ]
  },
  {
   "cell_type": "code",
   "execution_count": null,
   "metadata": {},
   "outputs": [],
   "source": []
  }
 ],
 "metadata": {
  "kernelspec": {
   "display_name": "Python 3",
   "language": "python",
   "name": "python3"
  },
  "language_info": {
   "codemirror_mode": {
    "name": "ipython",
    "version": 3
   },
   "file_extension": ".py",
   "mimetype": "text/x-python",
   "name": "python",
   "nbconvert_exporter": "python",
   "pygments_lexer": "ipython3",
   "version": "3.6.8"
  },
  "toc": {
   "base_numbering": 1,
   "nav_menu": {},
   "number_sections": true,
   "sideBar": true,
   "skip_h1_title": false,
   "title_cell": "Table of Contents",
   "title_sidebar": "Contents",
   "toc_cell": false,
   "toc_position": {},
   "toc_section_display": true,
   "toc_window_display": false
  }
 },
 "nbformat": 4,
 "nbformat_minor": 2
}
