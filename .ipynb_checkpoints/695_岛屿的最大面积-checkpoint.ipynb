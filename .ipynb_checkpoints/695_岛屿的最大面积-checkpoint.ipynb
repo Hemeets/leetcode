{
 "cells": [
  {
   "cell_type": "markdown",
   "metadata": {},
   "source": [
    "给定一个包含了一些 0 和 1的非空二维数组 grid , 一个 岛屿 是由四个方向 (水平或垂直) 的 1 (代表土地) 构成的组合。你可以假设二维矩阵的四个边缘都被水包围着。\n",
    "\n",
    "找到给定的二维数组中最大的岛屿面积。(如果没有岛屿，则返回面积为0。)\n",
    "\n",
    "示例 1:\n",
    "\n",
    "[[0,0,1,0,0,0,0,1,0,0,0,0,0],\n",
    "\n",
    "[0,0,0,0,0,0,0,1,1,1,0,0,0],\n",
    "\n",
    "[0,1,1,0,1,0,0,0,0,0,0,0,0],\n",
    "\n",
    "[0,1,0,0,1,1,0,0,1,0,1,0,0],\n",
    "\n",
    "[0,1,0,0,1,1,0,0,1,1,1,0,0],\n",
    "\n",
    "[0,0,0,0,0,0,0,0,0,0,1,0,0],\n",
    "\n",
    "[0,0,0,0,0,0,0,1,1,1,0,0,0],\n",
    "\n",
    "[0,0,0,0,0,0,0,1,1,0,0,0,0]]\n",
    "对于上面这个给定矩阵应返回 6。注意答案不应该是11，因为岛屿只能包含水平或垂直的四个方向的‘1’。\n",
    "\n",
    "示例 2:\n",
    "\n",
    "[[0,0,0,0,0,0,0,0]]\n",
    "对于上面这个给定的矩阵, 返回 0。\n",
    "\n",
    "注意: 给定的矩阵grid 的长度和宽度都不超过 50。\n",
    "\n",
    "来源：力扣（LeetCode）\n",
    "链接：https://leetcode-cn.com/problems/max-area-of-island\n",
    "著作权归领扣网络所有。商业转载请联系官方授权，非商业转载请注明出处。"
   ]
  },
  {
   "cell_type": "code",
   "execution_count": 20,
   "metadata": {},
   "outputs": [],
   "source": [
    "def maxAreaOfIsland(grid):\n",
    "    # 还是bfs\n",
    "    try:\n",
    "        max_area = 0\n",
    "        m = len(grid)\n",
    "        n = len(grid[0])\n",
    "    except:\n",
    "        return 0\n",
    "    \n",
    "    for i in range(m):\n",
    "        for j in range(n):\n",
    "            if grid[i][j]:\n",
    "                queue = []\n",
    "                queue.append((i,j))\n",
    "                cur_n = 0\n",
    "                while queue:\n",
    "                    tmp = []\n",
    "                    for q in queue:\n",
    "                        x, y = q\n",
    "                        if grid[x][y]:\n",
    "                            grid[x][y] = 0\n",
    "                            cur_n += 1\n",
    "                            # 注意要在出队列时计数会出问题，原因在于，下面的tmp.append可能会把\n",
    "                            # 相同的（i，j）入队列\n",
    "                            for a, b in zip([0,0,1,-1],[-1,1,0,0]):\n",
    "                                a += x\n",
    "                                b += y\n",
    "                                if 0 <= a < m and 0 <= b < n \\\n",
    "                                    and grid[a][b]:\n",
    "                                    tmp.append((a,b))\n",
    "                                    print(a, b)\n",
    "                                    \n",
    "                    queue = tmp\n",
    "#                 print(i,j,cur_n)\n",
    "                max_area = max(max_area, cur_n)\n",
    "    return max_area\n",
    "                                         "
   ]
  },
  {
   "cell_type": "code",
   "execution_count": 21,
   "metadata": {},
   "outputs": [
    {
     "name": "stdout",
     "output_type": "stream",
     "text": [
      "0 1\n",
      "1 0\n",
      "1 1\n",
      "1 1\n",
      "2 4\n",
      "3 3\n",
      "3 4\n",
      "3 4\n"
     ]
    },
    {
     "data": {
      "text/plain": [
       "4"
      ]
     },
     "execution_count": 21,
     "metadata": {},
     "output_type": "execute_result"
    }
   ],
   "source": [
    "grid = [[1,1,0,0,0],[1,1,0,0,0],[0,0,0,1,1],[0,0,0,1,1]]\n",
    "maxAreaOfIsland(grid)"
   ]
  },
  {
   "cell_type": "code",
   "execution_count": 16,
   "metadata": {},
   "outputs": [
    {
     "data": {
      "text/plain": [
       "[[0, 0, 0, 0, 0], [0, 0, 0, 0, 0], [0, 0, 0, 0, 0], [0, 0, 0, 0, 0]]"
      ]
     },
     "execution_count": 16,
     "metadata": {},
     "output_type": "execute_result"
    }
   ],
   "source": [
    "grid"
   ]
  },
  {
   "cell_type": "code",
   "execution_count": 34,
   "metadata": {},
   "outputs": [],
   "source": [
    "def maxAreaOfIsland1(grid):\n",
    "    # 还是bfs\n",
    "    # 队列的数据结构把list改成set试试\n",
    "    try:\n",
    "        max_area = 0\n",
    "        m = len(grid)\n",
    "        n = len(grid[0])\n",
    "    except:\n",
    "        return 0\n",
    "    \n",
    "    for i in range(m):\n",
    "        for j in range(n):\n",
    "            if grid[i][j]:\n",
    "                queue = set()\n",
    "                queue.add((i,j))\n",
    "                cur_n = 0\n",
    "                while queue:\n",
    "                    tmp = set()\n",
    "                    for q in queue:\n",
    "                        x, y = q\n",
    "                        if grid[x][y]:\n",
    "                            grid[x][y] = 0\n",
    "                            cur_n += 1\n",
    "                            # 注意要在出队列时计数会出问题，原因在于，下面的tmp.append可能会把\n",
    "                            # 相同的（i，j）入队列\n",
    "                            for a, b in zip([0,0,1,-1],[-1,1,0,0]):\n",
    "                                a += x\n",
    "                                b += y\n",
    "                                if 0 <= a < m and 0 <= b < n \\\n",
    "                                    and grid[a][b]:\n",
    "                                    tmp.add((a,b))          \n",
    "                    queue = tmp\n",
    "#                 print(i,j,cur_n)\n",
    "                max_area = max(max_area, cur_n)\n",
    "    return max_area\n",
    "                          "
   ]
  },
  {
   "cell_type": "markdown",
   "metadata": {},
   "source": [
    "速度稍有提升"
   ]
  },
  {
   "cell_type": "code",
   "execution_count": 33,
   "metadata": {},
   "outputs": [
    {
     "name": "stdout",
     "output_type": "stream",
     "text": [
      "0 1\n",
      "1 0\n",
      "1 1\n",
      "1 1\n",
      "2 4\n",
      "3 3\n",
      "3 4\n",
      "3 4\n"
     ]
    },
    {
     "data": {
      "text/plain": [
       "4"
      ]
     },
     "execution_count": 33,
     "metadata": {},
     "output_type": "execute_result"
    }
   ],
   "source": [
    "grid = [[1,1,0,0,0],[1,1,0,0,0],[0,0,0,1,1],[0,0,0,1,1]]\n",
    "maxAreaOfIsland1(grid)"
   ]
  },
  {
   "cell_type": "code",
   "execution_count": null,
   "metadata": {},
   "outputs": [],
   "source": []
  }
 ],
 "metadata": {
  "kernelspec": {
   "display_name": "Python 3",
   "language": "python",
   "name": "python3"
  },
  "language_info": {
   "codemirror_mode": {
    "name": "ipython",
    "version": 3
   },
   "file_extension": ".py",
   "mimetype": "text/x-python",
   "name": "python",
   "nbconvert_exporter": "python",
   "pygments_lexer": "ipython3",
   "version": "3.6.8"
  },
  "toc": {
   "base_numbering": 1,
   "nav_menu": {},
   "number_sections": true,
   "sideBar": true,
   "skip_h1_title": false,
   "title_cell": "Table of Contents",
   "title_sidebar": "Contents",
   "toc_cell": false,
   "toc_position": {},
   "toc_section_display": true,
   "toc_window_display": false
  }
 },
 "nbformat": 4,
 "nbformat_minor": 2
}
