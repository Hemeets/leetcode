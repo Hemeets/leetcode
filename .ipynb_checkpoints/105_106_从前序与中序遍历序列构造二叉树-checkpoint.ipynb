{
 "cells": [
  {
   "cell_type": "markdown",
   "metadata": {},
   "source": [
    "### 根据一棵树的前序遍历与中序遍历构造二叉树。\n",
    "\n",
    "注意:\n",
    "你可以假设树中没有重复的元素。\n",
    "\n",
    "例如，给出\n",
    "\n",
    "前序遍历 preorder = [3,9,20,15,7]\n",
    "中序遍历 inorder = [9,3,15,20,7]\n",
    "返回如下的二叉树：\n",
    "\n",
    "        3\n",
    "       / \\\n",
    "      9  20\n",
    "        /  \\\n",
    "       15   7\n",
    "\n",
    "来源：力扣（LeetCode）\n",
    "链接：https://leetcode-cn.com/problems/construct-binary-tree-from-preorder-and-inorder-traversal\n",
    "著作权归领扣网络所有。商业转载请联系官方授权，非商业转载请注明出处。"
   ]
  },
  {
   "cell_type": "code",
   "execution_count": 2,
   "metadata": {},
   "outputs": [],
   "source": [
    "class TreeNode:\n",
    "    def __init__(self, x):\n",
    "        self.val = x\n",
    "        self.left = None\n",
    "        self.right = None\n",
    "class Solution:\n",
    "    def buildTree(self, preorder, inorder):\n",
    "        pre_idx = 0\n",
    "        # 这是个inorder的key是元素值， val是index的字典，用空间换时间\n",
    "        # 要不然每次inorder.index()查找元素要O（n）时间\n",
    "        idx_map = {val: idx for idx, val in enumerate(inorder)}\n",
    "        def helper(in_left = 0, in_right = len(inorder)):\n",
    "            nonlocal pre_idx\n",
    "            # in_left, in_right是判断递归结束的条件\n",
    "            if in_left == in_right:\n",
    "                return None\n",
    "            root_val = preorder[pre_idx]\n",
    "            root = TreeNode(root_val)\n",
    "            pre_idx += 1\n",
    "            index = idx_map[root_val]\n",
    "            \n",
    "            root.left = helper(in_left, index)\n",
    "            root.right = helper(index+1, in_right)\n",
    "            return root\n",
    "        return helper()\n",
    "            "
   ]
  },
  {
   "cell_type": "markdown",
   "metadata": {},
   "source": [
    "### 从中序与后序遍历构造二叉树\n",
    "注意:\n",
    "你可以假设树中没有重复的元素。\n",
    "\n",
    "例如，给出\n",
    "\n",
    "中序遍历 inorder = [9,3,15,20,7]\n",
    "后序遍历 postorder = [9,15,7,20,3]\n",
    "返回如下的二叉树：\n",
    "\n",
    "        3\n",
    "       / \\\n",
    "      9  20\n",
    "        /  \\\n",
    "       15   7\n",
    "\n",
    "来源：力扣（LeetCode）\n",
    "链接：https://leetcode-cn.com/problems/construct-binary-tree-from-inorder-and-postorder-traversal\n",
    "著作权归领扣网络所有。商业转载请联系官方授权，非商业转载请注明出处。"
   ]
  },
  {
   "cell_type": "code",
   "execution_count": 3,
   "metadata": {},
   "outputs": [],
   "source": [
    "def buildTree1(inorder, postorder):\n",
    "    post_idx = len(postorder) - 1\n",
    "    idx_map = {val: idx for idx, val in enumerate(inorder)}\n",
    "    \n",
    "    def helper(in_left = 0, in_right = len(postorder)):\n",
    "        nonlocal post_idx\n",
    "        if in_left == in_right:\n",
    "            return None\n",
    "        root_val = postorder[post_idx]\n",
    "        root = TreeNode(root_val)\n",
    "        index = idx_map[root_val]\n",
    "        post_idx -= 1\n",
    "        root.right = helper(index+1, in_right)\n",
    "        root.left = helper(in_left, index)\n",
    "        return root\n",
    "    return helper()"
   ]
  },
  {
   "cell_type": "code",
   "execution_count": null,
   "metadata": {},
   "outputs": [],
   "source": []
  }
 ],
 "metadata": {
  "kernelspec": {
   "display_name": "Python 3",
   "language": "python",
   "name": "python3"
  },
  "language_info": {
   "codemirror_mode": {
    "name": "ipython",
    "version": 3
   },
   "file_extension": ".py",
   "mimetype": "text/x-python",
   "name": "python",
   "nbconvert_exporter": "python",
   "pygments_lexer": "ipython3",
   "version": "3.6.8"
  },
  "toc": {
   "base_numbering": 1,
   "nav_menu": {},
   "number_sections": true,
   "sideBar": true,
   "skip_h1_title": false,
   "title_cell": "Table of Contents",
   "title_sidebar": "Contents",
   "toc_cell": false,
   "toc_position": {},
   "toc_section_display": true,
   "toc_window_display": false
  }
 },
 "nbformat": 4,
 "nbformat_minor": 2
}
