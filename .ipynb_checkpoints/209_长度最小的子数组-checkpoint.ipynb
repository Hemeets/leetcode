{
 "cells": [
  {
   "cell_type": "markdown",
   "metadata": {},
   "source": [
    "给定一个含有 n 个正整数的数组和一个正整数 s ，找出该数组中满足其和 ≥ s 的长度最小的连续子数组。如果不存在符合条件的连续子数组，返回 0。\n",
    "\n",
    "示例: \n",
    "\n",
    "输入: s = 7, nums = [2,3,1,2,4,3]\n",
    "输出: 2\n",
    "解释: 子数组 [4,3] 是该条件下的长度最小的连续子数组。\n",
    "进阶:\n",
    "\n",
    "如果你已经完成了O(n) 时间复杂度的解法, 请尝试 O(n log n) 时间复杂度的解法。\n",
    "\n",
    "来源：力扣（LeetCode）\n",
    "链接：https://leetcode-cn.com/problems/minimum-size-subarray-sum\n",
    "著作权归领扣网络所有。商业转载请联系官方授权，非商业转载请注明出处。"
   ]
  },
  {
   "cell_type": "code",
   "execution_count": 20,
   "metadata": {},
   "outputs": [],
   "source": [
    "def minSubArrayLen(s, nums):\n",
    "    # 这是个nlogn的方法\n",
    "    SumNum = []\n",
    "    n = len(nums)\n",
    "    Sum = 0\n",
    "    for i in range(n):\n",
    "        Sum += nums[i]\n",
    "        SumNum.append(Sum)\n",
    "    print('SumNum',SumNum)\n",
    "    min_len = n + 1\n",
    "    \n",
    "    tmp = 0\n",
    "    for i in range(n):\n",
    "        if i > 0:\n",
    "            tmp = SumNum[i-1]\n",
    "        high = n\n",
    "        low = i\n",
    "        if SumNum[n-1] - tmp < s:\n",
    "            break\n",
    "        while low < high:\n",
    "            mid = (low + high) // 2\n",
    "            if SumNum[mid] - tmp >= s:\n",
    "                high = mid\n",
    "            else:\n",
    "                low = mid + 1\n",
    "            print(\"i, low: \", i, low)\n",
    "        if low < n:    \n",
    "            min_len = min(min_len, low - i + 1)\n",
    "        print(\"min_len\", min_len)\n",
    "    \n",
    "    return 0 if min_len == n+1 else min_len\n",
    "        "
   ]
  },
  {
   "cell_type": "code",
   "execution_count": 21,
   "metadata": {},
   "outputs": [
    {
     "name": "stdout",
     "output_type": "stream",
     "text": [
      "SumNum [1, 3, 6, 10, 15]\n",
      "i, low:  0 3\n",
      "i, low:  0 3\n",
      "i, low:  0 4\n",
      "min_len 5\n",
      "i, low:  1 4\n",
      "i, low:  1 4\n",
      "min_len 4\n",
      "i, low:  2 4\n",
      "i, low:  2 4\n",
      "min_len 3\n",
      "i, low:  3 5\n",
      "min_len 3\n",
      "i, low:  4 5\n",
      "min_len 3\n"
     ]
    },
    {
     "data": {
      "text/plain": [
       "3"
      ]
     },
     "execution_count": 21,
     "metadata": {},
     "output_type": "execute_result"
    }
   ],
   "source": [
    "s = 11\n",
    "nums = [1,2,3,4,5]\n",
    "minSubArrayLen(s, nums)"
   ]
  },
  {
   "cell_type": "markdown",
   "metadata": {},
   "source": [
    "下面用O（n）的双指针法：\n",
    "#### 方法 4：使用两个指针\n",
    "想法\n",
    "\n",
    "到现在为止，我们都保持子数组的左端点不动去找右端点。其实一旦知道这个位置开始的子数组不会是最优答案了，我们就可以移动左端点。我们用 2 个指针，一个指向数组开始的位置，一个指向数组最后的位置，并维护区间内的和 \\text{sum}sum 大于等于 ss 同时数组长度最小。\n",
    "\n",
    "算法\n",
    "\n",
    "- 初始化 left 指向 0 且初始化 sum 为 0\n",
    "- 遍历 nums 数组：\n",
    "   - 将nums[i] 添加到 sum\n",
    "   - 当 sum 大于等于 ss 时：\n",
    "      - 更新 ans = min(ans, i+1-left)，其中i+1−left是当前子数组的长度\n",
    "      - 然后我们可以移动左端点，因为以它为开头的满足 sum≥s 条件的最短子数组已经求出来了\n",
    "      - 将 sum 减去 nums[left] 然后增加left\n",
    "\n",
    "作者：LeetCode\n",
    "链接：https://leetcode-cn.com/problems/two-sum/solution/chang-du-zui-xiao-de-zi-shu-zu-by-leetcode/\n",
    "来源：力扣（LeetCode）\n",
    "著作权归作者所有。商业转载请联系作者获得授权，非商业转载请注明出处。"
   ]
  },
  {
   "cell_type": "code",
   "execution_count": 24,
   "metadata": {},
   "outputs": [],
   "source": [
    "def minSubArrayLen1(s, nums):\n",
    "    n = len(nums)\n",
    "    min_len = n + 1\n",
    "    left = 0\n",
    "    Sum = 0\n",
    "    for i in range(n):\n",
    "        Sum += nums[i]\n",
    "        while Sum >= s:\n",
    "            min_len = min(min_len, i + 1 - left)\n",
    "            Sum -= nums[left]\n",
    "            left += 1\n",
    "    return 0 if min_len == n + 1 else min_len"
   ]
  },
  {
   "cell_type": "code",
   "execution_count": 25,
   "metadata": {},
   "outputs": [
    {
     "data": {
      "text/plain": [
       "3"
      ]
     },
     "execution_count": 25,
     "metadata": {},
     "output_type": "execute_result"
    }
   ],
   "source": [
    "s = 11\n",
    "nums = [1,2,3,4,5]\n",
    "minSubArrayLen1(s, nums)"
   ]
  },
  {
   "cell_type": "code",
   "execution_count": null,
   "metadata": {},
   "outputs": [],
   "source": []
  }
 ],
 "metadata": {
  "kernelspec": {
   "display_name": "Python 3",
   "language": "python",
   "name": "python3"
  },
  "language_info": {
   "codemirror_mode": {
    "name": "ipython",
    "version": 3
   },
   "file_extension": ".py",
   "mimetype": "text/x-python",
   "name": "python",
   "nbconvert_exporter": "python",
   "pygments_lexer": "ipython3",
   "version": "3.6.8"
  },
  "toc": {
   "base_numbering": 1,
   "nav_menu": {},
   "number_sections": true,
   "sideBar": true,
   "skip_h1_title": false,
   "title_cell": "Table of Contents",
   "title_sidebar": "Contents",
   "toc_cell": false,
   "toc_position": {},
   "toc_section_display": true,
   "toc_window_display": false
  }
 },
 "nbformat": 4,
 "nbformat_minor": 2
}
