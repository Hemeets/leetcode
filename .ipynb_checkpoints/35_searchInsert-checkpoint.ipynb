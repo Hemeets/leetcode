{
 "cells": [
  {
   "cell_type": "markdown",
   "metadata": {},
   "source": [
    "给定一个排序数组和一个目标值，在数组中找到目标值，并返回其索引。如果目标值不存在于数组中，返回它将会被按顺序插入的位置。\n",
    "\n",
    "你可以假设数组中无重复元素。\n",
    "\n",
    "示例 1:\n",
    "\n",
    "输入: [1,3,5,6], 5\n",
    "输出: 2\n",
    "示例 2:\n",
    "\n",
    "输入: [1,3,5,6], 2\n",
    "输出: 1\n",
    "示例 3:\n",
    "\n",
    "输入: [1,3,5,6], 7\n",
    "输出: 4\n",
    "示例 4:\n",
    "\n",
    "输入: [1,3,5,6], 0\n",
    "输出: 0\n"
   ]
  },
  {
   "cell_type": "code",
   "execution_count": 56,
   "metadata": {},
   "outputs": [],
   "source": [
    "def searchInsert(nums, target):\n",
    "    # 就基本的分治法\n",
    "    low = 0\n",
    "    high = len(nums)-1\n",
    "    middle = high // 2\n",
    "    print(low, middle, high)\n",
    "    while low <= high:\n",
    "\n",
    "        if target < nums[middle]:\n",
    "            high = middle - 1\n",
    "        elif target > nums[middle]:\n",
    "            low = middle + 1\n",
    "        else:\n",
    "            return middle\n",
    "        middle = (low + high) // 2\n",
    "        print(low, middle, high)\n",
    "    return low "
   ]
  },
  {
   "cell_type": "code",
   "execution_count": 55,
   "metadata": {},
   "outputs": [
    {
     "name": "stdout",
     "output_type": "stream",
     "text": [
      "0 2 5\n",
      "0 0 1\n",
      "1 1 1\n",
      "1 0 0\n",
      "1\n"
     ]
    }
   ],
   "source": [
    "nums =  [1,3,5,6,8,9]\n",
    "target1, target2 = 5, 2\n",
    "print(searchInsert(nums, target2))"
   ]
  },
  {
   "cell_type": "code",
   "execution_count": null,
   "metadata": {},
   "outputs": [],
   "source": []
  },
  {
   "cell_type": "code",
   "execution_count": 2,
   "metadata": {},
   "outputs": [],
   "source": [
    "# 这个比上面那个好， 条理清晰一些\n",
    "def searchInsert(nums,target: int) -> int:\n",
    "    low = 0\n",
    "    high = len(nums)-1\n",
    "    if target > nums[high]: return high + 1\n",
    "\n",
    "    while low < high:\n",
    "        middle = low + (high-low)//2\n",
    "\n",
    "        if target <= nums[middle]:\n",
    "            high = middle\n",
    "        else:\n",
    "            low = middle + 1\n",
    "\n",
    "    return low "
   ]
  },
  {
   "cell_type": "code",
   "execution_count": null,
   "metadata": {},
   "outputs": [],
   "source": []
  }
 ],
 "metadata": {
  "kernelspec": {
   "display_name": "Python 3",
   "language": "python",
   "name": "python3"
  },
  "language_info": {
   "codemirror_mode": {
    "name": "ipython",
    "version": 3
   },
   "file_extension": ".py",
   "mimetype": "text/x-python",
   "name": "python",
   "nbconvert_exporter": "python",
   "pygments_lexer": "ipython3",
   "version": "3.6.8"
  },
  "toc": {
   "base_numbering": 1,
   "nav_menu": {},
   "number_sections": true,
   "sideBar": true,
   "skip_h1_title": false,
   "title_cell": "Table of Contents",
   "title_sidebar": "Contents",
   "toc_cell": false,
   "toc_position": {},
   "toc_section_display": true,
   "toc_window_display": false
  }
 },
 "nbformat": 4,
 "nbformat_minor": 2
}
