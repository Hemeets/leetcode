{
 "cells": [
  {
   "cell_type": "markdown",
   "metadata": {},
   "source": [
    "给定长度为 n 的整数数组 nums，其中 n > 1，返回输出数组 output ，其中 output[i] 等于 nums 中除 nums[i] 之外其余各元素的乘积。\n",
    "\n",
    "示例:\n",
    "\n",
    "输入: [1,2,3,4]\n",
    "输出: [24,12,8,6]\n",
    "说明: 请不要使用除法，且在 O(n) 时间复杂度内完成此题。\n",
    "\n",
    "进阶：\n",
    "你可以在常数空间复杂度内完成这个题目吗？（ 出于对空间复杂度分析的目的，输出数组不被视为额外空间。）\n",
    "\n",
    "来源：力扣（LeetCode）\n",
    "链接：https://leetcode-cn.com/problems/product-of-array-except-self\n",
    "著作权归领扣网络所有。商业转载请联系官方授权，非商业转载请注明出处。"
   ]
  },
  {
   "cell_type": "code",
   "execution_count": 5,
   "metadata": {},
   "outputs": [],
   "source": [
    "# 注意不能用除法；\n",
    "# 想法是： output[k] 等于左边所有的乘积 * 右边所有乘积\n",
    "def productExceptSelf(nums):\n",
    "\n",
    "    L = len(nums)\n",
    "    output = []\n",
    "    k = 1\n",
    "    # 这个循环记录当前i的左边所有乘积\n",
    "    for i in range(L):\n",
    "        output.append(k)\n",
    "        k *= nums[i]\n",
    "    # print(output)\n",
    "    # 接下来记录右边所有乘积，再乘到一起\n",
    "    k = 1\n",
    "    for i in range(L-1, -1, -1):\n",
    "        output[i] *= k\n",
    "        k *= nums[i]\n",
    "    return output\n"
   ]
  },
  {
   "cell_type": "code",
   "execution_count": 6,
   "metadata": {},
   "outputs": [
    {
     "data": {
      "text/plain": [
       "[24, 12, 8, 6]"
      ]
     },
     "execution_count": 6,
     "metadata": {},
     "output_type": "execute_result"
    }
   ],
   "source": [
    "nums = [1,2,3,4]\n",
    "productExceptSelf(nums)"
   ]
  },
  {
   "cell_type": "code",
   "execution_count": null,
   "metadata": {},
   "outputs": [],
   "source": []
  }
 ],
 "metadata": {
  "kernelspec": {
   "display_name": "Python 3",
   "language": "python",
   "name": "python3"
  },
  "language_info": {
   "codemirror_mode": {
    "name": "ipython",
    "version": 3
   },
   "file_extension": ".py",
   "mimetype": "text/x-python",
   "name": "python",
   "nbconvert_exporter": "python",
   "pygments_lexer": "ipython3",
   "version": "3.6.8"
  },
  "toc": {
   "base_numbering": 1,
   "nav_menu": {},
   "number_sections": true,
   "sideBar": true,
   "skip_h1_title": false,
   "title_cell": "Table of Contents",
   "title_sidebar": "Contents",
   "toc_cell": false,
   "toc_position": {},
   "toc_section_display": true,
   "toc_window_display": false
  }
 },
 "nbformat": 4,
 "nbformat_minor": 2
}
