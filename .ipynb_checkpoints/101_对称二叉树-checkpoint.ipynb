{
 "cells": [
  {
   "cell_type": "markdown",
   "metadata": {},
   "source": [
    "给定一个二叉树，检查它是否是镜像对称的。\n",
    "\n",
    "例如，二叉树 [1,2,2,3,4,4,3] 是对称的。\n",
    "\n",
    "        1\n",
    "       / \\\n",
    "      2   2\n",
    "     / \\ / \\\n",
    "    3  4 4  3\n",
    "但是下面这个 [1,2,2,null,3,null,3] 则不是镜像对称的:\n",
    "\n",
    "        1\n",
    "       / \\\n",
    "      2   2\n",
    "       \\   \\\n",
    "       3    3\n",
    "说明:\n",
    "\n",
    "如果你可以运用递归和迭代两种方法解决这个问题，会很加分。\n",
    "\n",
    "来源：力扣（LeetCode）\n",
    "链接：https://leetcode-cn.com/problems/symmetric-tree\n",
    "著作权归领扣网络所有。商业转载请联系官方授权，非商业转载请注明出处。"
   ]
  },
  {
   "cell_type": "code",
   "execution_count": 2,
   "metadata": {},
   "outputs": [],
   "source": [
    "class TreeNode:\n",
    "    def __init__(self, x):\n",
    "        self.val = x\n",
    "        self.left = None\n",
    "        self.right = None\n",
    "class Solution:\n",
    "    def isSymmetric(self, root: TreeNode) -> bool:\n",
    "        return self.isMirror(root, root)\n",
    "    def isMirror(self, t1, t2):\n",
    "        # 注意这里的t1，t2是关于镜子对称的两个树，而不要理解为一个树的两个子节点\n",
    "        if t1 is None and t2 is None:\n",
    "            return True\n",
    "        if t1 is None or t2 is None:\n",
    "            return False\n",
    "        return t1.val == t2.val and \\\n",
    "                self.isMirror(t1.right, t2.left) and \\\n",
    "                self.isMirror(t1.left, t2.right)"
   ]
  },
  {
   "cell_type": "code",
   "execution_count": 6,
   "metadata": {},
   "outputs": [],
   "source": [
    "#下面用迭代写一下：\n",
    "from queue import Queue\n",
    "def isSymmetric1(root):\n",
    "    if not root:\n",
    "        return True\n",
    "    if root.left is None and root.right is None:\n",
    "        return True\n",
    "    if root.left is None or root.right is None:\n",
    "        return False\n",
    "    q = Queue()\n",
    "    q.put(root.left)\n",
    "    q.put(root.right)\n",
    "    \n",
    "    while not q.empty():\n",
    "        t1 = q.get()\n",
    "        t2 = q.get()\n",
    "        if t1 is None and t2 is None: continue\n",
    "        if t1 is None or t2 is None: return False\n",
    "        if t1.val != t2.val: return False\n",
    "        q.put(t1.left)\n",
    "        q.put(t2.right)\n",
    "        q.put(t1.right)\n",
    "        q.put(t2.left)\n",
    "    return True\n",
    "        "
   ]
  },
  {
   "cell_type": "code",
   "execution_count": 4,
   "metadata": {},
   "outputs": [],
   "source": [
    "a = []\n",
    "a.append(None)"
   ]
  },
  {
   "cell_type": "code",
   "execution_count": 5,
   "metadata": {},
   "outputs": [
    {
     "data": {
      "text/plain": [
       "[None]"
      ]
     },
     "execution_count": 5,
     "metadata": {},
     "output_type": "execute_result"
    }
   ],
   "source": [
    "a"
   ]
  },
  {
   "cell_type": "code",
   "execution_count": null,
   "metadata": {},
   "outputs": [],
   "source": []
  }
 ],
 "metadata": {
  "kernelspec": {
   "display_name": "Python 3",
   "language": "python",
   "name": "python3"
  },
  "language_info": {
   "codemirror_mode": {
    "name": "ipython",
    "version": 3
   },
   "file_extension": ".py",
   "mimetype": "text/x-python",
   "name": "python",
   "nbconvert_exporter": "python",
   "pygments_lexer": "ipython3",
   "version": "3.6.8"
  },
  "toc": {
   "base_numbering": 1,
   "nav_menu": {},
   "number_sections": true,
   "sideBar": true,
   "skip_h1_title": false,
   "title_cell": "Table of Contents",
   "title_sidebar": "Contents",
   "toc_cell": false,
   "toc_position": {},
   "toc_section_display": true,
   "toc_window_display": false
  }
 },
 "nbformat": 4,
 "nbformat_minor": 2
}
