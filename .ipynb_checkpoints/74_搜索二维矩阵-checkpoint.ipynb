{
 "cells": [
  {
   "cell_type": "markdown",
   "metadata": {},
   "source": [
    "编写一个高效的算法来判断 m x n 矩阵中，是否存在一个目标值。该矩阵具有如下特性：\n",
    "\n",
    "每行中的整数从左到右按升序排列。\n",
    "每行的第一个整数大于前一行的最后一个整数。\n",
    "示例 1:\n",
    "\n",
    "输入:\n",
    "matrix = [\n",
    "  [1,   3,  5,  7],\n",
    "  [10, 11, 16, 20],\n",
    "  [23, 30, 34, 50]\n",
    "]\n",
    "target = 3\n",
    "输出: true\n",
    "示例 2:\n",
    "\n",
    "输入:\n",
    "matrix = [\n",
    "  [1,   3,  5,  7],\n",
    "  [10, 11, 16, 20],\n",
    "  [23, 30, 34, 50]\n",
    "]\n",
    "target = 13\n",
    "输出: false\n",
    "\n",
    "来源：力扣（LeetCode）\n",
    "链接：https://leetcode-cn.com/problems/search-a-2d-matrix\n",
    "著作权归领扣网络所有。商业转载请联系官方授权，非商业转载请注明出处。"
   ]
  },
  {
   "cell_type": "code",
   "execution_count": 3,
   "metadata": {},
   "outputs": [],
   "source": [
    "class Solution:\n",
    "    \n",
    "    def searchMatrix(self, matrix, target):\n",
    "        m = len(matrix)\n",
    "        if m == 0:\n",
    "            return False\n",
    "        n = len(matrix[0])\n",
    "        l, r = 0, m*n-1\n",
    "        while l <= r:\n",
    "            mid = (l+r)//2\n",
    "            val = matrix[mid//n][mid%n]\n",
    "            # 就这里是精髓\n",
    "            if target == val:\n",
    "                return True\n",
    "            elif target > val:\n",
    "                l = mid + 1\n",
    "            else:\n",
    "                r = mid - 1\n",
    "        return False\n",
    "                "
   ]
  },
  {
   "cell_type": "code",
   "execution_count": 4,
   "metadata": {},
   "outputs": [
    {
     "data": {
      "text/plain": [
       "True"
      ]
     },
     "execution_count": 4,
     "metadata": {},
     "output_type": "execute_result"
    }
   ],
   "source": [
    "matrix = [ [1, 3, 5, 7], [10, 11, 16, 20], [23, 30, 34, 50] ] \n",
    "target = 3\n",
    "Solution().searchMatrix(matrix, target)"
   ]
  },
  {
   "cell_type": "code",
   "execution_count": null,
   "metadata": {},
   "outputs": [],
   "source": []
  }
 ],
 "metadata": {
  "kernelspec": {
   "display_name": "Python 3",
   "language": "python",
   "name": "python3"
  },
  "language_info": {
   "codemirror_mode": {
    "name": "ipython",
    "version": 3
   },
   "file_extension": ".py",
   "mimetype": "text/x-python",
   "name": "python",
   "nbconvert_exporter": "python",
   "pygments_lexer": "ipython3",
   "version": "3.6.8"
  },
  "toc": {
   "base_numbering": 1,
   "nav_menu": {},
   "number_sections": true,
   "sideBar": true,
   "skip_h1_title": false,
   "title_cell": "Table of Contents",
   "title_sidebar": "Contents",
   "toc_cell": false,
   "toc_position": {},
   "toc_section_display": true,
   "toc_window_display": false
  }
 },
 "nbformat": 4,
 "nbformat_minor": 2
}
