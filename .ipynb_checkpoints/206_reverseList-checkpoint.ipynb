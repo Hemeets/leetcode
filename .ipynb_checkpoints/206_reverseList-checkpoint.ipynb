{
 "cells": [
  {
   "cell_type": "markdown",
   "metadata": {},
   "source": [
    "反转一个单链表。\n",
    "\n",
    "示例:\n",
    "\n",
    "输入: 1->2->3->4->5->NULL\n",
    "输出: 5->4->3->2->1->NULL"
   ]
  },
  {
   "cell_type": "code",
   "execution_count": 1,
   "metadata": {},
   "outputs": [],
   "source": [
    "class ListNode:\n",
    "    def __init__(self, x):\n",
    "        self.val = x\n",
    "        self.next = None"
   ]
  },
  {
   "cell_type": "code",
   "execution_count": null,
   "metadata": {},
   "outputs": [],
   "source": [
    "def reverseList(head):\n",
    "    cur = head #这个也要有，要是没有，直接在head上搞必然给原来的head弄没了\n",
    "    prev = None # 最终要得到这个，这个一定要有的，因为prev就表示你反转后的链表\n",
    "    while cur:\n",
    "        next_temp = cur.next\n",
    "        # nexttemp的任务是接收cur.next\n",
    "        cur.next = prev\n",
    "        # 既然已经得到了nexttemp，cur就要改成反转后的形式，即修改cur.next\n",
    "        # 这样就做好了一个prev，接下来就该更新prev了\n",
    "        prev = cur\n",
    "        # 更新 prev\n",
    "        cur = next_temp\n",
    "        # 更新cur\n",
    "    return prev\n",
    "        "
   ]
  }
 ],
 "metadata": {
  "kernelspec": {
   "display_name": "Python 3",
   "language": "python",
   "name": "python3"
  },
  "language_info": {
   "codemirror_mode": {
    "name": "ipython",
    "version": 3
   },
   "file_extension": ".py",
   "mimetype": "text/x-python",
   "name": "python",
   "nbconvert_exporter": "python",
   "pygments_lexer": "ipython3",
   "version": "3.6.8"
  },
  "toc": {
   "base_numbering": 1,
   "nav_menu": {},
   "number_sections": true,
   "sideBar": true,
   "skip_h1_title": false,
   "title_cell": "Table of Contents",
   "title_sidebar": "Contents",
   "toc_cell": false,
   "toc_position": {},
   "toc_section_display": true,
   "toc_window_display": false
  }
 },
 "nbformat": 4,
 "nbformat_minor": 2
}
