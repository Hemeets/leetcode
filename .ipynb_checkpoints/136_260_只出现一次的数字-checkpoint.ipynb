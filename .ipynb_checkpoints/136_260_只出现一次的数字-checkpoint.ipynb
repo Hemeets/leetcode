{
 "cells": [
  {
   "cell_type": "markdown",
   "metadata": {},
   "source": [
    "### 只出现一次的数字\n",
    "给定一个非空整数数组，除了某个元素只出现一次以外，其余每个元素均出现两次。找出那个只出现了一次的元素。\n",
    "\n",
    "说明：\n",
    "\n",
    "你的算法应该具有线性时间复杂度。 你可以不使用额外空间来实现吗？\n",
    "\n",
    "示例 1:\n",
    "\n",
    "输入: [2,2,1]\n",
    "输出: 1\n",
    "示例 2:\n",
    "\n",
    "输入: [4,1,2,1,2]\n",
    "输出: 4\n"
   ]
  },
  {
   "cell_type": "code",
   "execution_count": 11,
   "metadata": {},
   "outputs": [],
   "source": [
    "def singleNumber1(nums):\n",
    "    # 用集合，需要额外n的空间复杂度\n",
    "    s = set()\n",
    "    for n in nums:\n",
    "        if n in s:\n",
    "            s.remove(n)\n",
    "        else:\n",
    "            s.add(n)\n",
    "    return s.pop()"
   ]
  },
  {
   "cell_type": "code",
   "execution_count": 12,
   "metadata": {},
   "outputs": [
    {
     "data": {
      "text/plain": [
       "1"
      ]
     },
     "execution_count": 12,
     "metadata": {},
     "output_type": "execute_result"
    }
   ],
   "source": [
    "nums = [2,2,1]\n",
    "singleNumber1(nums)"
   ]
  },
  {
   "cell_type": "code",
   "execution_count": 17,
   "metadata": {},
   "outputs": [],
   "source": [
    "def singleNumber2(nums):\n",
    "    # 数学\n",
    "    return 2*sum(set(nums)) - sum(nums)"
   ]
  },
  {
   "cell_type": "code",
   "execution_count": 18,
   "metadata": {},
   "outputs": [
    {
     "data": {
      "text/plain": [
       "1"
      ]
     },
     "execution_count": 18,
     "metadata": {},
     "output_type": "execute_result"
    }
   ],
   "source": [
    "singleNumber2(nums)"
   ]
  },
  {
   "cell_type": "code",
   "execution_count": 21,
   "metadata": {},
   "outputs": [],
   "source": [
    "def singleNumber3(nums):\n",
    "    # 异或\n",
    "    s = 0\n",
    "    for i in nums:\n",
    "        s ^= i\n",
    "    return s"
   ]
  },
  {
   "cell_type": "code",
   "execution_count": 22,
   "metadata": {},
   "outputs": [
    {
     "data": {
      "text/plain": [
       "1"
      ]
     },
     "execution_count": 22,
     "metadata": {},
     "output_type": "execute_result"
    }
   ],
   "source": [
    "singleNumber3(nums)"
   ]
  },
  {
   "cell_type": "markdown",
   "metadata": {},
   "source": [
    "### 只出现一次的数字III\n",
    "给定一个整数数组 nums，其中恰好有两个元素只出现一次，其余所有元素均出现两次。 找出只出现一次的那两个元素。\n",
    "\n",
    "示例 :\n",
    "\n",
    "输入: [1,2,1,3,2,5]\n",
    "输出: [3,5]\n",
    "注意：\n",
    "\n",
    "结果输出的顺序并不重要，对于上面的例子， [5, 3] 也是正确答案。\n",
    "你的算法应该具有线性时间复杂度。你能否仅使用常数空间复杂度来实现？\n",
    "\n",
    "来源：力扣（LeetCode）\n",
    "链接：https://leetcode-cn.com/problems/single-number-iii\n",
    "著作权归领扣网络所有。商业转载请联系官方授权，非商业转载请注明出处。"
   ]
  },
  {
   "cell_type": "markdown",
   "metadata": {},
   "source": [
    "想法：先异或遍历找到两个不同的a，b，得到的是xor=a^b，重点是把a，b分开。方法是找xor的二进制表达中一个为1的位（因为a，b不同必然至xor二进制少有一位不同），找到之后，根据这个位把a，b分开，就行了。其他数无所谓，它们分到和ab哪个组都无所谓。"
   ]
  },
  {
   "cell_type": "code",
   "execution_count": 18,
   "metadata": {},
   "outputs": [],
   "source": [
    "def singleNumbers3(nums):\n",
    "    xor = 0\n",
    "    for n in nums:\n",
    "        xor ^= n\n",
    "    bit = 1\n",
    "    while bit & xor == 0:\n",
    "        bit = bit << 1\n",
    "    a, b = 0, 0\n",
    "    for n in nums:\n",
    "        if n & bit == 0:\n",
    "            a ^= n\n",
    "        else:\n",
    "            b ^= n\n",
    "    return [a, b]\n",
    "    "
   ]
  },
  {
   "cell_type": "code",
   "execution_count": 19,
   "metadata": {},
   "outputs": [
    {
     "data": {
      "text/plain": [
       "[5, 3]"
      ]
     },
     "execution_count": 19,
     "metadata": {},
     "output_type": "execute_result"
    }
   ],
   "source": [
    "nums = [1,2,1,3,2,5]\n",
    "singleNumbers3(nums)"
   ]
  },
  {
   "cell_type": "code",
   "execution_count": null,
   "metadata": {},
   "outputs": [],
   "source": []
  }
 ],
 "metadata": {
  "kernelspec": {
   "display_name": "Python 3",
   "language": "python",
   "name": "python3"
  },
  "language_info": {
   "codemirror_mode": {
    "name": "ipython",
    "version": 3
   },
   "file_extension": ".py",
   "mimetype": "text/x-python",
   "name": "python",
   "nbconvert_exporter": "python",
   "pygments_lexer": "ipython3",
   "version": "3.6.8"
  },
  "toc": {
   "base_numbering": 1,
   "nav_menu": {},
   "number_sections": true,
   "sideBar": true,
   "skip_h1_title": false,
   "title_cell": "Table of Contents",
   "title_sidebar": "Contents",
   "toc_cell": false,
   "toc_position": {},
   "toc_section_display": true,
   "toc_window_display": false
  }
 },
 "nbformat": 4,
 "nbformat_minor": 2
}
