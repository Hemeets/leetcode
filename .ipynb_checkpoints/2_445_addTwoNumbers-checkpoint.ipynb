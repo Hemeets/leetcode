{
 "cells": [
  {
   "cell_type": "markdown",
   "metadata": {},
   "source": [
    "### 两数相加\n",
    "给出两个 非空 的链表用来表示两个非负的整数。其中，它们各自的位数是按照 **逆序** 的方式存储的，并且它们的每个节点只能存储 一位 数字。\n",
    "\n",
    "如果，我们将这两个数相加起来，则会返回一个新的链表来表示它们的和。\n",
    "\n",
    "您可以假设除了数字 0 之外，这两个数都不会以 0 开头。\n",
    "\n",
    "示例：\n",
    "\n",
    "输入：(2 -> 4 -> 3) + (5 -> 6 -> 4)\n",
    "输出：7 -> 0 -> 8\n",
    "原因：342 + 465 = 807"
   ]
  },
  {
   "cell_type": "code",
   "execution_count": 1,
   "metadata": {},
   "outputs": [],
   "source": [
    "class ListNode:\n",
    "    def __init__(self, x):\n",
    "        self.val = x\n",
    "        self.next = None\n",
    "def addTwoNumbers(L1, L2):\n",
    "    carry = 0\n",
    "    node = ListNode(0)   ## 先放一个初始node，对这道题的理解很重要，也方便输出\n",
    "    out_last = node\n",
    "    while L1 or L2 or carry:\n",
    "        sum = 0\n",
    "        sum += carry\n",
    "        if L1:\n",
    "            sum += L1.val\n",
    "            L1 = L1.next\n",
    "        if L2:\n",
    "            sum += L2.val\n",
    "            L2 = L2.next\n",
    "        if sum >= 10:\n",
    "            carry = 1\n",
    "            sum = sum % 10\n",
    "        else:\n",
    "            carry = 0\n",
    "        out_last.next = ListNode(sum)\n",
    "        out_last = out_last.next\n",
    "    return node.next"
   ]
  },
  {
   "cell_type": "markdown",
   "metadata": {},
   "source": [
    "#### 制作输入ListNode\n",
    "笨方法"
   ]
  },
  {
   "cell_type": "code",
   "execution_count": 2,
   "metadata": {},
   "outputs": [],
   "source": [
    "L11 = ListNode(2)\n",
    "L12 = ListNode(4)\n",
    "L13 = ListNode(3)\n",
    "L11.next = L12\n",
    "L12.next = L13\n",
    "L21 = ListNode(5)\n",
    "L22 = ListNode(6)\n",
    "L23 = ListNode(4)\n",
    "L21.next = L22\n",
    "L22.next = L23"
   ]
  },
  {
   "cell_type": "markdown",
   "metadata": {},
   "source": [
    "#### 定义函数来制作输入数据"
   ]
  },
  {
   "cell_type": "code",
   "execution_count": 3,
   "metadata": {},
   "outputs": [],
   "source": [
    "def define_input():\n",
    "    Fnode = ListNode(0)\n",
    "    node = Fnode\n",
    "    while True:\n",
    "        x = input(\"please input number: stop when you input #\")\n",
    "        if x == \"#\":\n",
    "            break\n",
    "        node.next = ListNode(int(x))\n",
    "        node = node.next\n",
    "    return Fnode.next"
   ]
  },
  {
   "cell_type": "code",
   "execution_count": 4,
   "metadata": {},
   "outputs": [
    {
     "name": "stdout",
     "output_type": "stream",
     "text": [
      "please input number: stop when you input #1\n",
      "please input number: stop when you input ##\n"
     ]
    }
   ],
   "source": [
    "L1 = define_input()"
   ]
  },
  {
   "cell_type": "code",
   "execution_count": 5,
   "metadata": {},
   "outputs": [
    {
     "name": "stdout",
     "output_type": "stream",
     "text": [
      "please input number: stop when you input #9\n",
      "please input number: stop when you input #9\n",
      "please input number: stop when you input #9\n",
      "please input number: stop when you input ##\n"
     ]
    }
   ],
   "source": [
    "L2 = define_input()"
   ]
  },
  {
   "cell_type": "code",
   "execution_count": 6,
   "metadata": {},
   "outputs": [
    {
     "name": "stdout",
     "output_type": "stream",
     "text": [
      "0\n",
      "0\n",
      "0\n",
      "1\n"
     ]
    }
   ],
   "source": [
    "node = addTwoNumbers(L1, L2)\n",
    "while node:\n",
    "    print(node.val)\n",
    "    node = node.next"
   ]
  },
  {
   "cell_type": "markdown",
   "metadata": {},
   "source": [
    "#### 列表转链表，链表转列表\n",
    "列表形式输入，列表输出"
   ]
  },
  {
   "cell_type": "code",
   "execution_count": 7,
   "metadata": {},
   "outputs": [],
   "source": [
    "def List2ListNode(List):\n",
    "    Fnode = ListNode(0)\n",
    "    node = Fnode\n",
    "    for a in List:\n",
    "        node.next = ListNode(a)\n",
    "        node = node.next\n",
    "    return Fnode.next\n",
    "def ListNode2List(Node):\n",
    "    List = list()\n",
    "    node = Node\n",
    "    while node:\n",
    "        List.append(node.val)\n",
    "        node = node.next\n",
    "    return List"
   ]
  },
  {
   "cell_type": "code",
   "execution_count": 8,
   "metadata": {},
   "outputs": [
    {
     "name": "stdout",
     "output_type": "stream",
     "text": [
      "[4, 6, 8, 0, 1]\n"
     ]
    }
   ],
   "source": [
    "L3 = [1,2,3,4]\n",
    "L4 = [3,4,5,6]\n",
    "input1 = List2ListNode(L3)\n",
    "input2 = List2ListNode(L4)\n",
    "out = addTwoNumbers(input1,input2)\n",
    "output = ListNode2List(out)\n",
    "print(output)"
   ]
  },
  {
   "cell_type": "code",
   "execution_count": null,
   "metadata": {},
   "outputs": [],
   "source": []
  },
  {
   "cell_type": "code",
   "execution_count": null,
   "metadata": {},
   "outputs": [],
   "source": []
  }
 ],
 "metadata": {
  "kernelspec": {
   "display_name": "Python 3",
   "language": "python",
   "name": "python3"
  },
  "language_info": {
   "codemirror_mode": {
    "name": "ipython",
    "version": 3
   },
   "file_extension": ".py",
   "mimetype": "text/x-python",
   "name": "python",
   "nbconvert_exporter": "python",
   "pygments_lexer": "ipython3",
   "version": "3.6.8"
  },
  "toc": {
   "base_numbering": 1,
   "nav_menu": {},
   "number_sections": true,
   "sideBar": true,
   "skip_h1_title": false,
   "title_cell": "Table of Contents",
   "title_sidebar": "Contents",
   "toc_cell": false,
   "toc_position": {},
   "toc_section_display": true,
   "toc_window_display": false
  }
 },
 "nbformat": 4,
 "nbformat_minor": 2
}
