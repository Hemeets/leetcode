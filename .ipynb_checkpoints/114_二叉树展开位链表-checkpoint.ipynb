{
 "cells": [
  {
   "cell_type": "markdown",
   "metadata": {},
   "source": [
    "给定一个二叉树，原地将它展开为链表。\n",
    "\n",
    "例如，给定二叉树\n",
    "\n",
    "        1\n",
    "       / \\\n",
    "      2   5\n",
    "     / \\   \\\n",
    "    3   4   6\n",
    "将其展开为：\n",
    "\n",
    "    1\n",
    "     \\\n",
    "      2\n",
    "       \\\n",
    "        3\n",
    "         \\\n",
    "          4\n",
    "           \\\n",
    "            5\n",
    "             \\\n",
    "              6\n",
    "\n",
    "来源：力扣（LeetCode）\n",
    "链接：https://leetcode-cn.com/problems/flatten-binary-tree-to-linked-list\n",
    "著作权归领扣网络所有。商业转载请联系官方授权，非商业转载请注明出处。"
   ]
  },
  {
   "cell_type": "code",
   "execution_count": 6,
   "metadata": {},
   "outputs": [],
   "source": [
    "class TreeNode:\n",
    "    def __init__(self, x):\n",
    "        self.val = x\n",
    "        self.left = None\n",
    "        self.right = None\n",
    "# 这个牛逼，\n",
    "class Solution:\n",
    "    global last\n",
    "    last = TreeNode(None)\n",
    "    def flatten(self, root: TreeNode) -> None:\n",
    "        \"\"\"\n",
    "        Do not return anything, modify root in-place instead.\n",
    "        \"\"\"\n",
    "        cur = root\n",
    "        while cur:\n",
    "            if cur.left:\n",
    "                p = cur.left\n",
    "                while p.right:\n",
    "                    p = p.right\n",
    "                p.right = cur.right\n",
    "                cur.right = cur.left\n",
    "                cur.left = None\n",
    "            cur = cur.right"
   ]
  },
  {
   "cell_type": "code",
   "execution_count": null,
   "metadata": {},
   "outputs": [],
   "source": []
  }
 ],
 "metadata": {
  "kernelspec": {
   "display_name": "Python 3",
   "language": "python",
   "name": "python3"
  },
  "language_info": {
   "codemirror_mode": {
    "name": "ipython",
    "version": 3
   },
   "file_extension": ".py",
   "mimetype": "text/x-python",
   "name": "python",
   "nbconvert_exporter": "python",
   "pygments_lexer": "ipython3",
   "version": "3.6.8"
  },
  "toc": {
   "base_numbering": 1,
   "nav_menu": {},
   "number_sections": true,
   "sideBar": true,
   "skip_h1_title": false,
   "title_cell": "Table of Contents",
   "title_sidebar": "Contents",
   "toc_cell": false,
   "toc_position": {},
   "toc_section_display": true,
   "toc_window_display": false
  }
 },
 "nbformat": 4,
 "nbformat_minor": 2
}
