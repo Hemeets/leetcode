{
 "cells": [
  {
   "cell_type": "markdown",
   "metadata": {},
   "source": [
    "罗马数字包含以下七种字符: I， V， X， L，C，D 和 M。\n",
    "\n",
    "字符          数值\n",
    "I             1\n",
    "V             5\n",
    "X             10\n",
    "L             50\n",
    "C             100\n",
    "D             500\n",
    "M             1000\n",
    "例如， 罗马数字 2 写做 II ，即为两个并列的 1。12 写做 XII ，即为 X + II 。 27 写做  XXVII, 即为 XX + V + II 。\n",
    "\n",
    "通常情况下，罗马数字中小的数字在大的数字的右边。但也存在特例，例如 4 不写做 IIII，而是 IV。数字 1 在数字 5 的左边，所表示的数等于大数 5 减小数 1 得到的数值 4 。同样地，数字 9 表示为 IX。这个特殊的规则只适用于以下六种情况：\n",
    "\n",
    "I 可以放在 V (5) 和 X (10) 的左边，来表示 4 和 9。\n",
    "X 可以放在 L (50) 和 C (100) 的左边，来表示 40 和 90。 \n",
    "C 可以放在 D (500) 和 M (1000) 的左边，来表示 400 和 900。\n",
    "给定一个罗马数字，将其转换成整数。输入确保在 1 到 3999 的范围内。\n",
    "\n",
    "示例 1:\n",
    "\n",
    "输入: \"III\"\n",
    "输出: 3\n",
    "示例 2:\n",
    "\n",
    "输入: \"IV\"\n",
    "输出: 4\n",
    "示例 3:\n",
    "\n",
    "输入: \"IX\"\n",
    "输出: 9\n",
    "示例 4:\n",
    "\n",
    "输入: \"LVIII\"\n",
    "输出: 58\n",
    "解释: L = 50, V= 5, III = 3.\n",
    "示例 5:\n",
    "\n",
    "输入: \"MCMXCIV\"\n",
    "输出: 1994\n",
    "解释: M = 1000, CM = 900, XC = 90, IV = 4.\n"
   ]
  },
  {
   "cell_type": "code",
   "execution_count": 13,
   "metadata": {},
   "outputs": [],
   "source": [
    "def romanToInt(s):\n",
    "    if not s:\n",
    "        return 0\n",
    "    Ro2Int = {\n",
    "        \"I\": 1,\n",
    "        \"V\": 5,\n",
    "        \"X\": 10,\n",
    "        \"L\": 50,\n",
    "        \"C\": 100,\n",
    "        \"D\": 500,\n",
    "        \"M\": 1000\n",
    "    }\n",
    "    output = Ro2Int[s[0]]\n",
    "    for i in range(1, len(s)):\n",
    "        if (s[i] == 'V' or s[i] == 'X') and s[i-1] == 'I':\n",
    "            tmp = Ro2Int[s[i]] - 2\n",
    "        elif (s[i] == 'L' or s[i] == 'C') and s[i-1] == 'X':\n",
    "            tmp = Ro2Int[s[i]] - 20\n",
    "        elif (s[i] == 'D' or s[i] == 'M') and s[i-1] == 'C':\n",
    "            tmp = Ro2Int[s[i]] - 200\n",
    "        else: tmp = Ro2Int[s[i]]\n",
    "        \n",
    "        print(output)\n",
    "        output += tmp\n",
    "        \n",
    "    return output"
   ]
  },
  {
   "cell_type": "code",
   "execution_count": 12,
   "metadata": {},
   "outputs": [
    {
     "name": "stdout",
     "output_type": "stream",
     "text": [
      "50\n",
      "55\n",
      "56\n",
      "57\n",
      "58\n"
     ]
    }
   ],
   "source": [
    "s = \"LVIII\"\n",
    "print(romanToInt(s))"
   ]
  },
  {
   "cell_type": "markdown",
   "metadata": {},
   "source": [
    "题解中一个很简洁的做法："
   ]
  },
  {
   "cell_type": "code",
   "execution_count": 18,
   "metadata": {},
   "outputs": [],
   "source": [
    "def romanToInt1(s: str) -> int:\n",
    "    d = {'I':1, 'IV':3, 'V':5, 'IX':8, 'X':10, 'XL':30, 'L':50, 'XC':80, 'C':100, 'CD':300, 'D':500, 'CM':800, 'M':1000}\n",
    "    # 注意这个‘IV'是3...\n",
    "    return sum(d.get(s[max(i-1, 0):i+1], d[n]) for i, n in enumerate(s))"
   ]
  },
  {
   "cell_type": "code",
   "execution_count": 17,
   "metadata": {},
   "outputs": [
    {
     "data": {
      "text/plain": [
       "58"
      ]
     },
     "execution_count": 17,
     "metadata": {},
     "output_type": "execute_result"
    }
   ],
   "source": [
    "romanToInt1(s)"
   ]
  },
  {
   "cell_type": "code",
   "execution_count": null,
   "metadata": {},
   "outputs": [],
   "source": []
  }
 ],
 "metadata": {
  "kernelspec": {
   "display_name": "Python 3",
   "language": "python",
   "name": "python3"
  },
  "language_info": {
   "codemirror_mode": {
    "name": "ipython",
    "version": 3
   },
   "file_extension": ".py",
   "mimetype": "text/x-python",
   "name": "python",
   "nbconvert_exporter": "python",
   "pygments_lexer": "ipython3",
   "version": "3.6.8"
  },
  "toc": {
   "base_numbering": 1,
   "nav_menu": {},
   "number_sections": true,
   "sideBar": true,
   "skip_h1_title": false,
   "title_cell": "Table of Contents",
   "title_sidebar": "Contents",
   "toc_cell": false,
   "toc_position": {},
   "toc_section_display": true,
   "toc_window_display": false
  }
 },
 "nbformat": 4,
 "nbformat_minor": 2
}
