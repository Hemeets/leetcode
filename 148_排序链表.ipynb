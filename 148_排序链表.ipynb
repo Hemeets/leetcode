{
 "cells": [
  {
   "cell_type": "markdown",
   "metadata": {},
   "source": [
    "在 O(n log n) 时间复杂度和常数级空间复杂度下，对链表进行排序。\n",
    "\n",
    "示例 1:\n",
    "\n",
    "输入: 4->2->1->3\n",
    "输出: 1->2->3->4\n",
    "示例 2:\n",
    "\n",
    "输入: -1->5->3->4->0\n",
    "输出: -1->0->3->4->5\n",
    "\n",
    "来源：力扣（LeetCode）\n",
    "链接：https://leetcode-cn.com/problems/sort-list\n",
    "著作权归领扣网络所有。商业转载请联系官方授权，非商业转载请注明出处。"
   ]
  },
  {
   "cell_type": "code",
   "execution_count": 1,
   "metadata": {},
   "outputs": [],
   "source": [
    "class ListNode:\n",
    "    def __init__(self, x):\n",
    "        self.val = x\n",
    "        self.next = None\n",
    "# 快排\n",
    "class Solution:\n",
    "    def sortList(self, head: ListNode) -> ListNode:\n",
    "        cur = head\n",
    "        n = 0 \n",
    "        while cur:\n",
    "            cur = cur.next\n",
    "            n += 1  # n即为链表长度\n",
    "        self.sort_quick(head, n)\n",
    "        return head\n",
    "    \n",
    "    def sort_quick(self, head, n):\n",
    "        if n > 0:\n",
    "            mid_value = head.val\n",
    "            low = head\n",
    "            high = low.next\n",
    "            c_l = c_h = 0\n",
    "            while c_h < n - 1:\n",
    "                if high.val < mid_value:\n",
    "                    low = low.next\n",
    "                    c_l += 1\n",
    "                    low.val, high.val = high.val, low.val\n",
    "                high = high.next\n",
    "                c_h += 1\n",
    "            head.val, low.val = low.val, head.val\n",
    "            self.sort_quick(head, c_l)\n",
    "            self.sort_quick(low.next, n - c_l - 1)"
   ]
  },
  {
   "cell_type": "code",
   "execution_count": 1,
   "metadata": {},
   "outputs": [],
   "source": [
    "# 归并\n",
    "class Solution:\n",
    "    def sortList1(self, head):\n",
    "        if not head or not head.next:\n",
    "            return head\n",
    "        slow, fast = head, head.next\n",
    "        # find the middle node\n",
    "        while fast and fast.next:\n",
    "            fast = fast.next.next\n",
    "            slow = slow.next\n",
    "        mid = slow.next\n",
    "        slow.next = None\n",
    "        left = self.sortList1(head)\n",
    "        right = self.sortList1(mid)\n",
    "        head0 = ListNode(0)\n",
    "        p = head0\n",
    "        while left and right:\n",
    "            if left.val < right.val:\n",
    "                p.next = left\n",
    "                left = left.next\n",
    "            else:\n",
    "                p.next = right\n",
    "                right = right.next\n",
    "            p = p.next\n",
    "        p.next = left if left else right\n",
    "        return head0.next"
   ]
  },
  {
   "cell_type": "code",
   "execution_count": null,
   "metadata": {},
   "outputs": [],
   "source": []
  }
 ],
 "metadata": {
  "kernelspec": {
   "display_name": "Python 3",
   "language": "python",
   "name": "python3"
  },
  "language_info": {
   "codemirror_mode": {
    "name": "ipython",
    "version": 3
   },
   "file_extension": ".py",
   "mimetype": "text/x-python",
   "name": "python",
   "nbconvert_exporter": "python",
   "pygments_lexer": "ipython3",
   "version": "3.6.8"
  },
  "toc": {
   "base_numbering": 1,
   "nav_menu": {},
   "number_sections": true,
   "sideBar": true,
   "skip_h1_title": false,
   "title_cell": "Table of Contents",
   "title_sidebar": "Contents",
   "toc_cell": false,
   "toc_position": {},
   "toc_section_display": true,
   "toc_window_display": false
  }
 },
 "nbformat": 4,
 "nbformat_minor": 2
}
